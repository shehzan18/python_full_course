{
 "cells": [
  {
   "cell_type": "code",
   "execution_count": 7,
   "id": "96f13284-3aa5-41c6-961c-25f620b59038",
   "metadata": {},
   "outputs": [
    {
     "name": "stdout",
     "output_type": "stream",
     "text": [
      "5\n",
      "2609983521472\n"
     ]
    }
   ],
   "source": [
    "l = [5,6,7,8,9]\n",
    "print(len(l))\n",
    "print(id(l))"
   ]
  },
  {
   "cell_type": "code",
   "execution_count": 8,
   "id": "fe675349-369c-426f-b114-f42af1f6d00e",
   "metadata": {},
   "outputs": [
    {
     "name": "stdout",
     "output_type": "stream",
     "text": [
      "6\n",
      "2609983521472\n"
     ]
    }
   ],
   "source": [
    "l.append(10)\n",
    "print(len(l))\n",
    "print(id(l))"
   ]
  },
  {
   "cell_type": "code",
   "execution_count": 3,
   "id": "0f66dd34-63cb-45c2-8864-5b3ca17f6940",
   "metadata": {},
   "outputs": [
    {
     "name": "stdout",
     "output_type": "stream",
     "text": [
      "[5, 6, 7, 8, 9, 10]\n"
     ]
    }
   ],
   "source": [
    "print(l)"
   ]
  },
  {
   "cell_type": "code",
   "execution_count": null,
   "id": "d3911ee8-4af4-44e0-8601-91407874c1e0",
   "metadata": {},
   "outputs": [],
   "source": []
  },
  {
   "cell_type": "code",
   "execution_count": 4,
   "id": "bfe018a8-61d3-42e1-ba06-91ae00ede2ad",
   "metadata": {},
   "outputs": [
    {
     "name": "stdout",
     "output_type": "stream",
     "text": [
      "[1, 2, 3, [3, 4, 5]] 4\n"
     ]
    }
   ],
   "source": [
    "l = [1,2,3]\n",
    "l.append([3,4,5])\n",
    "print(l , len(l))"
   ]
  },
  {
   "cell_type": "code",
   "execution_count": 5,
   "id": "a8997cb0-ce84-4cda-bafb-b7d2076966e0",
   "metadata": {},
   "outputs": [
    {
     "data": {
      "text/plain": [
       "[1, 2, 3, [3, 4, 5]]"
      ]
     },
     "execution_count": 5,
     "metadata": {},
     "output_type": "execute_result"
    }
   ],
   "source": [
    "l"
   ]
  },
  {
   "cell_type": "code",
   "execution_count": null,
   "id": "1254f236-7380-41ec-8f9a-467d77e27636",
   "metadata": {},
   "outputs": [],
   "source": []
  },
  {
   "cell_type": "code",
   "execution_count": 11,
   "id": "4bedb7d1-e8bd-4f4d-815a-9b3b677199c8",
   "metadata": {},
   "outputs": [
    {
     "data": {
      "text/plain": [
       "[1, 2, 3, 'shehzan']"
      ]
     },
     "execution_count": 11,
     "metadata": {},
     "output_type": "execute_result"
    }
   ],
   "source": [
    "l = [1,2,3]\n",
    "b = \"shehzan\"\n",
    "l.append(b)\n",
    "l"
   ]
  },
  {
   "cell_type": "code",
   "execution_count": 10,
   "id": "3fcb2c18-02d6-40a3-aa36-bac32aaa50d3",
   "metadata": {},
   "outputs": [
    {
     "data": {
      "text/plain": [
       "[1, 2, 3, 10]"
      ]
     },
     "execution_count": 10,
     "metadata": {},
     "output_type": "execute_result"
    }
   ],
   "source": [
    "# using slicing also we can append and it also changes the same list\n",
    "l1 = [1,2,3]\n",
    "l1[len(l1):] = [10]\n",
    "l1"
   ]
  },
  {
   "cell_type": "code",
   "execution_count": null,
   "id": "15627f99-6645-41d4-a5ea-d1d6f77b2d14",
   "metadata": {},
   "outputs": [],
   "source": []
  },
  {
   "cell_type": "code",
   "execution_count": 12,
   "id": "7b16c981-682d-43d6-ba3a-76962889f8e2",
   "metadata": {},
   "outputs": [],
   "source": [
    "# .extend(iterable)  iterable == list ,string . tuple\n"
   ]
  },
  {
   "cell_type": "code",
   "execution_count": 13,
   "id": "8fa600ef-c653-4c60-83be-944ba2b23e5b",
   "metadata": {},
   "outputs": [
    {
     "data": {
      "text/plain": [
       "[5, 6, 7, 10, 11, 12]"
      ]
     },
     "execution_count": 13,
     "metadata": {},
     "output_type": "execute_result"
    }
   ],
   "source": [
    "l = [5,6,7]\n",
    "l.extend([10,11,12])\n",
    "l"
   ]
  },
  {
   "cell_type": "code",
   "execution_count": 15,
   "id": "ce7227f3-083d-4ed2-a24e-eacb0540039c",
   "metadata": {},
   "outputs": [
    {
     "data": {
      "text/plain": [
       "[1, 2, 3, 's', 'h', 'e', 'h', 'z', 'a', 'n']"
      ]
     },
     "execution_count": 15,
     "metadata": {},
     "output_type": "execute_result"
    }
   ],
   "source": [
    "l = [1,2,3]\n",
    "l.extend(\"shehzan\")\n",
    "l"
   ]
  },
  {
   "cell_type": "code",
   "execution_count": 17,
   "id": "ff0d8a79-5d71-4b29-9356-c699a22c9b88",
   "metadata": {},
   "outputs": [
    {
     "data": {
      "text/plain": [
       "[1, 2, 3, 'hui', 'hehe', 'rawr']"
      ]
     },
     "execution_count": 17,
     "metadata": {},
     "output_type": "execute_result"
    }
   ],
   "source": [
    "l = [1,2,3]\n",
    "l.extend((\"hui\" , \"hehe\" , \"rawr\"))\n",
    "l"
   ]
  },
  {
   "cell_type": "code",
   "execution_count": 18,
   "id": "b5b52b7e-3318-47cc-8acc-0956a07547d3",
   "metadata": {},
   "outputs": [
    {
     "ename": "TypeError",
     "evalue": "'int' object is not iterable",
     "output_type": "error",
     "traceback": [
      "\u001b[1;31m---------------------------------------------------------------------------\u001b[0m",
      "\u001b[1;31mTypeError\u001b[0m                                 Traceback (most recent call last)",
      "Cell \u001b[1;32mIn[18], line 1\u001b[0m\n\u001b[1;32m----> 1\u001b[0m \u001b[43ml\u001b[49m\u001b[38;5;241;43m.\u001b[39;49m\u001b[43mextend\u001b[49m\u001b[43m(\u001b[49m\u001b[38;5;241;43m2\u001b[39;49m\u001b[43m)\u001b[49m\n",
      "\u001b[1;31mTypeError\u001b[0m: 'int' object is not iterable"
     ]
    }
   ],
   "source": [
    "l.extend(2)"
   ]
  },
  {
   "cell_type": "code",
   "execution_count": null,
   "id": "cda59152-c320-4b13-875f-988063901ca1",
   "metadata": {},
   "outputs": [],
   "source": []
  },
  {
   "cell_type": "code",
   "execution_count": 19,
   "id": "18c89a35-aee3-4be7-b75d-28e9a34a53d7",
   "metadata": {},
   "outputs": [
    {
     "data": {
      "text/plain": [
       "2609989682816"
      ]
     },
     "execution_count": 19,
     "metadata": {},
     "output_type": "execute_result"
    }
   ],
   "source": [
    "l = [5,6,7]\n",
    "id(l)"
   ]
  },
  {
   "cell_type": "code",
   "execution_count": 20,
   "id": "78e0a2b4-b259-4958-a2df-4dc38e1f1806",
   "metadata": {},
   "outputs": [
    {
     "name": "stdout",
     "output_type": "stream",
     "text": [
      "[5, 'hilo', 6, 7] 2609989682816\n"
     ]
    }
   ],
   "source": [
    "l.insert(1 , \"hilo\")\n",
    "print(l , id(l))"
   ]
  },
  {
   "cell_type": "code",
   "execution_count": null,
   "id": "5c243539-30d2-4b0e-a52f-2689cb4014f8",
   "metadata": {},
   "outputs": [],
   "source": []
  },
  {
   "cell_type": "code",
   "execution_count": 22,
   "id": "a51aa966-a720-4ce2-b326-24f1085064bc",
   "metadata": {},
   "outputs": [
    {
     "name": "stdout",
     "output_type": "stream",
     "text": [
      "3\n",
      "140713464568248\n",
      "4\n",
      "140713464568248\n"
     ]
    }
   ],
   "source": [
    "l = [1,2,3]\n",
    "print(len(l))\n",
    "print(id(l[0]))\n",
    "\n",
    "l.insert(0, 6)\n",
    "print(len(l))\n",
    "print(id(l[1]))"
   ]
  },
  {
   "cell_type": "code",
   "execution_count": null,
   "id": "7a6c853c-350c-49dc-b55d-04fcc2b53b09",
   "metadata": {},
   "outputs": [],
   "source": []
  },
  {
   "cell_type": "code",
   "execution_count": 24,
   "id": "101acdb6-f73f-45d2-9b07-b0c3482a3d94",
   "metadata": {},
   "outputs": [
    {
     "name": "stdout",
     "output_type": "stream",
     "text": [
      "[1, 2, 3, 4] [1, 2, 3, 4]\n"
     ]
    }
   ],
   "source": [
    "l1 = [1,2,3,4]\n",
    "l2 = l1.copy()\n",
    "print(l1,l2)"
   ]
  },
  {
   "cell_type": "code",
   "execution_count": 25,
   "id": "c12d5989-76ae-4ee0-9931-88a88e00d4af",
   "metadata": {},
   "outputs": [
    {
     "name": "stdout",
     "output_type": "stream",
     "text": [
      "2609989664128 2609989682944\n"
     ]
    }
   ],
   "source": [
    "print(id(l1) , id(l2))"
   ]
  },
  {
   "cell_type": "code",
   "execution_count": 27,
   "id": "8386915d-9c22-49ad-81c7-9edbfa9dd735",
   "metadata": {},
   "outputs": [
    {
     "name": "stdout",
     "output_type": "stream",
     "text": [
      "140713464568248 140713464568248\n",
      "140713464568280 140713464568280\n",
      "140713464568312 140713464568312\n",
      "140713464568344 140713464568344\n"
     ]
    }
   ],
   "source": [
    "for i in range(len(l1)):\n",
    "    print(id(l1[i]) , id(l2[i]))"
   ]
  },
  {
   "cell_type": "code",
   "execution_count": 28,
   "id": "1f3bb44b-29a2-481b-889b-e0b8126a9884",
   "metadata": {},
   "outputs": [
    {
     "name": "stdout",
     "output_type": "stream",
     "text": [
      "0 1\n"
     ]
    }
   ],
   "source": [
    "l1[0] = 0\n",
    "print(l1[0] , l2[0])"
   ]
  },
  {
   "cell_type": "code",
   "execution_count": 29,
   "id": "e87bff95-20e4-482e-8b0f-069673a259f9",
   "metadata": {},
   "outputs": [
    {
     "name": "stdout",
     "output_type": "stream",
     "text": [
      "140713464568216 140713464568248\n"
     ]
    }
   ],
   "source": [
    "print(id(l1[0])  , id(l2[0]))"
   ]
  },
  {
   "cell_type": "code",
   "execution_count": null,
   "id": "5543092b-a3d8-4ae7-bc70-94bea55151dd",
   "metadata": {},
   "outputs": [],
   "source": []
  },
  {
   "cell_type": "code",
   "execution_count": 30,
   "id": "3914eab8-5518-4ff3-bd61-7e1f826fadc1",
   "metadata": {},
   "outputs": [],
   "source": [
    "l = [5,6,7,8,9]"
   ]
  },
  {
   "cell_type": "code",
   "execution_count": 31,
   "id": "daf0159b-fad3-49fd-9929-8c926f95710f",
   "metadata": {},
   "outputs": [
    {
     "data": {
      "text/plain": [
       "[5, 6, 7, 8]"
      ]
     },
     "execution_count": 31,
     "metadata": {},
     "output_type": "execute_result"
    }
   ],
   "source": [
    "l.pop()\n",
    "l"
   ]
  },
  {
   "cell_type": "code",
   "execution_count": 32,
   "id": "de34ccea-972d-4a3d-98d4-f58958f63cd2",
   "metadata": {},
   "outputs": [
    {
     "data": {
      "text/plain": [
       "[5, 6, 8]"
      ]
     },
     "execution_count": 32,
     "metadata": {},
     "output_type": "execute_result"
    }
   ],
   "source": [
    "l.pop(2)\n",
    "l"
   ]
  },
  {
   "cell_type": "code",
   "execution_count": 35,
   "id": "45114a23-f35a-4d50-8d25-79deb0a15b78",
   "metadata": {},
   "outputs": [
    {
     "name": "stdout",
     "output_type": "stream",
     "text": [
      "[1, 2, 3]\n",
      "[1, 2]\n",
      "[1]\n",
      "[]\n",
      "[]\n"
     ]
    }
   ],
   "source": [
    "l = [1,2,3,4]\n",
    "for i in range(len(l)):\n",
    "    l.pop()\n",
    "    print(l)\n",
    "print(l)"
   ]
  },
  {
   "cell_type": "code",
   "execution_count": 36,
   "id": "5187dae0-2e28-410e-972c-6d5cfba39a84",
   "metadata": {},
   "outputs": [
    {
     "data": {
      "text/plain": [
       "[1, 3, 4]"
      ]
     },
     "execution_count": 36,
     "metadata": {},
     "output_type": "execute_result"
    }
   ],
   "source": [
    "# we can also use del\n",
    "l = [1,2,3,4]\n",
    "del l[1]\n",
    "l"
   ]
  },
  {
   "cell_type": "code",
   "execution_count": 40,
   "id": "693a7070-16ed-445a-b6a9-0b51cd15e648",
   "metadata": {},
   "outputs": [
    {
     "data": {
      "text/plain": [
       "[3, 4]"
      ]
     },
     "execution_count": 40,
     "metadata": {},
     "output_type": "execute_result"
    }
   ],
   "source": [
    "l = [1,2,3,4]\n",
    "del l[0:2]\n",
    "l"
   ]
  },
  {
   "cell_type": "code",
   "execution_count": null,
   "id": "3933473f-e075-4f50-bfd6-934b5e7ad506",
   "metadata": {},
   "outputs": [],
   "source": []
  },
  {
   "cell_type": "code",
   "execution_count": 42,
   "id": "c63cf829-89ef-4a59-a0c8-d6793abc8a98",
   "metadata": {},
   "outputs": [
    {
     "name": "stdout",
     "output_type": "stream",
     "text": [
      "[1, 2, 3, 4]\n",
      "[1, 2, 4]\n"
     ]
    }
   ],
   "source": [
    "l = [1,2,3,4]\n",
    "print(l)\n",
    "l.remove(3)\n",
    "print(l)"
   ]
  },
  {
   "cell_type": "code",
   "execution_count": 43,
   "id": "4a054840-45c8-46d0-943a-0855b63daea5",
   "metadata": {},
   "outputs": [
    {
     "name": "stdout",
     "output_type": "stream",
     "text": [
      "[1, 2, 3, 2, 4]\n",
      "[1, 3, 2, 4]\n"
     ]
    }
   ],
   "source": [
    "l = [1,2,3,2,4]\n",
    "print(l)\n",
    "l.remove(2)\n",
    "print(l)"
   ]
  },
  {
   "cell_type": "code",
   "execution_count": 44,
   "id": "097d3dd3-69db-48da-9fe4-779142a1c408",
   "metadata": {},
   "outputs": [
    {
     "ename": "ValueError",
     "evalue": "list.remove(x): x not in list",
     "output_type": "error",
     "traceback": [
      "\u001b[1;31m---------------------------------------------------------------------------\u001b[0m",
      "\u001b[1;31mValueError\u001b[0m                                Traceback (most recent call last)",
      "Cell \u001b[1;32mIn[44], line 1\u001b[0m\n\u001b[1;32m----> 1\u001b[0m \u001b[43ml\u001b[49m\u001b[38;5;241;43m.\u001b[39;49m\u001b[43mremove\u001b[49m\u001b[43m(\u001b[49m\u001b[38;5;241;43m10\u001b[39;49m\u001b[43m)\u001b[49m\n",
      "\u001b[1;31mValueError\u001b[0m: list.remove(x): x not in list"
     ]
    }
   ],
   "source": [
    "l.remove(10)"
   ]
  },
  {
   "cell_type": "code",
   "execution_count": null,
   "id": "c97fac82-18cf-455f-bee0-f925dcd0f576",
   "metadata": {},
   "outputs": [],
   "source": []
  },
  {
   "cell_type": "code",
   "execution_count": 45,
   "id": "b691e700-91df-48ca-bced-ae6b6c49a33e",
   "metadata": {},
   "outputs": [],
   "source": [
    "l = [1,2,3]\n",
    "l2 = [1,2,3]\n",
    "l3 = [1,2,3]"
   ]
  },
  {
   "cell_type": "code",
   "execution_count": 49,
   "id": "06d53750-f159-48a7-8ad9-098da3d57c12",
   "metadata": {},
   "outputs": [],
   "source": [
    "l.clear()\n",
    "l1[:] = []\n",
    "del l3[:]"
   ]
  },
  {
   "cell_type": "code",
   "execution_count": 50,
   "id": "e65d7798-1c80-4c47-9aad-58ec7dfad20b",
   "metadata": {},
   "outputs": [
    {
     "name": "stdout",
     "output_type": "stream",
     "text": [
      "[] [] []\n"
     ]
    }
   ],
   "source": [
    "print(l , l2 , l3)"
   ]
  },
  {
   "cell_type": "code",
   "execution_count": null,
   "id": "70cc8d1c-4856-4650-b288-4a59c8fe302f",
   "metadata": {},
   "outputs": [],
   "source": []
  },
  {
   "cell_type": "code",
   "execution_count": 51,
   "id": "d3f0282f-1f39-4f2a-9de3-b4af08f46f15",
   "metadata": {},
   "outputs": [],
   "source": [
    "l = [5,6,7,8,9,6,10,6]"
   ]
  },
  {
   "cell_type": "code",
   "execution_count": 52,
   "id": "c74d945a-d0cb-4832-9e52-5dfcff537096",
   "metadata": {},
   "outputs": [
    {
     "data": {
      "text/plain": [
       "1"
      ]
     },
     "execution_count": 52,
     "metadata": {},
     "output_type": "execute_result"
    }
   ],
   "source": [
    "l.index(6)"
   ]
  },
  {
   "cell_type": "code",
   "execution_count": 54,
   "id": "20874f4c-397b-4e1f-a184-c58d406bb42b",
   "metadata": {},
   "outputs": [
    {
     "data": {
      "text/plain": [
       "6"
      ]
     },
     "execution_count": 54,
     "metadata": {},
     "output_type": "execute_result"
    }
   ],
   "source": [
    "l.index(10)"
   ]
  },
  {
   "cell_type": "code",
   "execution_count": 55,
   "id": "d3801757-969e-4b05-9f67-eaa60cb7b8a8",
   "metadata": {},
   "outputs": [
    {
     "data": {
      "text/plain": [
       "5"
      ]
     },
     "execution_count": 55,
     "metadata": {},
     "output_type": "execute_result"
    }
   ],
   "source": [
    "l.index(6,2)"
   ]
  },
  {
   "cell_type": "code",
   "execution_count": 58,
   "id": "fbd3ce3b-6246-4084-9f3d-11149cfc8d2d",
   "metadata": {},
   "outputs": [
    {
     "data": {
      "text/plain": [
       "2"
      ]
     },
     "execution_count": 58,
     "metadata": {},
     "output_type": "execute_result"
    }
   ],
   "source": [
    "l.index(7 , 0 , 3)"
   ]
  },
  {
   "cell_type": "code",
   "execution_count": 59,
   "id": "87b07b42-ed87-4ace-b58a-991722dbb643",
   "metadata": {},
   "outputs": [
    {
     "ename": "ValueError",
     "evalue": "7 is not in list",
     "output_type": "error",
     "traceback": [
      "\u001b[1;31m---------------------------------------------------------------------------\u001b[0m",
      "\u001b[1;31mValueError\u001b[0m                                Traceback (most recent call last)",
      "Cell \u001b[1;32mIn[59], line 1\u001b[0m\n\u001b[1;32m----> 1\u001b[0m \u001b[43ml\u001b[49m\u001b[38;5;241;43m.\u001b[39;49m\u001b[43mindex\u001b[49m\u001b[43m(\u001b[49m\u001b[38;5;241;43m7\u001b[39;49m\u001b[43m \u001b[49m\u001b[43m,\u001b[49m\u001b[43m \u001b[49m\u001b[38;5;241;43m0\u001b[39;49m\u001b[43m \u001b[49m\u001b[43m,\u001b[49m\u001b[43m \u001b[49m\u001b[38;5;241;43m2\u001b[39;49m\u001b[43m)\u001b[49m\n",
      "\u001b[1;31mValueError\u001b[0m: 7 is not in list"
     ]
    }
   ],
   "source": [
    "l.index(7 , 0 , 2)"
   ]
  },
  {
   "cell_type": "code",
   "execution_count": null,
   "id": "9c977125-ce20-4d5c-b4f4-ec8c3740d752",
   "metadata": {},
   "outputs": [],
   "source": []
  },
  {
   "cell_type": "code",
   "execution_count": 60,
   "id": "c787755a-c2c4-4d51-957f-3139f46a8dc2",
   "metadata": {},
   "outputs": [
    {
     "data": {
      "text/plain": [
       "3"
      ]
     },
     "execution_count": 60,
     "metadata": {},
     "output_type": "execute_result"
    }
   ],
   "source": [
    "l.count(6)"
   ]
  },
  {
   "cell_type": "code",
   "execution_count": 61,
   "id": "5e48d372-02a5-4ff9-9aba-5e561063be32",
   "metadata": {},
   "outputs": [
    {
     "data": {
      "text/plain": [
       "1"
      ]
     },
     "execution_count": 61,
     "metadata": {},
     "output_type": "execute_result"
    }
   ],
   "source": [
    "l.count(5)"
   ]
  },
  {
   "cell_type": "code",
   "execution_count": 62,
   "id": "1a590cac-6678-44e7-9e73-09ee5d19bbbd",
   "metadata": {},
   "outputs": [
    {
     "data": {
      "text/plain": [
       "0"
      ]
     },
     "execution_count": 62,
     "metadata": {},
     "output_type": "execute_result"
    }
   ],
   "source": [
    "l.count(\"0\")"
   ]
  },
  {
   "cell_type": "code",
   "execution_count": null,
   "id": "29505392-f4fe-428d-ad2d-58a9a5066679",
   "metadata": {},
   "outputs": [],
   "source": []
  },
  {
   "cell_type": "code",
   "execution_count": 69,
   "id": "e8a1bb5a-35ad-43cc-8124-749fac220072",
   "metadata": {},
   "outputs": [
    {
     "name": "stdout",
     "output_type": "stream",
     "text": [
      "[1, 2, 3, 4]\n",
      "2609989809920\n"
     ]
    }
   ],
   "source": [
    "l = [1,2,3,4]\n",
    "print(l)\n",
    "print(id(l))"
   ]
  },
  {
   "cell_type": "code",
   "execution_count": 70,
   "id": "e20741e8-c8ed-4ed0-8228-e69763b8bb7b",
   "metadata": {},
   "outputs": [
    {
     "name": "stdout",
     "output_type": "stream",
     "text": [
      "[4, 3, 2, 1]\n",
      "2609989809920\n"
     ]
    }
   ],
   "source": [
    "l.reverse()\n",
    "print(l)\n",
    "print(id(l))"
   ]
  },
  {
   "cell_type": "code",
   "execution_count": null,
   "id": "64cf72b2-0867-4a34-bc23-7d34633053ce",
   "metadata": {},
   "outputs": [],
   "source": []
  },
  {
   "cell_type": "code",
   "execution_count": 74,
   "id": "92588963-a0c3-4bf5-b4a7-2f8464147878",
   "metadata": {},
   "outputs": [],
   "source": [
    "l = [11,4,3,2,4,5,3]\n",
    "l\n",
    "l.sort()"
   ]
  },
  {
   "cell_type": "code",
   "execution_count": 75,
   "id": "bf5b1f66-989d-41a4-a0ab-d9cc961d7e08",
   "metadata": {},
   "outputs": [
    {
     "data": {
      "text/plain": [
       "[2, 3, 3, 4, 4, 5, 11]"
      ]
     },
     "execution_count": 75,
     "metadata": {},
     "output_type": "execute_result"
    }
   ],
   "source": [
    "l"
   ]
  },
  {
   "cell_type": "code",
   "execution_count": 76,
   "id": "7b273d2d-3440-4dad-bd12-46982f384f41",
   "metadata": {},
   "outputs": [
    {
     "data": {
      "text/plain": [
       "[11, 5, 4, 4, 3, 3, 2]"
      ]
     },
     "execution_count": 76,
     "metadata": {},
     "output_type": "execute_result"
    }
   ],
   "source": [
    "l = [11,4,3,2,4,5,3]\n",
    "l.sort(reverse = True)\n",
    "l"
   ]
  },
  {
   "cell_type": "code",
   "execution_count": null,
   "id": "3de649be-26e3-4e0b-bb2a-ce55e8378aba",
   "metadata": {},
   "outputs": [],
   "source": []
  },
  {
   "cell_type": "code",
   "execution_count": 80,
   "id": "07dcc323-fdc7-4778-811e-5e234d1ed29b",
   "metadata": {},
   "outputs": [],
   "source": [
    "l = [\"yy\" ,\"ZZ\" , \"aa\" , \"jj\" , \"mm\" , \"YY\"]\n"
   ]
  },
  {
   "cell_type": "code",
   "execution_count": 81,
   "id": "d0d0ae21-e97e-45c1-b80d-a8d5388a659f",
   "metadata": {},
   "outputs": [
    {
     "data": {
      "text/plain": [
       "['YY', 'ZZ', 'aa', 'jj', 'mm', 'yy']"
      ]
     },
     "execution_count": 81,
     "metadata": {},
     "output_type": "execute_result"
    }
   ],
   "source": [
    "l.sort()\n",
    "l"
   ]
  },
  {
   "cell_type": "code",
   "execution_count": 82,
   "id": "d4ca3ec3-1ed6-4233-a77b-014b7895961d",
   "metadata": {},
   "outputs": [],
   "source": [
    "l = [\"yy\" ,\"ZZ\" , \"aa\" , \"jj\" , \"mm\" , \"YY\"]"
   ]
  },
  {
   "cell_type": "code",
   "execution_count": 84,
   "id": "dd5c8ebb-3dc4-4517-87cc-c24ad05eccd0",
   "metadata": {},
   "outputs": [
    {
     "data": {
      "text/plain": [
       "['aa', 'jj', 'mm', 'yy', 'YY', 'ZZ']"
      ]
     },
     "execution_count": 84,
     "metadata": {},
     "output_type": "execute_result"
    }
   ],
   "source": [
    "l.sort(key = str.lower)\n",
    "l"
   ]
  },
  {
   "cell_type": "code",
   "execution_count": 85,
   "id": "d08171ed-6f26-4cc6-ac8c-df4328a00cb8",
   "metadata": {},
   "outputs": [],
   "source": [
    "l = [\"yy\" ,\"ZZ\" , \"aa\" , \"jj\" , \"mm\" , \"YY\"]"
   ]
  },
  {
   "cell_type": "code",
   "execution_count": 86,
   "id": "0e5506af-e3b8-42f1-a37b-d8b5387ae591",
   "metadata": {},
   "outputs": [
    {
     "data": {
      "text/plain": [
       "['aa', 'jj', 'mm', 'yy', 'YY', 'ZZ']"
      ]
     },
     "execution_count": 86,
     "metadata": {},
     "output_type": "execute_result"
    }
   ],
   "source": [
    "l.sort(key = str.upper)\n",
    "l"
   ]
  },
  {
   "cell_type": "code",
   "execution_count": null,
   "id": "14639d56-2448-4214-9c20-6dfdb91a5027",
   "metadata": {},
   "outputs": [],
   "source": []
  },
  {
   "cell_type": "code",
   "execution_count": 87,
   "id": "a9b357bd-1ed4-4dfb-811f-b88a8753c747",
   "metadata": {},
   "outputs": [],
   "source": [
    "# sorted gives a new list"
   ]
  },
  {
   "cell_type": "code",
   "execution_count": 89,
   "id": "81d70f37-af75-421e-b7d9-824c08be81c7",
   "metadata": {},
   "outputs": [
    {
     "data": {
      "text/plain": [
       "[1, 2, 3, 4]"
      ]
     },
     "execution_count": 89,
     "metadata": {},
     "output_type": "execute_result"
    }
   ],
   "source": [
    "l = [1,3,4,2]\n",
    "sorted(l)"
   ]
  },
  {
   "cell_type": "code",
   "execution_count": 90,
   "id": "0b150eb6-0e45-404c-89ab-4d89779c4d8f",
   "metadata": {},
   "outputs": [
    {
     "data": {
      "text/plain": [
       "[1, 3, 4, 2]"
      ]
     },
     "execution_count": 90,
     "metadata": {},
     "output_type": "execute_result"
    }
   ],
   "source": [
    "l"
   ]
  },
  {
   "cell_type": "code",
   "execution_count": null,
   "id": "37697667-7a6f-4a29-af8f-30b391e21b63",
   "metadata": {},
   "outputs": [],
   "source": []
  },
  {
   "cell_type": "markdown",
   "id": "60318130-921c-46a4-b61b-4a88f10c3133",
   "metadata": {},
   "source": [
    "# list comprehension"
   ]
  },
  {
   "cell_type": "code",
   "execution_count": 91,
   "id": "8ae4053d-18cb-471b-a165-9c5149c12dc7",
   "metadata": {},
   "outputs": [
    {
     "data": {
      "text/plain": [
       "[0, 1, 2, 3, 4, 5, 6, 7, 8, 9]"
      ]
     },
     "execution_count": 91,
     "metadata": {},
     "output_type": "execute_result"
    }
   ],
   "source": [
    "l = [ x for x in range(10)]\n",
    "l"
   ]
  },
  {
   "cell_type": "code",
   "execution_count": 94,
   "id": "78a0edae-e254-4251-bd4e-17e9b195906e",
   "metadata": {},
   "outputs": [
    {
     "data": {
      "text/plain": [
       "[1, 4, 9, 16, 25]"
      ]
     },
     "execution_count": 94,
     "metadata": {},
     "output_type": "execute_result"
    }
   ],
   "source": [
    "l = [x**2 for x in range(1,6)]\n",
    "l"
   ]
  },
  {
   "cell_type": "code",
   "execution_count": 96,
   "id": "d3368432-7cc9-4491-9b33-f348b839b84f",
   "metadata": {},
   "outputs": [
    {
     "data": {
      "text/plain": [
       "[10, 8, 12]"
      ]
     },
     "execution_count": 96,
     "metadata": {},
     "output_type": "execute_result"
    }
   ],
   "source": [
    "l = [x for x in [10,5,7,8,12,3] if x%2 ==0]\n",
    "l"
   ]
  },
  {
   "cell_type": "code",
   "execution_count": 97,
   "id": "a18a21cb-46ac-4de7-b094-ba254f5411ac",
   "metadata": {},
   "outputs": [
    {
     "data": {
      "text/plain": [
       "['p', 'y', 't', 'h', 'o', 'n']"
      ]
     },
     "execution_count": 97,
     "metadata": {},
     "output_type": "execute_result"
    }
   ],
   "source": [
    "l = [x.lower() for x in \"PytHon\"]\n",
    "l"
   ]
  },
  {
   "cell_type": "code",
   "execution_count": 98,
   "id": "7082bfb7-929d-4597-9972-957342ea8e0f",
   "metadata": {},
   "outputs": [
    {
     "data": {
      "text/plain": [
       "['4',\n",
       " '3',\n",
       " 'f',\n",
       " 's',\n",
       " 'd',\n",
       " 'f',\n",
       " 's',\n",
       " 'd',\n",
       " 'S',\n",
       " 'D',\n",
       " 'F',\n",
       " 'd',\n",
       " 'f',\n",
       " '3',\n",
       " '4',\n",
       " 'd',\n",
       " 'f',\n",
       " 'd',\n",
       " 'D',\n",
       " 'F',\n",
       " '3',\n",
       " 'r',\n",
       " 'F']"
      ]
     },
     "execution_count": 98,
     "metadata": {},
     "output_type": "execute_result"
    }
   ],
   "source": [
    "l = [x for x in \"43fsdfsd#$SDFdf34dfdDF3rF\" if x.isalnum()]\n",
    "l"
   ]
  },
  {
   "cell_type": "code",
   "execution_count": null,
   "id": "00cd185c-10b8-42ae-a195-85e6eacfb318",
   "metadata": {},
   "outputs": [],
   "source": []
  },
  {
   "cell_type": "code",
   "execution_count": 99,
   "id": "45091b26-fcf7-46d2-9e17-2a23bd4d8494",
   "metadata": {},
   "outputs": [
    {
     "data": {
      "text/plain": [
       "[0, 1, 2, 3, 4, 5, 6, 7, 8, 9]"
      ]
     },
     "execution_count": 99,
     "metadata": {},
     "output_type": "execute_result"
    }
   ],
   "source": [
    "l = []\n",
    "for i in range(10):\n",
    "    l.append(i)\n",
    "l"
   ]
  },
  {
   "cell_type": "code",
   "execution_count": 102,
   "id": "3b43be98-cc2a-479b-8c49-9947f1853788",
   "metadata": {},
   "outputs": [
    {
     "data": {
      "text/plain": [
       "['s', 'h', 'e', 'h', 'z', 'a', 'n']"
      ]
     },
     "execution_count": 102,
     "metadata": {},
     "output_type": "execute_result"
    }
   ],
   "source": [
    "l = []\n",
    "s = \"Shehzan\"\n",
    "for i in s:\n",
    "    l.append(i.lower())\n",
    "l"
   ]
  },
  {
   "cell_type": "code",
   "execution_count": null,
   "id": "868dd1fe-3aee-4b89-ab5f-2377f3727dbb",
   "metadata": {},
   "outputs": [],
   "source": []
  },
  {
   "cell_type": "code",
   "execution_count": 104,
   "id": "537be7ff-6a02-4512-9bd5-497a25ac6e8c",
   "metadata": {},
   "outputs": [
    {
     "name": "stdin",
     "output_type": "stream",
     "text": [
      "enter names shehzan sam zan\n"
     ]
    },
    {
     "data": {
      "text/plain": [
       "[['shehzan', 'sam', 'zan']]"
      ]
     },
     "execution_count": 104,
     "metadata": {},
     "output_type": "execute_result"
    }
   ],
   "source": [
    "l = [input(\"enter names\").split()]\n",
    "l\n"
   ]
  },
  {
   "cell_type": "code",
   "execution_count": 105,
   "id": "7199b8b8-4fc5-4a79-83f4-dd146bdb31b2",
   "metadata": {},
   "outputs": [
    {
     "name": "stdin",
     "output_type": "stream",
     "text": [
      "enter names shehzan sam zan\n"
     ]
    },
    {
     "data": {
      "text/plain": [
       "['shehzan', 'sam', 'zan']"
      ]
     },
     "execution_count": 105,
     "metadata": {},
     "output_type": "execute_result"
    }
   ],
   "source": [
    "l = input(\"enter names\").split()\n",
    "l"
   ]
  },
  {
   "cell_type": "code",
   "execution_count": 106,
   "id": "238a542a-d142-4919-a875-816af1dfa01b",
   "metadata": {},
   "outputs": [
    {
     "data": {
      "text/plain": [
       "list"
      ]
     },
     "execution_count": 106,
     "metadata": {},
     "output_type": "execute_result"
    }
   ],
   "source": [
    "type(l)"
   ]
  },
  {
   "cell_type": "code",
   "execution_count": null,
   "id": "e89d4821-22b2-4b27-a1db-f2a08365d3e0",
   "metadata": {},
   "outputs": [],
   "source": []
  },
  {
   "cell_type": "code",
   "execution_count": 107,
   "id": "8b3c3545-5007-443e-8552-ca96d3ed72b3",
   "metadata": {},
   "outputs": [
    {
     "data": {
      "text/plain": [
       "[[1, 2, 3], [4, 5, 6], [7, 8, 9]]"
      ]
     },
     "execution_count": 107,
     "metadata": {},
     "output_type": "execute_result"
    }
   ],
   "source": [
    "m1 = [[1,2,3] , [4,5,6] , [7,8,9]]\n",
    "m1"
   ]
  },
  {
   "cell_type": "code",
   "execution_count": 108,
   "id": "87897f49-15b7-48a4-b417-6fe14bd0f1d1",
   "metadata": {},
   "outputs": [
    {
     "data": {
      "text/plain": [
       "[[9, 8, 7], [6, 5, 4], [3, 2, 1]]"
      ]
     },
     "execution_count": 108,
     "metadata": {},
     "output_type": "execute_result"
    }
   ],
   "source": [
    "m2 = [[9,8,7] , [6,5,4] , [3,2,1]]\n",
    "m2"
   ]
  },
  {
   "cell_type": "code",
   "execution_count": 111,
   "id": "3d86433e-83b1-4e98-87d7-a97e77c35308",
   "metadata": {},
   "outputs": [
    {
     "data": {
      "text/plain": [
       "[[10, 10, 10], [10, 10, 10], [10, 10, 10]]"
      ]
     },
     "execution_count": 111,
     "metadata": {},
     "output_type": "execute_result"
    }
   ],
   "source": [
    "m3 = []\n",
    "for i in range (len(m1)):\n",
    "    s = []\n",
    "    for j in range (len(m1[0])):\n",
    "        \n",
    "        s.append(m1[i][j]+m2[i][j])\n",
    "    m3.append(s)\n",
    "m3\n"
   ]
  },
  {
   "cell_type": "code",
   "execution_count": null,
   "id": "9354ce68-a4cb-4f7d-87d8-f58d9e886321",
   "metadata": {},
   "outputs": [],
   "source": []
  }
 ],
 "metadata": {
  "kernelspec": {
   "display_name": "Python 3 (ipykernel)",
   "language": "python",
   "name": "python3"
  },
  "language_info": {
   "codemirror_mode": {
    "name": "ipython",
    "version": 3
   },
   "file_extension": ".py",
   "mimetype": "text/x-python",
   "name": "python",
   "nbconvert_exporter": "python",
   "pygments_lexer": "ipython3",
   "version": "3.12.3"
  }
 },
 "nbformat": 4,
 "nbformat_minor": 5
}
