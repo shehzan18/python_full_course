{
 "cells": [
  {
   "cell_type": "code",
   "execution_count": null,
   "id": "60f8e444-6d6a-4c91-b530-e080ad2db04b",
   "metadata": {},
   "outputs": [],
   "source": [
    "# no of digits\n",
    "n = int(input(\"enter no \"))\n",
    "sum = 0\n",
    "while(n>0):\n",
    "    n//=10\n",
    "    sum+=1\n",
    "print(\"No of digits is\", sum)\n",
    "    "
   ]
  },
  {
   "cell_type": "code",
   "execution_count": null,
   "id": "0e450f2c-6e37-467c-95ac-e95e4a7e2ce9",
   "metadata": {},
   "outputs": [],
   "source": [
    "# sum of digits \n",
    "n = int(input(\"enter no \"))\n",
    "sum = 0\n",
    "while(n>0):\n",
    "    sum += n%10\n",
    "    n//=10\n",
    "print(\"Sum is \", sum)"
   ]
  },
  {
   "cell_type": "code",
   "execution_count": null,
   "id": "fcfa6886-5e90-4bc5-aed8-981602e02414",
   "metadata": {},
   "outputs": [],
   "source": []
  },
  {
   "cell_type": "code",
   "execution_count": null,
   "id": "35c23c90-085d-4d95-8782-8781568b1584",
   "metadata": {},
   "outputs": [],
   "source": [
    "ccas"
   ]
  },
  {
   "cell_type": "code",
   "execution_count": null,
   "id": "4ab73566-3169-4bc5-b4b1-32e033b2b283",
   "metadata": {},
   "outputs": [],
   "source": []
  }
 ],
 "metadata": {
  "kernelspec": {
   "display_name": "Python 3 (ipykernel)",
   "language": "python",
   "name": "python3"
  },
  "language_info": {
   "codemirror_mode": {
    "name": "ipython",
    "version": 3
   },
   "file_extension": ".py",
   "mimetype": "text/x-python",
   "name": "python",
   "nbconvert_exporter": "python",
   "pygments_lexer": "ipython3",
   "version": "3.12.3"
  }
 },
 "nbformat": 4,
 "nbformat_minor": 5
}
