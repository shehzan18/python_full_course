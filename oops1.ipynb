{
 "cells": [
  {
   "cell_type": "code",
   "execution_count": 2,
   "id": "e9667883-25d7-427a-bfbe-0e859bc1a9c1",
   "metadata": {},
   "outputs": [],
   "source": [
    "class cuboid:\n",
    "    def __init__(self ,l,b,h):\n",
    "        \n",
    "        self.lenght = l\n",
    "        self.breadth = b\n",
    "        self.height = h\n",
    "\n",
    "    def area(self):\n",
    "        return 2*(self.lenght*self.breadth + self.breadth*self.height + self.height*self.lenght)\n",
    "\n",
    "    def volume(self):\n",
    "        return self.lenght*self.breadth*self.height"
   ]
  },
  {
   "cell_type": "code",
   "execution_count": 4,
   "id": "da5b543f-5c1e-45c7-b189-ad76c2cb1d44",
   "metadata": {},
   "outputs": [
    {
     "name": "stdout",
     "output_type": "stream",
     "text": [
      "6\n"
     ]
    }
   ],
   "source": [
    "c1 = cuboid(1,2,3)\n",
    "print(c1.volume())"
   ]
  },
  {
   "cell_type": "code",
   "execution_count": 5,
   "id": "f85f27ee-a2f0-408f-9834-ea1342ff8208",
   "metadata": {},
   "outputs": [
    {
     "name": "stdout",
     "output_type": "stream",
     "text": [
      "148\n"
     ]
    }
   ],
   "source": [
    "c2 = cuboid(4,5,6)\n",
    "print(c2.area())"
   ]
  },
  {
   "cell_type": "raw",
   "id": "02b290bd-07eb-44f4-9341-50c81952e613",
   "metadata": {},
   "source": [
    "#self and constructor\n",
    "def __init__ is a constructor method so whenever we make an object of that class this function/constructor is called\n",
    "inside init we declare and assign different attributes/data and for every object whole class data and object is given\n",
    "self is a refernce to the current object"
   ]
  },
  {
   "cell_type": "code",
   "execution_count": 6,
   "id": "b54775b2-ac10-437b-a67a-2aa09bff6be1",
   "metadata": {},
   "outputs": [],
   "source": [
    "class cuboid:\n",
    "    def __init__(self ,l,b,h):\n",
    "        print(id(self))\n",
    "        self.lenght = l\n",
    "        self.breadth = b\n",
    "        self.height = h\n",
    "\n",
    "    def area(self):\n",
    "        return 2*(self.lenght*self.breadth + self.breadth*self.height + self.height*self.lenght)\n",
    "\n",
    "    def volume(self):\n",
    "        print(id(self))\n",
    "        return self.lenght*self.breadth*self.height"
   ]
  },
  {
   "cell_type": "code",
   "execution_count": 7,
   "id": "db5ba9b9-0376-4aa3-98f4-8aa919e7da8b",
   "metadata": {},
   "outputs": [
    {
     "name": "stdout",
     "output_type": "stream",
     "text": [
      "2755923660048\n"
     ]
    }
   ],
   "source": [
    "c3 = cuboid(1,2,3)"
   ]
  },
  {
   "cell_type": "code",
   "execution_count": 15,
   "id": "0fdebe3a",
   "metadata": {},
   "outputs": [
    {
     "name": "stdout",
     "output_type": "stream",
     "text": [
      "2755923660048\n",
      "6\n"
     ]
    }
   ],
   "source": [
    "print(c3.volume())"
   ]
  },
  {
   "cell_type": "code",
   "execution_count": 16,
   "id": "278f08a7-bedf-4867-a6e7-4d8acc69cb3c",
   "metadata": {},
   "outputs": [
    {
     "name": "stdout",
     "output_type": "stream",
     "text": [
      "2755923667248\n"
     ]
    }
   ],
   "source": [
    "c4 = cuboid(4,5,6)"
   ]
  },
  {
   "cell_type": "code",
   "execution_count": 17,
   "id": "327e3ae1-15d7-4e5b-aa82-40944eb25658",
   "metadata": {},
   "outputs": [
    {
     "data": {
      "text/plain": [
       "<__main__.cuboid at 0x281a9d9cd10>"
      ]
     },
     "execution_count": 17,
     "metadata": {},
     "output_type": "execute_result"
    }
   ],
   "source": [
    "c3"
   ]
  },
  {
   "cell_type": "code",
   "execution_count": 18,
   "id": "7f2bf072-2c35-4b86-93f7-5f23f90e7f06",
   "metadata": {},
   "outputs": [
    {
     "data": {
      "text/plain": [
       "2046176170912"
      ]
     },
     "execution_count": 18,
     "metadata": {},
     "output_type": "execute_result"
    }
   ],
   "source": [
    "int(\"0x1dc699a93a0\" , 16)"
   ]
  },
  {
   "cell_type": "code",
   "execution_count": 19,
   "id": "3a1cd9e0-7bb9-4ae5-80f0-9f0f50940cd7",
   "metadata": {},
   "outputs": [
    {
     "data": {
      "text/plain": [
       "<__main__.cuboid at 0x281a9d9e930>"
      ]
     },
     "execution_count": 19,
     "metadata": {},
     "output_type": "execute_result"
    }
   ],
   "source": [
    "c4 "
   ]
  },
  {
   "cell_type": "code",
   "execution_count": 20,
   "id": "b8a757cb-6162-4359-a6e1-9b395a768072",
   "metadata": {},
   "outputs": [
    {
     "data": {
      "text/plain": [
       "2046198331632"
      ]
     },
     "execution_count": 20,
     "metadata": {},
     "output_type": "execute_result"
    }
   ],
   "source": [
    "int(\"0x1dc6aecb8f0\" , 16)"
   ]
  },
  {
   "cell_type": "code",
   "execution_count": 21,
   "id": "1561a73e-7261-46b9-b51e-8ed560296315",
   "metadata": {},
   "outputs": [
    {
     "name": "stdout",
     "output_type": "stream",
     "text": [
      "2755923660048\n"
     ]
    },
    {
     "data": {
      "text/plain": [
       "6"
      ]
     },
     "execution_count": 21,
     "metadata": {},
     "output_type": "execute_result"
    }
   ],
   "source": [
    "c3.volume()"
   ]
  },
  {
   "cell_type": "code",
   "execution_count": 22,
   "id": "f7f87e14-a195-42d5-8b57-7b22f64612a0",
   "metadata": {},
   "outputs": [
    {
     "name": "stdout",
     "output_type": "stream",
     "text": [
      "2755923667248\n"
     ]
    },
    {
     "data": {
      "text/plain": [
       "120"
      ]
     },
     "execution_count": 22,
     "metadata": {},
     "output_type": "execute_result"
    }
   ],
   "source": [
    "c4.volume()"
   ]
  },
  {
   "cell_type": "raw",
   "id": "6d043e1b-7337-450a-aa37-65d0bb564792",
   "metadata": {},
   "source": [
    "we cannot override def function , if we do so then the recent one will be called , others will be shadowed"
   ]
  },
  {
   "cell_type": "code",
   "execution_count": 23,
   "id": "6a636f87-0652-49d1-907c-147e3612d440",
   "metadata": {},
   "outputs": [],
   "source": [
    "class cuboid:\n",
    "    def __init__(self ,l,b,h):\n",
    "        \n",
    "        self.lenght = l\n",
    "        self.breadth = b\n",
    "        self.height = h\n",
    "    def __init__(self):\n",
    "        pass\n",
    "\n",
    "    def area(self):\n",
    "        return 2*(self.lenght*self.breadth + self.breadth*self.height + self.height*self.lenght)\n",
    "\n",
    "    def volume(self):\n",
    "        return self.lenght*self.breadth*self.height"
   ]
  },
  {
   "cell_type": "code",
   "execution_count": 24,
   "id": "952a8993-cd6a-460a-9df7-40df01eb8c13",
   "metadata": {},
   "outputs": [
    {
     "ename": "TypeError",
     "evalue": "cuboid.__init__() takes 1 positional argument but 4 were given",
     "output_type": "error",
     "traceback": [
      "\u001b[1;31m---------------------------------------------------------------------------\u001b[0m",
      "\u001b[1;31mTypeError\u001b[0m                                 Traceback (most recent call last)",
      "Cell \u001b[1;32mIn[24], line 1\u001b[0m\n\u001b[1;32m----> 1\u001b[0m c1 \u001b[38;5;241m=\u001b[39m \u001b[43mcuboid\u001b[49m\u001b[43m(\u001b[49m\u001b[38;5;241;43m1\u001b[39;49m\u001b[43m,\u001b[49m\u001b[38;5;241;43m2\u001b[39;49m\u001b[43m,\u001b[49m\u001b[38;5;241;43m3\u001b[39;49m\u001b[43m)\u001b[49m\n",
      "\u001b[1;31mTypeError\u001b[0m: cuboid.__init__() takes 1 positional argument but 4 were given"
     ]
    }
   ],
   "source": [
    "c1 = cuboid(1,2,3)"
   ]
  },
  {
   "cell_type": "code",
   "execution_count": 39,
   "id": "f344b9c4-8411-4e15-b5e4-c07572fe95fd",
   "metadata": {},
   "outputs": [],
   "source": [
    "c2 = cuboid()\n"
   ]
  },
  {
   "cell_type": "code",
   "execution_count": 40,
   "id": "a1dec398-16ff-40bd-93c5-7a87ba1b47f0",
   "metadata": {},
   "outputs": [
    {
     "data": {
      "text/plain": [
       "<__main__.cuboid at 0x1dc6af21a00>"
      ]
     },
     "execution_count": 40,
     "metadata": {},
     "output_type": "execute_result"
    }
   ],
   "source": [
    "c2"
   ]
  },
  {
   "cell_type": "markdown",
   "id": "0bad747b-ab5f-4642-befa-6dfca3cf1129",
   "metadata": {},
   "source": [
    "though we can pass default arguments"
   ]
  },
  {
   "cell_type": "code",
   "execution_count": 41,
   "id": "0ff42013-9ec2-4fba-a8eb-fa2a835622d4",
   "metadata": {},
   "outputs": [],
   "source": [
    "class cuboid:\n",
    "    def __init__(self ,l=1,b=1,h=1):\n",
    "        \n",
    "        self.lenght = l\n",
    "        self.breadth = b\n",
    "        self.height = h\n",
    "\n",
    "    def area(self):\n",
    "        return 2*(self.lenght*self.breadth + self.breadth*self.height + self.height*self.lenght)\n",
    "\n",
    "    def volume(self):\n",
    "        return self.lenght*self.breadth*self.height"
   ]
  },
  {
   "cell_type": "code",
   "execution_count": 43,
   "id": "ef50b00e-f5a5-4eb7-beea-d1b367d270e6",
   "metadata": {},
   "outputs": [],
   "source": [
    "c1 = cuboid()\n"
   ]
  },
  {
   "cell_type": "code",
   "execution_count": 44,
   "id": "e0261f24-1de2-4e1c-bfcb-f4e0910799fe",
   "metadata": {},
   "outputs": [
    {
     "data": {
      "text/plain": [
       "1"
      ]
     },
     "execution_count": 44,
     "metadata": {},
     "output_type": "execute_result"
    }
   ],
   "source": [
    "c1.volume()"
   ]
  },
  {
   "cell_type": "code",
   "execution_count": 45,
   "id": "ec55536c-d3ba-4d28-ad97-78c1f90e3c01",
   "metadata": {},
   "outputs": [
    {
     "data": {
      "text/plain": [
       "6"
      ]
     },
     "execution_count": 45,
     "metadata": {},
     "output_type": "execute_result"
    }
   ],
   "source": [
    "c2 = cuboid(1,2,3)\n",
    "c2.volume()"
   ]
  },
  {
   "cell_type": "code",
   "execution_count": 46,
   "id": "ee4e2fc4-d36a-4322-9083-8df10ffd1642",
   "metadata": {},
   "outputs": [],
   "source": [
    "ca = cuboid(10)\n",
    "cb = cuboid(10,10)\n",
    "cc = cuboid(10,10,10)"
   ]
  },
  {
   "cell_type": "code",
   "execution_count": null,
   "id": "8a191d1d-564c-43b7-be15-5c03f07ad21d",
   "metadata": {},
   "outputs": [],
   "source": []
  },
  {
   "cell_type": "raw",
   "id": "a444a361-cdf2-40d4-87ad-a7cf0f59e6a4",
   "metadata": {},
   "source": [
    "types of variable:\n",
    "static/class variable\n",
    "instance variables\n",
    "\n",
    "types of methods:\n",
    "instance methods\n",
    "class methods\n",
    "static methods"
   ]
  },
  {
   "cell_type": "code",
   "execution_count": 1,
   "id": "1af32238-f73e-4c76-9da7-ad7cbb982870",
   "metadata": {},
   "outputs": [],
   "source": [
    "#instance variable and methods"
   ]
  },
  {
   "cell_type": "code",
   "execution_count": 25,
   "id": "3babe9fa-7bde-4f9d-88df-d0fc84cc99ca",
   "metadata": {},
   "outputs": [],
   "source": [
    "class rectangle:\n",
    "    def __init__(self, l , b):\n",
    "        self.length = l\n",
    "        self.breadth = b\n",
    "\n",
    "    def area(self):\n",
    "        return self.length*self.breadth\n",
    "\n",
    "    def per(self):\n",
    "        return 2*(self.length+self.breadth)\n",
    "        "
   ]
  },
  {
   "cell_type": "code",
   "execution_count": 26,
   "id": "7664888d-de29-42bd-92db-1582799986d0",
   "metadata": {},
   "outputs": [],
   "source": [
    "r1 = rectangle(10,5)\n",
    "r2 = rectangle(15 , 5)\n"
   ]
  },
  {
   "cell_type": "code",
   "execution_count": 27,
   "id": "f87a70f5-e3d6-4692-a480-7b74e441b5fe",
   "metadata": {},
   "outputs": [
    {
     "data": {
      "text/plain": [
       "50"
      ]
     },
     "execution_count": 27,
     "metadata": {},
     "output_type": "execute_result"
    }
   ],
   "source": [
    "r1.area()"
   ]
  },
  {
   "cell_type": "raw",
   "id": "0354ad91-5f56-4d06-94cd-873b75637a16",
   "metadata": {},
   "source": [
    "# here r1 and r2 are objects of class rectangle and they are also known as instance of a class\n",
    "each instance has its own length , breadth , area and per \n",
    "as methods are accessing instance variables so here they are instance methods \n",
    "The parameter taken by the instance method is always self"
   ]
  },
  {
   "cell_type": "code",
   "execution_count": null,
   "id": "b9c9dadc-0fd6-4a45-a2b4-915d9fb867c6",
   "metadata": {},
   "outputs": [],
   "source": []
  },
  {
   "cell_type": "code",
   "execution_count": 28,
   "id": "584d2b45-957c-4c05-b69d-91ee87cc00d0",
   "metadata": {},
   "outputs": [],
   "source": [
    "class test:\n",
    "    def __init__(self):\n",
    "        self.a=10\n",
    "\n",
    "    def fun(self):\n",
    "        self.b = 5\n",
    "\n",
    "t = test()"
   ]
  },
  {
   "cell_type": "code",
   "execution_count": 16,
   "id": "54d050e2-a8a0-4335-8786-2f6562f583b0",
   "metadata": {},
   "outputs": [
    {
     "data": {
      "text/plain": [
       "['__class__',\n",
       " '__delattr__',\n",
       " '__dict__',\n",
       " '__dir__',\n",
       " '__doc__',\n",
       " '__eq__',\n",
       " '__format__',\n",
       " '__ge__',\n",
       " '__getattribute__',\n",
       " '__getstate__',\n",
       " '__gt__',\n",
       " '__hash__',\n",
       " '__init__',\n",
       " '__init_subclass__',\n",
       " '__le__',\n",
       " '__lt__',\n",
       " '__module__',\n",
       " '__ne__',\n",
       " '__new__',\n",
       " '__reduce__',\n",
       " '__reduce_ex__',\n",
       " '__repr__',\n",
       " '__setattr__',\n",
       " '__sizeof__',\n",
       " '__str__',\n",
       " '__subclasshook__',\n",
       " '__weakref__',\n",
       " 'a',\n",
       " 'fun']"
      ]
     },
     "execution_count": 16,
     "metadata": {},
     "output_type": "execute_result"
    }
   ],
   "source": [
    "dir(t) # only fun no b coz fun is not called till now , b will be initialized only when fun is called while as a is in __init__ it will be automatically declared/called"
   ]
  },
  {
   "cell_type": "code",
   "execution_count": 29,
   "id": "af871b5e-979b-4472-a9cd-009f2585f1a0",
   "metadata": {},
   "outputs": [],
   "source": [
    "t.fun()"
   ]
  },
  {
   "cell_type": "code",
   "execution_count": 31,
   "id": "7ccde591-3730-4610-8d25-5a9aed76a1cf",
   "metadata": {},
   "outputs": [
    {
     "data": {
      "text/plain": [
       "['__class__',\n",
       " '__delattr__',\n",
       " '__dict__',\n",
       " '__dir__',\n",
       " '__doc__',\n",
       " '__eq__',\n",
       " '__format__',\n",
       " '__ge__',\n",
       " '__getattribute__',\n",
       " '__getstate__',\n",
       " '__gt__',\n",
       " '__hash__',\n",
       " '__init__',\n",
       " '__init_subclass__',\n",
       " '__le__',\n",
       " '__lt__',\n",
       " '__module__',\n",
       " '__ne__',\n",
       " '__new__',\n",
       " '__reduce__',\n",
       " '__reduce_ex__',\n",
       " '__repr__',\n",
       " '__setattr__',\n",
       " '__sizeof__',\n",
       " '__str__',\n",
       " '__subclasshook__',\n",
       " '__weakref__',\n",
       " 'a',\n",
       " 'b',\n",
       " 'fun']"
      ]
     },
     "execution_count": 31,
     "metadata": {},
     "output_type": "execute_result"
    }
   ],
   "source": [
    "dir(t)  # here as we called the function so now b is also there"
   ]
  },
  {
   "cell_type": "code",
   "execution_count": 32,
   "id": "896f35af-760f-463d-8780-68da5d31ea47",
   "metadata": {},
   "outputs": [],
   "source": [
    "# we can declare instance variable outside the class aas well\n",
    "t.c = 15"
   ]
  },
  {
   "cell_type": "code",
   "execution_count": 33,
   "id": "f6051eb2-ed91-4d1c-820a-f51a1578e01d",
   "metadata": {},
   "outputs": [
    {
     "name": "stdout",
     "output_type": "stream",
     "text": [
      "15\n"
     ]
    }
   ],
   "source": [
    "print(t.c)"
   ]
  },
  {
   "cell_type": "code",
   "execution_count": 34,
   "id": "1aec65e6-0dad-4be3-89b6-574f17b96a84",
   "metadata": {},
   "outputs": [
    {
     "data": {
      "text/plain": [
       "['__class__',\n",
       " '__delattr__',\n",
       " '__dict__',\n",
       " '__dir__',\n",
       " '__doc__',\n",
       " '__eq__',\n",
       " '__format__',\n",
       " '__ge__',\n",
       " '__getattribute__',\n",
       " '__getstate__',\n",
       " '__gt__',\n",
       " '__hash__',\n",
       " '__init__',\n",
       " '__init_subclass__',\n",
       " '__le__',\n",
       " '__lt__',\n",
       " '__module__',\n",
       " '__ne__',\n",
       " '__new__',\n",
       " '__reduce__',\n",
       " '__reduce_ex__',\n",
       " '__repr__',\n",
       " '__setattr__',\n",
       " '__sizeof__',\n",
       " '__str__',\n",
       " '__subclasshook__',\n",
       " '__weakref__',\n",
       " 'a',\n",
       " 'b',\n",
       " 'c',\n",
       " 'fun']"
      ]
     },
     "execution_count": 34,
     "metadata": {},
     "output_type": "execute_result"
    }
   ],
   "source": [
    "dir(t)"
   ]
  },
  {
   "cell_type": "code",
   "execution_count": null,
   "id": "a790aff4-d8ce-4d10-b0cd-235e7808ebb7",
   "metadata": {},
   "outputs": [],
   "source": []
  },
  {
   "cell_type": "code",
   "execution_count": 42,
   "id": "5771c648-b66d-464b-833e-bc003dfb9cfc",
   "metadata": {},
   "outputs": [],
   "source": [
    "class rectangle:\n",
    "    count = 0\n",
    "    def __init__(self, l , b):\n",
    "        self.length = l\n",
    "        self.breadth = b\n",
    "        rectangle.count +=1\n",
    "\n",
    "    def area(self):\n",
    "        return self.length*self.breadth\n",
    "\n",
    "    def per(self):\n",
    "        return 2*(self.length+self.breadth)\n",
    "        "
   ]
  },
  {
   "cell_type": "code",
   "execution_count": 43,
   "id": "7dbb333b-1a10-4f39-a7d9-788a465f69c9",
   "metadata": {},
   "outputs": [],
   "source": [
    "r1= rectangle(10,1)\n",
    "r2= rectangle(5,6)"
   ]
  },
  {
   "cell_type": "code",
   "execution_count": 44,
   "id": "5c083dca-30be-49f9-94b0-c9d09c684bec",
   "metadata": {},
   "outputs": [
    {
     "data": {
      "text/plain": [
       "2"
      ]
     },
     "execution_count": 44,
     "metadata": {},
     "output_type": "execute_result"
    }
   ],
   "source": [
    "rectangle.count"
   ]
  },
  {
   "cell_type": "code",
   "execution_count": 45,
   "id": "f7946cef-8603-4ef0-8d86-31cf168c746e",
   "metadata": {},
   "outputs": [
    {
     "data": {
      "text/plain": [
       "2"
      ]
     },
     "execution_count": 45,
     "metadata": {},
     "output_type": "execute_result"
    }
   ],
   "source": [
    "r1.count"
   ]
  },
  {
   "cell_type": "code",
   "execution_count": 46,
   "id": "3b480734-a29d-4c61-a003-9f7da363fc81",
   "metadata": {},
   "outputs": [
    {
     "data": {
      "text/plain": [
       "2"
      ]
     },
     "execution_count": 46,
     "metadata": {},
     "output_type": "execute_result"
    }
   ],
   "source": [
    "r2.count"
   ]
  },
  {
   "cell_type": "code",
   "execution_count": 47,
   "id": "28223741",
   "metadata": {},
   "outputs": [
    {
     "data": {
      "text/plain": [
       "(3, 3)"
      ]
     },
     "execution_count": 47,
     "metadata": {},
     "output_type": "execute_result"
    }
   ],
   "source": [
    "r3 = rectangle(10,10)\n",
    "r3.count, rectangle.count"
   ]
  },
  {
   "cell_type": "raw",
   "id": "506f5e00-7bd2-4582-b1b3-0fd351789b09",
   "metadata": {},
   "source": [
    "here count belongs to the class hence it is a class/static/fixed variable \n",
    "all the objects belonging to the class can access it \n",
    "only and only one copy of count is formed and shared by all the objects and the class itself"
   ]
  },
  {
   "cell_type": "code",
   "execution_count": 37,
   "id": "fc479048-601b-47bc-8ff5-b9676aee1b8e",
   "metadata": {},
   "outputs": [],
   "source": [
    "class rectangle:\n",
    "    count = 0\n",
    "    def __init__(self, l , b):\n",
    "        self.length = l\n",
    "        self.breadth = b\n",
    "        rectangle.count +=1\n",
    "\n",
    "    def area(self):\n",
    "        return self.length*self.breadth\n",
    "\n",
    "    def per(self):\n",
    "        return 2*(self.length+self.breadth)\n",
    "\n",
    "    @classmethod\n",
    "    def CountRect(k):  # here countrect is a class method as it is only accessing the class variables only\n",
    "        return k.count\n",
    "\n",
    "\n",
    "        "
   ]
  },
  {
   "cell_type": "code",
   "execution_count": 38,
   "id": "bd0fdbcb-bc02-4e2e-9fdb-8ebfb9fb5a03",
   "metadata": {},
   "outputs": [],
   "source": [
    "r1 = rectangle(10,10)\n",
    "r2 = rectangle(5,5)"
   ]
  },
  {
   "cell_type": "code",
   "execution_count": 39,
   "id": "b9b0722d-235c-445c-8011-af9b032d484a",
   "metadata": {},
   "outputs": [
    {
     "data": {
      "text/plain": [
       "2"
      ]
     },
     "execution_count": 39,
     "metadata": {},
     "output_type": "execute_result"
    }
   ],
   "source": [
    "r2.CountRect()"
   ]
  },
  {
   "cell_type": "code",
   "execution_count": 40,
   "id": "7f393237-92c2-41a2-a1d1-6222c8e15a46",
   "metadata": {},
   "outputs": [
    {
     "data": {
      "text/plain": [
       "2"
      ]
     },
     "execution_count": 40,
     "metadata": {},
     "output_type": "execute_result"
    }
   ],
   "source": [
    "r1.CountRect()"
   ]
  },
  {
   "cell_type": "code",
   "execution_count": 41,
   "id": "7618f045-815b-43c8-80b7-036a6c43e904",
   "metadata": {},
   "outputs": [
    {
     "data": {
      "text/plain": [
       "2"
      ]
     },
     "execution_count": 41,
     "metadata": {},
     "output_type": "execute_result"
    }
   ],
   "source": [
    "rectangle.CountRect()"
   ]
  },
  {
   "cell_type": "markdown",
   "id": "393a3a50-0453-490d-9e43-f981c71561ba",
   "metadata": {},
   "source": []
  },
  {
   "cell_type": "raw",
   "id": "43d56a86-142c-434a-bfda-030ee4e55810",
   "metadata": {},
   "source": [
    "In static method we do not take class or instance methods\n",
    "They are like global functions\n",
    "We can create them inside the class using decorator @staticmethod"
   ]
  },
  {
   "cell_type": "code",
   "execution_count": 48,
   "id": "df306566-b857-41a2-a4f5-2b906cf3a486",
   "metadata": {},
   "outputs": [],
   "source": [
    "class rectangle:\n",
    "    \n",
    "    def __init__(self, l , b):\n",
    "        self.length = l\n",
    "        self.breadth = b\n",
    "\n",
    "    def area(self):\n",
    "        return self.length*self.breadth\n",
    "\n",
    "    def per(self):\n",
    "        return 2*(self.length+self.breadth)\n",
    "    @staticmethod\n",
    "    def issquare(l,b):\n",
    "        return l==b\n",
    "        "
   ]
  },
  {
   "cell_type": "code",
   "execution_count": 49,
   "id": "a4d2214f-fd7a-412d-861b-675b9a2dc630",
   "metadata": {},
   "outputs": [
    {
     "ename": "TypeError",
     "evalue": "rectangle.issquare() missing 2 required positional arguments: 'l' and 'b'",
     "output_type": "error",
     "traceback": [
      "\u001b[1;31m---------------------------------------------------------------------------\u001b[0m",
      "\u001b[1;31mTypeError\u001b[0m                                 Traceback (most recent call last)",
      "Cell \u001b[1;32mIn[49], line 2\u001b[0m\n\u001b[0;32m      1\u001b[0m r \u001b[38;5;241m=\u001b[39m rectangle(\u001b[38;5;241m10\u001b[39m,\u001b[38;5;241m10\u001b[39m)\n\u001b[1;32m----> 2\u001b[0m \u001b[43mr\u001b[49m\u001b[38;5;241;43m.\u001b[39;49m\u001b[43missquare\u001b[49m\u001b[43m(\u001b[49m\u001b[43m)\u001b[49m\n",
      "\u001b[1;31mTypeError\u001b[0m: rectangle.issquare() missing 2 required positional arguments: 'l' and 'b'"
     ]
    }
   ],
   "source": [
    "r = rectangle(10,10)\n",
    "r.issquare()"
   ]
  },
  {
   "cell_type": "code",
   "execution_count": 50,
   "id": "db92373d-e8af-44d8-a04d-123c908a5018",
   "metadata": {},
   "outputs": [
    {
     "data": {
      "text/plain": [
       "True"
      ]
     },
     "execution_count": 50,
     "metadata": {},
     "output_type": "execute_result"
    }
   ],
   "source": [
    "r.issquare(10,10)"
   ]
  },
  {
   "cell_type": "code",
   "execution_count": 51,
   "id": "ce667ceb-d783-4568-9ae5-80e5c80c480b",
   "metadata": {},
   "outputs": [
    {
     "data": {
      "text/plain": [
       "False"
      ]
     },
     "execution_count": 51,
     "metadata": {},
     "output_type": "execute_result"
    }
   ],
   "source": [
    "rectangle.issquare(10,5)"
   ]
  },
  {
   "cell_type": "code",
   "execution_count": 52,
   "id": "fdf734ca-66f6-48af-baa8-205fb2a2772e",
   "metadata": {},
   "outputs": [
    {
     "data": {
      "text/plain": [
       "5"
      ]
     },
     "execution_count": 52,
     "metadata": {},
     "output_type": "execute_result"
    }
   ],
   "source": [
    "r1 = rectangle(10,10)\n",
    "r1.length= 5\n",
    "r1.length"
   ]
  },
  {
   "cell_type": "raw",
   "id": "75593e55-aa65-4dfb-83e9-8d09cf5d2a2d",
   "metadata": {},
   "source": [
    "we can also use mutators ans accessors to change the instance variables or to access them"
   ]
  },
  {
   "cell_type": "code",
   "execution_count": 56,
   "id": "ea5c410f-a01d-4974-a25f-55a863e613ee",
   "metadata": {},
   "outputs": [],
   "source": [
    "class rectangle:\n",
    "    \n",
    "    def __init__(self, l , b):\n",
    "        self.length = l\n",
    "        self.breadth = b\n",
    "\n",
    "    def are(self):\n",
    "        return self.length*self.breadth\n",
    "\n",
    "    def per(self):\n",
    "        return 2*(self.length+self.breadth)\n",
    "\n",
    "    def setl(self,l):\n",
    "        self.length  = l\n",
    "    def setb(self,b):\n",
    "        self.breadth = b\n",
    "\n",
    "    def getlen(self):\n",
    "        return self.length\n",
    "    def getbre(self):\n",
    "        return self.bre"
   ]
  },
  {
   "cell_type": "code",
   "execution_count": 57,
   "id": "696efaeb-c56e-493e-9a0f-2400a5158e81",
   "metadata": {},
   "outputs": [
    {
     "data": {
      "text/plain": [
       "10"
      ]
     },
     "execution_count": 57,
     "metadata": {},
     "output_type": "execute_result"
    }
   ],
   "source": [
    "r = rectangle(5,6)\n",
    "r.setl(10)\n",
    "r.length"
   ]
  },
  {
   "cell_type": "code",
   "execution_count": 56,
   "id": "afcdce8d-6ca8-49a8-a15f-0abd32eb4266",
   "metadata": {},
   "outputs": [],
   "source": [
    "class Rectangle:\n",
    "\n",
    "    def __init__(self , l , b):\n",
    "        self.length = l\n",
    "        self.breadth = b\n",
    "    \n",
    "    def area(self):\n",
    "        return self.length * self.breadth \n",
    "    \n",
    "    def setlen(self ,l):\n",
    "        self.length = l\n",
    "    def setbre(self , b):\n",
    "        self.breadth = b\n",
    "\n",
    "    def getlen(self):\n",
    "        return self.length\n",
    "    def getbre(self):\n",
    "        return self.breadth "
   ]
  },
  {
   "cell_type": "code",
   "execution_count": 57,
   "id": "0e0662bd",
   "metadata": {},
   "outputs": [],
   "source": [
    "r = Rectangle(10,5)"
   ]
  },
  {
   "cell_type": "code",
   "execution_count": 58,
   "id": "7180befe",
   "metadata": {},
   "outputs": [
    {
     "name": "stdout",
     "output_type": "stream",
     "text": [
      "10 5\n"
     ]
    }
   ],
   "source": [
    "print(r.getlen() , r.getbre())"
   ]
  },
  {
   "cell_type": "code",
   "execution_count": 59,
   "id": "a3af09a9",
   "metadata": {},
   "outputs": [],
   "source": [
    "r.setlen(8)\n",
    "r.setbre(9)"
   ]
  },
  {
   "cell_type": "code",
   "execution_count": 60,
   "id": "225dba84",
   "metadata": {},
   "outputs": [
    {
     "name": "stdout",
     "output_type": "stream",
     "text": [
      "8 9\n"
     ]
    }
   ],
   "source": [
    "print(r.getlen() , r.getbre())"
   ]
  },
  {
   "cell_type": "code",
   "execution_count": 61,
   "id": "fdbc9d9e",
   "metadata": {},
   "outputs": [
    {
     "name": "stdout",
     "output_type": "stream",
     "text": [
      "['__class__', '__delattr__', '__dict__', '__dir__', '__doc__', '__eq__', '__format__', '__ge__', '__getattribute__', '__getstate__', '__gt__', '__hash__', '__init__', '__init_subclass__', '__le__', '__lt__', '__module__', '__ne__', '__new__', '__reduce__', '__reduce_ex__', '__repr__', '__setattr__', '__sizeof__', '__str__', '__subclasshook__', '__weakref__', 'area', 'breadth', 'getbre', 'getlen', 'length', 'setbre', 'setlen']\n"
     ]
    }
   ],
   "source": [
    "print(dir(r))"
   ]
  },
  {
   "cell_type": "code",
   "execution_count": null,
   "id": "0fe79dd1",
   "metadata": {},
   "outputs": [],
   "source": [
    "class Rectangle:\n",
    "\n",
    "    def __init__(self , l , b):\n",
    "        self.length = l\n",
    "        self.breadth = b\n",
    "    \n",
    "    def area(self):\n",
    "        return self.length * self.breadth \n",
    "    \n",
    "    def setlen(self ,l):\n",
    "        self.len = l        # len and bre are just new instance variable which are differnet form length and breadth (type 2 of instance variable )\n",
    "    def setbre(self , b):\n",
    "        self.bre = b\n",
    "\n",
    "    def getlen(self):\n",
    "        return self.length\n",
    "    def getbre(self):\n",
    "        return self.breadth "
   ]
  },
  {
   "cell_type": "code",
   "execution_count": 79,
   "id": "7ab63646",
   "metadata": {},
   "outputs": [],
   "source": [
    "r2 = Rectangle(10,10)"
   ]
  },
  {
   "cell_type": "code",
   "execution_count": 80,
   "id": "5e285432",
   "metadata": {},
   "outputs": [
    {
     "name": "stdout",
     "output_type": "stream",
     "text": [
      "10 10\n"
     ]
    }
   ],
   "source": [
    "print(r2.getlen() , r2.getbre())"
   ]
  },
  {
   "cell_type": "code",
   "execution_count": 81,
   "id": "ed143eab",
   "metadata": {},
   "outputs": [],
   "source": [
    "r2.setlen(5)\n",
    "r2.setbre(5)"
   ]
  },
  {
   "cell_type": "code",
   "execution_count": 82,
   "id": "42768462",
   "metadata": {},
   "outputs": [
    {
     "name": "stdout",
     "output_type": "stream",
     "text": [
      "10 10\n"
     ]
    }
   ],
   "source": [
    "print(r2.getlen() , r2.getbre())"
   ]
  },
  {
   "cell_type": "code",
   "execution_count": 83,
   "id": "acf08069",
   "metadata": {},
   "outputs": [
    {
     "name": "stdout",
     "output_type": "stream",
     "text": [
      "['__class__', '__delattr__', '__dict__', '__dir__', '__doc__', '__eq__', '__format__', '__ge__', '__getattribute__', '__getstate__', '__gt__', '__hash__', '__init__', '__init_subclass__', '__le__', '__lt__', '__module__', '__ne__', '__new__', '__reduce__', '__reduce_ex__', '__repr__', '__setattr__', '__sizeof__', '__str__', '__subclasshook__', '__weakref__', 'area', 'bre', 'breadth', 'getbre', 'getlen', 'len', 'length', 'setbre', 'setlen']\n"
     ]
    }
   ],
   "source": [
    "print(dir(r2))"
   ]
  },
  {
   "cell_type": "code",
   "execution_count": null,
   "id": "a10a6f6e",
   "metadata": {},
   "outputs": [],
   "source": []
  }
 ],
 "metadata": {
  "kernelspec": {
   "display_name": "auto_complete",
   "language": "python",
   "name": "python3"
  },
  "language_info": {
   "codemirror_mode": {
    "name": "ipython",
    "version": 3
   },
   "file_extension": ".py",
   "mimetype": "text/x-python",
   "name": "python",
   "nbconvert_exporter": "python",
   "pygments_lexer": "ipython3",
   "version": "3.12.4"
  }
 },
 "nbformat": 4,
 "nbformat_minor": 5
}
