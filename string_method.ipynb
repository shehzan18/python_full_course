{
 "cells": [
  {
   "cell_type": "code",
   "execution_count": 4,
   "id": "011e485a-046b-4a58-9508-77aa01a59c8a",
   "metadata": {},
   "outputs": [
    {
     "data": {
      "text/plain": [
       "str"
      ]
     },
     "execution_count": 4,
     "metadata": {},
     "output_type": "execute_result"
    }
   ],
   "source": [
    "s = \"how are you\"\n",
    "type(s) # s is an object of class string\n"
   ]
  },
  {
   "cell_type": "code",
   "execution_count": 5,
   "id": "b82198a8-f199-4a77-8dce-71e325caf46e",
   "metadata": {},
   "outputs": [
    {
     "data": {
      "text/plain": [
       "['__add__',\n",
       " '__class__',\n",
       " '__contains__',\n",
       " '__delattr__',\n",
       " '__dir__',\n",
       " '__doc__',\n",
       " '__eq__',\n",
       " '__format__',\n",
       " '__ge__',\n",
       " '__getattribute__',\n",
       " '__getitem__',\n",
       " '__getnewargs__',\n",
       " '__getstate__',\n",
       " '__gt__',\n",
       " '__hash__',\n",
       " '__init__',\n",
       " '__init_subclass__',\n",
       " '__iter__',\n",
       " '__le__',\n",
       " '__len__',\n",
       " '__lt__',\n",
       " '__mod__',\n",
       " '__mul__',\n",
       " '__ne__',\n",
       " '__new__',\n",
       " '__reduce__',\n",
       " '__reduce_ex__',\n",
       " '__repr__',\n",
       " '__rmod__',\n",
       " '__rmul__',\n",
       " '__setattr__',\n",
       " '__sizeof__',\n",
       " '__str__',\n",
       " '__subclasshook__',\n",
       " 'capitalize',\n",
       " 'casefold',\n",
       " 'center',\n",
       " 'count',\n",
       " 'encode',\n",
       " 'endswith',\n",
       " 'expandtabs',\n",
       " 'find',\n",
       " 'format',\n",
       " 'format_map',\n",
       " 'index',\n",
       " 'isalnum',\n",
       " 'isalpha',\n",
       " 'isascii',\n",
       " 'isdecimal',\n",
       " 'isdigit',\n",
       " 'isidentifier',\n",
       " 'islower',\n",
       " 'isnumeric',\n",
       " 'isprintable',\n",
       " 'isspace',\n",
       " 'istitle',\n",
       " 'isupper',\n",
       " 'join',\n",
       " 'ljust',\n",
       " 'lower',\n",
       " 'lstrip',\n",
       " 'maketrans',\n",
       " 'partition',\n",
       " 'removeprefix',\n",
       " 'removesuffix',\n",
       " 'replace',\n",
       " 'rfind',\n",
       " 'rindex',\n",
       " 'rjust',\n",
       " 'rpartition',\n",
       " 'rsplit',\n",
       " 'rstrip',\n",
       " 'split',\n",
       " 'splitlines',\n",
       " 'startswith',\n",
       " 'strip',\n",
       " 'swapcase',\n",
       " 'title',\n",
       " 'translate',\n",
       " 'upper',\n",
       " 'zfill']"
      ]
     },
     "execution_count": 5,
     "metadata": {},
     "output_type": "execute_result"
    }
   ],
   "source": [
    "# methods in str\n",
    "dir(str)"
   ]
  },
  {
   "cell_type": "code",
   "execution_count": 7,
   "id": "cf48de5f-cabe-4121-9a7a-74de1c70089f",
   "metadata": {},
   "outputs": [
    {
     "name": "stdout",
     "output_type": "stream",
     "text": [
      "Help on built-in function endswith:\n",
      "\n",
      "endswith(...) method of builtins.str instance\n",
      "    S.endswith(suffix[, start[, end]]) -> bool\n",
      "\n",
      "    Return True if S ends with the specified suffix, False otherwise.\n",
      "    With optional start, test S beginning at that position.\n",
      "    With optional end, stop comparing S at that position.\n",
      "    suffix can also be a tuple of strings to try.\n",
      "\n"
     ]
    }
   ],
   "source": [
    "help(s.endswith)"
   ]
  },
  {
   "cell_type": "code",
   "execution_count": null,
   "id": "17062126-06c7-4c99-9d0b-28035b7dc7d4",
   "metadata": {},
   "outputs": [],
   "source": []
  },
  {
   "cell_type": "code",
   "execution_count": 8,
   "id": "a0c4fdf2-e010-4ae4-8234-b17086dcbc76",
   "metadata": {},
   "outputs": [],
   "source": [
    "s = \"hello, how are you\""
   ]
  },
  {
   "cell_type": "code",
   "execution_count": 9,
   "id": "544e87e8-7664-4934-8d9c-d206c35f89e3",
   "metadata": {},
   "outputs": [
    {
     "data": {
      "text/plain": [
       "4"
      ]
     },
     "execution_count": 9,
     "metadata": {},
     "output_type": "execute_result"
    }
   ],
   "source": [
    "s.find(\"o\")"
   ]
  },
  {
   "cell_type": "code",
   "execution_count": 10,
   "id": "6c148e56-5b51-4dfc-9730-49b381f1f4d9",
   "metadata": {},
   "outputs": [
    {
     "data": {
      "text/plain": [
       "8"
      ]
     },
     "execution_count": 10,
     "metadata": {},
     "output_type": "execute_result"
    }
   ],
   "source": [
    "s.find(\"o\", 5 )"
   ]
  },
  {
   "cell_type": "code",
   "execution_count": 11,
   "id": "a5daab44-62df-4bb8-85f3-a479865de5cb",
   "metadata": {},
   "outputs": [
    {
     "data": {
      "text/plain": [
       "16"
      ]
     },
     "execution_count": 11,
     "metadata": {},
     "output_type": "execute_result"
    }
   ],
   "source": [
    "s.find(\"o\" , 9)"
   ]
  },
  {
   "cell_type": "code",
   "execution_count": 12,
   "id": "9fdfa573-a208-4ea3-bcba-4bd236baafc2",
   "metadata": {},
   "outputs": [
    {
     "data": {
      "text/plain": [
       "-1"
      ]
     },
     "execution_count": 12,
     "metadata": {},
     "output_type": "execute_result"
    }
   ],
   "source": [
    "s.find(\"k\")"
   ]
  },
  {
   "cell_type": "code",
   "execution_count": 13,
   "id": "9d5c11d5-9076-4f48-a1fc-b4cdb17bae61",
   "metadata": {},
   "outputs": [
    {
     "data": {
      "text/plain": [
       "5"
      ]
     },
     "execution_count": 13,
     "metadata": {},
     "output_type": "execute_result"
    }
   ],
   "source": [
    "s.find(\", how\")"
   ]
  },
  {
   "cell_type": "code",
   "execution_count": null,
   "id": "6a033ca2-6657-4b78-a8f3-9ffbf87724b7",
   "metadata": {},
   "outputs": [],
   "source": []
  },
  {
   "cell_type": "code",
   "execution_count": 14,
   "id": "5fb15d58-1844-4947-a6b0-b22e16b118b8",
   "metadata": {},
   "outputs": [],
   "source": [
    "s = \"hello, how are you\""
   ]
  },
  {
   "cell_type": "code",
   "execution_count": 15,
   "id": "23d5cafc-0627-490b-a17b-59714ea45184",
   "metadata": {},
   "outputs": [
    {
     "data": {
      "text/plain": [
       "16"
      ]
     },
     "execution_count": 15,
     "metadata": {},
     "output_type": "execute_result"
    }
   ],
   "source": [
    "s.rfind(\"o\")"
   ]
  },
  {
   "cell_type": "code",
   "execution_count": 17,
   "id": "1083e672-450a-4a37-a7ee-32859dd46b15",
   "metadata": {},
   "outputs": [
    {
     "data": {
      "text/plain": [
       "8"
      ]
     },
     "execution_count": 17,
     "metadata": {},
     "output_type": "execute_result"
    }
   ],
   "source": [
    "s.rfind(\"o\" ,0 , 15)"
   ]
  },
  {
   "cell_type": "code",
   "execution_count": 18,
   "id": "5cdf791e-0bab-412c-a93d-6c74cb725ac7",
   "metadata": {},
   "outputs": [
    {
     "data": {
      "text/plain": [
       "15"
      ]
     },
     "execution_count": 18,
     "metadata": {},
     "output_type": "execute_result"
    }
   ],
   "source": [
    "s.rfind(\"you\")"
   ]
  },
  {
   "cell_type": "code",
   "execution_count": null,
   "id": "d2bf6720-600b-42a4-a39b-399208c61829",
   "metadata": {},
   "outputs": [],
   "source": []
  },
  {
   "cell_type": "code",
   "execution_count": 19,
   "id": "d9441839-8877-4b07-ac0a-f16a38c8f248",
   "metadata": {},
   "outputs": [],
   "source": [
    "s = \"hello, how are you\""
   ]
  },
  {
   "cell_type": "code",
   "execution_count": 21,
   "id": "bbc0a82a-be26-4aff-b5d3-62ce2e8834c6",
   "metadata": {},
   "outputs": [
    {
     "data": {
      "text/plain": [
       "0"
      ]
     },
     "execution_count": 21,
     "metadata": {},
     "output_type": "execute_result"
    }
   ],
   "source": [
    "s.index(\"h\")"
   ]
  },
  {
   "cell_type": "code",
   "execution_count": 22,
   "id": "8186ddcb-3705-4e6c-9de5-c99a3b4179d3",
   "metadata": {},
   "outputs": [
    {
     "data": {
      "text/plain": [
       "15"
      ]
     },
     "execution_count": 22,
     "metadata": {},
     "output_type": "execute_result"
    }
   ],
   "source": [
    "s.index(\"you\")"
   ]
  },
  {
   "cell_type": "code",
   "execution_count": 23,
   "id": "91a2e145-5e03-410a-815e-19321bdc082c",
   "metadata": {},
   "outputs": [
    {
     "data": {
      "text/plain": [
       "7"
      ]
     },
     "execution_count": 23,
     "metadata": {},
     "output_type": "execute_result"
    }
   ],
   "source": [
    "s.index(\"h\", 1 )"
   ]
  },
  {
   "cell_type": "code",
   "execution_count": 24,
   "id": "3bdbb8bb-d721-4bc1-a158-1ad330f377df",
   "metadata": {},
   "outputs": [
    {
     "ename": "ValueError",
     "evalue": "substring not found",
     "output_type": "error",
     "traceback": [
      "\u001b[1;31m---------------------------------------------------------------------------\u001b[0m",
      "\u001b[1;31mValueError\u001b[0m                                Traceback (most recent call last)",
      "Cell \u001b[1;32mIn[24], line 1\u001b[0m\n\u001b[1;32m----> 1\u001b[0m \u001b[43ms\u001b[49m\u001b[38;5;241;43m.\u001b[39;49m\u001b[43mindex\u001b[49m\u001b[43m(\u001b[49m\u001b[38;5;124;43m\"\u001b[39;49m\u001b[38;5;124;43mk\u001b[39;49m\u001b[38;5;124;43m\"\u001b[39;49m\u001b[43m)\u001b[49m\n",
      "\u001b[1;31mValueError\u001b[0m: substring not found"
     ]
    }
   ],
   "source": [
    "s.index(\"k\")"
   ]
  },
  {
   "cell_type": "code",
   "execution_count": 25,
   "id": "a16ac034-9c78-4560-857d-20c9ed3f9a3c",
   "metadata": {},
   "outputs": [
    {
     "data": {
      "text/plain": [
       "16"
      ]
     },
     "execution_count": 25,
     "metadata": {},
     "output_type": "execute_result"
    }
   ],
   "source": [
    "s.rindex(\"o\")"
   ]
  },
  {
   "cell_type": "code",
   "execution_count": 26,
   "id": "9aa9d111-ed2a-4c68-8d2a-8d09dbac76f4",
   "metadata": {},
   "outputs": [
    {
     "data": {
      "text/plain": [
       "8"
      ]
     },
     "execution_count": 26,
     "metadata": {},
     "output_type": "execute_result"
    }
   ],
   "source": [
    "s.rindex(\"o\", 0 , 15)"
   ]
  },
  {
   "cell_type": "code",
   "execution_count": 27,
   "id": "b7565a52-b1f9-45dd-8c15-f6d81753d0bb",
   "metadata": {},
   "outputs": [
    {
     "ename": "ValueError",
     "evalue": "substring not found",
     "output_type": "error",
     "traceback": [
      "\u001b[1;31m---------------------------------------------------------------------------\u001b[0m",
      "\u001b[1;31mValueError\u001b[0m                                Traceback (most recent call last)",
      "Cell \u001b[1;32mIn[27], line 1\u001b[0m\n\u001b[1;32m----> 1\u001b[0m \u001b[43ms\u001b[49m\u001b[38;5;241;43m.\u001b[39;49m\u001b[43mrindex\u001b[49m\u001b[43m(\u001b[49m\u001b[38;5;124;43m\"\u001b[39;49m\u001b[38;5;124;43mshehzan\u001b[39;49m\u001b[38;5;124;43m\"\u001b[39;49m\u001b[43m)\u001b[49m\n",
      "\u001b[1;31mValueError\u001b[0m: substring not found"
     ]
    }
   ],
   "source": [
    "s.rindex(\"shehzan\")"
   ]
  },
  {
   "cell_type": "code",
   "execution_count": null,
   "id": "bfdca98e-9434-40e7-b5d8-99ebb8fc911f",
   "metadata": {},
   "outputs": [],
   "source": []
  },
  {
   "cell_type": "code",
   "execution_count": 28,
   "id": "491b806e-35f9-4f09-a469-f003f1a5f78b",
   "metadata": {},
   "outputs": [],
   "source": [
    "s = \"hello, how are you\""
   ]
  },
  {
   "cell_type": "code",
   "execution_count": 29,
   "id": "91a194f7-f737-4501-a220-58c361590b4e",
   "metadata": {},
   "outputs": [
    {
     "data": {
      "text/plain": [
       "3"
      ]
     },
     "execution_count": 29,
     "metadata": {},
     "output_type": "execute_result"
    }
   ],
   "source": [
    "s.count(\"o\")"
   ]
  },
  {
   "cell_type": "code",
   "execution_count": 30,
   "id": "d5c46457-d330-428b-8ce0-6ab5ec1774b8",
   "metadata": {},
   "outputs": [
    {
     "data": {
      "text/plain": [
       "2"
      ]
     },
     "execution_count": 30,
     "metadata": {},
     "output_type": "execute_result"
    }
   ],
   "source": [
    "s.count(\"o\", 5)"
   ]
  },
  {
   "cell_type": "code",
   "execution_count": 31,
   "id": "523245e0-0f3b-42c0-a2d7-3369356724e8",
   "metadata": {},
   "outputs": [
    {
     "data": {
      "text/plain": [
       "1"
      ]
     },
     "execution_count": 31,
     "metadata": {},
     "output_type": "execute_result"
    }
   ],
   "source": [
    "s.count(\"how\")"
   ]
  },
  {
   "cell_type": "code",
   "execution_count": 32,
   "id": "84783ce4-90e4-4694-b53c-9455fd558b27",
   "metadata": {},
   "outputs": [
    {
     "data": {
      "text/plain": [
       "0"
      ]
     },
     "execution_count": 32,
     "metadata": {},
     "output_type": "execute_result"
    }
   ],
   "source": [
    "s.count(\"shehzan\")"
   ]
  },
  {
   "cell_type": "code",
   "execution_count": null,
   "id": "7259a7b3-3262-4b5a-9381-1c66dff1b3cc",
   "metadata": {},
   "outputs": [],
   "source": []
  },
  {
   "cell_type": "code",
   "execution_count": 33,
   "id": "10ee46ae-b3d3-4e68-80e9-ceec7a6ee128",
   "metadata": {},
   "outputs": [],
   "source": [
    "s = \"python\""
   ]
  },
  {
   "cell_type": "code",
   "execution_count": 34,
   "id": "06147a1f-ef14-4ec5-b310-94c1db2bfe7e",
   "metadata": {},
   "outputs": [
    {
     "data": {
      "text/plain": [
       "'python    '"
      ]
     },
     "execution_count": 34,
     "metadata": {},
     "output_type": "execute_result"
    }
   ],
   "source": [
    "s.ljust(10)"
   ]
  },
  {
   "cell_type": "code",
   "execution_count": 35,
   "id": "f6cafcbd-6cbb-4239-9684-cc69e25c67db",
   "metadata": {},
   "outputs": [
    {
     "data": {
      "text/plain": [
       "'    python'"
      ]
     },
     "execution_count": 35,
     "metadata": {},
     "output_type": "execute_result"
    }
   ],
   "source": [
    "s.rjust(10)"
   ]
  },
  {
   "cell_type": "code",
   "execution_count": 36,
   "id": "3d5ee266-c49d-42d2-8355-ed987cbd86b6",
   "metadata": {},
   "outputs": [
    {
     "data": {
      "text/plain": [
       "'  python  '"
      ]
     },
     "execution_count": 36,
     "metadata": {},
     "output_type": "execute_result"
    }
   ],
   "source": [
    "s.center(10)"
   ]
  },
  {
   "cell_type": "code",
   "execution_count": 37,
   "id": "0aa016da-1c7d-43cc-858c-9225202f35cc",
   "metadata": {},
   "outputs": [
    {
     "data": {
      "text/plain": [
       "'++python++'"
      ]
     },
     "execution_count": 37,
     "metadata": {},
     "output_type": "execute_result"
    }
   ],
   "source": [
    "s.center(10,\"+\")"
   ]
  },
  {
   "cell_type": "code",
   "execution_count": 38,
   "id": "307e4948-e2aa-4684-a648-89b329b3ffaa",
   "metadata": {},
   "outputs": [
    {
     "data": {
      "text/plain": [
       "'python^^^^^^^^^^^^^^'"
      ]
     },
     "execution_count": 38,
     "metadata": {},
     "output_type": "execute_result"
    }
   ],
   "source": [
    "s.ljust(20,\"^\")"
   ]
  },
  {
   "cell_type": "code",
   "execution_count": 40,
   "id": "1975cdd4-cd4d-470e-a31b-4f71a8b0ac1d",
   "metadata": {},
   "outputs": [
    {
     "data": {
      "text/plain": [
       "'python'"
      ]
     },
     "execution_count": 40,
     "metadata": {},
     "output_type": "execute_result"
    }
   ],
   "source": [
    "s  # s remains same only "
   ]
  },
  {
   "cell_type": "code",
   "execution_count": 41,
   "id": "8c7af483-006d-4861-9889-398301eebf9b",
   "metadata": {},
   "outputs": [],
   "source": [
    "s = \"shehzan\""
   ]
  },
  {
   "cell_type": "code",
   "execution_count": 42,
   "id": "9c0cc1d3-d5ad-44c0-a68d-19e6efb07309",
   "metadata": {},
   "outputs": [
    {
     "data": {
      "text/plain": [
       "' shehzan  '"
      ]
     },
     "execution_count": 42,
     "metadata": {},
     "output_type": "execute_result"
    }
   ],
   "source": [
    "s.center(10)"
   ]
  },
  {
   "cell_type": "code",
   "execution_count": null,
   "id": "9d03b8c1-2ed4-44bf-aacc-0e649b7bca3d",
   "metadata": {},
   "outputs": [],
   "source": []
  },
  {
   "cell_type": "code",
   "execution_count": 43,
   "id": "ec5f7fa3-b276-491d-bfd0-259b6236023a",
   "metadata": {},
   "outputs": [],
   "source": [
    "s = \"   shehzan   \""
   ]
  },
  {
   "cell_type": "code",
   "execution_count": 44,
   "id": "85152c7d-ccf4-4e2e-87ca-01a83a9d9f2d",
   "metadata": {},
   "outputs": [
    {
     "data": {
      "text/plain": [
       "'shehzan   '"
      ]
     },
     "execution_count": 44,
     "metadata": {},
     "output_type": "execute_result"
    }
   ],
   "source": [
    "s.lstrip()"
   ]
  },
  {
   "cell_type": "code",
   "execution_count": 45,
   "id": "5dc23481-4a28-4719-acee-830e9ddf5116",
   "metadata": {},
   "outputs": [
    {
     "data": {
      "text/plain": [
       "'   shehzan'"
      ]
     },
     "execution_count": 45,
     "metadata": {},
     "output_type": "execute_result"
    }
   ],
   "source": [
    "s.rstrip()"
   ]
  },
  {
   "cell_type": "code",
   "execution_count": 46,
   "id": "20c42016-baed-46b4-ae9e-467e7205db10",
   "metadata": {},
   "outputs": [
    {
     "data": {
      "text/plain": [
       "'shehzan'"
      ]
     },
     "execution_count": 46,
     "metadata": {},
     "output_type": "execute_result"
    }
   ],
   "source": [
    "s.strip()"
   ]
  },
  {
   "cell_type": "code",
   "execution_count": 47,
   "id": "98071cd9-2da4-4ec3-ad8e-805d1f00b93d",
   "metadata": {},
   "outputs": [],
   "source": [
    "s = \"   +++...aaapython\""
   ]
  },
  {
   "cell_type": "code",
   "execution_count": 48,
   "id": "62a8c7bf-0e54-4726-ad41-ceaaaef50da1",
   "metadata": {},
   "outputs": [
    {
     "data": {
      "text/plain": [
       "'+++...aaapython'"
      ]
     },
     "execution_count": 48,
     "metadata": {},
     "output_type": "execute_result"
    }
   ],
   "source": [
    "s.lstrip()"
   ]
  },
  {
   "cell_type": "code",
   "execution_count": 50,
   "id": "02a59c1e-15ae-4bbb-940f-ced98e5c343b",
   "metadata": {},
   "outputs": [
    {
     "data": {
      "text/plain": [
       "'   +++...aaapython'"
      ]
     },
     "execution_count": 50,
     "metadata": {},
     "output_type": "execute_result"
    }
   ],
   "source": [
    "s.lstrip(\".\")"
   ]
  },
  {
   "cell_type": "code",
   "execution_count": 51,
   "id": "dca7f4d7-92bf-476d-b9ef-905367879def",
   "metadata": {},
   "outputs": [
    {
     "data": {
      "text/plain": [
       "'   +++...aaapython'"
      ]
     },
     "execution_count": 51,
     "metadata": {},
     "output_type": "execute_result"
    }
   ],
   "source": [
    "s.lstrip(\"+\")"
   ]
  },
  {
   "cell_type": "code",
   "execution_count": 52,
   "id": "dd784cb5-c5a5-41a2-bbe8-b5e168337210",
   "metadata": {},
   "outputs": [
    {
     "data": {
      "text/plain": [
       "'aaapython'"
      ]
     },
     "execution_count": 52,
     "metadata": {},
     "output_type": "execute_result"
    }
   ],
   "source": [
    "s.lstrip(\" .+\")"
   ]
  },
  {
   "cell_type": "code",
   "execution_count": 53,
   "id": "c68d1673-803d-4d40-9bd8-e9a50e755491",
   "metadata": {},
   "outputs": [
    {
     "data": {
      "text/plain": [
       "'python'"
      ]
     },
     "execution_count": 53,
     "metadata": {},
     "output_type": "execute_result"
    }
   ],
   "source": [
    "s.lstrip(\" .+a\")"
   ]
  },
  {
   "cell_type": "code",
   "execution_count": null,
   "id": "48a41fa3-a758-4a41-8f14-f4b894abb839",
   "metadata": {},
   "outputs": [],
   "source": []
  },
  {
   "cell_type": "code",
   "execution_count": 54,
   "id": "387c7a77-d4df-4a7f-8c3a-71a98fe04f5d",
   "metadata": {},
   "outputs": [],
   "source": [
    "s = \"how Are YoU\""
   ]
  },
  {
   "cell_type": "code",
   "execution_count": 55,
   "id": "37aa16fd-dc1e-41de-bc96-529032b59f33",
   "metadata": {},
   "outputs": [
    {
     "data": {
      "text/plain": [
       "'How are you'"
      ]
     },
     "execution_count": 55,
     "metadata": {},
     "output_type": "execute_result"
    }
   ],
   "source": [
    "s.capitalize()"
   ]
  },
  {
   "cell_type": "code",
   "execution_count": 56,
   "id": "80880151-7c71-4e31-aa94-048b53539e07",
   "metadata": {},
   "outputs": [
    {
     "data": {
      "text/plain": [
       "'how are you'"
      ]
     },
     "execution_count": 56,
     "metadata": {},
     "output_type": "execute_result"
    }
   ],
   "source": [
    "s.lower()"
   ]
  },
  {
   "cell_type": "code",
   "execution_count": 57,
   "id": "b8a3fdc3-65f8-41d0-9844-78f95960b700",
   "metadata": {},
   "outputs": [
    {
     "data": {
      "text/plain": [
       "'HOW ARE YOU'"
      ]
     },
     "execution_count": 57,
     "metadata": {},
     "output_type": "execute_result"
    }
   ],
   "source": [
    "s.upper()"
   ]
  },
  {
   "cell_type": "code",
   "execution_count": 58,
   "id": "09720a17-99e9-4c04-8202-6b1c637fb3e8",
   "metadata": {},
   "outputs": [
    {
     "data": {
      "text/plain": [
       "'How Are You'"
      ]
     },
     "execution_count": 58,
     "metadata": {},
     "output_type": "execute_result"
    }
   ],
   "source": [
    "s.title()"
   ]
  },
  {
   "cell_type": "code",
   "execution_count": 59,
   "id": "64f36657-4945-4859-acd3-bf019e0f9c8e",
   "metadata": {},
   "outputs": [
    {
     "data": {
      "text/plain": [
       "'HOW aRE yOu'"
      ]
     },
     "execution_count": 59,
     "metadata": {},
     "output_type": "execute_result"
    }
   ],
   "source": [
    "s.swapcase()"
   ]
  },
  {
   "cell_type": "code",
   "execution_count": 60,
   "id": "771197de-89f2-4bbc-b16e-37f81f77a8c8",
   "metadata": {},
   "outputs": [
    {
     "data": {
      "text/plain": [
       "'how are you'"
      ]
     },
     "execution_count": 60,
     "metadata": {},
     "output_type": "execute_result"
    }
   ],
   "source": [
    "s.casefold()"
   ]
  },
  {
   "cell_type": "code",
   "execution_count": null,
   "id": "63189589-d259-4635-a501-c7e56223a777",
   "metadata": {},
   "outputs": [],
   "source": []
  },
  {
   "cell_type": "code",
   "execution_count": 62,
   "id": "dab180f9-2fcc-4521-9638-50e493c8eba1",
   "metadata": {},
   "outputs": [
    {
     "data": {
      "text/plain": [
       "'Buß'"
      ]
     },
     "execution_count": 62,
     "metadata": {},
     "output_type": "execute_result"
    }
   ],
   "source": [
    "s1 = \"Bu\\u00DF\"\n",
    "s1"
   ]
  },
  {
   "cell_type": "code",
   "execution_count": 64,
   "id": "807f3e3f-2245-4f5d-adca-6bd5c60d0b03",
   "metadata": {},
   "outputs": [
    {
     "data": {
      "text/plain": [
       "'buß'"
      ]
     },
     "execution_count": 64,
     "metadata": {},
     "output_type": "execute_result"
    }
   ],
   "source": [
    "s1.lower()"
   ]
  },
  {
   "cell_type": "code",
   "execution_count": 65,
   "id": "83418f40-f684-4c8f-acfc-96497323c7c0",
   "metadata": {},
   "outputs": [
    {
     "data": {
      "text/plain": [
       "'buss'"
      ]
     },
     "execution_count": 65,
     "metadata": {},
     "output_type": "execute_result"
    }
   ],
   "source": [
    "s1.casefold()"
   ]
  },
  {
   "cell_type": "code",
   "execution_count": null,
   "id": "63ad6c48-7deb-4988-832d-0e55d2fb43e3",
   "metadata": {},
   "outputs": [],
   "source": []
  },
  {
   "cell_type": "code",
   "execution_count": 66,
   "id": "56b4d7e9-9166-4b9b-ab13-67fb54dafc0e",
   "metadata": {},
   "outputs": [],
   "source": [
    "s = \"hello\""
   ]
  },
  {
   "cell_type": "code",
   "execution_count": 67,
   "id": "497a6322-53a0-482b-a7b6-386b4f4bf630",
   "metadata": {},
   "outputs": [
    {
     "data": {
      "text/plain": [
       "False"
      ]
     },
     "execution_count": 67,
     "metadata": {},
     "output_type": "execute_result"
    }
   ],
   "source": [
    "s.isupper()"
   ]
  },
  {
   "cell_type": "code",
   "execution_count": 68,
   "id": "06890ff2-d08d-4eca-bb08-ef27dc271477",
   "metadata": {},
   "outputs": [
    {
     "data": {
      "text/plain": [
       "True"
      ]
     },
     "execution_count": 68,
     "metadata": {},
     "output_type": "execute_result"
    }
   ],
   "source": [
    "s.islower()"
   ]
  },
  {
   "cell_type": "code",
   "execution_count": 69,
   "id": "5a1f20ce-aa41-43af-87e3-c9aeca68510a",
   "metadata": {},
   "outputs": [
    {
     "data": {
      "text/plain": [
       "False"
      ]
     },
     "execution_count": 69,
     "metadata": {},
     "output_type": "execute_result"
    }
   ],
   "source": [
    "s.istitle()"
   ]
  },
  {
   "cell_type": "code",
   "execution_count": 70,
   "id": "f5ce2fa5-0f47-40b6-ba4f-4b0d7e7f2e6b",
   "metadata": {},
   "outputs": [],
   "source": [
    "s= \"HELLO\""
   ]
  },
  {
   "cell_type": "code",
   "execution_count": 71,
   "id": "60942b31-650e-443b-9cc3-b00be648da2c",
   "metadata": {},
   "outputs": [
    {
     "data": {
      "text/plain": [
       "True"
      ]
     },
     "execution_count": 71,
     "metadata": {},
     "output_type": "execute_result"
    }
   ],
   "source": [
    "s.isupper()"
   ]
  },
  {
   "cell_type": "code",
   "execution_count": 72,
   "id": "b2a7ad4e-a67c-42d8-956d-0e2f525bfc04",
   "metadata": {},
   "outputs": [
    {
     "data": {
      "text/plain": [
       "False"
      ]
     },
     "execution_count": 72,
     "metadata": {},
     "output_type": "execute_result"
    }
   ],
   "source": [
    "s.islower()"
   ]
  },
  {
   "cell_type": "code",
   "execution_count": 73,
   "id": "325b8c65-284e-4b9d-9eaa-864b15569006",
   "metadata": {},
   "outputs": [
    {
     "data": {
      "text/plain": [
       "False"
      ]
     },
     "execution_count": 73,
     "metadata": {},
     "output_type": "execute_result"
    }
   ],
   "source": [
    "s.istitle()"
   ]
  },
  {
   "cell_type": "code",
   "execution_count": 74,
   "id": "2a93fa02-a63a-4ee4-a5da-72f53e4f01b3",
   "metadata": {},
   "outputs": [],
   "source": [
    "s = \"Hoe Are You\""
   ]
  },
  {
   "cell_type": "code",
   "execution_count": 75,
   "id": "cc811859-9aab-4e8b-bef3-7c2fc23e8bde",
   "metadata": {},
   "outputs": [
    {
     "data": {
      "text/plain": [
       "False"
      ]
     },
     "execution_count": 75,
     "metadata": {},
     "output_type": "execute_result"
    }
   ],
   "source": [
    "s.isupper()"
   ]
  },
  {
   "cell_type": "code",
   "execution_count": 76,
   "id": "eaf863e2-7f34-4965-9b60-4bb81a95df39",
   "metadata": {},
   "outputs": [
    {
     "data": {
      "text/plain": [
       "False"
      ]
     },
     "execution_count": 76,
     "metadata": {},
     "output_type": "execute_result"
    }
   ],
   "source": [
    "s.islower()"
   ]
  },
  {
   "cell_type": "code",
   "execution_count": 77,
   "id": "0ee76c22-8961-45fa-9256-0f730eeb6761",
   "metadata": {},
   "outputs": [
    {
     "data": {
      "text/plain": [
       "True"
      ]
     },
     "execution_count": 77,
     "metadata": {},
     "output_type": "execute_result"
    }
   ],
   "source": [
    "s.istitle()"
   ]
  },
  {
   "cell_type": "code",
   "execution_count": null,
   "id": "eb0ed479-5797-441c-836d-c81851f53a53",
   "metadata": {},
   "outputs": [],
   "source": []
  },
  {
   "cell_type": "code",
   "execution_count": 78,
   "id": "d9b6b578-a383-402d-b10e-9de5b2d394cc",
   "metadata": {},
   "outputs": [],
   "source": [
    "s = \"abc123\""
   ]
  },
  {
   "cell_type": "code",
   "execution_count": 79,
   "id": "af5737db-534d-460b-bca3-1d6d791eb168",
   "metadata": {},
   "outputs": [
    {
     "data": {
      "text/plain": [
       "True"
      ]
     },
     "execution_count": 79,
     "metadata": {},
     "output_type": "execute_result"
    }
   ],
   "source": [
    "s.isalnum()"
   ]
  },
  {
   "cell_type": "code",
   "execution_count": 81,
   "id": "4cacf5d4-8842-423b-9558-f8b80cc5816d",
   "metadata": {},
   "outputs": [
    {
     "data": {
      "text/plain": [
       "False"
      ]
     },
     "execution_count": 81,
     "metadata": {},
     "output_type": "execute_result"
    }
   ],
   "source": [
    "s.isalpha()"
   ]
  },
  {
   "cell_type": "code",
   "execution_count": 82,
   "id": "776b4834-5989-411d-bc72-d14f9ae34772",
   "metadata": {},
   "outputs": [
    {
     "data": {
      "text/plain": [
       "True"
      ]
     },
     "execution_count": 82,
     "metadata": {},
     "output_type": "execute_result"
    }
   ],
   "source": [
    "s.isascii()"
   ]
  },
  {
   "cell_type": "code",
   "execution_count": 91,
   "id": "3d48fd3a-7492-4734-b3a9-7158254cd00d",
   "metadata": {},
   "outputs": [],
   "source": [
    "s = \"shehzzn\""
   ]
  },
  {
   "cell_type": "code",
   "execution_count": 92,
   "id": "45ed10b1-6f35-4691-99dc-b269398f49e2",
   "metadata": {},
   "outputs": [
    {
     "data": {
      "text/plain": [
       "True"
      ]
     },
     "execution_count": 92,
     "metadata": {},
     "output_type": "execute_result"
    }
   ],
   "source": [
    "s.isalpha()"
   ]
  },
  {
   "cell_type": "code",
   "execution_count": 93,
   "id": "27089113-607a-4957-8bea-ebdafb68d204",
   "metadata": {},
   "outputs": [
    {
     "data": {
      "text/plain": [
       "True"
      ]
     },
     "execution_count": 93,
     "metadata": {},
     "output_type": "execute_result"
    }
   ],
   "source": [
    "s.isalnum()"
   ]
  },
  {
   "cell_type": "code",
   "execution_count": 94,
   "id": "adb714aa-19f3-4525-9f6e-1be91ce1b14c",
   "metadata": {},
   "outputs": [
    {
     "data": {
      "text/plain": [
       "False"
      ]
     },
     "execution_count": 94,
     "metadata": {},
     "output_type": "execute_result"
    }
   ],
   "source": [
    "s.isspace()"
   ]
  },
  {
   "cell_type": "code",
   "execution_count": 95,
   "id": "028adeea-7fc6-4cf1-ac64-fe8482ecb7f1",
   "metadata": {},
   "outputs": [
    {
     "data": {
      "text/plain": [
       "True"
      ]
     },
     "execution_count": 95,
     "metadata": {},
     "output_type": "execute_result"
    }
   ],
   "source": [
    "s.isascii()"
   ]
  },
  {
   "cell_type": "code",
   "execution_count": 96,
   "id": "7e66225a-e3b5-4001-8d1b-048d10890014",
   "metadata": {},
   "outputs": [],
   "source": [
    "s = \"she&^%\""
   ]
  },
  {
   "cell_type": "code",
   "execution_count": 97,
   "id": "3d77092b-e27c-4991-b6c2-e188817f9192",
   "metadata": {},
   "outputs": [
    {
     "data": {
      "text/plain": [
       "False"
      ]
     },
     "execution_count": 97,
     "metadata": {},
     "output_type": "execute_result"
    }
   ],
   "source": [
    "s.isalpha()"
   ]
  },
  {
   "cell_type": "code",
   "execution_count": 98,
   "id": "432de651-6ebe-4031-8902-c0a615193f75",
   "metadata": {},
   "outputs": [
    {
     "data": {
      "text/plain": [
       "True"
      ]
     },
     "execution_count": 98,
     "metadata": {},
     "output_type": "execute_result"
    }
   ],
   "source": [
    "s.isascii()"
   ]
  },
  {
   "cell_type": "code",
   "execution_count": 99,
   "id": "0cfb35eb-adea-4f81-bd4c-1e6e48ac1b65",
   "metadata": {},
   "outputs": [],
   "source": [
    "s = \" \""
   ]
  },
  {
   "cell_type": "code",
   "execution_count": 100,
   "id": "5d7cbadd-5ea7-4efb-83cd-42e0498f1ea5",
   "metadata": {},
   "outputs": [
    {
     "data": {
      "text/plain": [
       "True"
      ]
     },
     "execution_count": 100,
     "metadata": {},
     "output_type": "execute_result"
    }
   ],
   "source": [
    "s.isspace()"
   ]
  },
  {
   "cell_type": "code",
   "execution_count": 101,
   "id": "64c1857b-3c8f-4ec4-b082-33780ea5acd6",
   "metadata": {},
   "outputs": [
    {
     "data": {
      "text/plain": [
       "True"
      ]
     },
     "execution_count": 101,
     "metadata": {},
     "output_type": "execute_result"
    }
   ],
   "source": [
    "s.isascii()"
   ]
  },
  {
   "cell_type": "code",
   "execution_count": 105,
   "id": "c6e4a882-89ae-4870-a951-4b2a0371e210",
   "metadata": {},
   "outputs": [
    {
     "data": {
      "text/plain": [
       "'αβγ'"
      ]
     },
     "execution_count": 105,
     "metadata": {},
     "output_type": "execute_result"
    }
   ],
   "source": [
    "s = \"\\u03b1\\u03b2\\u03b3\"\n",
    "s"
   ]
  },
  {
   "cell_type": "code",
   "execution_count": 106,
   "id": "2543d685-89cf-41ad-8d2b-cd43d33123c3",
   "metadata": {},
   "outputs": [
    {
     "data": {
      "text/plain": [
       "True"
      ]
     },
     "execution_count": 106,
     "metadata": {},
     "output_type": "execute_result"
    }
   ],
   "source": [
    "s.isalpha()"
   ]
  },
  {
   "cell_type": "code",
   "execution_count": 107,
   "id": "1b7e9854-1cb7-45eb-bf98-429d7b634119",
   "metadata": {},
   "outputs": [
    {
     "data": {
      "text/plain": [
       "True"
      ]
     },
     "execution_count": 107,
     "metadata": {},
     "output_type": "execute_result"
    }
   ],
   "source": [
    "s.isalnum()"
   ]
  },
  {
   "cell_type": "code",
   "execution_count": 108,
   "id": "12974c13-154d-49ae-9aa8-f80cd4329e4f",
   "metadata": {},
   "outputs": [
    {
     "data": {
      "text/plain": [
       "False"
      ]
     },
     "execution_count": 108,
     "metadata": {},
     "output_type": "execute_result"
    }
   ],
   "source": [
    "s.isascii()"
   ]
  },
  {
   "cell_type": "code",
   "execution_count": null,
   "id": "ccf6f5e2-10ad-41ab-b91f-a1a9da054892",
   "metadata": {},
   "outputs": [],
   "source": []
  },
  {
   "cell_type": "code",
   "execution_count": 110,
   "id": "de8a36a0-2f19-47fa-9ec8-397dcb2d9225",
   "metadata": {},
   "outputs": [],
   "source": [
    "s = \"sehhzan1\"\n",
    "s1 = \"0okay\"\n",
    "s2 = \"if\""
   ]
  },
  {
   "cell_type": "code",
   "execution_count": 111,
   "id": "76e56e39-3dfb-472d-ad05-48b3f46ee58a",
   "metadata": {},
   "outputs": [
    {
     "data": {
      "text/plain": [
       "True"
      ]
     },
     "execution_count": 111,
     "metadata": {},
     "output_type": "execute_result"
    }
   ],
   "source": [
    "s.isidentifier()"
   ]
  },
  {
   "cell_type": "code",
   "execution_count": 112,
   "id": "467a0982-ae14-434c-9191-6ee0d29346ff",
   "metadata": {},
   "outputs": [
    {
     "data": {
      "text/plain": [
       "False"
      ]
     },
     "execution_count": 112,
     "metadata": {},
     "output_type": "execute_result"
    }
   ],
   "source": [
    "s1.isidentifier()"
   ]
  },
  {
   "cell_type": "code",
   "execution_count": 114,
   "id": "bbad6e0a-f2b7-4110-843d-4dc0b171b6b9",
   "metadata": {},
   "outputs": [
    {
     "data": {
      "text/plain": [
       "True"
      ]
     },
     "execution_count": 114,
     "metadata": {},
     "output_type": "execute_result"
    }
   ],
   "source": [
    "s2.isidentifier()"
   ]
  },
  {
   "cell_type": "code",
   "execution_count": 115,
   "id": "64baee71-4654-4978-a737-1c8546422808",
   "metadata": {},
   "outputs": [
    {
     "data": {
      "text/plain": [
       "True"
      ]
     },
     "execution_count": 115,
     "metadata": {},
     "output_type": "execute_result"
    }
   ],
   "source": [
    "s1.isprintable()"
   ]
  },
  {
   "cell_type": "code",
   "execution_count": 116,
   "id": "898929d7-f130-4d17-9cab-6c2c9ad24baa",
   "metadata": {},
   "outputs": [
    {
     "data": {
      "text/plain": [
       "True"
      ]
     },
     "execution_count": 116,
     "metadata": {},
     "output_type": "execute_result"
    }
   ],
   "source": [
    "s2.isprintable()"
   ]
  },
  {
   "cell_type": "code",
   "execution_count": 117,
   "id": "71ac35a0-7595-46a0-86ab-cd35f6533e88",
   "metadata": {},
   "outputs": [
    {
     "data": {
      "text/plain": [
       "'hey \\n how are you'"
      ]
     },
     "execution_count": 117,
     "metadata": {},
     "output_type": "execute_result"
    }
   ],
   "source": [
    "s3 = \"hey \\n how are you\"\n",
    "s3"
   ]
  },
  {
   "cell_type": "code",
   "execution_count": 118,
   "id": "1a5494d9-57cb-4b77-83b9-dc5c6090a314",
   "metadata": {},
   "outputs": [
    {
     "data": {
      "text/plain": [
       "False"
      ]
     },
     "execution_count": 118,
     "metadata": {},
     "output_type": "execute_result"
    }
   ],
   "source": [
    "s3.isprintable()"
   ]
  },
  {
   "cell_type": "code",
   "execution_count": 119,
   "id": "5d14a22a-9764-42dc-a2c8-2dd18ee1a509",
   "metadata": {},
   "outputs": [
    {
     "data": {
      "text/plain": [
       "'hey \\t how are you'"
      ]
     },
     "execution_count": 119,
     "metadata": {},
     "output_type": "execute_result"
    }
   ],
   "source": [
    "s4 = \"hey \\t how are you\"\n",
    "s4"
   ]
  },
  {
   "cell_type": "code",
   "execution_count": 120,
   "id": "89225e6f-4dac-4dd1-b069-f4e17f8cb8ba",
   "metadata": {},
   "outputs": [
    {
     "data": {
      "text/plain": [
       "False"
      ]
     },
     "execution_count": 120,
     "metadata": {},
     "output_type": "execute_result"
    }
   ],
   "source": [
    "s4.isprintable()"
   ]
  },
  {
   "cell_type": "code",
   "execution_count": 121,
   "id": "5b84fd4c-4afb-4561-92be-c766e96b5893",
   "metadata": {},
   "outputs": [
    {
     "data": {
      "text/plain": [
       "'αβγ'"
      ]
     },
     "execution_count": 121,
     "metadata": {},
     "output_type": "execute_result"
    }
   ],
   "source": [
    "s = \"\\u03b1\\u03b2\\u03b3\"\n",
    "s"
   ]
  },
  {
   "cell_type": "code",
   "execution_count": 122,
   "id": "1820e67e-ea26-4a47-af10-af844eff6acf",
   "metadata": {},
   "outputs": [
    {
     "data": {
      "text/plain": [
       "True"
      ]
     },
     "execution_count": 122,
     "metadata": {},
     "output_type": "execute_result"
    }
   ],
   "source": [
    "s.isprintable()"
   ]
  },
  {
   "cell_type": "code",
   "execution_count": 123,
   "id": "6a390750-ac5a-4748-bbe3-91edb0b4e04b",
   "metadata": {},
   "outputs": [
    {
     "data": {
      "text/plain": [
       "True"
      ]
     },
     "execution_count": 123,
     "metadata": {},
     "output_type": "execute_result"
    }
   ],
   "source": [
    "s.isidentifier()"
   ]
  },
  {
   "cell_type": "code",
   "execution_count": null,
   "id": "fa89feca-9ca7-4463-8f27-070114da65b8",
   "metadata": {},
   "outputs": [],
   "source": []
  },
  {
   "cell_type": "code",
   "execution_count": 124,
   "id": "803f2d13-bf30-4de1-96fc-89747aba49ed",
   "metadata": {},
   "outputs": [],
   "source": [
    "s1 = \"123\"\n",
    "s2 = \"8\\u00b2\"\n",
    "s3 = \"5\\u00bd\""
   ]
  },
  {
   "cell_type": "code",
   "execution_count": 125,
   "id": "2cfa4930-97d1-47d5-b6b1-ea19c8adb332",
   "metadata": {},
   "outputs": [
    {
     "data": {
      "text/plain": [
       "'8²'"
      ]
     },
     "execution_count": 125,
     "metadata": {},
     "output_type": "execute_result"
    }
   ],
   "source": [
    "s2"
   ]
  },
  {
   "cell_type": "code",
   "execution_count": 126,
   "id": "03c04dff-e8f0-4353-ac70-170c0fac2552",
   "metadata": {},
   "outputs": [
    {
     "data": {
      "text/plain": [
       "'5½'"
      ]
     },
     "execution_count": 126,
     "metadata": {},
     "output_type": "execute_result"
    }
   ],
   "source": [
    "s3"
   ]
  },
  {
   "cell_type": "code",
   "execution_count": 135,
   "id": "e50a9f09-3929-47be-84c2-f284027c2919",
   "metadata": {},
   "outputs": [
    {
     "data": {
      "text/plain": [
       "'٢'"
      ]
     },
     "execution_count": 135,
     "metadata": {},
     "output_type": "execute_result"
    }
   ],
   "source": [
    "s4 = \"\\u0662\" #arabic\n",
    "s4"
   ]
  },
  {
   "cell_type": "code",
   "execution_count": 136,
   "id": "9650c989-b9cb-4219-bbe6-57851faa259b",
   "metadata": {},
   "outputs": [
    {
     "name": "stdout",
     "output_type": "stream",
     "text": [
      "True True True\n"
     ]
    }
   ],
   "source": [
    "print(s1.isdecimal() , s1.isdigit() , s1.isnumeric())"
   ]
  },
  {
   "cell_type": "code",
   "execution_count": 137,
   "id": "2df7d33f-0013-4711-b799-4c1dc87462b3",
   "metadata": {},
   "outputs": [
    {
     "name": "stdout",
     "output_type": "stream",
     "text": [
      "False True True\n"
     ]
    }
   ],
   "source": [
    "print(s2.isdecimal() , s2.isdigit() , s2.isnumeric())"
   ]
  },
  {
   "cell_type": "code",
   "execution_count": 138,
   "id": "ddbeefd0-298f-4c36-ab56-83a5adb193cc",
   "metadata": {},
   "outputs": [
    {
     "name": "stdout",
     "output_type": "stream",
     "text": [
      "False False True\n"
     ]
    }
   ],
   "source": [
    "print(s3.isdecimal() , s3.isdigit() , s3.isnumeric())"
   ]
  },
  {
   "cell_type": "code",
   "execution_count": 139,
   "id": "c633e7b6-5605-49c3-9a23-207e4d9b3c7d",
   "metadata": {},
   "outputs": [
    {
     "name": "stdout",
     "output_type": "stream",
     "text": [
      "True True True\n"
     ]
    }
   ],
   "source": [
    "print(s4.isdecimal() , s4.isdigit() , s4.isnumeric())"
   ]
  },
  {
   "cell_type": "code",
   "execution_count": null,
   "id": "f7c4ec9e-0a0a-412b-9a26-bfa1693b6fb8",
   "metadata": {},
   "outputs": [],
   "source": []
  },
  {
   "cell_type": "code",
   "execution_count": 1,
   "id": "3e173f15-b4db-441e-bcfc-1c2fbd40f3cf",
   "metadata": {},
   "outputs": [
    {
     "data": {
      "text/plain": [
       "'python is very easy'"
      ]
     },
     "execution_count": 1,
     "metadata": {},
     "output_type": "execute_result"
    }
   ],
   "source": [
    "s = \"python is very easy\"\n",
    "s"
   ]
  },
  {
   "cell_type": "code",
   "execution_count": 2,
   "id": "6b6b4463-920c-4177-8c45-65a119c24ca6",
   "metadata": {},
   "outputs": [
    {
     "data": {
      "text/plain": [
       "19"
      ]
     },
     "execution_count": 2,
     "metadata": {},
     "output_type": "execute_result"
    }
   ],
   "source": [
    "len(s)"
   ]
  },
  {
   "cell_type": "code",
   "execution_count": 3,
   "id": "732b0e28-856a-460d-8d0e-910c2266c2d5",
   "metadata": {},
   "outputs": [
    {
     "data": {
      "text/plain": [
       "True"
      ]
     },
     "execution_count": 3,
     "metadata": {},
     "output_type": "execute_result"
    }
   ],
   "source": [
    "s.startswith(\"python\")"
   ]
  },
  {
   "cell_type": "code",
   "execution_count": 4,
   "id": "3d160a32-da05-42f8-bcbc-0d780cf93f5f",
   "metadata": {},
   "outputs": [
    {
     "data": {
      "text/plain": [
       "True"
      ]
     },
     "execution_count": 4,
     "metadata": {},
     "output_type": "execute_result"
    }
   ],
   "source": [
    "s.startswith(\"py\")"
   ]
  },
  {
   "cell_type": "code",
   "execution_count": 5,
   "id": "80d70922-0d42-42ff-b4b2-684bec5b35cd",
   "metadata": {},
   "outputs": [
    {
     "data": {
      "text/plain": [
       "True"
      ]
     },
     "execution_count": 5,
     "metadata": {},
     "output_type": "execute_result"
    }
   ],
   "source": [
    "s.startswith(\"is\", 7)"
   ]
  },
  {
   "cell_type": "code",
   "execution_count": 6,
   "id": "f5b0f6e2-195b-478c-81eb-7a4edace0877",
   "metadata": {},
   "outputs": [
    {
     "data": {
      "text/plain": [
       "True"
      ]
     },
     "execution_count": 6,
     "metadata": {},
     "output_type": "execute_result"
    }
   ],
   "source": [
    "s.endswith(\"easy\")"
   ]
  },
  {
   "cell_type": "code",
   "execution_count": 7,
   "id": "1d341796-8c2b-4a26-9a45-64688c2c77cb",
   "metadata": {},
   "outputs": [
    {
     "data": {
      "text/plain": [
       "True"
      ]
     },
     "execution_count": 7,
     "metadata": {},
     "output_type": "execute_result"
    }
   ],
   "source": [
    "s.endswith(\"very\", 0 , 14)"
   ]
  },
  {
   "cell_type": "code",
   "execution_count": 8,
   "id": "42ae1ede-df71-49c3-9fcd-e560c56f7872",
   "metadata": {},
   "outputs": [],
   "source": [
    "s = \"shehzan@gmail.com\""
   ]
  },
  {
   "cell_type": "code",
   "execution_count": 10,
   "id": "f4a65568-a8c0-4cc5-adb3-03e994923e39",
   "metadata": {},
   "outputs": [
    {
     "data": {
      "text/plain": [
       "True"
      ]
     },
     "execution_count": 10,
     "metadata": {},
     "output_type": "execute_result"
    }
   ],
   "source": [
    "s.endswith(\"@gmail.com\")"
   ]
  },
  {
   "cell_type": "code",
   "execution_count": null,
   "id": "15443aec-2afb-427a-9dcd-a19161919d81",
   "metadata": {},
   "outputs": [],
   "source": []
  },
  {
   "cell_type": "code",
   "execution_count": 11,
   "id": "161c70f4-d725-4e38-ba3f-324b9dba6986",
   "metadata": {},
   "outputs": [
    {
     "data": {
      "text/plain": [
       "'python programming'"
      ]
     },
     "execution_count": 11,
     "metadata": {},
     "output_type": "execute_result"
    }
   ],
   "source": [
    "s = \"python programming\"\n",
    "s"
   ]
  },
  {
   "cell_type": "code",
   "execution_count": 12,
   "id": "12bf24de-0628-412b-9f47-cf50c6e1e48f",
   "metadata": {},
   "outputs": [
    {
     "data": {
      "text/plain": [
       "'python programm'"
      ]
     },
     "execution_count": 12,
     "metadata": {},
     "output_type": "execute_result"
    }
   ],
   "source": [
    "s.removesuffix(\"ing\")"
   ]
  },
  {
   "cell_type": "code",
   "execution_count": 13,
   "id": "0343aed4-6139-4279-a469-056c1088efb6",
   "metadata": {},
   "outputs": [
    {
     "data": {
      "text/plain": [
       "'on programming'"
      ]
     },
     "execution_count": 13,
     "metadata": {},
     "output_type": "execute_result"
    }
   ],
   "source": [
    "s.removeprefix(\"pyth\")"
   ]
  },
  {
   "cell_type": "code",
   "execution_count": 14,
   "id": "8c7e5a21-c228-43c8-8e95-b1847dd40f63",
   "metadata": {},
   "outputs": [
    {
     "data": {
      "text/plain": [
       "'python programming'"
      ]
     },
     "execution_count": 14,
     "metadata": {},
     "output_type": "execute_result"
    }
   ],
   "source": [
    "s.removeprefix(\"java\")"
   ]
  },
  {
   "cell_type": "code",
   "execution_count": 15,
   "id": "521ad748-c4f2-4dcc-9fd3-5caad1cc957f",
   "metadata": {},
   "outputs": [
    {
     "name": "stdout",
     "output_type": "stream",
     "text": [
      "Help on built-in function removesuffix:\n",
      "\n",
      "removesuffix(suffix, /) method of builtins.str instance\n",
      "    Return a str with the given suffix string removed if present.\n",
      "\n",
      "    If the string ends with the suffix string and that suffix is not empty,\n",
      "    return string[:-len(suffix)]. Otherwise, return a copy of the original\n",
      "    string.\n",
      "\n"
     ]
    }
   ],
   "source": [
    "help(s.removesuffix)"
   ]
  },
  {
   "cell_type": "code",
   "execution_count": null,
   "id": "937199e0-1305-4a14-9dd8-64f75385dcd6",
   "metadata": {},
   "outputs": [],
   "source": []
  },
  {
   "cell_type": "code",
   "execution_count": 16,
   "id": "01c7fb6d-343c-4b67-9700-541a3ec42ee7",
   "metadata": {},
   "outputs": [],
   "source": [
    "s = \"python is very easy\""
   ]
  },
  {
   "cell_type": "code",
   "execution_count": 17,
   "id": "c81ebd2c-9f6a-4a5a-9ba2-f2feb6b08a91",
   "metadata": {},
   "outputs": [
    {
     "data": {
      "text/plain": [
       "('python ', 'is', ' very easy')"
      ]
     },
     "execution_count": 17,
     "metadata": {},
     "output_type": "execute_result"
    }
   ],
   "source": [
    "s.partition(\"is\")"
   ]
  },
  {
   "cell_type": "code",
   "execution_count": 18,
   "id": "46a98e72-b922-411a-a975-dfb65bc5aeba",
   "metadata": {},
   "outputs": [
    {
     "data": {
      "text/plain": [
       "('python', ' is ', 'very easy')"
      ]
     },
     "execution_count": 18,
     "metadata": {},
     "output_type": "execute_result"
    }
   ],
   "source": [
    "s.partition(\" is \")"
   ]
  },
  {
   "cell_type": "code",
   "execution_count": 19,
   "id": "874953f5-21b3-4e68-b5aa-11d6c88ba87a",
   "metadata": {},
   "outputs": [
    {
     "data": {
      "text/plain": [
       "('python i', 's', ' very easy')"
      ]
     },
     "execution_count": 19,
     "metadata": {},
     "output_type": "execute_result"
    }
   ],
   "source": [
    "s.partition(\"s\")"
   ]
  },
  {
   "cell_type": "code",
   "execution_count": 20,
   "id": "1343d730-30b3-4ea1-ab8f-61c313546105",
   "metadata": {},
   "outputs": [
    {
     "data": {
      "text/plain": [
       "('python is very easy', '', '')"
      ]
     },
     "execution_count": 20,
     "metadata": {},
     "output_type": "execute_result"
    }
   ],
   "source": [
    "s.partition(\" s \")"
   ]
  },
  {
   "cell_type": "code",
   "execution_count": 21,
   "id": "45ae0dfa-f321-4f9a-9842-62391800871b",
   "metadata": {},
   "outputs": [
    {
     "data": {
      "text/plain": [
       "('python ', 'is', ' very easy')"
      ]
     },
     "execution_count": 21,
     "metadata": {},
     "output_type": "execute_result"
    }
   ],
   "source": [
    "s.rpartition(\"is\")"
   ]
  },
  {
   "cell_type": "code",
   "execution_count": 22,
   "id": "454c780b-cab2-40d2-b7d0-eeb2bd269217",
   "metadata": {},
   "outputs": [
    {
     "data": {
      "text/plain": [
       "('python is very ea', 's', 'y')"
      ]
     },
     "execution_count": 22,
     "metadata": {},
     "output_type": "execute_result"
    }
   ],
   "source": [
    "s.rpartition(\"s\")"
   ]
  },
  {
   "cell_type": "code",
   "execution_count": 24,
   "id": "15dc618f-58e2-4fa6-980c-63f3534a33fc",
   "metadata": {},
   "outputs": [
    {
     "name": "stdout",
     "output_type": "stream",
     "text": [
      "Help on built-in function partition:\n",
      "\n",
      "partition(sep, /) method of builtins.str instance\n",
      "    Partition the string into three parts using the given separator.\n",
      "\n",
      "    This will search for the separator in the string.  If the separator is found,\n",
      "    returns a 3-tuple containing the part before the separator, the separator\n",
      "    itself, and the part after it.\n",
      "\n",
      "    If the separator is not found, returns a 3-tuple containing the original string\n",
      "    and two empty strings.\n",
      "\n"
     ]
    }
   ],
   "source": [
    "help(s.partition)"
   ]
  },
  {
   "cell_type": "code",
   "execution_count": null,
   "id": "e53f7696-71d4-4eba-9f69-6dbead40be4b",
   "metadata": {},
   "outputs": [],
   "source": []
  },
  {
   "cell_type": "code",
   "execution_count": 25,
   "id": "b4bb1e4d-b578-4e5e-a5a0-483c1e673701",
   "metadata": {},
   "outputs": [
    {
     "data": {
      "text/plain": [
       "'a-b-c-d'"
      ]
     },
     "execution_count": 25,
     "metadata": {},
     "output_type": "execute_result"
    }
   ],
   "source": [
    "s = \"a-b-c-d\"\n",
    "s"
   ]
  },
  {
   "cell_type": "code",
   "execution_count": 26,
   "id": "6bda9dda-39d7-4d98-829a-d3edd04fa813",
   "metadata": {},
   "outputs": [
    {
     "data": {
      "text/plain": [
       "'a*b*c*d'"
      ]
     },
     "execution_count": 26,
     "metadata": {},
     "output_type": "execute_result"
    }
   ],
   "source": [
    "s.replace(\"-\", \"*\")"
   ]
  },
  {
   "cell_type": "code",
   "execution_count": 28,
   "id": "d7789549-9fa7-4958-87a0-713e33506d2c",
   "metadata": {},
   "outputs": [
    {
     "data": {
      "text/plain": [
       "'a*b-c-d'"
      ]
     },
     "execution_count": 28,
     "metadata": {},
     "output_type": "execute_result"
    }
   ],
   "source": [
    "s.replace(\"-\", \"*\" , 1)"
   ]
  },
  {
   "cell_type": "code",
   "execution_count": 29,
   "id": "817d91c5-93e7-4c69-988b-ab0d49756fe1",
   "metadata": {},
   "outputs": [
    {
     "data": {
      "text/plain": [
       "'a-b-c-d'"
      ]
     },
     "execution_count": 29,
     "metadata": {},
     "output_type": "execute_result"
    }
   ],
   "source": [
    "s"
   ]
  },
  {
   "cell_type": "code",
   "execution_count": 30,
   "id": "86ebc0f2-ef65-4621-b5bb-d9728923b1a8",
   "metadata": {},
   "outputs": [
    {
     "data": {
      "text/plain": [
       "'shehzan@yahoo.com'"
      ]
     },
     "execution_count": 30,
     "metadata": {},
     "output_type": "execute_result"
    }
   ],
   "source": [
    "s = \"shehzan@gmail.com\"\n",
    "s.replace(\"gmail\" , \"yahoo\")"
   ]
  },
  {
   "cell_type": "code",
   "execution_count": null,
   "id": "df0f7435-b48c-491e-ab7f-bd85caa88d32",
   "metadata": {},
   "outputs": [],
   "source": []
  },
  {
   "cell_type": "code",
   "execution_count": 31,
   "id": "de4b8808-a0dd-40db-924b-7762f31fa8fa",
   "metadata": {},
   "outputs": [],
   "source": [
    "s1  = \"abc\"\n",
    "s2 = \"xyz\""
   ]
  },
  {
   "cell_type": "code",
   "execution_count": 32,
   "id": "7327e400-57d5-4946-af11-984c09d99c39",
   "metadata": {},
   "outputs": [
    {
     "data": {
      "text/plain": [
       "'xabcyabcz'"
      ]
     },
     "execution_count": 32,
     "metadata": {},
     "output_type": "execute_result"
    }
   ],
   "source": [
    "s1.join(s2)"
   ]
  },
  {
   "cell_type": "code",
   "execution_count": 33,
   "id": "c93a9c37-c8a6-415f-9f6e-38d7eb28535e",
   "metadata": {},
   "outputs": [],
   "source": [
    "s1 = \"/\"\n",
    "s2 = \"abc\""
   ]
  },
  {
   "cell_type": "code",
   "execution_count": 34,
   "id": "b7048a46-54aa-493e-990c-8ad03da15c4a",
   "metadata": {},
   "outputs": [
    {
     "data": {
      "text/plain": [
       "'a/b/c'"
      ]
     },
     "execution_count": 34,
     "metadata": {},
     "output_type": "execute_result"
    }
   ],
   "source": [
    "s1.join(s2)"
   ]
  },
  {
   "cell_type": "code",
   "execution_count": 36,
   "id": "c0033e5e-6fef-4172-a1c1-952ed4d3c102",
   "metadata": {},
   "outputs": [
    {
     "data": {
      "text/plain": [
       "'shehzan-john-kare'"
      ]
     },
     "execution_count": 36,
     "metadata": {},
     "output_type": "execute_result"
    }
   ],
   "source": [
    "l = [\"shehzan\" , \"john\" , \"kare\"]\n",
    "s = \"-\"\n",
    "s.join(l)"
   ]
  },
  {
   "cell_type": "code",
   "execution_count": null,
   "id": "657e02a6-b74e-4a06-b3ca-274f92ce3111",
   "metadata": {},
   "outputs": [],
   "source": []
  },
  {
   "cell_type": "code",
   "execution_count": 37,
   "id": "1fa7bf9b-d42e-477f-a113-80682ccf8b03",
   "metadata": {},
   "outputs": [],
   "source": [
    "s = \"mohammad shehzan khan\""
   ]
  },
  {
   "cell_type": "code",
   "execution_count": 38,
   "id": "81cc5bd8-fcfa-421e-a97c-db2ea2882c63",
   "metadata": {},
   "outputs": [
    {
     "data": {
      "text/plain": [
       "['mohammad', 'shehzan', 'khan']"
      ]
     },
     "execution_count": 38,
     "metadata": {},
     "output_type": "execute_result"
    }
   ],
   "source": [
    "s.split()"
   ]
  },
  {
   "cell_type": "code",
   "execution_count": 40,
   "id": "ad6b483b-1e0d-4f69-bce9-5bddf8fe95c2",
   "metadata": {},
   "outputs": [
    {
     "data": {
      "text/plain": [
       "['mohammad', 'shehzan', 'khan']"
      ]
     },
     "execution_count": 40,
     "metadata": {},
     "output_type": "execute_result"
    }
   ],
   "source": [
    "s =  \"mohammad-shehzan-khan\"\n",
    "s.split(\"-\")"
   ]
  },
  {
   "cell_type": "code",
   "execution_count": 41,
   "id": "49fe8aea-434b-4eff-afee-8410f6ab57f0",
   "metadata": {},
   "outputs": [
    {
     "data": {
      "text/plain": [
       "['mohammad', 'shehzan-khan']"
      ]
     },
     "execution_count": 41,
     "metadata": {},
     "output_type": "execute_result"
    }
   ],
   "source": [
    "s.split(\"-\" , 1)"
   ]
  },
  {
   "cell_type": "code",
   "execution_count": 42,
   "id": "2a2558be-fcb9-4d7f-8b47-331fccd206ca",
   "metadata": {},
   "outputs": [
    {
     "data": {
      "text/plain": [
       "['mohammad-shehzan', 'khan']"
      ]
     },
     "execution_count": 42,
     "metadata": {},
     "output_type": "execute_result"
    }
   ],
   "source": [
    "s.rsplit(\"-\" , 1)"
   ]
  },
  {
   "cell_type": "code",
   "execution_count": null,
   "id": "eecf7aca-c2f1-4a77-8adc-09254feb3086",
   "metadata": {},
   "outputs": [],
   "source": []
  },
  {
   "cell_type": "code",
   "execution_count": 43,
   "id": "8fe1c8cd-3a04-4f25-894c-38070f676974",
   "metadata": {},
   "outputs": [],
   "source": [
    "s = \"aaa\\nbbb\\tccc\\rddd\\feee\""
   ]
  },
  {
   "cell_type": "code",
   "execution_count": 44,
   "id": "f6a9002e-f699-4ab1-972a-05a6dfff79c4",
   "metadata": {},
   "outputs": [
    {
     "data": {
      "text/plain": [
       "'aaa\\nbbb\\tccc\\rddd\\x0ceee'"
      ]
     },
     "execution_count": 44,
     "metadata": {},
     "output_type": "execute_result"
    }
   ],
   "source": [
    "s"
   ]
  },
  {
   "cell_type": "code",
   "execution_count": 45,
   "id": "11d8470d-793a-476e-9142-ae683ed0adc7",
   "metadata": {},
   "outputs": [
    {
     "data": {
      "text/plain": [
       "['aaa', 'bbb\\tccc', 'ddd', 'eee']"
      ]
     },
     "execution_count": 45,
     "metadata": {},
     "output_type": "execute_result"
    }
   ],
   "source": [
    "s.splitlines()"
   ]
  },
  {
   "cell_type": "code",
   "execution_count": 46,
   "id": "1dc160c6-0f9a-4cf9-ab5f-656358374753",
   "metadata": {},
   "outputs": [
    {
     "data": {
      "text/plain": [
       "['aaa', 'bbb', 'ccc', 'ddd', 'eee']"
      ]
     },
     "execution_count": 46,
     "metadata": {},
     "output_type": "execute_result"
    }
   ],
   "source": [
    "s.split()"
   ]
  },
  {
   "cell_type": "code",
   "execution_count": 48,
   "id": "29a579f5-43dc-4df3-9dee-9ebbbca5d1ea",
   "metadata": {},
   "outputs": [
    {
     "data": {
      "text/plain": [
       "['aaa\\n', 'bbb\\tccc\\r', 'ddd\\x0c', 'eee']"
      ]
     },
     "execution_count": 48,
     "metadata": {},
     "output_type": "execute_result"
    }
   ],
   "source": [
    "s.splitlines(keepends = True)"
   ]
  },
  {
   "cell_type": "code",
   "execution_count": null,
   "id": "7b4d8161-19ae-431e-b2ff-4da7e51462f8",
   "metadata": {},
   "outputs": [],
   "source": []
  }
 ],
 "metadata": {
  "kernelspec": {
   "display_name": "Python 3 (ipykernel)",
   "language": "python",
   "name": "python3"
  },
  "language_info": {
   "codemirror_mode": {
    "name": "ipython",
    "version": 3
   },
   "file_extension": ".py",
   "mimetype": "text/x-python",
   "name": "python",
   "nbconvert_exporter": "python",
   "pygments_lexer": "ipython3",
   "version": "3.12.3"
  }
 },
 "nbformat": 4,
 "nbformat_minor": 5
}
