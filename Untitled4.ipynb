{
 "cells": [
  {
   "cell_type": "code",
   "execution_count": null,
   "id": "d53aaf76-57c6-495b-8de6-f7ce41a286db",
   "metadata": {},
   "outputs": [],
   "source": []
  }
 ],
 "metadata": {
  "kernelspec": {
   "display_name": "",
   "name": ""
  },
  "language_info": {
   "name": ""
  }
 },
 "nbformat": 4,
 "nbformat_minor": 5
}
