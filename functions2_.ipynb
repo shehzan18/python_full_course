{
 "cells": [
  {
   "cell_type": "code",
   "execution_count": 1,
   "id": "687f2ae1-210b-4a98-8958-cfe50c547704",
   "metadata": {},
   "outputs": [
    {
     "ename": "SyntaxError",
     "evalue": "invalid syntax (2205912627.py, line 1)",
     "output_type": "error",
     "traceback": [
      "\u001b[1;36m  Cell \u001b[1;32mIn[1], line 1\u001b[1;36m\u001b[0m\n\u001b[1;33m    https://docs.python.org/3/library/functions.html\u001b[0m\n\u001b[1;37m          ^\u001b[0m\n\u001b[1;31mSyntaxError\u001b[0m\u001b[1;31m:\u001b[0m invalid syntax\n"
     ]
    }
   ],
   "source": [
    "https://docs.python.org/3/library/functions.html  # for python built in functions"
   ]
  },
  {
   "cell_type": "code",
   "execution_count": null,
   "id": "9ab4814a-bf7a-4dec-b794-b979534d32fa",
   "metadata": {},
   "outputs": [],
   "source": []
  },
  {
   "cell_type": "code",
   "execution_count": 1,
   "id": "6359919b-50ec-4fd4-9f35-1a4ff48a5b78",
   "metadata": {},
   "outputs": [
    {
     "data": {
      "text/plain": [
       "14"
      ]
     },
     "execution_count": 1,
     "metadata": {},
     "output_type": "execute_result"
    }
   ],
   "source": [
    "abs(-14)"
   ]
  },
  {
   "cell_type": "code",
   "execution_count": 2,
   "id": "86574c5f-b557-41bd-abad-61134ca6d7b4",
   "metadata": {},
   "outputs": [
    {
     "data": {
      "text/plain": [
       "5.0"
      ]
     },
     "execution_count": 2,
     "metadata": {},
     "output_type": "execute_result"
    }
   ],
   "source": [
    "abs(3+4j)"
   ]
  },
  {
   "cell_type": "code",
   "execution_count": null,
   "id": "3891d244-4f3b-46e0-b734-90b83f160221",
   "metadata": {},
   "outputs": [],
   "source": []
  },
  {
   "cell_type": "code",
   "execution_count": 3,
   "id": "5a1c026e-67bc-4f8a-9480-552349dabc89",
   "metadata": {},
   "outputs": [
    {
     "data": {
      "text/plain": [
       "\"'a'\""
      ]
     },
     "execution_count": 3,
     "metadata": {},
     "output_type": "execute_result"
    }
   ],
   "source": [
    "ascii('a')"
   ]
  },
  {
   "cell_type": "code",
   "execution_count": 5,
   "id": "397b018f-f083-4bf1-a237-7656ee5b4fc8",
   "metadata": {},
   "outputs": [
    {
     "data": {
      "text/plain": [
       "'0'"
      ]
     },
     "execution_count": 5,
     "metadata": {},
     "output_type": "execute_result"
    }
   ],
   "source": [
    "ascii(0)"
   ]
  },
  {
   "cell_type": "code",
   "execution_count": 6,
   "id": "f4f07ac3-669d-44c2-ae61-6fe2c1e4348b",
   "metadata": {},
   "outputs": [
    {
     "data": {
      "text/plain": [
       "0"
      ]
     },
     "execution_count": 6,
     "metadata": {},
     "output_type": "execute_result"
    }
   ],
   "source": [
    "int(ascii(0))"
   ]
  },
  {
   "cell_type": "code",
   "execution_count": null,
   "id": "f3cdc06f-2fa9-42d2-adb7-58882ea657a9",
   "metadata": {},
   "outputs": [],
   "source": []
  },
  {
   "cell_type": "code",
   "execution_count": 8,
   "id": "88436cb9-b647-4168-a386-d650abe6731e",
   "metadata": {},
   "outputs": [
    {
     "data": {
      "text/plain": [
       "'0b1010'"
      ]
     },
     "execution_count": 8,
     "metadata": {},
     "output_type": "execute_result"
    }
   ],
   "source": [
    "bin(10)"
   ]
  },
  {
   "cell_type": "code",
   "execution_count": 10,
   "id": "9a8ce25b-2eb9-4d33-8164-39875622d442",
   "metadata": {},
   "outputs": [
    {
     "data": {
      "text/plain": [
       "'0b1100100'"
      ]
     },
     "execution_count": 10,
     "metadata": {},
     "output_type": "execute_result"
    }
   ],
   "source": [
    "bin(100)"
   ]
  },
  {
   "cell_type": "code",
   "execution_count": null,
   "id": "aa403a6f-ac64-4da2-8cf3-e9c6a0120d6f",
   "metadata": {},
   "outputs": [],
   "source": []
  },
  {
   "cell_type": "code",
   "execution_count": 11,
   "id": "ec4cf378-3f8d-4922-b669-899899b6f4cb",
   "metadata": {},
   "outputs": [
    {
     "data": {
      "text/plain": [
       "False"
      ]
     },
     "execution_count": 11,
     "metadata": {},
     "output_type": "execute_result"
    }
   ],
   "source": [
    "bool(0)"
   ]
  },
  {
   "cell_type": "code",
   "execution_count": 12,
   "id": "498b88e9-8135-4cae-8f02-8489e526a0e8",
   "metadata": {},
   "outputs": [
    {
     "data": {
      "text/plain": [
       "False"
      ]
     },
     "execution_count": 12,
     "metadata": {},
     "output_type": "execute_result"
    }
   ],
   "source": [
    "bool(\"\")"
   ]
  },
  {
   "cell_type": "code",
   "execution_count": 13,
   "id": "9d10f637-2b7a-4d7d-846d-888b43a93cd2",
   "metadata": {},
   "outputs": [
    {
     "data": {
      "text/plain": [
       "True"
      ]
     },
     "execution_count": 13,
     "metadata": {},
     "output_type": "execute_result"
    }
   ],
   "source": [
    "bool(1)"
   ]
  },
  {
   "cell_type": "code",
   "execution_count": null,
   "id": "18fb05eb-cc44-4bd8-859f-9dce5ae01419",
   "metadata": {},
   "outputs": [],
   "source": []
  },
  {
   "cell_type": "code",
   "execution_count": 15,
   "id": "b66c3f74-27db-44e0-900d-8212f9293058",
   "metadata": {},
   "outputs": [
    {
     "data": {
      "text/plain": [
       "bytearray(b'\\x00\\x00\\x00\\x00\\x00')"
      ]
     },
     "execution_count": 15,
     "metadata": {},
     "output_type": "execute_result"
    }
   ],
   "source": [
    "ba = bytearray(5)\n",
    "ba"
   ]
  },
  {
   "cell_type": "code",
   "execution_count": 17,
   "id": "9534b109-57bf-49d1-9635-a5bfdc360b07",
   "metadata": {},
   "outputs": [
    {
     "data": {
      "text/plain": [
       "bytearray(b'abcde')"
      ]
     },
     "execution_count": 17,
     "metadata": {},
     "output_type": "execute_result"
    }
   ],
   "source": [
    "ba = bytearray(\"abcde\".encode())\n",
    "ba"
   ]
  },
  {
   "cell_type": "code",
   "execution_count": 19,
   "id": "41f4c57c-5dcb-47b2-bb10-4e4e647bb8ab",
   "metadata": {},
   "outputs": [
    {
     "name": "stdout",
     "output_type": "stream",
     "text": [
      "97\n",
      "98\n",
      "99\n",
      "100\n",
      "101\n"
     ]
    }
   ],
   "source": [
    "for i in ba:\n",
    "    print(i)"
   ]
  },
  {
   "cell_type": "code",
   "execution_count": null,
   "id": "35569131-0bb6-43c0-8f39-15851b7fad7d",
   "metadata": {},
   "outputs": [],
   "source": []
  },
  {
   "cell_type": "code",
   "execution_count": 21,
   "id": "1b51dd53-7ddc-490a-9b5d-da0d5047d91f",
   "metadata": {},
   "outputs": [],
   "source": [
    "n = 10\n",
    "sum = 0\n",
    "def add(x,y):\n",
    "    return x+y\n",
    "\n"
   ]
  },
  {
   "cell_type": "code",
   "execution_count": 22,
   "id": "4b209024-96dc-4211-a4d1-0b2efcc85f52",
   "metadata": {},
   "outputs": [
    {
     "data": {
      "text/plain": [
       "False"
      ]
     },
     "execution_count": 22,
     "metadata": {},
     "output_type": "execute_result"
    }
   ],
   "source": [
    "callable(n)"
   ]
  },
  {
   "cell_type": "code",
   "execution_count": 23,
   "id": "42e19157-c24c-4c90-9acc-e1b1b56aa51e",
   "metadata": {},
   "outputs": [
    {
     "data": {
      "text/plain": [
       "True"
      ]
     },
     "execution_count": 23,
     "metadata": {},
     "output_type": "execute_result"
    }
   ],
   "source": [
    "callable(add)"
   ]
  },
  {
   "cell_type": "code",
   "execution_count": null,
   "id": "a6945f85-406f-4496-8449-08215358535e",
   "metadata": {},
   "outputs": [],
   "source": []
  },
  {
   "cell_type": "code",
   "execution_count": 24,
   "id": "2b62b0b3-8772-4226-ad0a-0c20cc30a078",
   "metadata": {},
   "outputs": [
    {
     "data": {
      "text/plain": [
       "'A'"
      ]
     },
     "execution_count": 24,
     "metadata": {},
     "output_type": "execute_result"
    }
   ],
   "source": [
    "chr(65)"
   ]
  },
  {
   "cell_type": "code",
   "execution_count": 25,
   "id": "270a7f75-d4d0-4824-85bb-4b28fbd3e0df",
   "metadata": {},
   "outputs": [
    {
     "data": {
      "text/plain": [
       "'a'"
      ]
     },
     "execution_count": 25,
     "metadata": {},
     "output_type": "execute_result"
    }
   ],
   "source": [
    "chr(97)"
   ]
  },
  {
   "cell_type": "code",
   "execution_count": 26,
   "id": "f2caa580-c557-48b3-97be-0768bfe7b52a",
   "metadata": {},
   "outputs": [
    {
     "data": {
      "text/plain": [
       "'0'"
      ]
     },
     "execution_count": 26,
     "metadata": {},
     "output_type": "execute_result"
    }
   ],
   "source": [
    "chr(48)"
   ]
  },
  {
   "cell_type": "code",
   "execution_count": 27,
   "id": "d7865512-fa19-43ab-995f-4b00d298a008",
   "metadata": {},
   "outputs": [
    {
     "data": {
      "text/plain": [
       "65"
      ]
     },
     "execution_count": 27,
     "metadata": {},
     "output_type": "execute_result"
    }
   ],
   "source": [
    "ord(\"A\")"
   ]
  },
  {
   "cell_type": "code",
   "execution_count": 29,
   "id": "cf51352f-2971-48f7-b69b-03927818eb0c",
   "metadata": {},
   "outputs": [
    {
     "data": {
      "text/plain": [
       "48"
      ]
     },
     "execution_count": 29,
     "metadata": {},
     "output_type": "execute_result"
    }
   ],
   "source": [
    "ord(\"0\")"
   ]
  },
  {
   "cell_type": "code",
   "execution_count": null,
   "id": "dfd32486-35ad-4065-9353-d267587ef515",
   "metadata": {},
   "outputs": [],
   "source": []
  },
  {
   "cell_type": "code",
   "execution_count": 30,
   "id": "86520ad2-f545-49f8-8c3b-fbdf3096aef7",
   "metadata": {},
   "outputs": [
    {
     "data": {
      "text/plain": [
       "['__add__',\n",
       " '__class__',\n",
       " '__contains__',\n",
       " '__delattr__',\n",
       " '__dir__',\n",
       " '__doc__',\n",
       " '__eq__',\n",
       " '__format__',\n",
       " '__ge__',\n",
       " '__getattribute__',\n",
       " '__getitem__',\n",
       " '__getnewargs__',\n",
       " '__getstate__',\n",
       " '__gt__',\n",
       " '__hash__',\n",
       " '__init__',\n",
       " '__init_subclass__',\n",
       " '__iter__',\n",
       " '__le__',\n",
       " '__len__',\n",
       " '__lt__',\n",
       " '__mod__',\n",
       " '__mul__',\n",
       " '__ne__',\n",
       " '__new__',\n",
       " '__reduce__',\n",
       " '__reduce_ex__',\n",
       " '__repr__',\n",
       " '__rmod__',\n",
       " '__rmul__',\n",
       " '__setattr__',\n",
       " '__sizeof__',\n",
       " '__str__',\n",
       " '__subclasshook__',\n",
       " 'capitalize',\n",
       " 'casefold',\n",
       " 'center',\n",
       " 'count',\n",
       " 'encode',\n",
       " 'endswith',\n",
       " 'expandtabs',\n",
       " 'find',\n",
       " 'format',\n",
       " 'format_map',\n",
       " 'index',\n",
       " 'isalnum',\n",
       " 'isalpha',\n",
       " 'isascii',\n",
       " 'isdecimal',\n",
       " 'isdigit',\n",
       " 'isidentifier',\n",
       " 'islower',\n",
       " 'isnumeric',\n",
       " 'isprintable',\n",
       " 'isspace',\n",
       " 'istitle',\n",
       " 'isupper',\n",
       " 'join',\n",
       " 'ljust',\n",
       " 'lower',\n",
       " 'lstrip',\n",
       " 'maketrans',\n",
       " 'partition',\n",
       " 'removeprefix',\n",
       " 'removesuffix',\n",
       " 'replace',\n",
       " 'rfind',\n",
       " 'rindex',\n",
       " 'rjust',\n",
       " 'rpartition',\n",
       " 'rsplit',\n",
       " 'rstrip',\n",
       " 'split',\n",
       " 'splitlines',\n",
       " 'startswith',\n",
       " 'strip',\n",
       " 'swapcase',\n",
       " 'title',\n",
       " 'translate',\n",
       " 'upper',\n",
       " 'zfill']"
      ]
     },
     "execution_count": 30,
     "metadata": {},
     "output_type": "execute_result"
    }
   ],
   "source": [
    "dir(str)"
   ]
  },
  {
   "cell_type": "code",
   "execution_count": null,
   "id": "251175f9-3034-4839-9d27-42007d011693",
   "metadata": {},
   "outputs": [],
   "source": []
  },
  {
   "cell_type": "code",
   "execution_count": 31,
   "id": "75c02bf2-5f07-42ca-8525-c6e4d24403f8",
   "metadata": {},
   "outputs": [
    {
     "data": {
      "text/plain": [
       "(4, 0)"
      ]
     },
     "execution_count": 31,
     "metadata": {},
     "output_type": "execute_result"
    }
   ],
   "source": [
    "divmod(12,3)"
   ]
  },
  {
   "cell_type": "code",
   "execution_count": 32,
   "id": "70eda82a-db22-4ddb-a419-e972644768dd",
   "metadata": {},
   "outputs": [
    {
     "data": {
      "text/plain": [
       "(1.0, 1.5)"
      ]
     },
     "execution_count": 32,
     "metadata": {},
     "output_type": "execute_result"
    }
   ],
   "source": [
    "divmod(4.5 , 3)"
   ]
  },
  {
   "cell_type": "code",
   "execution_count": 33,
   "id": "ebf9d213-d20f-4cd3-8578-1edae75cea75",
   "metadata": {},
   "outputs": [],
   "source": [
    "a , b = divmod(5,2)"
   ]
  },
  {
   "cell_type": "code",
   "execution_count": 34,
   "id": "5ff34487-786c-4c03-9de0-1db29617e91e",
   "metadata": {},
   "outputs": [
    {
     "name": "stdout",
     "output_type": "stream",
     "text": [
      "2 1\n"
     ]
    }
   ],
   "source": [
    "print(a,b)"
   ]
  },
  {
   "cell_type": "code",
   "execution_count": null,
   "id": "a7f9dcb0-ca1d-4d62-90ca-1125e626da6c",
   "metadata": {},
   "outputs": [],
   "source": []
  },
  {
   "cell_type": "code",
   "execution_count": 36,
   "id": "43b125a3-3d1d-45e5-bfbf-111d6dc86dc0",
   "metadata": {},
   "outputs": [
    {
     "data": {
      "text/plain": [
       "<enumerate at 0x20436941d00>"
      ]
     },
     "execution_count": 36,
     "metadata": {},
     "output_type": "execute_result"
    }
   ],
   "source": [
    "l = [6,7,8,9]\n",
    "enumerate(l)\n"
   ]
  },
  {
   "cell_type": "code",
   "execution_count": 40,
   "id": "172e2411-ba75-455d-a775-ebd390c8fe0c",
   "metadata": {},
   "outputs": [
    {
     "name": "stdout",
     "output_type": "stream",
     "text": [
      "(0, 6)\n",
      "(1, 7)\n",
      "(2, 8)\n",
      "(3, 9)\n"
     ]
    }
   ],
   "source": [
    "for i in enumerate(l):\n",
    "    print(i)"
   ]
  },
  {
   "cell_type": "code",
   "execution_count": 42,
   "id": "d82da40a-1d2b-47b0-bdb8-18a2ca9ec673",
   "metadata": {},
   "outputs": [
    {
     "name": "stdout",
     "output_type": "stream",
     "text": [
      "(0, 's')\n",
      "(1, 'h')\n",
      "(2, 'e')\n",
      "(3, 'h')\n",
      "(4, 'z')\n",
      "(5, 'a')\n",
      "(6, 'n')\n"
     ]
    }
   ],
   "source": [
    "s = \"shehzan\"\n",
    "for i in enumerate(s):\n",
    "    print(i)"
   ]
  },
  {
   "cell_type": "code",
   "execution_count": null,
   "id": "e66fc318-852f-433a-988f-4b85ea53281e",
   "metadata": {},
   "outputs": [],
   "source": []
  },
  {
   "cell_type": "code",
   "execution_count": 43,
   "id": "bac2802e-6ad3-4bf3-8866-16ca9c546c0f",
   "metadata": {},
   "outputs": [
    {
     "data": {
      "text/plain": [
       "6"
      ]
     },
     "execution_count": 43,
     "metadata": {},
     "output_type": "execute_result"
    }
   ],
   "source": [
    "eval(\"2**2 +2\")"
   ]
  },
  {
   "cell_type": "code",
   "execution_count": 45,
   "id": "da9a3dbc-248d-4b91-a2c7-f1e221cc5bf1",
   "metadata": {},
   "outputs": [
    {
     "data": {
      "text/plain": [
       "-8.666666666666668"
      ]
     },
     "execution_count": 45,
     "metadata": {},
     "output_type": "execute_result"
    }
   ],
   "source": [
    "eval(\"2/3*5-6*2\")"
   ]
  },
  {
   "cell_type": "code",
   "execution_count": null,
   "id": "091aa2fa-e71b-4554-a503-82a0ed597aa7",
   "metadata": {},
   "outputs": [],
   "source": []
  },
  {
   "cell_type": "code",
   "execution_count": 46,
   "id": "73cc244b-431f-457d-9883-915efd2d456f",
   "metadata": {},
   "outputs": [],
   "source": [
    "s = \"x=10\\ny=20\\nprint(x+y)\""
   ]
  },
  {
   "cell_type": "code",
   "execution_count": 47,
   "id": "1f17db6f-1bf7-4adc-b51c-de69c66c7848",
   "metadata": {},
   "outputs": [
    {
     "name": "stdout",
     "output_type": "stream",
     "text": [
      "30\n"
     ]
    }
   ],
   "source": [
    "exec(s)"
   ]
  },
  {
   "cell_type": "code",
   "execution_count": 48,
   "id": "d64b9c5b-2939-4b86-a115-b78c73b89738",
   "metadata": {},
   "outputs": [
    {
     "data": {
      "text/plain": [
       "10"
      ]
     },
     "execution_count": 48,
     "metadata": {},
     "output_type": "execute_result"
    }
   ],
   "source": [
    "x"
   ]
  },
  {
   "cell_type": "code",
   "execution_count": null,
   "id": "da8d73f6-1be2-4447-9f41-56c897cd868e",
   "metadata": {},
   "outputs": [],
   "source": []
  }
 ],
 "metadata": {
  "kernelspec": {
   "display_name": "Python 3 (ipykernel)",
   "language": "python",
   "name": "python3"
  },
  "language_info": {
   "codemirror_mode": {
    "name": "ipython",
    "version": 3
   },
   "file_extension": ".py",
   "mimetype": "text/x-python",
   "name": "python",
   "nbconvert_exporter": "python",
   "pygments_lexer": "ipython3",
   "version": "3.12.3"
  }
 },
 "nbformat": 4,
 "nbformat_minor": 5
}
