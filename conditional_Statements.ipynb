{
 "cells": [
  {
   "cell_type": "code",
   "execution_count": 8,
   "id": "008d9afe-38c0-44c3-a113-369118a5e3ff",
   "metadata": {},
   "outputs": [
    {
     "name": "stdin",
     "output_type": "stream",
     "text": [
      "enter year 1600\n"
     ]
    },
    {
     "name": "stdout",
     "output_type": "stream",
     "text": [
      "leap\n"
     ]
    }
   ],
   "source": [
    "year = int(input(\"enter year\"))\n",
    "if (year % 400 == 0):\n",
    "    print(\"leap\")\n",
    "elif (year%100 != 0 and year% 4 == 0):\n",
    "    print(\"leap\")\n",
    "else:\n",
    "    print(\"not leap\")"
   ]
  },
  {
   "cell_type": "markdown",
   "id": "c6c8ab45-9f0e-4ac9-aa8e-04edd82c22e2",
   "metadata": {},
   "source": [
    "# relational operator\n"
   ]
  },
  {
   "cell_type": "code",
   "execution_count": 10,
   "id": "dd240a51-38ba-4e94-baf4-8f6de3b9f445",
   "metadata": {},
   "outputs": [],
   "source": [
    "s1 = \"america\"\n",
    "s2 = \"brazil\"\n",
    "s3 = \"America\"\n",
    "\n"
   ]
  },
  {
   "cell_type": "code",
   "execution_count": 11,
   "id": "cf06e678-5684-4e06-8edb-13500a9c6ae9",
   "metadata": {},
   "outputs": [
    {
     "data": {
      "text/plain": [
       "False"
      ]
     },
     "execution_count": 11,
     "metadata": {},
     "output_type": "execute_result"
    }
   ],
   "source": [
    "s1>s2"
   ]
  },
  {
   "cell_type": "code",
   "execution_count": 12,
   "id": "bc71f40b-76e8-40a0-bfce-6f858e3e0f8f",
   "metadata": {},
   "outputs": [
    {
     "data": {
      "text/plain": [
       "False"
      ]
     },
     "execution_count": 12,
     "metadata": {},
     "output_type": "execute_result"
    }
   ],
   "source": [
    "s1==s2"
   ]
  },
  {
   "cell_type": "code",
   "execution_count": 13,
   "id": "93188cb4-721e-4b30-9e74-8e4cf7ba12c5",
   "metadata": {},
   "outputs": [
    {
     "data": {
      "text/plain": [
       "True"
      ]
     },
     "execution_count": 13,
     "metadata": {},
     "output_type": "execute_result"
    }
   ],
   "source": [
    "s1==s1"
   ]
  },
  {
   "cell_type": "code",
   "execution_count": 14,
   "id": "ca799197-7626-4e83-8c2b-5b2753c26850",
   "metadata": {},
   "outputs": [
    {
     "data": {
      "text/plain": [
       "True"
      ]
     },
     "execution_count": 14,
     "metadata": {},
     "output_type": "execute_result"
    }
   ],
   "source": [
    "s1!=s2"
   ]
  },
  {
   "cell_type": "code",
   "execution_count": 15,
   "id": "dd2fe63e-5df2-40cd-83e0-a707b4e03226",
   "metadata": {},
   "outputs": [
    {
     "data": {
      "text/plain": [
       "False"
      ]
     },
     "execution_count": 15,
     "metadata": {},
     "output_type": "execute_result"
    }
   ],
   "source": [
    "s1==s3"
   ]
  },
  {
   "cell_type": "code",
   "execution_count": 16,
   "id": "c70211ea-ef3e-4d36-b926-48d4d156cdd9",
   "metadata": {},
   "outputs": [
    {
     "data": {
      "text/plain": [
       "True"
      ]
     },
     "execution_count": 16,
     "metadata": {},
     "output_type": "execute_result"
    }
   ],
   "source": [
    "s1>s3"
   ]
  },
  {
   "cell_type": "markdown",
   "id": "f290ab44-eb03-4a38-8deb-96d0a2a8362f",
   "metadata": {},
   "source": [
    "# and "
   ]
  },
  {
   "cell_type": "code",
   "execution_count": 17,
   "id": "d9e0228d-25af-41fd-b768-497ab14f95ca",
   "metadata": {},
   "outputs": [
    {
     "data": {
      "text/plain": [
       "5"
      ]
     },
     "execution_count": 17,
     "metadata": {},
     "output_type": "execute_result"
    }
   ],
   "source": [
    "4 and 5"
   ]
  },
  {
   "cell_type": "code",
   "execution_count": 18,
   "id": "25a244eb-f339-4086-9fa9-70624d42650a",
   "metadata": {},
   "outputs": [
    {
     "data": {
      "text/plain": [
       "3"
      ]
     },
     "execution_count": 18,
     "metadata": {},
     "output_type": "execute_result"
    }
   ],
   "source": [
    "2 and 3"
   ]
  },
  {
   "cell_type": "code",
   "execution_count": 19,
   "id": "dc15ad43-6e59-40a5-8d1d-492059d20ca1",
   "metadata": {},
   "outputs": [
    {
     "data": {
      "text/plain": [
       "0"
      ]
     },
     "execution_count": 19,
     "metadata": {},
     "output_type": "execute_result"
    }
   ],
   "source": [
    "0 and 13"
   ]
  },
  {
   "cell_type": "code",
   "execution_count": 20,
   "id": "fb71a204-78f5-428a-93aa-583f6c0b9b0b",
   "metadata": {},
   "outputs": [
    {
     "data": {
      "text/plain": [
       "'shehzan'"
      ]
     },
     "execution_count": 20,
     "metadata": {},
     "output_type": "execute_result"
    }
   ],
   "source": [
    "\" \" and \"shehzan\""
   ]
  },
  {
   "cell_type": "code",
   "execution_count": 21,
   "id": "27acb847-c5da-45cc-9aa8-0d84de514efc",
   "metadata": {},
   "outputs": [
    {
     "data": {
      "text/plain": [
       "''"
      ]
     },
     "execution_count": 21,
     "metadata": {},
     "output_type": "execute_result"
    }
   ],
   "source": [
    "\"\" and \"shehzan\""
   ]
  },
  {
   "cell_type": "code",
   "execution_count": 22,
   "id": "d4c85739-ab8d-46ae-8add-967f257b9a10",
   "metadata": {},
   "outputs": [
    {
     "data": {
      "text/plain": [
       "0j"
      ]
     },
     "execution_count": 22,
     "metadata": {},
     "output_type": "execute_result"
    }
   ],
   "source": [
    "0+0j and 0+9j"
   ]
  },
  {
   "cell_type": "code",
   "execution_count": 23,
   "id": "f0c18598-f8d3-4179-aca1-d9f1193320ba",
   "metadata": {},
   "outputs": [
    {
     "data": {
      "text/plain": [
       "0.4"
      ]
     },
     "execution_count": 23,
     "metadata": {},
     "output_type": "execute_result"
    }
   ],
   "source": [
    "0.3 and 0.4"
   ]
  },
  {
   "cell_type": "code",
   "execution_count": 24,
   "id": "10614150-f9d0-4076-b10e-0a7e71bc2c68",
   "metadata": {},
   "outputs": [
    {
     "data": {
      "text/plain": [
       "0.0"
      ]
     },
     "execution_count": 24,
     "metadata": {},
     "output_type": "execute_result"
    }
   ],
   "source": [
    "0.0 and 9.0"
   ]
  },
  {
   "cell_type": "code",
   "execution_count": 25,
   "id": "018064ac-868f-4d81-9245-3a1458d4670b",
   "metadata": {},
   "outputs": [
    {
     "data": {
      "text/plain": [
       "'bye'"
      ]
     },
     "execution_count": 25,
     "metadata": {},
     "output_type": "execute_result"
    }
   ],
   "source": [
    "\"hi\" and \"bye\""
   ]
  },
  {
   "cell_type": "markdown",
   "id": "2d6b3167-1831-4eaf-be14-801d92b562d8",
   "metadata": {},
   "source": [
    "# or"
   ]
  },
  {
   "cell_type": "code",
   "execution_count": 26,
   "id": "b6648e58-ca4f-40ad-b16c-e8e4ac279382",
   "metadata": {},
   "outputs": [
    {
     "data": {
      "text/plain": [
       "9"
      ]
     },
     "execution_count": 26,
     "metadata": {},
     "output_type": "execute_result"
    }
   ],
   "source": [
    "9 or 8"
   ]
  },
  {
   "cell_type": "code",
   "execution_count": 27,
   "id": "969b1ff1-ecad-4f34-b26d-ff18d416a4a3",
   "metadata": {},
   "outputs": [
    {
     "data": {
      "text/plain": [
       "9"
      ]
     },
     "execution_count": 27,
     "metadata": {},
     "output_type": "execute_result"
    }
   ],
   "source": [
    "0 or 9"
   ]
  },
  {
   "cell_type": "code",
   "execution_count": 28,
   "id": "992e618d-0afd-41d0-9035-85bb5815f999",
   "metadata": {},
   "outputs": [
    {
     "data": {
      "text/plain": [
       "'hi'"
      ]
     },
     "execution_count": 28,
     "metadata": {},
     "output_type": "execute_result"
    }
   ],
   "source": [
    "\"\" or \"hi\""
   ]
  },
  {
   "cell_type": "code",
   "execution_count": 29,
   "id": "d4349cab-4c88-424b-be3c-58200db71eef",
   "metadata": {},
   "outputs": [
    {
     "data": {
      "text/plain": [
       "(9+9j)"
      ]
     },
     "execution_count": 29,
     "metadata": {},
     "output_type": "execute_result"
    }
   ],
   "source": [
    "0+0j or 9+9j"
   ]
  },
  {
   "cell_type": "markdown",
   "id": "3f46ed1f-a5d0-472f-848a-528fbdbe8699",
   "metadata": {},
   "source": [
    "# bitwise operator"
   ]
  },
  {
   "cell_type": "code",
   "execution_count": 30,
   "id": "49fbcf61-7dde-4708-b4f0-58481ffa00da",
   "metadata": {},
   "outputs": [],
   "source": [
    "a = 10\n"
   ]
  },
  {
   "cell_type": "code",
   "execution_count": 37,
   "id": "2a1dd743-47d8-46f3-9fa0-f987a25e9ed0",
   "metadata": {},
   "outputs": [
    {
     "data": {
      "text/plain": [
       "'0b101'"
      ]
     },
     "execution_count": 37,
     "metadata": {},
     "output_type": "execute_result"
    }
   ],
   "source": [
    "bin(a)"
   ]
  },
  {
   "cell_type": "code",
   "execution_count": 39,
   "id": "909b3a07-101f-4130-a600-2b91094b2032",
   "metadata": {},
   "outputs": [
    {
     "data": {
      "text/plain": [
       "'101'"
      ]
     },
     "execution_count": 39,
     "metadata": {},
     "output_type": "execute_result"
    }
   ],
   "source": [
    "format(a,\"b\")"
   ]
  },
  {
   "cell_type": "code",
   "execution_count": 40,
   "id": "2a305351-265d-4b7c-adfe-205a1fc6966c",
   "metadata": {},
   "outputs": [],
   "source": [
    "a = 10\n",
    "b = 13"
   ]
  },
  {
   "cell_type": "code",
   "execution_count": 44,
   "id": "28a2bf7a-11e5-4b30-adfb-a1c614c8b3d8",
   "metadata": {},
   "outputs": [
    {
     "name": "stdout",
     "output_type": "stream",
     "text": [
      "1010 1101\n"
     ]
    }
   ],
   "source": [
    "print(format(a,\"b\") , format(b,\"b\"))"
   ]
  },
  {
   "cell_type": "code",
   "execution_count": 45,
   "id": "ae7f4efd-1ebd-47e5-9097-7cf663ea6d8a",
   "metadata": {},
   "outputs": [
    {
     "data": {
      "text/plain": [
       "8"
      ]
     },
     "execution_count": 45,
     "metadata": {},
     "output_type": "execute_result"
    }
   ],
   "source": [
    "a & b"
   ]
  },
  {
   "cell_type": "code",
   "execution_count": 48,
   "id": "9f5304a9-3ed3-4507-b7af-a4cc735ec896",
   "metadata": {},
   "outputs": [
    {
     "data": {
      "text/plain": [
       "'0b1000'"
      ]
     },
     "execution_count": 48,
     "metadata": {},
     "output_type": "execute_result"
    }
   ],
   "source": [
    "bin(a&b)"
   ]
  },
  {
   "cell_type": "code",
   "execution_count": 46,
   "id": "caf489d5-232f-41d6-879d-d99572d00d16",
   "metadata": {},
   "outputs": [
    {
     "data": {
      "text/plain": [
       "15"
      ]
     },
     "execution_count": 46,
     "metadata": {},
     "output_type": "execute_result"
    }
   ],
   "source": [
    "a | b"
   ]
  },
  {
   "cell_type": "code",
   "execution_count": 49,
   "id": "9f760575-e4be-4733-af46-894d47b86943",
   "metadata": {},
   "outputs": [
    {
     "data": {
      "text/plain": [
       "'0b1111'"
      ]
     },
     "execution_count": 49,
     "metadata": {},
     "output_type": "execute_result"
    }
   ],
   "source": [
    "bin(a|b)"
   ]
  },
  {
   "cell_type": "code",
   "execution_count": 47,
   "id": "6f6b1983-af5d-4784-84b6-89931cde8eb4",
   "metadata": {},
   "outputs": [
    {
     "data": {
      "text/plain": [
       "7"
      ]
     },
     "execution_count": 47,
     "metadata": {},
     "output_type": "execute_result"
    }
   ],
   "source": [
    "a^b"
   ]
  },
  {
   "cell_type": "code",
   "execution_count": 50,
   "id": "6e797054-fbe4-4fe6-87ea-ff4a7dcb3afa",
   "metadata": {},
   "outputs": [
    {
     "data": {
      "text/plain": [
       "'0b111'"
      ]
     },
     "execution_count": 50,
     "metadata": {},
     "output_type": "execute_result"
    }
   ],
   "source": [
    "bin(a^b)"
   ]
  },
  {
   "cell_type": "code",
   "execution_count": 51,
   "id": "e541b431-5b9f-4b9e-b7c8-0f5b45d9a862",
   "metadata": {},
   "outputs": [
    {
     "data": {
      "text/plain": [
       "-11"
      ]
     },
     "execution_count": 51,
     "metadata": {},
     "output_type": "execute_result"
    }
   ],
   "source": [
    "~a"
   ]
  },
  {
   "cell_type": "code",
   "execution_count": 60,
   "id": "db0ef1b4-8068-4de3-908e-7eed766193ce",
   "metadata": {},
   "outputs": [
    {
     "data": {
      "text/plain": [
       "'-0b1011'"
      ]
     },
     "execution_count": 60,
     "metadata": {},
     "output_type": "execute_result"
    }
   ],
   "source": [
    "(bin(~a))"
   ]
  },
  {
   "cell_type": "code",
   "execution_count": 61,
   "id": "a0ab245c-e278-45b7-9489-35b5fd363ff5",
   "metadata": {},
   "outputs": [],
   "source": [
    "a = 10"
   ]
  },
  {
   "cell_type": "code",
   "execution_count": 62,
   "id": "29cc23f7-8789-4d3f-9071-4117466a9da6",
   "metadata": {},
   "outputs": [
    {
     "data": {
      "text/plain": [
       "40"
      ]
     },
     "execution_count": 62,
     "metadata": {},
     "output_type": "execute_result"
    }
   ],
   "source": [
    "a<<2"
   ]
  },
  {
   "cell_type": "code",
   "execution_count": 65,
   "id": "dbac483b-5f0d-40ad-b6e7-c7dea8294b88",
   "metadata": {},
   "outputs": [
    {
     "data": {
      "text/plain": [
       "2"
      ]
     },
     "execution_count": 65,
     "metadata": {},
     "output_type": "execute_result"
    }
   ],
   "source": [
    "a>>2"
   ]
  },
  {
   "cell_type": "markdown",
   "id": "206d6799-ab49-4adc-a2fd-e134cbf40f8e",
   "metadata": {},
   "source": [
    "# identity operator (is , is not)"
   ]
  },
  {
   "cell_type": "code",
   "execution_count": 66,
   "id": "0547d721-7b17-4cb0-a3ed-fd818766e35d",
   "metadata": {},
   "outputs": [],
   "source": [
    "a = 10\n",
    "b = 10"
   ]
  },
  {
   "cell_type": "code",
   "execution_count": 74,
   "id": "b22ac59e-72c0-491b-a67c-b3da205ad5c3",
   "metadata": {},
   "outputs": [
    {
     "name": "stdout",
     "output_type": "stream",
     "text": [
      "2236004698848 140725546523352\n"
     ]
    }
   ],
   "source": [
    "print(id(a) , id(b))"
   ]
  },
  {
   "cell_type": "code",
   "execution_count": 67,
   "id": "276c4b35-5d36-4fbc-8260-74ab30bf7181",
   "metadata": {},
   "outputs": [
    {
     "data": {
      "text/plain": [
       "True"
      ]
     },
     "execution_count": 67,
     "metadata": {},
     "output_type": "execute_result"
    }
   ],
   "source": [
    "a is b"
   ]
  },
  {
   "cell_type": "code",
   "execution_count": 68,
   "id": "f5355e52-030a-4157-a6eb-e8be7ee5b563",
   "metadata": {},
   "outputs": [
    {
     "data": {
      "text/plain": [
       "False"
      ]
     },
     "execution_count": 68,
     "metadata": {},
     "output_type": "execute_result"
    }
   ],
   "source": [
    "a is not b"
   ]
  },
  {
   "cell_type": "code",
   "execution_count": null,
   "id": "d0187f3c-d1e6-4c35-9d62-ce2e94732c43",
   "metadata": {},
   "outputs": [],
   "source": []
  },
  {
   "cell_type": "code",
   "execution_count": 70,
   "id": "0f0da341-6c87-47db-b523-c1f96771f5c4",
   "metadata": {},
   "outputs": [],
   "source": [
    "a = 10.0\n",
    "b = 10"
   ]
  },
  {
   "cell_type": "code",
   "execution_count": 75,
   "id": "19f5990b-d428-40dc-a8be-fcfa24aeadd5",
   "metadata": {},
   "outputs": [
    {
     "name": "stdout",
     "output_type": "stream",
     "text": [
      "2236004698848 140725546523352\n"
     ]
    }
   ],
   "source": [
    "print(id(a) , id(b))"
   ]
  },
  {
   "cell_type": "code",
   "execution_count": 71,
   "id": "6ba73648-3c89-49e8-9828-f377f7673360",
   "metadata": {},
   "outputs": [
    {
     "data": {
      "text/plain": [
       "False"
      ]
     },
     "execution_count": 71,
     "metadata": {},
     "output_type": "execute_result"
    }
   ],
   "source": [
    "a is b"
   ]
  },
  {
   "cell_type": "code",
   "execution_count": null,
   "id": "89faa5db-ceef-4ebd-bcc1-830e1b718388",
   "metadata": {},
   "outputs": [],
   "source": []
  },
  {
   "cell_type": "code",
   "execution_count": 72,
   "id": "1f57909d-ba01-45df-9f8e-a9b974448452",
   "metadata": {},
   "outputs": [],
   "source": [
    "a = \"10\"\n",
    "b = 10"
   ]
  },
  {
   "cell_type": "code",
   "execution_count": 76,
   "id": "791ac76c-0370-4c2f-aa59-6cd30e5ae8f6",
   "metadata": {},
   "outputs": [
    {
     "name": "stdout",
     "output_type": "stream",
     "text": [
      "2236004698848 140725546523352\n"
     ]
    }
   ],
   "source": [
    "print(id(a ) , id(b))"
   ]
  },
  {
   "cell_type": "code",
   "execution_count": 77,
   "id": "71df1028-f8cb-4b78-ba22-9a1b68377185",
   "metadata": {},
   "outputs": [
    {
     "data": {
      "text/plain": [
       "True"
      ]
     },
     "execution_count": 77,
     "metadata": {},
     "output_type": "execute_result"
    }
   ],
   "source": [
    "a is not b "
   ]
  },
  {
   "cell_type": "code",
   "execution_count": null,
   "id": "cc3dc766-bf9f-4709-8be3-6843daae811c",
   "metadata": {},
   "outputs": [],
   "source": []
  },
  {
   "cell_type": "code",
   "execution_count": 79,
   "id": "242c53f2-b0e8-4800-b165-80d958ba6903",
   "metadata": {},
   "outputs": [
    {
     "name": "stdin",
     "output_type": "stream",
     "text": [
      "enter no 10\n",
      "enter no 10\n"
     ]
    }
   ],
   "source": [
    "a = input(\"enter no\")\n",
    "b = input(\"enter no\")"
   ]
  },
  {
   "cell_type": "code",
   "execution_count": 80,
   "id": "05bba9df-85ae-4da1-98d1-08d62466be04",
   "metadata": {},
   "outputs": [
    {
     "name": "stdout",
     "output_type": "stream",
     "text": [
      "2236093244464 2236093246000\n"
     ]
    }
   ],
   "source": [
    "print(id(a) , id(b))"
   ]
  },
  {
   "cell_type": "code",
   "execution_count": 81,
   "id": "8770a2b3-edc0-4805-936a-a224e210c120",
   "metadata": {},
   "outputs": [
    {
     "data": {
      "text/plain": [
       "True"
      ]
     },
     "execution_count": 81,
     "metadata": {},
     "output_type": "execute_result"
    }
   ],
   "source": [
    "a is not b"
   ]
  },
  {
   "cell_type": "code",
   "execution_count": null,
   "id": "64d37821-6032-433b-bbc5-f2fe45c3516e",
   "metadata": {},
   "outputs": [],
   "source": []
  },
  {
   "cell_type": "code",
   "execution_count": 82,
   "id": "e783a2c4-5dc0-4760-a2be-01d97943358a",
   "metadata": {},
   "outputs": [
    {
     "name": "stdin",
     "output_type": "stream",
     "text": [
      "enter no 10\n",
      "enter no 10\n"
     ]
    }
   ],
   "source": [
    "a = int(input(\"enter no\"))\n",
    "b = int(input(\"enter no\"))\n"
   ]
  },
  {
   "cell_type": "code",
   "execution_count": 84,
   "id": "2e1075c5-abc5-483f-90ba-3f7651ca9bc1",
   "metadata": {},
   "outputs": [
    {
     "name": "stdout",
     "output_type": "stream",
     "text": [
      "140725546523352 140725546523352\n"
     ]
    }
   ],
   "source": [
    "print(id(a ), id(b))"
   ]
  },
  {
   "cell_type": "code",
   "execution_count": 85,
   "id": "34c66410-fea1-4322-8878-20b1b589395e",
   "metadata": {},
   "outputs": [
    {
     "data": {
      "text/plain": [
       "True"
      ]
     },
     "execution_count": 85,
     "metadata": {},
     "output_type": "execute_result"
    }
   ],
   "source": [
    "a is b"
   ]
  },
  {
   "cell_type": "code",
   "execution_count": null,
   "id": "2eb29bc0-35f5-4ce1-b97a-29b59de97bb3",
   "metadata": {},
   "outputs": [],
   "source": []
  },
  {
   "cell_type": "code",
   "execution_count": 86,
   "id": "24444a98-8302-4cf3-b2d1-01389aaa3f32",
   "metadata": {},
   "outputs": [],
   "source": [
    "a = 10\n",
    "b = int(10.9)"
   ]
  },
  {
   "cell_type": "code",
   "execution_count": 87,
   "id": "c7362dd3-c91e-49f5-8428-d32dcd71f177",
   "metadata": {},
   "outputs": [
    {
     "data": {
      "text/plain": [
       "True"
      ]
     },
     "execution_count": 87,
     "metadata": {},
     "output_type": "execute_result"
    }
   ],
   "source": [
    "a is b"
   ]
  },
  {
   "cell_type": "code",
   "execution_count": 88,
   "id": "d2770902-3fc2-4a59-af77-46199ec1178c",
   "metadata": {},
   "outputs": [],
   "source": [
    "a = 10.0\n",
    "b = \"10\"\n",
    "a = int(a)\n",
    "b = int(b)"
   ]
  },
  {
   "cell_type": "code",
   "execution_count": 89,
   "id": "00f2ff50-509c-46b1-b251-efd2e482d36a",
   "metadata": {},
   "outputs": [
    {
     "data": {
      "text/plain": [
       "True"
      ]
     },
     "execution_count": 89,
     "metadata": {},
     "output_type": "execute_result"
    }
   ],
   "source": [
    "a is b"
   ]
  },
  {
   "cell_type": "code",
   "execution_count": null,
   "id": "6a4d1214-afff-4615-8414-738e08165f86",
   "metadata": {},
   "outputs": [],
   "source": []
  }
 ],
 "metadata": {
  "kernelspec": {
   "display_name": "Python 3 (ipykernel)",
   "language": "python",
   "name": "python3"
  },
  "language_info": {
   "codemirror_mode": {
    "name": "ipython",
    "version": 3
   },
   "file_extension": ".py",
   "mimetype": "text/x-python",
   "name": "python",
   "nbconvert_exporter": "python",
   "pygments_lexer": "ipython3",
   "version": "3.12.3"
  }
 },
 "nbformat": 4,
 "nbformat_minor": 5
}
