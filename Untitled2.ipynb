{
 "cells": [
  {
   "cell_type": "code",
   "execution_count": 5,
   "id": "a78eca22-2cf8-4e94-9e4f-de5fb57e30a1",
   "metadata": {},
   "outputs": [],
   "source": [
    "def check(a,b):\n",
    "    if(abs(a-b)==5):\n",
    "        return True\n",
    "    else:\n",
    "        return False"
   ]
  },
  {
   "cell_type": "code",
   "execution_count": 6,
   "id": "1643919a-b928-4d4d-b1a7-e41719a098c7",
   "metadata": {},
   "outputs": [
    {
     "data": {
      "text/plain": [
       "True"
      ]
     },
     "execution_count": 6,
     "metadata": {},
     "output_type": "execute_result"
    }
   ],
   "source": [
    "check(5,10)"
   ]
  },
  {
   "cell_type": "code",
   "execution_count": 7,
   "id": "d14d559f-3f85-48a3-b9c0-5f736f0b5f32",
   "metadata": {},
   "outputs": [
    {
     "data": {
      "text/plain": [
       "False"
      ]
     },
     "execution_count": 7,
     "metadata": {},
     "output_type": "execute_result"
    }
   ],
   "source": [
    "check(1,7)"
   ]
  },
  {
   "cell_type": "code",
   "execution_count": null,
   "id": "b46a230b-bd67-45ca-9638-a6a915128238",
   "metadata": {},
   "outputs": [],
   "source": []
  },
  {
   "cell_type": "code",
   "execution_count": 9,
   "id": "39258f17-ab18-47db-9840-18543d31c9f4",
   "metadata": {},
   "outputs": [],
   "source": [
    "def max(a,b,c):\n",
    "    if(a>b and a>c):\n",
    "        return a\n",
    "    elif(b>c):\n",
    "        return b\n",
    "    else:\n",
    "        return c"
   ]
  },
  {
   "cell_type": "code",
   "execution_count": 10,
   "id": "723548a9-7101-4cd7-8984-40515645505d",
   "metadata": {},
   "outputs": [
    {
     "data": {
      "text/plain": [
       "3"
      ]
     },
     "execution_count": 10,
     "metadata": {},
     "output_type": "execute_result"
    }
   ],
   "source": [
    "max(1,2,3)"
   ]
  },
  {
   "cell_type": "code",
   "execution_count": 11,
   "id": "cb5ec9fb-d4c9-47a9-99b7-72fd899e3b91",
   "metadata": {},
   "outputs": [
    {
     "data": {
      "text/plain": [
       "3"
      ]
     },
     "execution_count": 11,
     "metadata": {},
     "output_type": "execute_result"
    }
   ],
   "source": [
    "max(2,3,1)"
   ]
  },
  {
   "cell_type": "code",
   "execution_count": null,
   "id": "639a228f-d8f5-457c-b176-2cc773d18fdb",
   "metadata": {},
   "outputs": [],
   "source": []
  },
  {
   "cell_type": "code",
   "execution_count": 18,
   "id": "3c0b39be-6432-4e0b-a8a8-740396e2b595",
   "metadata": {},
   "outputs": [],
   "source": [
    "def msg(name , proff):\n",
    "    if proff[0] in [\"a\" , \"e\" , \"i\" , \"o\" , \"u\"]:\n",
    "        print(\"My name is\" , name , \"and I am an\" , proff)\n",
    "        return \n",
    "    print(\"My name is\" , name , \"and I am a\" , proff)\n",
    "    "
   ]
  },
  {
   "cell_type": "code",
   "execution_count": 20,
   "id": "6afa61dc-8e37-464c-bcdf-25da5c18e4a1",
   "metadata": {},
   "outputs": [
    {
     "name": "stdout",
     "output_type": "stream",
     "text": [
      "My name is Shehzan and I am a doctor\n"
     ]
    }
   ],
   "source": [
    "msg(\"Shehzan\" , \"doctor\")"
   ]
  },
  {
   "cell_type": "code",
   "execution_count": null,
   "id": "141f67d7-2358-4655-aa07-0eba4ca756af",
   "metadata": {},
   "outputs": [],
   "source": []
  },
  {
   "cell_type": "code",
   "execution_count": 27,
   "id": "3b341c74-1849-4687-9e51-8021157c649a",
   "metadata": {},
   "outputs": [],
   "source": [
    "def planet(i):\n",
    "    l = [1,2,3,4,5,6,7,8]\n",
    "    d = dict(zip(l, [\"mercury\" , \"venus\" , \"earth\" , \"mars\" , \"jupyter\" , \"saturn\" , \"uranus\" , \"neptune\"]))\n",
    "    if(i not in l):\n",
    "        return 0\n",
    "    else:\n",
    "        return d[i]"
   ]
  },
  {
   "cell_type": "code",
   "execution_count": 28,
   "id": "a275f38b-4dbb-48cd-94c3-26063ae80307",
   "metadata": {},
   "outputs": [
    {
     "data": {
      "text/plain": [
       "'mercury'"
      ]
     },
     "execution_count": 28,
     "metadata": {},
     "output_type": "execute_result"
    }
   ],
   "source": [
    "planet(1)"
   ]
  },
  {
   "cell_type": "code",
   "execution_count": null,
   "id": "a3a6f278-ded9-4eb3-b622-70ee1cebbc16",
   "metadata": {},
   "outputs": [],
   "source": []
  },
  {
   "cell_type": "code",
   "execution_count": 31,
   "id": "ef629e15-d622-48cd-9d91-78e5ac94b240",
   "metadata": {},
   "outputs": [],
   "source": [
    "def sumScore(l):\n",
    "    sum = 0 \n",
    "    for i in l :\n",
    "        if i%10 == 0:\n",
    "            sum+= i\n",
    "    return sum"
   ]
  },
  {
   "cell_type": "code",
   "execution_count": 32,
   "id": "869d0b7b-1725-42bc-86e8-7bf566edb5a1",
   "metadata": {},
   "outputs": [
    {
     "data": {
      "text/plain": [
       "90"
      ]
     },
     "execution_count": 32,
     "metadata": {},
     "output_type": "execute_result"
    }
   ],
   "source": [
    "sumScore([10,20,3,4,60])"
   ]
  },
  {
   "cell_type": "code",
   "execution_count": null,
   "id": "051ef446-4c8e-43fa-a746-40424182bfa8",
   "metadata": {},
   "outputs": [],
   "source": []
  },
  {
   "cell_type": "code",
   "execution_count": 41,
   "id": "0a31b658-2ca9-4941-84a1-48afb80bef6c",
   "metadata": {},
   "outputs": [],
   "source": [
    "def invertDict(d):\n",
    "    k = d.keys()\n",
    "    v = d.values()\n",
    "    d = dict(zip(v,k))\n",
    "    return d    "
   ]
  },
  {
   "cell_type": "code",
   "execution_count": 42,
   "id": "78fba2ac-bb43-4537-9a86-7cfc4621a02d",
   "metadata": {},
   "outputs": [
    {
     "data": {
      "text/plain": [
       "{1: 1, 8: 4, 20: 10}"
      ]
     },
     "execution_count": 42,
     "metadata": {},
     "output_type": "execute_result"
    }
   ],
   "source": [
    "dc = {1:1 , 4:8 , 10:20}\n",
    "invertDict(dc)"
   ]
  },
  {
   "cell_type": "code",
   "execution_count": 58,
   "id": "094a30ca-69ab-463b-adbb-2152b336ecc5",
   "metadata": {},
   "outputs": [],
   "source": [
    "l = []\n",
    "for i in range(97, 97+26):\n",
    "    l.append(chr(i))\n",
    "\n"
   ]
  },
  {
   "cell_type": "code",
   "execution_count": 73,
   "id": "415396ee-bef5-4301-a205-636a3c5e0b68",
   "metadata": {},
   "outputs": [],
   "source": [
    "def pangram(s):\n",
    "    st = set(s)\n",
    "    st.discard(\" \")\n",
    "    if(len(st) == len(l)):\n",
    "        return True\n",
    "    else:\n",
    "        return False\n",
    "            "
   ]
  },
  {
   "cell_type": "code",
   "execution_count": 74,
   "id": "41eada88-88b4-4cce-985f-f9a4c23a97c3",
   "metadata": {},
   "outputs": [
    {
     "data": {
      "text/plain": [
       "True"
      ]
     },
     "execution_count": 74,
     "metadata": {},
     "output_type": "execute_result"
    }
   ],
   "source": [
    "pangram(\"the quick brown fox jumps over the lazy dog\")"
   ]
  },
  {
   "cell_type": "code",
   "execution_count": 76,
   "id": "c27b94eb-7ac0-47c2-912c-0c0d337e8437",
   "metadata": {},
   "outputs": [
    {
     "data": {
      "text/plain": [
       "True"
      ]
     },
     "execution_count": 76,
     "metadata": {},
     "output_type": "execute_result"
    }
   ],
   "source": [
    "pangram(\"aobcdefghijklmnpqrstuvwxyz\")"
   ]
  },
  {
   "cell_type": "code",
   "execution_count": 79,
   "id": "b849d75e-1c6a-4607-a674-5738cf10f74b",
   "metadata": {},
   "outputs": [
    {
     "data": {
      "text/plain": [
       "False"
      ]
     },
     "execution_count": 79,
     "metadata": {},
     "output_type": "execute_result"
    }
   ],
   "source": [
    "pangram(\"ffhiwqhouoiqtpouiah otwer cib cnaoxemncrbiuoqksalsdfdaffkldfjahwuieorpierqpwrueh\")"
   ]
  },
  {
   "cell_type": "code",
   "execution_count": null,
   "id": "f622cd54-344c-422c-b455-5e87903dec74",
   "metadata": {},
   "outputs": [],
   "source": []
  },
  {
   "cell_type": "code",
   "execution_count": 84,
   "id": "7544a14b-2e6a-442a-8923-48592b8c75f2",
   "metadata": {},
   "outputs": [],
   "source": [
    "def countAlpha(s):\n",
    "    l = 0 \n",
    "    u = 0\n",
    "    for i in s:\n",
    "        if(i.isupper()):\n",
    "            u+=1\n",
    "        elif(i.islower()):\n",
    "            l+=1\n",
    "    return l,u\n",
    "        \n",
    "    "
   ]
  },
  {
   "cell_type": "code",
   "execution_count": 85,
   "id": "a623db3a-2e56-4c6b-84d9-813c707960f7",
   "metadata": {},
   "outputs": [
    {
     "data": {
      "text/plain": [
       "(3, 3)"
      ]
     },
     "execution_count": 85,
     "metadata": {},
     "output_type": "execute_result"
    }
   ],
   "source": [
    "countAlpha(\"ABS2$abc\")"
   ]
  },
  {
   "cell_type": "code",
   "execution_count": null,
   "id": "4ea257f8-3672-49a2-8466-b8c87b28344c",
   "metadata": {},
   "outputs": [],
   "source": []
  },
  {
   "cell_type": "code",
   "execution_count": 96,
   "id": "f3170121-d353-4e05-8660-6d3238f47155",
   "metadata": {},
   "outputs": [],
   "source": [
    "def min(*l):\n",
    "    min = l[0]\n",
    "    for i in l:\n",
    "        if i< min :\n",
    "            min = i\n",
    "    return min"
   ]
  },
  {
   "cell_type": "code",
   "execution_count": 97,
   "id": "eae2ed48-ad90-4487-aee1-1d4cabf2ff4b",
   "metadata": {},
   "outputs": [
    {
     "data": {
      "text/plain": [
       "1"
      ]
     },
     "execution_count": 97,
     "metadata": {},
     "output_type": "execute_result"
    }
   ],
   "source": [
    "min(1,2,3,4,5,6,7)"
   ]
  },
  {
   "cell_type": "code",
   "execution_count": 98,
   "id": "7831ce37-d2f3-4b6f-a7a4-45baad74a8ae",
   "metadata": {},
   "outputs": [
    {
     "data": {
      "text/plain": [
       "-6"
      ]
     },
     "execution_count": 98,
     "metadata": {},
     "output_type": "execute_result"
    }
   ],
   "source": [
    "min(-4,-6,4,1)"
   ]
  },
  {
   "cell_type": "code",
   "execution_count": 104,
   "id": "57d91ffd-c328-4512-90f0-600b818b5408",
   "metadata": {},
   "outputs": [],
   "source": [
    "def fact(n):\n",
    "    if n ==0:\n",
    "        return 1\n",
    "    i = 1\n",
    "    for j in range(1,n+1):\n",
    "        i*=i\n",
    "    return i\n",
    "def ncr(a,b):\n",
    "    i = fact(a)/(fact(a-b) * fact(b))\n",
    "    return int(i)\n",
    "def pascal(r):\n",
    "    for i in range(0,r):\n",
    "        for j in range(r-i-1):\n",
    "            print(\" \", end = \"\")\n",
    "        for k in range(i+1):\n",
    "            print(ncr(i,k), end = \"\")\n",
    "        print(\"\\n\")"
   ]
  },
  {
   "cell_type": "code",
   "execution_count": 105,
   "id": "f2c164e9-d8e2-482b-b85f-0564c485d0a9",
   "metadata": {},
   "outputs": [
    {
     "name": "stdout",
     "output_type": "stream",
     "text": [
      "    1\n",
      "\n",
      "   11\n",
      "\n",
      "  111\n",
      "\n",
      " 1111\n",
      "\n",
      "11111\n",
      "\n"
     ]
    }
   ],
   "source": [
    "pascal(5)"
   ]
  },
  {
   "cell_type": "code",
   "execution_count": null,
   "id": "68bad5b2-519c-4e54-917d-c7c699943696",
   "metadata": {},
   "outputs": [],
   "source": []
  }
 ],
 "metadata": {
  "kernelspec": {
   "display_name": "Python 3 (ipykernel)",
   "language": "python",
   "name": "python3"
  },
  "language_info": {
   "codemirror_mode": {
    "name": "ipython",
    "version": 3
   },
   "file_extension": ".py",
   "mimetype": "text/x-python",
   "name": "python",
   "nbconvert_exporter": "python",
   "pygments_lexer": "ipython3",
   "version": "3.12.3"
  }
 },
 "nbformat": 4,
 "nbformat_minor": 5
}
