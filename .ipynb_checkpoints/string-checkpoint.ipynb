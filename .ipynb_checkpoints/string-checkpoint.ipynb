{
 "cells": [
  {
   "cell_type": "code",
   "execution_count": 2,
   "id": "e01e19d4-a652-4691-be76-0cc15c069ede",
   "metadata": {},
   "outputs": [
    {
     "name": "stdout",
     "output_type": "stream",
     "text": [
      "<class 'str'>\n"
     ]
    }
   ],
   "source": [
    "s = \"hello\"\n",
    "print(type(s))"
   ]
  },
  {
   "cell_type": "code",
   "execution_count": 3,
   "id": "1f0f66cb-2a0b-4df1-9871-7d3486eb15a8",
   "metadata": {},
   "outputs": [
    {
     "data": {
      "text/plain": [
       "5"
      ]
     },
     "execution_count": 3,
     "metadata": {},
     "output_type": "execute_result"
    }
   ],
   "source": [
    "len(s)\n"
   ]
  },
  {
   "cell_type": "code",
   "execution_count": 4,
   "id": "5c8e611c-9da3-442e-be54-c0eba2f33934",
   "metadata": {},
   "outputs": [
    {
     "data": {
      "text/plain": [
       "'h'"
      ]
     },
     "execution_count": 4,
     "metadata": {},
     "output_type": "execute_result"
    }
   ],
   "source": [
    "s[0]"
   ]
  },
  {
   "cell_type": "code",
   "execution_count": 5,
   "id": "79967035-6d59-4024-8f25-bf619346874a",
   "metadata": {},
   "outputs": [
    {
     "data": {
      "text/plain": [
       "'o'"
      ]
     },
     "execution_count": 5,
     "metadata": {},
     "output_type": "execute_result"
    }
   ],
   "source": [
    "s[-1]"
   ]
  },
  {
   "cell_type": "code",
   "execution_count": 6,
   "id": "b2207604-da69-4a1e-9e56-85da3cf31630",
   "metadata": {},
   "outputs": [
    {
     "name": "stdout",
     "output_type": "stream",
     "text": [
      "h\n",
      "e\n",
      "l\n",
      "l\n",
      "o\n"
     ]
    }
   ],
   "source": [
    "for i in s:\n",
    "    print (i)"
   ]
  },
  {
   "cell_type": "code",
   "execution_count": null,
   "id": "9aece48b-b950-4df7-8961-a1aaffdce306",
   "metadata": {},
   "outputs": [],
   "source": []
  },
  {
   "cell_type": "code",
   "execution_count": 7,
   "id": "e44a8de0-c948-46b1-9464-b51b000bb592",
   "metadata": {},
   "outputs": [],
   "source": [
    "s1= \"hello \"\n",
    "s2=\"shehzan\""
   ]
  },
  {
   "cell_type": "code",
   "execution_count": 8,
   "id": "6abfab11-c810-4ee0-99eb-23d0ef02bef5",
   "metadata": {},
   "outputs": [
    {
     "data": {
      "text/plain": [
       "'hello shehzan'"
      ]
     },
     "execution_count": 8,
     "metadata": {},
     "output_type": "execute_result"
    }
   ],
   "source": [
    "s1+s2 # string + string only"
   ]
  },
  {
   "cell_type": "code",
   "execution_count": 14,
   "id": "29062cd1-56d8-4a2f-9c3b-c3ae2137b5b2",
   "metadata": {},
   "outputs": [
    {
     "data": {
      "text/plain": [
       "'hello shehzan'"
      ]
     },
     "execution_count": 14,
     "metadata": {},
     "output_type": "execute_result"
    }
   ],
   "source": [
    "con = \"hello \" \"shehzan\"\n",
    "con"
   ]
  },
  {
   "cell_type": "code",
   "execution_count": 15,
   "id": "a8f36683-c5ff-4978-980c-3aa1e529c8cf",
   "metadata": {},
   "outputs": [
    {
     "ename": "SyntaxError",
     "evalue": "invalid syntax (3896445491.py, line 1)",
     "output_type": "error",
     "traceback": [
      "\u001b[1;36m  Cell \u001b[1;32mIn[15], line 1\u001b[1;36m\u001b[0m\n\u001b[1;33m    con = s1 s2\u001b[0m\n\u001b[1;37m             ^\u001b[0m\n\u001b[1;31mSyntaxError\u001b[0m\u001b[1;31m:\u001b[0m invalid syntax\n"
     ]
    }
   ],
   "source": [
    "con = s1 s2"
   ]
  },
  {
   "cell_type": "code",
   "execution_count": 17,
   "id": "38a25419-e08e-4991-b7f0-af34b7e0ae18",
   "metadata": {},
   "outputs": [
    {
     "data": {
      "text/plain": [
       "('hello ', 'shehzan')"
      ]
     },
     "execution_count": 17,
     "metadata": {},
     "output_type": "execute_result"
    }
   ],
   "source": [
    "con = s1,s2\n",
    "con"
   ]
  },
  {
   "cell_type": "code",
   "execution_count": 9,
   "id": "752982bc-8028-4b29-a37e-4fee282fada4",
   "metadata": {},
   "outputs": [
    {
     "name": "stdout",
     "output_type": "stream",
     "text": [
      "hello\n",
      "            How are you\n"
     ]
    }
   ],
   "source": [
    "s3 = \"\"\"hello\n",
    "            How are you\"\"\"\n",
    "print(s3)"
   ]
  },
  {
   "cell_type": "code",
   "execution_count": null,
   "id": "a85f1b45-f6a2-4f65-873a-fd1f3800f39f",
   "metadata": {},
   "outputs": [],
   "source": []
  },
  {
   "cell_type": "code",
   "execution_count": 12,
   "id": "e61d209e-82c4-4a31-9328-eef59a011404",
   "metadata": {},
   "outputs": [
    {
     "data": {
      "text/plain": [
       "'hello hello hello hello hello '"
      ]
     },
     "execution_count": 12,
     "metadata": {},
     "output_type": "execute_result"
    }
   ],
   "source": [
    "\"hello \"*5"
   ]
  },
  {
   "cell_type": "code",
   "execution_count": null,
   "id": "d6e2c895-b860-40b8-ada0-3ee9fcbbddf0",
   "metadata": {},
   "outputs": [],
   "source": []
  },
  {
   "cell_type": "code",
   "execution_count": 18,
   "id": "c04682b0-eb13-451c-bc68-a5e0f0f6cbc7",
   "metadata": {},
   "outputs": [],
   "source": [
    "s = \"hello world\""
   ]
  },
  {
   "cell_type": "code",
   "execution_count": 19,
   "id": "1f39597e-f6ca-4f33-981f-c494cc59f607",
   "metadata": {},
   "outputs": [
    {
     "name": "stdout",
     "output_type": "stream",
     "text": [
      "h\n",
      "e\n",
      "l\n",
      "l\n",
      "o\n",
      " \n",
      "w\n",
      "o\n",
      "r\n",
      "l\n",
      "d\n"
     ]
    }
   ],
   "source": [
    "for i in s :\n",
    "    print(i)"
   ]
  },
  {
   "cell_type": "code",
   "execution_count": 20,
   "id": "48818ffe-0b29-4f98-b892-539cd78701f2",
   "metadata": {},
   "outputs": [
    {
     "data": {
      "text/plain": [
       "'h'"
      ]
     },
     "execution_count": 20,
     "metadata": {},
     "output_type": "execute_result"
    }
   ],
   "source": [
    "s[0]"
   ]
  },
  {
   "cell_type": "code",
   "execution_count": 21,
   "id": "57ea9de7-c0e6-4cfd-9c7e-a2923f380dff",
   "metadata": {},
   "outputs": [
    {
     "data": {
      "text/plain": [
       "'e'"
      ]
     },
     "execution_count": 21,
     "metadata": {},
     "output_type": "execute_result"
    }
   ],
   "source": [
    "s[1]"
   ]
  },
  {
   "cell_type": "code",
   "execution_count": 22,
   "id": "1e15d7c4-4e60-4cdf-8b7d-3a3573750d22",
   "metadata": {},
   "outputs": [
    {
     "data": {
      "text/plain": [
       "' '"
      ]
     },
     "execution_count": 22,
     "metadata": {},
     "output_type": "execute_result"
    }
   ],
   "source": [
    "s[5]"
   ]
  },
  {
   "cell_type": "code",
   "execution_count": 23,
   "id": "7e55038a-a687-4037-b16a-aebb10ad76ba",
   "metadata": {},
   "outputs": [
    {
     "data": {
      "text/plain": [
       "'d'"
      ]
     },
     "execution_count": 23,
     "metadata": {},
     "output_type": "execute_result"
    }
   ],
   "source": [
    "s[-1]"
   ]
  },
  {
   "cell_type": "code",
   "execution_count": 24,
   "id": "4991d370-5cce-4eca-b432-c17947bd1468",
   "metadata": {},
   "outputs": [
    {
     "data": {
      "text/plain": [
       "'d'"
      ]
     },
     "execution_count": 24,
     "metadata": {},
     "output_type": "execute_result"
    }
   ],
   "source": [
    "s[10]"
   ]
  },
  {
   "cell_type": "code",
   "execution_count": 25,
   "id": "e2fa9a1f-5e81-4e18-898f-b871d8e14181",
   "metadata": {},
   "outputs": [
    {
     "ename": "IndexError",
     "evalue": "string index out of range",
     "output_type": "error",
     "traceback": [
      "\u001b[1;31m---------------------------------------------------------------------------\u001b[0m",
      "\u001b[1;31mIndexError\u001b[0m                                Traceback (most recent call last)",
      "Cell \u001b[1;32mIn[25], line 1\u001b[0m\n\u001b[1;32m----> 1\u001b[0m \u001b[43ms\u001b[49m\u001b[43m[\u001b[49m\u001b[38;5;241;43m11\u001b[39;49m\u001b[43m]\u001b[49m\n",
      "\u001b[1;31mIndexError\u001b[0m: string index out of range"
     ]
    }
   ],
   "source": [
    "s[11]"
   ]
  },
  {
   "cell_type": "code",
   "execution_count": 34,
   "id": "dccf6906-1b7b-491a-9d4c-eee59ffbe659",
   "metadata": {},
   "outputs": [
    {
     "name": "stdout",
     "output_type": "stream",
     "text": [
      "d\n",
      "l\n",
      "r\n",
      "o\n",
      "w\n",
      " \n",
      "o\n",
      "l\n",
      "l\n",
      "e\n",
      "h\n"
     ]
    }
   ],
   "source": [
    "for i in range((len(s)-1), -1, -1):\n",
    "    print(s[i])"
   ]
  },
  {
   "cell_type": "code",
   "execution_count": null,
   "id": "6bab3ba1-8cbf-4d9f-8572-666bc23c6644",
   "metadata": {},
   "outputs": [],
   "source": []
  },
  {
   "cell_type": "code",
   "execution_count": 35,
   "id": "6cdbc092-8b1c-43bd-b30a-06945330d8f5",
   "metadata": {},
   "outputs": [],
   "source": [
    "s = \"hello world\"\n"
   ]
  },
  {
   "cell_type": "code",
   "execution_count": 36,
   "id": "23f22b1f-a86a-47c4-b721-09fb5dcd6323",
   "metadata": {},
   "outputs": [
    {
     "data": {
      "text/plain": [
       "'hello world'"
      ]
     },
     "execution_count": 36,
     "metadata": {},
     "output_type": "execute_result"
    }
   ],
   "source": [
    "s[::]"
   ]
  },
  {
   "cell_type": "code",
   "execution_count": 37,
   "id": "f479ab53-eedb-44cf-a3de-f85461e11e09",
   "metadata": {},
   "outputs": [
    {
     "data": {
      "text/plain": [
       "'hlowrd'"
      ]
     },
     "execution_count": 37,
     "metadata": {},
     "output_type": "execute_result"
    }
   ],
   "source": [
    "s[::2]"
   ]
  },
  {
   "cell_type": "code",
   "execution_count": 38,
   "id": "b8abbff2-e1b0-4b04-9a34-5f72d07b7e70",
   "metadata": {},
   "outputs": [
    {
     "data": {
      "text/plain": [
       "'e'"
      ]
     },
     "execution_count": 38,
     "metadata": {},
     "output_type": "execute_result"
    }
   ],
   "source": [
    "s[1:2]"
   ]
  },
  {
   "cell_type": "code",
   "execution_count": 39,
   "id": "f568548e-f58b-474f-854c-82b846c48d51",
   "metadata": {},
   "outputs": [
    {
     "data": {
      "text/plain": [
       "'dlrow olleh'"
      ]
     },
     "execution_count": 39,
     "metadata": {},
     "output_type": "execute_result"
    }
   ],
   "source": [
    "s[::-1]"
   ]
  },
  {
   "cell_type": "code",
   "execution_count": 42,
   "id": "60d309cd-33d7-4890-b717-063cb3f65c96",
   "metadata": {},
   "outputs": [
    {
     "data": {
      "text/plain": [
       "'dlrow olleh'"
      ]
     },
     "execution_count": 42,
     "metadata": {},
     "output_type": "execute_result"
    }
   ],
   "source": [
    "s[-1::-1]"
   ]
  },
  {
   "cell_type": "code",
   "execution_count": null,
   "id": "93a615c9-ea65-40f7-a102-287c3bc56ff2",
   "metadata": {},
   "outputs": [],
   "source": []
  },
  {
   "cell_type": "code",
   "execution_count": 43,
   "id": "940568d2-fc1f-4879-9ed5-6387f90a0848",
   "metadata": {},
   "outputs": [],
   "source": [
    "s = \"Hello World\"\n"
   ]
  },
  {
   "cell_type": "code",
   "execution_count": 44,
   "id": "ef1bc31f-119f-4e94-b712-9e4602b051d2",
   "metadata": {},
   "outputs": [
    {
     "data": {
      "text/plain": [
       "False"
      ]
     },
     "execution_count": 44,
     "metadata": {},
     "output_type": "execute_result"
    }
   ],
   "source": [
    "\"h\" in s"
   ]
  },
  {
   "cell_type": "code",
   "execution_count": 45,
   "id": "b87d0b89-c41f-458a-9fd5-66560f5dba9d",
   "metadata": {},
   "outputs": [
    {
     "data": {
      "text/plain": [
       "True"
      ]
     },
     "execution_count": 45,
     "metadata": {},
     "output_type": "execute_result"
    }
   ],
   "source": [
    "\"H\" in s"
   ]
  },
  {
   "cell_type": "code",
   "execution_count": 46,
   "id": "446c86fa-f760-4d3b-8413-b3b5b23e610c",
   "metadata": {},
   "outputs": [
    {
     "data": {
      "text/plain": [
       "True"
      ]
     },
     "execution_count": 46,
     "metadata": {},
     "output_type": "execute_result"
    }
   ],
   "source": [
    "\"He\" in s"
   ]
  },
  {
   "cell_type": "code",
   "execution_count": 47,
   "id": "1ae6dbc2-ae39-4c50-8c08-7dc7de7b937c",
   "metadata": {},
   "outputs": [
    {
     "data": {
      "text/plain": [
       "False"
      ]
     },
     "execution_count": 47,
     "metadata": {},
     "output_type": "execute_result"
    }
   ],
   "source": [
    "\"He \" in s"
   ]
  },
  {
   "cell_type": "code",
   "execution_count": 48,
   "id": "7257b4f6-7929-45a3-a524-2d5ad4187242",
   "metadata": {},
   "outputs": [
    {
     "data": {
      "text/plain": [
       "True"
      ]
     },
     "execution_count": 48,
     "metadata": {},
     "output_type": "execute_result"
    }
   ],
   "source": [
    "\" \" in s"
   ]
  },
  {
   "cell_type": "code",
   "execution_count": 49,
   "id": "e6db9438-f949-492f-a180-eaef65635dd5",
   "metadata": {},
   "outputs": [
    {
     "data": {
      "text/plain": [
       "True"
      ]
     },
     "execution_count": 49,
     "metadata": {},
     "output_type": "execute_result"
    }
   ],
   "source": [
    "\"w\" not in s"
   ]
  },
  {
   "cell_type": "code",
   "execution_count": 50,
   "id": "2f5b6f93-45c5-4fc0-97b2-96f3c533e1ad",
   "metadata": {},
   "outputs": [
    {
     "data": {
      "text/plain": [
       "True"
      ]
     },
     "execution_count": 50,
     "metadata": {},
     "output_type": "execute_result"
    }
   ],
   "source": [
    "\"He \" not in s"
   ]
  },
  {
   "cell_type": "code",
   "execution_count": null,
   "id": "b855a2fb-7396-48b7-a1eb-216fe81643df",
   "metadata": {},
   "outputs": [],
   "source": []
  }
 ],
 "metadata": {
  "kernelspec": {
   "display_name": "Python 3 (ipykernel)",
   "language": "python",
   "name": "python3"
  },
  "language_info": {
   "codemirror_mode": {
    "name": "ipython",
    "version": 3
   },
   "file_extension": ".py",
   "mimetype": "text/x-python",
   "name": "python",
   "nbconvert_exporter": "python",
   "pygments_lexer": "ipython3",
   "version": "3.12.3"
  }
 },
 "nbformat": 4,
 "nbformat_minor": 5
}
