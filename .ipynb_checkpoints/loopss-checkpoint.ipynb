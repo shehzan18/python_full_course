{
 "cells": [
  {
   "cell_type": "code",
   "execution_count": 10,
   "id": "5a977c88-d0e1-4a78-903c-d3240ee64295",
   "metadata": {},
   "outputs": [
    {
     "name": "stdin",
     "output_type": "stream",
     "text": [
      "enter a no 5002\n"
     ]
    },
    {
     "name": "stdout",
     "output_type": "stream",
     "text": [
      "2005\n"
     ]
    }
   ],
   "source": [
    "n = int(input(\"enter a no\"))\n",
    "\n",
    "rev = 0\n",
    "rem = 0\n",
    "while(n>0):\n",
    "    rem = n%10\n",
    "    n = n//10\n",
    "    rev = rev*10 + rem\n",
    "print(rev)\n",
    "    \n",
    "    "
   ]
  },
  {
   "cell_type": "code",
   "execution_count": 1,
   "id": "157e0ac7-c022-4704-aac3-2dfc4b7f7ffc",
   "metadata": {},
   "outputs": [
    {
     "name": "stdin",
     "output_type": "stream",
     "text": [
      "enter no of nos 3\n",
      "enter a no 1\n",
      "enter a no 2\n",
      "enter a no 3\n"
     ]
    },
    {
     "name": "stdout",
     "output_type": "stream",
     "text": [
      "sum of no is  6\n"
     ]
    }
   ],
   "source": [
    "#sum of no as input\n",
    "n = int(input(\"enter no of nos\"))\n",
    "sum = 0\n",
    "while(n>0):\n",
    "    a = int(input(\"enter a no\"))\n",
    "    \n",
    "    sum+=a\n",
    "    n-=1\n",
    "\n",
    "print(\"sum of no is \",sum)"
   ]
  },
  {
   "cell_type": "code",
   "execution_count": 2,
   "id": "3aaa01ca-50dc-4242-bdcf-7db877eb57d3",
   "metadata": {},
   "outputs": [
    {
     "name": "stdin",
     "output_type": "stream",
     "text": [
      "enter no of nos 4\n",
      "enter a no 2\n",
      "enter a no 5\n",
      "enter a no 4\n",
      "enter a no 3\n"
     ]
    },
    {
     "name": "stdout",
     "output_type": "stream",
     "text": [
      "maximum of nos is 5\n"
     ]
    }
   ],
   "source": [
    "#maxm\n",
    "n = int(input(\"enter no of nos\"))\n",
    "max = 0\n",
    "while(n>0):\n",
    "    a = int(input(\"enter a no\"))\n",
    "    if(a>max):\n",
    "        max = a\n",
    "    n-=1\n",
    "\n",
    "print(\"maximum of nos is\", max)\n",
    "    \n",
    "    "
   ]
  },
  {
   "cell_type": "code",
   "execution_count": 12,
   "id": "b11f4524-6b1e-40e1-8d82-eb120a0e1139",
   "metadata": {},
   "outputs": [
    {
     "name": "stdin",
     "output_type": "stream",
     "text": [
      "enter a no 14\n"
     ]
    },
    {
     "name": "stdout",
     "output_type": "stream",
     "text": [
      "1110\n"
     ]
    }
   ],
   "source": [
    "# decimal to binary\n",
    "n = int(input(\"enter a no\"))\n",
    "\n",
    "bin = \"\"\n",
    "rem = 0\n",
    "while(n>0):\n",
    "    rem = n%2\n",
    "    n = n//2\n",
    "    bin = str(rem)+ bin\n",
    "int(bin)\n",
    "print(bin)\n",
    "    \n"
   ]
  },
  {
   "cell_type": "code",
   "execution_count": null,
   "id": "1d504a86-13e8-45aa-969c-42dea90e853c",
   "metadata": {},
   "outputs": [],
   "source": []
  },
  {
   "cell_type": "code",
   "execution_count": 15,
   "id": "e0a1ce0b-afed-41b4-a29b-846342987d28",
   "metadata": {},
   "outputs": [
    {
     "name": "stdin",
     "output_type": "stream",
     "text": [
      "enter a no 12\n"
     ]
    },
    {
     "name": "stdout",
     "output_type": "stream",
     "text": [
      "positive\n"
     ]
    },
    {
     "name": "stdin",
     "output_type": "stream",
     "text": [
      "enter a no -12\n"
     ]
    },
    {
     "name": "stdout",
     "output_type": "stream",
     "text": [
      "negative\n"
     ]
    },
    {
     "name": "stdin",
     "output_type": "stream",
     "text": [
      "enter a no 4\n"
     ]
    },
    {
     "name": "stdout",
     "output_type": "stream",
     "text": [
      "positive\n"
     ]
    },
    {
     "name": "stdin",
     "output_type": "stream",
     "text": [
      "enter a no 5\n"
     ]
    },
    {
     "name": "stdout",
     "output_type": "stream",
     "text": [
      "positive\n"
     ]
    },
    {
     "name": "stdin",
     "output_type": "stream",
     "text": [
      "enter a no -2\n"
     ]
    },
    {
     "name": "stdout",
     "output_type": "stream",
     "text": [
      "negative\n"
     ]
    },
    {
     "name": "stdin",
     "output_type": "stream",
     "text": [
      "enter a no 0\n"
     ]
    },
    {
     "name": "stdout",
     "output_type": "stream",
     "text": [
      "loop khatam\n"
     ]
    }
   ],
   "source": [
    "while True:\n",
    "    n = int(input(\"enter a no\"))\n",
    "    if (n>0):\n",
    "        print(\"positive\")\n",
    "    elif (n<0):\n",
    "        print(\"negative\")\n",
    "    else:\n",
    "        print(\"loop khatam\")\n",
    "        \n",
    "        break \n",
    "    "
   ]
  },
  {
   "cell_type": "code",
   "execution_count": 16,
   "id": "5c24e788-1b17-4d44-94d5-2dc551eb5fbb",
   "metadata": {},
   "outputs": [
    {
     "name": "stdout",
     "output_type": "stream",
     "text": [
      "0\t1\t2\t3\t4\t5\t"
     ]
    }
   ],
   "source": [
    "count = 0\n",
    "n = 10\n",
    "while(count<=n):\n",
    "    print(count , end = \"\\t\")\n",
    "    if(count == 5):\n",
    "        break\n",
    "    count += 1"
   ]
  },
  {
   "cell_type": "code",
   "execution_count": 17,
   "id": "0959d44e-33dc-40b5-9baf-41c975c314ca",
   "metadata": {},
   "outputs": [
    {
     "name": "stdout",
     "output_type": "stream",
     "text": [
      "0\t1\t2\t3\t4\t"
     ]
    }
   ],
   "source": [
    "count = 0\n",
    "n = 10\n",
    "while(count<=n):\n",
    "    print(count , end = \"\\t\")\n",
    "    count+=1\n",
    "    if(count == 5):\n",
    "        break\n",
    "\n"
   ]
  },
  {
   "cell_type": "code",
   "execution_count": 2,
   "id": "f95592be-5aba-4db4-806b-3ab31c33dc51",
   "metadata": {},
   "outputs": [
    {
     "name": "stdin",
     "output_type": "stream",
     "text": [
      "enter a no 3\n",
      "enter a no 4\n"
     ]
    },
    {
     "name": "stdout",
     "output_type": "stream",
     "text": [
      "4\n"
     ]
    },
    {
     "name": "stdin",
     "output_type": "stream",
     "text": [
      "enter a no 6\n",
      "enter a no 5\n"
     ]
    },
    {
     "name": "stdout",
     "output_type": "stream",
     "text": [
      "5\n"
     ]
    },
    {
     "name": "stdin",
     "output_type": "stream",
     "text": [
      "enter a no 0\n"
     ]
    }
   ],
   "source": [
    "count = 0\n",
    "n=10\n",
    "while(count<n):\n",
    "    n = int(input(\"enter a no\"))\n",
    "    if(n%3 == 0):\n",
    "        continue\n",
    "    elif(n == 0):\n",
    "        break\n",
    "    print(n)\n",
    "    count+=1"
   ]
  },
  {
   "cell_type": "code",
   "execution_count": 3,
   "id": "34e0f4d2-00d5-4a12-94cb-70670162d55a",
   "metadata": {},
   "outputs": [
    {
     "name": "stdout",
     "output_type": "stream",
     "text": [
      "1\n",
      "2\n",
      "4\n",
      "5\n",
      "7\n",
      "8\n"
     ]
    }
   ],
   "source": [
    "count = 0\n",
    "while(count<10):\n",
    "    if(count%3==0):\n",
    "        pass\n",
    "    else:\n",
    "        print(count)\n",
    "    count+=1"
   ]
  },
  {
   "cell_type": "code",
   "execution_count": null,
   "id": "4d349b80-80ba-463c-a3f9-5c3214a02794",
   "metadata": {},
   "outputs": [],
   "source": []
  },
  {
   "cell_type": "code",
   "execution_count": 1,
   "id": "9f4e726e-3887-4f33-a15d-1cc4779d1c67",
   "metadata": {},
   "outputs": [
    {
     "name": "stdout",
     "output_type": "stream",
     "text": [
      "1\t2\t3\t4\t5\t6\t7\t8\t9\t10\tloop completed\n",
      "prog done\n"
     ]
    }
   ],
   "source": [
    "i = 1\n",
    "while(i<=10):\n",
    "    print(i , end= \"\\t\")\n",
    "    i+=1\n",
    "else:\n",
    "    print(\"loop completed\")\n",
    "\n",
    "print(\"prog done\")"
   ]
  },
  {
   "cell_type": "code",
   "execution_count": 2,
   "id": "d1505fe2-42c8-4a33-9d00-22003e3f18ab",
   "metadata": {},
   "outputs": [
    {
     "name": "stdout",
     "output_type": "stream",
     "text": [
      "1\t2\t3\t4\t5\tprog done\n"
     ]
    }
   ],
   "source": [
    "i = 1\n",
    "while(i<=10):\n",
    "    print(i , end= \"\\t\")\n",
    "    i+=1\n",
    "    if(i==6):\n",
    "        break\n",
    "else:\n",
    "    print(\"loop completed\")\n",
    "\n",
    "print(\"prog done\")"
   ]
  },
  {
   "cell_type": "code",
   "execution_count": null,
   "id": "a8062b84-2032-453d-9f11-58679e6ecc1c",
   "metadata": {},
   "outputs": [],
   "source": []
  },
  {
   "cell_type": "code",
   "execution_count": 6,
   "id": "345b4c65-d25e-4116-b457-ce5e1ad0caaf",
   "metadata": {},
   "outputs": [
    {
     "name": "stdout",
     "output_type": "stream",
     "text": [
      "2582782323056\n",
      "s 140725393822776\n",
      "h 140725393822248\n",
      "e 140725393822104\n",
      "h 140725393822248\n",
      "z 140725393823112\n",
      "a 140725393821912\n",
      "n 140725393822536\n"
     ]
    }
   ],
   "source": [
    "msg = \"shehzan\"\n",
    "print(id(msg))\n",
    "for i in msg:\n",
    "    print(i , id(i))\n",
    "    "
   ]
  },
  {
   "cell_type": "code",
   "execution_count": 24,
   "id": "1308a4ad-ca57-4fbb-878d-1bb08ffc82ce",
   "metadata": {},
   "outputs": [
    {
     "name": "stdout",
     "output_type": "stream",
     "text": [
      "2582782323056\n",
      "s 140725393822776\n",
      "h 140725393822248\n",
      "e 140725393822104\n",
      "h 140725393822248\n",
      "z 140725393823112\n",
      "a 140725393821912\n",
      "n 140725393822536\n"
     ]
    }
   ],
   "source": [
    "msg = \"shehzan\"\n",
    "print(id(msg))\n",
    "for i in msg:\n",
    "    print(i , id(i))\n",
    "    "
   ]
  },
  {
   "cell_type": "code",
   "execution_count": 11,
   "id": "6d723bd1-b549-4b78-b241-8e934c231289",
   "metadata": {},
   "outputs": [
    {
     "name": "stdout",
     "output_type": "stream",
     "text": [
      "0 1 2 3 4 5 6 7 8 9 "
     ]
    }
   ],
   "source": [
    "for i in range(10):\n",
    "    print(i, end= \" \")"
   ]
  },
  {
   "cell_type": "code",
   "execution_count": 12,
   "id": "8963fa8a-eb07-4cf6-ab61-c8161428d313",
   "metadata": {},
   "outputs": [
    {
     "name": "stdout",
     "output_type": "stream",
     "text": [
      "-10 -8 -6 -4 -2 "
     ]
    }
   ],
   "source": [
    "for i in range(-10 , 0 , 2):\n",
    "    print(i, end = \" \")"
   ]
  },
  {
   "cell_type": "code",
   "execution_count": 15,
   "id": "e3b96413-5926-49ba-8aaa-23cf911005b1",
   "metadata": {},
   "outputs": [],
   "source": [
    "for i in range(10,0,1):\n",
    "    print(i)"
   ]
  },
  {
   "cell_type": "code",
   "execution_count": 21,
   "id": "7920760c-d739-4220-8829-a24a0970a106",
   "metadata": {},
   "outputs": [
    {
     "name": "stdout",
     "output_type": "stream",
     "text": [
      "1 140725393758648\n",
      "32\n",
      "2 140725393758680\n",
      "32\n",
      "3 140725393758712\n",
      "32\n",
      "4 140725393758744\n",
      "32\n",
      "5 140725393758776\n",
      "32\n",
      "28\n"
     ]
    }
   ],
   "source": [
    "for i in range(1,6):\n",
    "    print(i, id(i))\n",
    "    print(id(i)-id(i-1))\n",
    "\n",
    "x = 1\n",
    "print(x.__sizeof__())"
   ]
  },
  {
   "cell_type": "code",
   "execution_count": null,
   "id": "2b1c204f-b76a-40c8-8cd9-fecd51c04eee",
   "metadata": {},
   "outputs": [],
   "source": []
  },
  {
   "cell_type": "code",
   "execution_count": 29,
   "id": "1521bcfb-2793-407f-ad50-f0303bb72bdd",
   "metadata": {},
   "outputs": [
    {
     "name": "stdin",
     "output_type": "stream",
     "text": [
      "enter no of which fact is needed 6\n"
     ]
    },
    {
     "name": "stdout",
     "output_type": "stream",
     "text": [
      "factorial is  720\n"
     ]
    }
   ],
   "source": [
    "no = int(input(\"enter no of which fact is needed\"))\n",
    "fact = 1\n",
    "for i in range(2,no+1):\n",
    "    fact=i*fact\n",
    "print(\"factorial is \",fact)"
   ]
  },
  {
   "cell_type": "code",
   "execution_count": 32,
   "id": "032d8ce8-5fa8-458e-8455-340b9843e446",
   "metadata": {},
   "outputs": [
    {
     "name": "stdin",
     "output_type": "stream",
     "text": [
      "enter no words of fibb 10\n"
     ]
    },
    {
     "name": "stdout",
     "output_type": "stream",
     "text": [
      "0\n",
      "1\n",
      "1\n",
      "2\n",
      "3\n",
      "5\n",
      "8\n",
      "13\n",
      "21\n",
      "34\n"
     ]
    }
   ],
   "source": [
    "n = int(input(\"enter no words of fibb\"))\n",
    "a = 0\n",
    "b = 1\n",
    "\n",
    "print(0)\n",
    "print(1)\n",
    "for i in range(0,n-2):\n",
    "    print(a+b)\n",
    "    temp = a\n",
    "    a = b\n",
    "    b = temp +b"
   ]
  },
  {
   "cell_type": "code",
   "execution_count": 33,
   "id": "d513b0d2-e967-444e-8e9d-644ff7a205a9",
   "metadata": {},
   "outputs": [
    {
     "name": "stdout",
     "output_type": "stream",
     "text": [
      "0\n",
      "1\n",
      "1\n",
      "2\n",
      "3\n",
      "5\n",
      "8\n",
      "13\n",
      "21\n",
      "34\n"
     ]
    }
   ],
   "source": [
    "a = 0\n",
    "b = 1\n",
    "c = 0\n",
    "for i in range(n):\n",
    "    print(a)\n",
    "    c = a+b\n",
    "    a = b\n",
    "    b = c\n",
    "    "
   ]
  },
  {
   "cell_type": "code",
   "execution_count": 37,
   "id": "d100dc3a-c201-4813-b89b-8491348ebf99",
   "metadata": {},
   "outputs": [
    {
     "name": "stdin",
     "output_type": "stream",
     "text": [
      "enter a no 12\n"
     ]
    },
    {
     "name": "stdout",
     "output_type": "stream",
     "text": [
      "1\n",
      "2\n",
      "3\n",
      "4\n",
      "6\n",
      "12\n"
     ]
    }
   ],
   "source": [
    "n = int(input(\"enter a no\"))\n",
    "for i in range(1,n//2+1):\n",
    "    if(n%i==0):\n",
    "        print(i)\n",
    "print(n)\n",
    "        "
   ]
  },
  {
   "cell_type": "code",
   "execution_count": 51,
   "id": "6afece6d-a734-470f-84c9-cd94df4d2c84",
   "metadata": {},
   "outputs": [
    {
     "name": "stdin",
     "output_type": "stream",
     "text": [
      "enter no 44\n"
     ]
    },
    {
     "name": "stdout",
     "output_type": "stream",
     "text": [
      "not prime\n"
     ]
    }
   ],
   "source": [
    "n = int(input(\"enter no\"))\n",
    "a = 0\n",
    "for i in range(2,n//2+1):\n",
    "    if (n%i==0):\n",
    "        print(\"not prime\")\n",
    "        break\n",
    "else :\n",
    "    print(\"prime\")\n",
    "        \n",
    "    \n",
    "\n",
    "    "
   ]
  },
  {
   "cell_type": "code",
   "execution_count": 52,
   "id": "e90910ea-3920-462d-9313-437416449d95",
   "metadata": {},
   "outputs": [
    {
     "name": "stdout",
     "output_type": "stream",
     "text": [
      "1\n",
      "2\n",
      "3\n",
      "4\n",
      "5\n",
      "6\n",
      "7\n",
      "8\n",
      "9\n",
      "loop completed\n"
     ]
    }
   ],
   "source": [
    "for i in range(1,10):\n",
    "    print(i)\n",
    "else:\n",
    "    print(\"loop completed\")"
   ]
  },
  {
   "cell_type": "code",
   "execution_count": 53,
   "id": "3f0a4451-5725-4140-b7a3-cd8271179590",
   "metadata": {},
   "outputs": [
    {
     "name": "stdout",
     "output_type": "stream",
     "text": [
      "1\n",
      "2\n",
      "3\n",
      "4\n",
      "5\n"
     ]
    }
   ],
   "source": [
    "for i in range(1,10):\n",
    "    if(i>5):\n",
    "        break\n",
    "    else:\n",
    "        print(i)\n",
    "else:\n",
    "    print(\"loop completed\")"
   ]
  },
  {
   "cell_type": "code",
   "execution_count": 57,
   "id": "474b96d4-3c26-42af-909e-55cdc8d50fd6",
   "metadata": {},
   "outputs": [
    {
     "name": "stdout",
     "output_type": "stream",
     "text": [
      "1 2 3 5 7 11 13 17 19 23 29 31 37 41 43 47 53 59 61 67 71 73 79 83 89 97 "
     ]
    }
   ],
   "source": [
    "for i in range(1,100):\n",
    "    for j in range(2,i//2 + 1):\n",
    "        if(i==j):\n",
    "            continue\n",
    "        elif (i%j==0):\n",
    "            break\n",
    "    else:\n",
    "        print(i , end= \" \")\n",
    "\n",
    "\n",
    "            \n",
    "        "
   ]
  },
  {
   "cell_type": "code",
   "execution_count": null,
   "id": "945493de-7ce9-4749-b05e-470bec1d3a27",
   "metadata": {},
   "outputs": [],
   "source": []
  },
  {
   "cell_type": "code",
   "execution_count": 60,
   "id": "6d784734-a639-4503-92b7-ff9fe5654b10",
   "metadata": {},
   "outputs": [
    {
     "name": "stdout",
     "output_type": "stream",
     "text": [
      "******\n",
      "\n",
      "******\n",
      "\n",
      "******\n",
      "\n",
      "******\n",
      "\n",
      "******\n",
      "\n"
     ]
    }
   ],
   "source": [
    "for i in range(5):\n",
    "    for j in range(6):\n",
    "        print(\"*\", end=\"\")\n",
    "    print(\"\\n\")\n",
    "    "
   ]
  },
  {
   "cell_type": "code",
   "execution_count": 62,
   "id": "4af99cf9-0ee1-45d9-8b45-f3cf22b0d61c",
   "metadata": {},
   "outputs": [
    {
     "name": "stdout",
     "output_type": "stream",
     "text": [
      "*\n",
      "\n",
      "**\n",
      "\n",
      "***\n",
      "\n",
      "****\n",
      "\n",
      "*****\n",
      "\n"
     ]
    }
   ],
   "source": [
    "for i in range(1,6):\n",
    "    for j in range(i):\n",
    "        print(\"*\", end=\"\")\n",
    "    print(\"\\n\")"
   ]
  },
  {
   "cell_type": "code",
   "execution_count": 65,
   "id": "bd14f097-ca8b-47ab-b5cd-a4d472531ac8",
   "metadata": {},
   "outputs": [
    {
     "name": "stdout",
     "output_type": "stream",
     "text": [
      "*****\n",
      "\n",
      "****\n",
      "\n",
      "***\n",
      "\n",
      "**\n",
      "\n",
      "*\n",
      "\n"
     ]
    }
   ],
   "source": [
    "for i in range(1,6):\n",
    "    for j in range(6-i ):\n",
    "        print(\"*\", end=\"\")\n",
    "    print(\"\\n\")"
   ]
  },
  {
   "cell_type": "code",
   "execution_count": 67,
   "id": "810b5e09-74e5-49e9-964e-aa6ce37d761e",
   "metadata": {},
   "outputs": [
    {
     "name": "stdin",
     "output_type": "stream",
     "text": [
      "enter a operator +\n",
      "enter a no 1\n",
      "enter a no 2\n"
     ]
    },
    {
     "name": "stdout",
     "output_type": "stream",
     "text": [
      "3.0\n"
     ]
    }
   ],
   "source": [
    "o = input(\"enter a operator\")\n",
    "a = float(input(\"enter a no\"))\n",
    "b = float(input(\"enter a no\"))\n",
    "match o:\n",
    "    case \"+\":\n",
    "        print(a+b)\n",
    "    case \"-\":\n",
    "        print(a-b)\n",
    "    case \"*\":\n",
    "        print(a*b)\n",
    "    case \"/\":\n",
    "        print(a/b)\n",
    "    case _ :\n",
    "        print(\"invalid operator\")"
   ]
  },
  {
   "cell_type": "code",
   "execution_count": null,
   "id": "6d29297d-14b3-4baa-81cb-c2e5ca51c2a2",
   "metadata": {},
   "outputs": [],
   "source": []
  }
 ],
 "metadata": {
  "kernelspec": {
   "display_name": "Python 3 (ipykernel)",
   "language": "python",
   "name": "python3"
  },
  "language_info": {
   "codemirror_mode": {
    "name": "ipython",
    "version": 3
   },
   "file_extension": ".py",
   "mimetype": "text/x-python",
   "name": "python",
   "nbconvert_exporter": "python",
   "pygments_lexer": "ipython3",
   "version": "3.12.3"
  }
 },
 "nbformat": 4,
 "nbformat_minor": 5
}
