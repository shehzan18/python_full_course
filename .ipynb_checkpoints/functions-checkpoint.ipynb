{
 "cells": [
  {
   "cell_type": "code",
   "execution_count": 2,
   "id": "3a7ce32e-87ce-4e36-9c58-6e5e20fab3fc",
   "metadata": {},
   "outputs": [],
   "source": [
    "def add(a,b,c):\n",
    "    return a+b+c\n"
   ]
  },
  {
   "cell_type": "code",
   "execution_count": 3,
   "id": "6c767080-d172-4c4e-94fb-d53da4452eba",
   "metadata": {},
   "outputs": [
    {
     "name": "stdout",
     "output_type": "stream",
     "text": [
      "6\n"
     ]
    }
   ],
   "source": [
    "d = add(1,2,3)\n",
    "print(d)"
   ]
  },
  {
   "cell_type": "code",
   "execution_count": 4,
   "id": "a561a4c3-64ec-4adf-bd62-235a2a6c20a2",
   "metadata": {},
   "outputs": [
    {
     "name": "stdout",
     "output_type": "stream",
     "text": [
      "inside main fun id are 140716136209112 140716136209432 140716136209752\n",
      "140716136209112 140716136209432 140716136209752\n"
     ]
    }
   ],
   "source": [
    "def location(a,b,c):\n",
    "    print(id(a) , id(b) , id(c))\n",
    "\n",
    "x,y,z = 10,20,30\n",
    "print(\"inside main fun id are\" , id(x) , id(y) , id(z))\n",
    "location(x,y,z)"
   ]
  },
  {
   "cell_type": "code",
   "execution_count": null,
   "id": "354f20e5-4cbb-4750-8ed1-909793035215",
   "metadata": {},
   "outputs": [],
   "source": []
  },
  {
   "cell_type": "code",
   "execution_count": 5,
   "id": "30f503ef-2cef-4e29-ba21-f2e45990424b",
   "metadata": {},
   "outputs": [
    {
     "name": "stdout",
     "output_type": "stream",
     "text": [
      "base is 2000 , allowance is 2000 , tax is 500\n",
      "3500\n",
      "base is 2000 , allowance is 1000 , tax is 3000\n",
      "0\n"
     ]
    }
   ],
   "source": [
    "def salary(base , allowance , tax):\n",
    "    print(f\"base is {base} , allowance is {allowance} , tax is {tax}\")\n",
    "    net = base + allowance -tax\n",
    "    return net\n",
    "\n",
    "print(salary(2000,2000,500))\n",
    "print(salary(2000,1000,3000))\n",
    "# positional arguments"
   ]
  },
  {
   "cell_type": "code",
   "execution_count": 6,
   "id": "74e16211-05f7-4548-bcca-a0b8a6b60f09",
   "metadata": {},
   "outputs": [
    {
     "name": "stdout",
     "output_type": "stream",
     "text": [
      "base is 3000 , allowance is 4000 , tax is 1000\n",
      "6000\n"
     ]
    }
   ],
   "source": [
    "d = salary(tax = 1000 , base = 3000 , allowance  = 4000)\n",
    "print(d)\n",
    "# keyworrd arguments "
   ]
  },
  {
   "cell_type": "code",
   "execution_count": null,
   "id": "733ddaf7-ce40-4c76-82f5-0725d7b8e71e",
   "metadata": {},
   "outputs": [],
   "source": []
  },
  {
   "cell_type": "code",
   "execution_count": 7,
   "id": "c39efd52-11fd-4d89-a066-63ec4db57936",
   "metadata": {},
   "outputs": [
    {
     "name": "stdout",
     "output_type": "stream",
     "text": [
      "9\n"
     ]
    },
    {
     "ename": "TypeError",
     "evalue": "add() missing 1 required positional argument: 'c'",
     "output_type": "error",
     "traceback": [
      "\u001b[1;31m---------------------------------------------------------------------------\u001b[0m",
      "\u001b[1;31mTypeError\u001b[0m                                 Traceback (most recent call last)",
      "Cell \u001b[1;32mIn[7], line 5\u001b[0m\n\u001b[0;32m      2\u001b[0m     \u001b[38;5;28;01mreturn\u001b[39;00m a\u001b[38;5;241m+\u001b[39mb\u001b[38;5;241m+\u001b[39mc\n\u001b[0;32m      4\u001b[0m \u001b[38;5;28mprint\u001b[39m(add(\u001b[38;5;241m2\u001b[39m,\u001b[38;5;241m3\u001b[39m,\u001b[38;5;241m4\u001b[39m))\n\u001b[1;32m----> 5\u001b[0m \u001b[38;5;28mprint\u001b[39m(\u001b[43madd\u001b[49m\u001b[43m(\u001b[49m\u001b[38;5;241;43m2\u001b[39;49m\u001b[43m,\u001b[49m\u001b[38;5;241;43m3\u001b[39;49m\u001b[43m)\u001b[49m)\n",
      "\u001b[1;31mTypeError\u001b[0m: add() missing 1 required positional argument: 'c'"
     ]
    }
   ],
   "source": [
    "def add(a,b,c):\n",
    "    return a+b+c\n",
    "\n",
    "print(add(2,3,4))\n",
    "print(add(2,3))"
   ]
  },
  {
   "cell_type": "code",
   "execution_count": 9,
   "id": "3a9e84aa-8c02-492e-bfbe-56c4121a490b",
   "metadata": {},
   "outputs": [],
   "source": [
    "def add(a,b=0 , c=0):\n",
    "    # b and c are default arguments set to  be 0 initially\n",
    "    return a+b+c"
   ]
  },
  {
   "cell_type": "code",
   "execution_count": 10,
   "id": "472557ad-0f19-4154-a1ce-e99ed1dda813",
   "metadata": {},
   "outputs": [
    {
     "name": "stdout",
     "output_type": "stream",
     "text": [
      "6 3 1\n"
     ]
    }
   ],
   "source": [
    "print(add(1,2,3) , add(1,2) , (1))  # b and c are updated accordingly"
   ]
  },
  {
   "cell_type": "code",
   "execution_count": null,
   "id": "0410cb80-4088-4297-b595-88455fae7e2f",
   "metadata": {},
   "outputs": [],
   "source": []
  },
  {
   "cell_type": "code",
   "execution_count": 11,
   "id": "e2f913d6-6097-42cb-81cd-cb32fb5bd073",
   "metadata": {},
   "outputs": [],
   "source": [
    "# default arguments are not created again n again on every call\n"
   ]
  },
  {
   "cell_type": "code",
   "execution_count": 12,
   "id": "b1b3ff83-5193-4aa7-bdcc-545124405fde",
   "metadata": {},
   "outputs": [],
   "source": [
    "def additem(val , l = []) :\n",
    "    l.append(val)\n",
    "    return l\n"
   ]
  },
  {
   "cell_type": "code",
   "execution_count": 13,
   "id": "e9b0e1fa-f1c1-4efa-9d06-a2d657b8c854",
   "metadata": {},
   "outputs": [
    {
     "data": {
      "text/plain": [
       "[1, 2, 3, 4, 5]"
      ]
     },
     "execution_count": 13,
     "metadata": {},
     "output_type": "execute_result"
    }
   ],
   "source": [
    "l1 = [1,2,3,4]\n",
    "additem(5 , l1)\n",
    "l1"
   ]
  },
  {
   "cell_type": "code",
   "execution_count": 14,
   "id": "0de3ad0d-e3d7-418b-bcf7-20ef123b5fbc",
   "metadata": {},
   "outputs": [
    {
     "name": "stdout",
     "output_type": "stream",
     "text": [
      "[22]\n"
     ]
    }
   ],
   "source": [
    "print(additem(22))"
   ]
  },
  {
   "cell_type": "code",
   "execution_count": 15,
   "id": "f609c731-1da0-4cfb-9a38-40b5ed8b97c3",
   "metadata": {},
   "outputs": [
    {
     "name": "stdout",
     "output_type": "stream",
     "text": [
      "[22, 33]\n"
     ]
    }
   ],
   "source": [
    "print(additem(33))"
   ]
  },
  {
   "cell_type": "code",
   "execution_count": 16,
   "id": "14e04409-1db5-42a5-9260-ddf147dd78b7",
   "metadata": {},
   "outputs": [
    {
     "name": "stdout",
     "output_type": "stream",
     "text": [
      "[22, 33, 44]\n"
     ]
    }
   ],
   "source": [
    "print(additem(44))"
   ]
  },
  {
   "cell_type": "code",
   "execution_count": 17,
   "id": "7ceffe39-ac78-495e-954c-2af6d5c659d2",
   "metadata": {},
   "outputs": [
    {
     "data": {
      "text/plain": [
       "[1, 2, 3, 4, 5, 6]"
      ]
     },
     "execution_count": 17,
     "metadata": {},
     "output_type": "execute_result"
    }
   ],
   "source": [
    "additem(6 , l1)\n",
    "l1"
   ]
  },
  {
   "cell_type": "code",
   "execution_count": 18,
   "id": "3aa82a93-ceff-4960-b75a-2a145c16f00c",
   "metadata": {},
   "outputs": [
    {
     "name": "stdout",
     "output_type": "stream",
     "text": [
      "[22, 33, 44, 55]\n"
     ]
    }
   ],
   "source": [
    "print(additem(55))"
   ]
  },
  {
   "cell_type": "code",
   "execution_count": null,
   "id": "54971b5a-117b-42fd-963d-519d18a83a0a",
   "metadata": {},
   "outputs": [],
   "source": []
  },
  {
   "cell_type": "code",
   "execution_count": 20,
   "id": "df422d6f-2a61-471a-b0d4-fae32c2c35db",
   "metadata": {},
   "outputs": [],
   "source": [
    "def add(a,b,c,d,e,f):\n",
    "    print(a,b,c,d,e,f)\n",
    "    return (a+b+c+d+e+f)\n"
   ]
  },
  {
   "cell_type": "code",
   "execution_count": 21,
   "id": "f54e12f5-c4d5-413b-aac5-58ca660919cd",
   "metadata": {},
   "outputs": [
    {
     "name": "stdout",
     "output_type": "stream",
     "text": [
      "1 2 3 4 5 6\n"
     ]
    },
    {
     "data": {
      "text/plain": [
       "21"
      ]
     },
     "execution_count": 21,
     "metadata": {},
     "output_type": "execute_result"
    }
   ],
   "source": [
    "add(1,2,3,4,5,6)"
   ]
  },
  {
   "cell_type": "code",
   "execution_count": 22,
   "id": "78bb1e17-8753-4201-b721-73b9ae0d3db3",
   "metadata": {},
   "outputs": [
    {
     "name": "stdout",
     "output_type": "stream",
     "text": [
      "3 1 2 6 5 4\n"
     ]
    },
    {
     "data": {
      "text/plain": [
       "21"
      ]
     },
     "execution_count": 22,
     "metadata": {},
     "output_type": "execute_result"
    }
   ],
   "source": [
    "add(b=1 , c=2 , a = 3 , f = 4 , e = 5 , d = 6)"
   ]
  },
  {
   "cell_type": "code",
   "execution_count": 24,
   "id": "6d28c8e2-4d11-4ab8-85bf-0178ffeecad8",
   "metadata": {},
   "outputs": [],
   "source": [
    "def add(a,b,/,c,d):  # before / only positional arg and after / positional or keyword or mixed\n",
    "    print(a,b,c,d)\n",
    "    return a+b+c+d\n"
   ]
  },
  {
   "cell_type": "code",
   "execution_count": 25,
   "id": "3c63dc9c-99a6-46b9-adb8-6104d6351810",
   "metadata": {},
   "outputs": [
    {
     "name": "stdout",
     "output_type": "stream",
     "text": [
      "1 2 3 4\n"
     ]
    },
    {
     "data": {
      "text/plain": [
       "10"
      ]
     },
     "execution_count": 25,
     "metadata": {},
     "output_type": "execute_result"
    }
   ],
   "source": [
    "add(1,2 , 3,4)"
   ]
  },
  {
   "cell_type": "code",
   "execution_count": 27,
   "id": "7f32f4f0-7fbf-4e92-a227-27b21151a49c",
   "metadata": {},
   "outputs": [
    {
     "name": "stdout",
     "output_type": "stream",
     "text": [
      "1 2 3 4\n"
     ]
    },
    {
     "data": {
      "text/plain": [
       "10"
      ]
     },
     "execution_count": 27,
     "metadata": {},
     "output_type": "execute_result"
    }
   ],
   "source": [
    "add(1,2, d = 4 , c = 3)"
   ]
  },
  {
   "cell_type": "code",
   "execution_count": 28,
   "id": "a12e3678-05a3-47c5-8e9f-51b6e0fff09b",
   "metadata": {},
   "outputs": [
    {
     "ename": "TypeError",
     "evalue": "add() got some positional-only arguments passed as keyword arguments: 'a, b'",
     "output_type": "error",
     "traceback": [
      "\u001b[1;31m---------------------------------------------------------------------------\u001b[0m",
      "\u001b[1;31mTypeError\u001b[0m                                 Traceback (most recent call last)",
      "Cell \u001b[1;32mIn[28], line 1\u001b[0m\n\u001b[1;32m----> 1\u001b[0m \u001b[43madd\u001b[49m\u001b[43m(\u001b[49m\u001b[43ma\u001b[49m\u001b[38;5;241;43m=\u001b[39;49m\u001b[38;5;241;43m1\u001b[39;49m\u001b[43m \u001b[49m\u001b[43m,\u001b[49m\u001b[43m \u001b[49m\u001b[43mb\u001b[49m\u001b[38;5;241;43m=\u001b[39;49m\u001b[38;5;241;43m2\u001b[39;49m\u001b[43m \u001b[49m\u001b[43m,\u001b[49m\u001b[43m \u001b[49m\u001b[43mc\u001b[49m\u001b[38;5;241;43m=\u001b[39;49m\u001b[38;5;241;43m3\u001b[39;49m\u001b[43m \u001b[49m\u001b[43m,\u001b[49m\u001b[43m \u001b[49m\u001b[43md\u001b[49m\u001b[38;5;241;43m=\u001b[39;49m\u001b[38;5;241;43m4\u001b[39;49m\u001b[43m)\u001b[49m\n",
      "\u001b[1;31mTypeError\u001b[0m: add() got some positional-only arguments passed as keyword arguments: 'a, b'"
     ]
    }
   ],
   "source": [
    "add(a=1 , b=2 , c=3 , d=4)"
   ]
  },
  {
   "cell_type": "code",
   "execution_count": null,
   "id": "d1a75799-a4b4-49c3-8f54-0fe96d6ae48a",
   "metadata": {},
   "outputs": [],
   "source": []
  },
  {
   "cell_type": "code",
   "execution_count": 30,
   "id": "f9a5200f-0f4f-4896-99ad-ad772fae1ada",
   "metadata": {},
   "outputs": [],
   "source": [
    "def add(a,b,*, c , d):  # after * only keywords are allowed before that anything \n",
    "    print(a,b,c,d)\n",
    "    return a+b+c+d\n",
    "    "
   ]
  },
  {
   "cell_type": "code",
   "execution_count": 31,
   "id": "731d03b2-8fa1-44a3-a9e1-c375f31da529",
   "metadata": {},
   "outputs": [
    {
     "ename": "TypeError",
     "evalue": "add() takes 2 positional arguments but 4 were given",
     "output_type": "error",
     "traceback": [
      "\u001b[1;31m---------------------------------------------------------------------------\u001b[0m",
      "\u001b[1;31mTypeError\u001b[0m                                 Traceback (most recent call last)",
      "Cell \u001b[1;32mIn[31], line 1\u001b[0m\n\u001b[1;32m----> 1\u001b[0m \u001b[43madd\u001b[49m\u001b[43m(\u001b[49m\u001b[38;5;241;43m1\u001b[39;49m\u001b[43m,\u001b[49m\u001b[38;5;241;43m2\u001b[39;49m\u001b[43m,\u001b[49m\u001b[38;5;241;43m3\u001b[39;49m\u001b[43m,\u001b[49m\u001b[38;5;241;43m4\u001b[39;49m\u001b[43m)\u001b[49m\n",
      "\u001b[1;31mTypeError\u001b[0m: add() takes 2 positional arguments but 4 were given"
     ]
    }
   ],
   "source": [
    "add(1,2,3,4)"
   ]
  },
  {
   "cell_type": "code",
   "execution_count": 32,
   "id": "ac527e5c-314b-4342-89f1-aba5887c355a",
   "metadata": {},
   "outputs": [
    {
     "name": "stdout",
     "output_type": "stream",
     "text": [
      "1 2 3 4\n"
     ]
    },
    {
     "data": {
      "text/plain": [
       "10"
      ]
     },
     "execution_count": 32,
     "metadata": {},
     "output_type": "execute_result"
    }
   ],
   "source": [
    "add(1,2,c = 3 , d=4)"
   ]
  },
  {
   "cell_type": "code",
   "execution_count": 34,
   "id": "c1fce3ad-e6c8-415d-b42d-baef1476d81b",
   "metadata": {},
   "outputs": [
    {
     "name": "stdout",
     "output_type": "stream",
     "text": [
      "1 2 3 4\n"
     ]
    },
    {
     "data": {
      "text/plain": [
       "10"
      ]
     },
     "execution_count": 34,
     "metadata": {},
     "output_type": "execute_result"
    }
   ],
   "source": [
    "add(a=1 , d = 4 , c = 3 , b = 2)"
   ]
  },
  {
   "cell_type": "code",
   "execution_count": null,
   "id": "85762ecc-b484-4776-85a5-2fe547a0d930",
   "metadata": {},
   "outputs": [],
   "source": []
  },
  {
   "cell_type": "code",
   "execution_count": 38,
   "id": "ce93fdc8-6515-4e1f-8c7b-92ae410da23d",
   "metadata": {},
   "outputs": [],
   "source": [
    "def add(a,b,/,c,d,*,e,f) : # a and b must be positional c , d can be anything , e and f must be keywords\n",
    "    return a+b+c+d+e+f"
   ]
  },
  {
   "cell_type": "code",
   "execution_count": null,
   "id": "5df5f51b-a67c-4677-a8cc-fd8531b3b8d2",
   "metadata": {},
   "outputs": [],
   "source": []
  },
  {
   "cell_type": "code",
   "execution_count": 40,
   "id": "ba040752-8e64-4911-8ead-036b46ab0fa1",
   "metadata": {},
   "outputs": [
    {
     "data": {
      "text/plain": [
       "25"
      ]
     },
     "execution_count": 40,
     "metadata": {},
     "output_type": "execute_result"
    }
   ],
   "source": [
    "def add(a,b,/):\n",
    "    return a+b\n",
    "a = 12\n",
    "b = 13\n",
    "add(a,b)"
   ]
  },
  {
   "cell_type": "code",
   "execution_count": 41,
   "id": "1f86ebe6-7f0c-43f7-815e-87a3530167a3",
   "metadata": {},
   "outputs": [
    {
     "ename": "TypeError",
     "evalue": "add() takes 0 positional arguments but 2 were given",
     "output_type": "error",
     "traceback": [
      "\u001b[1;31m---------------------------------------------------------------------------\u001b[0m",
      "\u001b[1;31mTypeError\u001b[0m                                 Traceback (most recent call last)",
      "Cell \u001b[1;32mIn[41], line 5\u001b[0m\n\u001b[0;32m      3\u001b[0m a \u001b[38;5;241m=\u001b[39m \u001b[38;5;241m12\u001b[39m\n\u001b[0;32m      4\u001b[0m b \u001b[38;5;241m=\u001b[39m \u001b[38;5;241m13\u001b[39m\n\u001b[1;32m----> 5\u001b[0m \u001b[43madd\u001b[49m\u001b[43m(\u001b[49m\u001b[43ma\u001b[49m\u001b[43m,\u001b[49m\u001b[43mb\u001b[49m\u001b[43m)\u001b[49m\n",
      "\u001b[1;31mTypeError\u001b[0m: add() takes 0 positional arguments but 2 were given"
     ]
    }
   ],
   "source": [
    "def add(* , a , b):\n",
    "    return a+b\n",
    "a = 12\n",
    "b = 13\n",
    "add(a,b)"
   ]
  },
  {
   "cell_type": "code",
   "execution_count": 42,
   "id": "5e5ab3c8-f043-42a3-a754-5c1ab94f9427",
   "metadata": {},
   "outputs": [
    {
     "ename": "TypeError",
     "evalue": "add() got an unexpected keyword argument 'x'",
     "output_type": "error",
     "traceback": [
      "\u001b[1;31m---------------------------------------------------------------------------\u001b[0m",
      "\u001b[1;31mTypeError\u001b[0m                                 Traceback (most recent call last)",
      "Cell \u001b[1;32mIn[42], line 1\u001b[0m\n\u001b[1;32m----> 1\u001b[0m \u001b[43madd\u001b[49m\u001b[43m(\u001b[49m\u001b[43mx\u001b[49m\u001b[43m \u001b[49m\u001b[38;5;241;43m=\u001b[39;49m\u001b[43m \u001b[49m\u001b[38;5;241;43m1\u001b[39;49m\u001b[43m \u001b[49m\u001b[43m,\u001b[49m\u001b[43m \u001b[49m\u001b[43my\u001b[49m\u001b[43m \u001b[49m\u001b[38;5;241;43m=\u001b[39;49m\u001b[43m \u001b[49m\u001b[38;5;241;43m2\u001b[39;49m\u001b[43m)\u001b[49m\n",
      "\u001b[1;31mTypeError\u001b[0m: add() got an unexpected keyword argument 'x'"
     ]
    }
   ],
   "source": [
    "add(x = 1 , y = 2)"
   ]
  },
  {
   "cell_type": "code",
   "execution_count": 43,
   "id": "5ceaa2cb-2300-4b40-a51e-14b1f837c55a",
   "metadata": {},
   "outputs": [
    {
     "data": {
      "text/plain": [
       "3"
      ]
     },
     "execution_count": 43,
     "metadata": {},
     "output_type": "execute_result"
    }
   ],
   "source": [
    "add(b = 2 , a=1)"
   ]
  },
  {
   "cell_type": "code",
   "execution_count": null,
   "id": "fdb1d4b5-069f-4739-8fd7-1e61fbfc3e2c",
   "metadata": {},
   "outputs": [],
   "source": []
  },
  {
   "cell_type": "code",
   "execution_count": 52,
   "id": "cf31a936-c996-4099-9e44-eea1c1cfb1d8",
   "metadata": {},
   "outputs": [
    {
     "name": "stdout",
     "output_type": "stream",
     "text": [
      "<class 'tuple'> (1,)\n"
     ]
    }
   ],
   "source": [
    "def fun(*param):\n",
    "    print(type(param) ,param)\n",
    "fun(1)        # parameters are taken as a tuple"
   ]
  },
  {
   "cell_type": "code",
   "execution_count": 53,
   "id": "df8d5b4e-ac17-4ff3-9a28-9b982e9b1bd9",
   "metadata": {},
   "outputs": [
    {
     "name": "stdout",
     "output_type": "stream",
     "text": [
      "<class 'tuple'> (1, 2, 3, 4, 5, 6, 7, 8, 9, 10)\n"
     ]
    }
   ],
   "source": [
    "fun(1,2,3,4,5,6,7,8,9,10)"
   ]
  },
  {
   "cell_type": "code",
   "execution_count": 54,
   "id": "216e3ca6-85cd-4bab-b22f-b28504f849d0",
   "metadata": {},
   "outputs": [
    {
     "name": "stdout",
     "output_type": "stream",
     "text": [
      "<class 'tuple'> (1, 9.99, True, 'heya')\n"
     ]
    }
   ],
   "source": [
    "fun(1, 9.99 , True , \"heya\")"
   ]
  },
  {
   "cell_type": "code",
   "execution_count": null,
   "id": "4ef38d99-68cf-468b-98b6-d3bac85289c5",
   "metadata": {},
   "outputs": [],
   "source": []
  },
  {
   "cell_type": "code",
   "execution_count": 56,
   "id": "bf4fa4b9-d880-4c01-839e-42460913a883",
   "metadata": {},
   "outputs": [],
   "source": [
    "def fun(a,b, *c):\n",
    "    print(a,b,c)"
   ]
  },
  {
   "cell_type": "code",
   "execution_count": 60,
   "id": "1a8e269e-4bf5-4269-a532-d95154959caa",
   "metadata": {},
   "outputs": [
    {
     "ename": "TypeError",
     "evalue": "fun() missing 2 required positional arguments: 'a' and 'b'",
     "output_type": "error",
     "traceback": [
      "\u001b[1;31m---------------------------------------------------------------------------\u001b[0m",
      "\u001b[1;31mTypeError\u001b[0m                                 Traceback (most recent call last)",
      "Cell \u001b[1;32mIn[60], line 1\u001b[0m\n\u001b[1;32m----> 1\u001b[0m \u001b[43mfun\u001b[49m\u001b[43m(\u001b[49m\u001b[43m)\u001b[49m\n",
      "\u001b[1;31mTypeError\u001b[0m: fun() missing 2 required positional arguments: 'a' and 'b'"
     ]
    }
   ],
   "source": [
    "fun()"
   ]
  },
  {
   "cell_type": "code",
   "execution_count": 57,
   "id": "6c7f3082-7b5e-497a-808b-76e671c74a91",
   "metadata": {},
   "outputs": [
    {
     "name": "stdout",
     "output_type": "stream",
     "text": [
      "1 2 ()\n"
     ]
    }
   ],
   "source": [
    "fun(1,2)"
   ]
  },
  {
   "cell_type": "code",
   "execution_count": 58,
   "id": "89926544-696d-44ee-918a-3f02e8d5c208",
   "metadata": {},
   "outputs": [
    {
     "name": "stdout",
     "output_type": "stream",
     "text": [
      "1 2 (3, 4)\n"
     ]
    }
   ],
   "source": [
    "fun(1,2,3,4)"
   ]
  },
  {
   "cell_type": "code",
   "execution_count": 59,
   "id": "b0024039-1187-45b0-8831-b4faa69cd136",
   "metadata": {},
   "outputs": [
    {
     "name": "stdout",
     "output_type": "stream",
     "text": [
      "1 2 ('hey', 9, 99)\n"
     ]
    }
   ],
   "source": [
    "fun(1,2,\"hey\" , 9,99)"
   ]
  },
  {
   "cell_type": "code",
   "execution_count": null,
   "id": "afee28b4-6d2b-45b9-9bc1-42566a6f1e0a",
   "metadata": {},
   "outputs": [],
   "source": []
  },
  {
   "cell_type": "code",
   "execution_count": 61,
   "id": "b77d2109-061d-473b-a596-d1e6c09df0a8",
   "metadata": {},
   "outputs": [],
   "source": [
    "def fun2(*a , b, c):\n",
    "    print(a,b,c)"
   ]
  },
  {
   "cell_type": "code",
   "execution_count": 62,
   "id": "081413a8-44c4-4db2-bf48-28a714f2be21",
   "metadata": {},
   "outputs": [
    {
     "ename": "TypeError",
     "evalue": "fun2() missing 2 required keyword-only arguments: 'b' and 'c'",
     "output_type": "error",
     "traceback": [
      "\u001b[1;31m---------------------------------------------------------------------------\u001b[0m",
      "\u001b[1;31mTypeError\u001b[0m                                 Traceback (most recent call last)",
      "Cell \u001b[1;32mIn[62], line 1\u001b[0m\n\u001b[1;32m----> 1\u001b[0m \u001b[43mfun2\u001b[49m\u001b[43m(\u001b[49m\u001b[38;5;241;43m1\u001b[39;49m\u001b[43m,\u001b[49m\u001b[38;5;241;43m2\u001b[39;49m\u001b[43m,\u001b[49m\u001b[38;5;241;43m3\u001b[39;49m\u001b[43m,\u001b[49m\u001b[38;5;241;43m4\u001b[39;49m\u001b[43m,\u001b[49m\u001b[38;5;241;43m5\u001b[39;49m\u001b[43m,\u001b[49m\u001b[38;5;241;43m6\u001b[39;49m\u001b[43m)\u001b[49m\n",
      "\u001b[1;31mTypeError\u001b[0m: fun2() missing 2 required keyword-only arguments: 'b' and 'c'"
     ]
    }
   ],
   "source": [
    "fun2(1,2,3,4,5,6)"
   ]
  },
  {
   "cell_type": "code",
   "execution_count": 64,
   "id": "34abacb8-8f37-4707-94a1-f672be4c864a",
   "metadata": {},
   "outputs": [
    {
     "name": "stdout",
     "output_type": "stream",
     "text": [
      "(1, 2, 'hey', 3, 9.99) 2 1\n"
     ]
    }
   ],
   "source": [
    "fun2(1,2,\"hey\", 3 ,9.99 , b = 2 , c= 1)"
   ]
  },
  {
   "cell_type": "code",
   "execution_count": null,
   "id": "46cf2332-b0d4-49de-ba44-8dd7869d806c",
   "metadata": {},
   "outputs": [],
   "source": []
  },
  {
   "cell_type": "code",
   "execution_count": 65,
   "id": "88f1bb1c-3530-49c0-b1ce-c9ae37abdb57",
   "metadata": {},
   "outputs": [],
   "source": [
    "#unpacking\n",
    "def fun(a,b,c):\n",
    "    print(a,b,c)\n",
    "    "
   ]
  },
  {
   "cell_type": "code",
   "execution_count": 66,
   "id": "638d9403-0647-447b-bbb4-b695cfb65d34",
   "metadata": {},
   "outputs": [
    {
     "ename": "TypeError",
     "evalue": "fun() missing 2 required positional arguments: 'b' and 'c'",
     "output_type": "error",
     "traceback": [
      "\u001b[1;31m---------------------------------------------------------------------------\u001b[0m",
      "\u001b[1;31mTypeError\u001b[0m                                 Traceback (most recent call last)",
      "Cell \u001b[1;32mIn[66], line 2\u001b[0m\n\u001b[0;32m      1\u001b[0m l \u001b[38;5;241m=\u001b[39m[\u001b[38;5;241m1\u001b[39m,\u001b[38;5;241m2\u001b[39m,\u001b[38;5;241m3\u001b[39m]\n\u001b[1;32m----> 2\u001b[0m \u001b[43mfun\u001b[49m\u001b[43m(\u001b[49m\u001b[43ml\u001b[49m\u001b[43m)\u001b[49m\n",
      "\u001b[1;31mTypeError\u001b[0m: fun() missing 2 required positional arguments: 'b' and 'c'"
     ]
    }
   ],
   "source": [
    "l =[1,2,3]\n",
    "fun(l)"
   ]
  },
  {
   "cell_type": "code",
   "execution_count": 67,
   "id": "258ef6d4-7878-4e49-8b57-19b148fa747c",
   "metadata": {},
   "outputs": [
    {
     "name": "stdout",
     "output_type": "stream",
     "text": [
      "1 2 3\n"
     ]
    }
   ],
   "source": [
    "fun(l[0],l[1],l[2])"
   ]
  },
  {
   "cell_type": "code",
   "execution_count": 68,
   "id": "f3706cca-9763-4d9d-a58b-b269a46e109d",
   "metadata": {},
   "outputs": [
    {
     "name": "stdout",
     "output_type": "stream",
     "text": [
      "1 2 3\n"
     ]
    }
   ],
   "source": [
    "fun(*l)   # * before iterable object unpacks its elements into the given parameters"
   ]
  },
  {
   "cell_type": "code",
   "execution_count": 69,
   "id": "b4ded17a-5059-42fe-8796-a7473b3ee0e3",
   "metadata": {},
   "outputs": [
    {
     "name": "stdout",
     "output_type": "stream",
     "text": [
      "1 2 3\n"
     ]
    }
   ],
   "source": [
    "fun(*(1,2,3))"
   ]
  },
  {
   "cell_type": "code",
   "execution_count": 70,
   "id": "88bddfaf-0702-46bb-90c6-cb3737f4c2c6",
   "metadata": {},
   "outputs": [
    {
     "name": "stdout",
     "output_type": "stream",
     "text": [
      "a b c\n"
     ]
    }
   ],
   "source": [
    "fun(*\"abc\")"
   ]
  },
  {
   "cell_type": "code",
   "execution_count": 74,
   "id": "e7ae429b-a825-421b-8e09-0513178cab61",
   "metadata": {},
   "outputs": [
    {
     "name": "stdout",
     "output_type": "stream",
     "text": [
      "1 4 5\n"
     ]
    }
   ],
   "source": [
    "fun(*{1,4,5})"
   ]
  },
  {
   "cell_type": "code",
   "execution_count": null,
   "id": "bce60d90-8a23-4545-a99b-6190c6b0a3fd",
   "metadata": {},
   "outputs": [],
   "source": []
  },
  {
   "cell_type": "code",
   "execution_count": 75,
   "id": "55189a2e-e70e-42fd-8de4-9eda4f9abd89",
   "metadata": {},
   "outputs": [],
   "source": [
    "# multiple values return in form of tuples"
   ]
  },
  {
   "cell_type": "code",
   "execution_count": 78,
   "id": "d57317ab-e03c-4e64-a1cd-c5ef90218768",
   "metadata": {},
   "outputs": [],
   "source": [
    "def add1(a,b,c):\n",
    "    return a+1 , b+1 , c+1\n"
   ]
  },
  {
   "cell_type": "code",
   "execution_count": 80,
   "id": "3b241cf2-7a4f-488e-a20e-720cfb7ea11b",
   "metadata": {},
   "outputs": [
    {
     "name": "stdout",
     "output_type": "stream",
     "text": [
      "(1, 2, 3)\n"
     ]
    }
   ],
   "source": [
    "t = add1(0,1,2)\n",
    "print(t)"
   ]
  },
  {
   "cell_type": "code",
   "execution_count": 81,
   "id": "0d000608-9f76-429a-b11d-652e298d4d8f",
   "metadata": {},
   "outputs": [
    {
     "data": {
      "text/plain": [
       "tuple"
      ]
     },
     "execution_count": 81,
     "metadata": {},
     "output_type": "execute_result"
    }
   ],
   "source": [
    "type(t)"
   ]
  },
  {
   "cell_type": "code",
   "execution_count": 82,
   "id": "c01ff8b2-586b-4082-9654-fcda3ef87048",
   "metadata": {},
   "outputs": [],
   "source": [
    "a , b ,c = add1(0,1,2)"
   ]
  },
  {
   "cell_type": "code",
   "execution_count": 83,
   "id": "6b6a0dcf-9172-4746-a673-58c74680199d",
   "metadata": {},
   "outputs": [
    {
     "data": {
      "text/plain": [
       "1"
      ]
     },
     "execution_count": 83,
     "metadata": {},
     "output_type": "execute_result"
    }
   ],
   "source": [
    "a"
   ]
  },
  {
   "cell_type": "code",
   "execution_count": 84,
   "id": "8f644e3a-3a9c-4b30-a3da-33f8ecb6c62e",
   "metadata": {},
   "outputs": [
    {
     "data": {
      "text/plain": [
       "2"
      ]
     },
     "execution_count": 84,
     "metadata": {},
     "output_type": "execute_result"
    }
   ],
   "source": [
    "b"
   ]
  },
  {
   "cell_type": "code",
   "execution_count": 85,
   "id": "77bad9dd-3575-4c75-a682-6ed597c32418",
   "metadata": {},
   "outputs": [
    {
     "data": {
      "text/plain": [
       "3"
      ]
     },
     "execution_count": 85,
     "metadata": {},
     "output_type": "execute_result"
    }
   ],
   "source": [
    "c"
   ]
  },
  {
   "cell_type": "code",
   "execution_count": null,
   "id": "e9f9c83c-fbfa-4f26-91e9-770487244437",
   "metadata": {},
   "outputs": [],
   "source": []
  },
  {
   "cell_type": "code",
   "execution_count": 86,
   "id": "7f9737f5-ee18-41c1-b2db-e77dfefefa22",
   "metadata": {},
   "outputs": [],
   "source": [
    "# keyword variable length arguments"
   ]
  },
  {
   "cell_type": "code",
   "execution_count": 96,
   "id": "8d75d1ab-62ed-4a7c-964d-22f091396b06",
   "metadata": {},
   "outputs": [],
   "source": [
    "def fun(**k):\n",
    "    return k\n",
    "    "
   ]
  },
  {
   "cell_type": "code",
   "execution_count": 98,
   "id": "625bd16e-ee43-4c92-9c91-21e7671f3074",
   "metadata": {},
   "outputs": [
    {
     "name": "stdout",
     "output_type": "stream",
     "text": [
      "{'name': 'shehzan', 'rno': '2023uai1827', 'address': 'bhopal'}\n"
     ]
    }
   ],
   "source": [
    "print(fun(name = \"shehzan\" , rno = \"2023uai1827\" , address = \"bhopal\"))"
   ]
  },
  {
   "cell_type": "code",
   "execution_count": 99,
   "id": "8e25db22-09d9-4825-a9ff-a84d042ebab9",
   "metadata": {},
   "outputs": [
    {
     "data": {
      "text/plain": [
       "{'name': 'shehzan', 'rno': '2023uai1827', 'address': 'bhopal'}"
      ]
     },
     "execution_count": 99,
     "metadata": {},
     "output_type": "execute_result"
    }
   ],
   "source": [
    "d = fun(name = \"shehzan\" , rno = \"2023uai1827\" , address = \"bhopal\")\n",
    "d"
   ]
  },
  {
   "cell_type": "code",
   "execution_count": 100,
   "id": "7172a7df-0e15-46f3-8c42-860d001a74b9",
   "metadata": {},
   "outputs": [
    {
     "data": {
      "text/plain": [
       "dict"
      ]
     },
     "execution_count": 100,
     "metadata": {},
     "output_type": "execute_result"
    }
   ],
   "source": [
    "type(d)"
   ]
  },
  {
   "cell_type": "code",
   "execution_count": 102,
   "id": "4e73b604-2284-4a33-ad85-9efa58f61780",
   "metadata": {},
   "outputs": [],
   "source": [
    "def fun(**k):\n",
    "    for x in k:\n",
    "        print(x , k[x])"
   ]
  },
  {
   "cell_type": "code",
   "execution_count": 103,
   "id": "ebe04641-ec5b-4003-abbe-6da61a338e14",
   "metadata": {},
   "outputs": [
    {
     "name": "stdout",
     "output_type": "stream",
     "text": [
      "name shehzan\n",
      "rno 2023uai1827\n",
      "address bhopal\n"
     ]
    }
   ],
   "source": [
    "fun(name = \"shehzan\" , rno = \"2023uai1827\" , address = \"bhopal\")"
   ]
  },
  {
   "cell_type": "code",
   "execution_count": null,
   "id": "a9363c16-133d-4a72-806e-6937d72ba716",
   "metadata": {},
   "outputs": [],
   "source": []
  },
  {
   "cell_type": "code",
   "execution_count": 1,
   "id": "da1613a8-57c9-4fe7-aa59-fc5e7e0f40d3",
   "metadata": {},
   "outputs": [],
   "source": [
    "# itereator"
   ]
  },
  {
   "cell_type": "code",
   "execution_count": 17,
   "id": "0ba1a170-9011-4953-a456-ad52ab7649c1",
   "metadata": {},
   "outputs": [],
   "source": [
    "l = [1,2,3,4,5]\n",
    "n = iter(l)  # iter function (take any iterable object as a parameter)"
   ]
  },
  {
   "cell_type": "code",
   "execution_count": 18,
   "id": "d28e9a23-0cb2-4509-8650-3b6d5439703e",
   "metadata": {},
   "outputs": [
    {
     "data": {
      "text/plain": [
       "<list_iterator at 0x1a8df1c80d0>"
      ]
     },
     "execution_count": 18,
     "metadata": {},
     "output_type": "execute_result"
    }
   ],
   "source": [
    "n"
   ]
  },
  {
   "cell_type": "code",
   "execution_count": 19,
   "id": "7eeeb845-daa9-4fc7-a36d-51601eb3d0b1",
   "metadata": {},
   "outputs": [
    {
     "name": "stdout",
     "output_type": "stream",
     "text": [
      "1\n"
     ]
    }
   ],
   "source": [
    "print(next(n))"
   ]
  },
  {
   "cell_type": "code",
   "execution_count": 20,
   "id": "1ab26f64-f915-4bf2-ac32-cad0a64471aa",
   "metadata": {},
   "outputs": [
    {
     "name": "stdout",
     "output_type": "stream",
     "text": [
      "2\n"
     ]
    }
   ],
   "source": [
    "print(next(n))"
   ]
  },
  {
   "cell_type": "code",
   "execution_count": 21,
   "id": "024e248b-f167-42b0-905d-5a4ac17d9ea2",
   "metadata": {},
   "outputs": [
    {
     "name": "stdout",
     "output_type": "stream",
     "text": [
      "3\n"
     ]
    }
   ],
   "source": [
    "print(next(n))"
   ]
  },
  {
   "cell_type": "code",
   "execution_count": 22,
   "id": "239fd20b-8952-4a5d-bdb3-510168d7bfd5",
   "metadata": {},
   "outputs": [
    {
     "name": "stdout",
     "output_type": "stream",
     "text": [
      "4\n"
     ]
    }
   ],
   "source": [
    "print(next(n))"
   ]
  },
  {
   "cell_type": "code",
   "execution_count": 23,
   "id": "84dcebea-4fe4-4d86-b791-7907eb9d1b8a",
   "metadata": {},
   "outputs": [
    {
     "name": "stdout",
     "output_type": "stream",
     "text": [
      "5\n"
     ]
    }
   ],
   "source": [
    "print(next(n))"
   ]
  },
  {
   "cell_type": "code",
   "execution_count": 24,
   "id": "95a7826c-89dc-4538-b19d-8d21ec296135",
   "metadata": {},
   "outputs": [
    {
     "ename": "StopIteration",
     "evalue": "",
     "output_type": "error",
     "traceback": [
      "\u001b[1;31m---------------------------------------------------------------------------\u001b[0m",
      "\u001b[1;31mStopIteration\u001b[0m                             Traceback (most recent call last)",
      "Cell \u001b[1;32mIn[24], line 1\u001b[0m\n\u001b[1;32m----> 1\u001b[0m \u001b[38;5;28mprint\u001b[39m(\u001b[38;5;28;43mnext\u001b[39;49m\u001b[43m(\u001b[49m\u001b[43mn\u001b[49m\u001b[43m)\u001b[49m)\n",
      "\u001b[1;31mStopIteration\u001b[0m: "
     ]
    }
   ],
   "source": [
    "print(next(n))"
   ]
  },
  {
   "cell_type": "code",
   "execution_count": null,
   "id": "e32fbbdd-dbf6-4377-a732-e07b09b96adb",
   "metadata": {},
   "outputs": [],
   "source": []
  },
  {
   "cell_type": "code",
   "execution_count": 34,
   "id": "96aa6650-dcf1-4d93-adc4-0c64dc94153d",
   "metadata": {},
   "outputs": [],
   "source": [
    "t = tuple([1,2,3,4,5])\n",
    "n = iter(t)"
   ]
  },
  {
   "cell_type": "code",
   "execution_count": 35,
   "id": "ae3cd51f-0d2a-4511-bbb8-b5d94b08163c",
   "metadata": {},
   "outputs": [
    {
     "data": {
      "text/plain": [
       "1"
      ]
     },
     "execution_count": 35,
     "metadata": {},
     "output_type": "execute_result"
    }
   ],
   "source": [
    "next(n)"
   ]
  },
  {
   "cell_type": "code",
   "execution_count": 36,
   "id": "622003c7-a215-4fec-8c00-3a4c2f48176f",
   "metadata": {},
   "outputs": [
    {
     "name": "stdout",
     "output_type": "stream",
     "text": [
      "2\n"
     ]
    }
   ],
   "source": [
    "print(next(n))"
   ]
  },
  {
   "cell_type": "code",
   "execution_count": 37,
   "id": "113128d7-b840-407a-9d5c-22e60ab387e3",
   "metadata": {},
   "outputs": [
    {
     "name": "stdout",
     "output_type": "stream",
     "text": [
      "3\n"
     ]
    }
   ],
   "source": [
    "print(next(n))"
   ]
  },
  {
   "cell_type": "code",
   "execution_count": 38,
   "id": "a0e34e18-12c3-4c8d-8347-3017d7aa0dae",
   "metadata": {},
   "outputs": [
    {
     "name": "stdout",
     "output_type": "stream",
     "text": [
      "4\n"
     ]
    }
   ],
   "source": [
    "print(next(n))"
   ]
  },
  {
   "cell_type": "code",
   "execution_count": 39,
   "id": "25e15f7d-c81f-477e-9dfa-d56b24ac53da",
   "metadata": {},
   "outputs": [
    {
     "name": "stdout",
     "output_type": "stream",
     "text": [
      "5\n"
     ]
    }
   ],
   "source": [
    "print(next(n))"
   ]
  },
  {
   "cell_type": "code",
   "execution_count": 40,
   "id": "03297796-b904-4c79-9318-13760f8ab8f0",
   "metadata": {},
   "outputs": [
    {
     "ename": "StopIteration",
     "evalue": "",
     "output_type": "error",
     "traceback": [
      "\u001b[1;31m---------------------------------------------------------------------------\u001b[0m",
      "\u001b[1;31mStopIteration\u001b[0m                             Traceback (most recent call last)",
      "Cell \u001b[1;32mIn[40], line 1\u001b[0m\n\u001b[1;32m----> 1\u001b[0m \u001b[38;5;28mprint\u001b[39m(\u001b[38;5;28;43mnext\u001b[39;49m\u001b[43m(\u001b[49m\u001b[43mn\u001b[49m\u001b[43m)\u001b[49m)\n",
      "\u001b[1;31mStopIteration\u001b[0m: "
     ]
    }
   ],
   "source": [
    "print(next(n))"
   ]
  },
  {
   "cell_type": "code",
   "execution_count": null,
   "id": "ad3c57f8-e569-494b-a4a5-9d96b5299632",
   "metadata": {},
   "outputs": [],
   "source": []
  },
  {
   "cell_type": "code",
   "execution_count": 41,
   "id": "a0183e19-9152-4bfd-9bb2-27d7e80af2c3",
   "metadata": {},
   "outputs": [
    {
     "data": {
      "text/plain": [
       "{1: 'a', 2: 'b', 3: 'c'}"
      ]
     },
     "execution_count": 41,
     "metadata": {},
     "output_type": "execute_result"
    }
   ],
   "source": [
    "d = {1:\"a\" , 2:\"b\" , 3:\"c\"}\n",
    "d"
   ]
  },
  {
   "cell_type": "code",
   "execution_count": 42,
   "id": "1c896024-462b-4a1d-812e-4e2da899108f",
   "metadata": {},
   "outputs": [],
   "source": [
    "n = iter(d)"
   ]
  },
  {
   "cell_type": "code",
   "execution_count": 43,
   "id": "6cfb7cc4-976b-4da1-91c7-1ff145e4be04",
   "metadata": {},
   "outputs": [
    {
     "data": {
      "text/plain": [
       "1"
      ]
     },
     "execution_count": 43,
     "metadata": {},
     "output_type": "execute_result"
    }
   ],
   "source": [
    "next(n)"
   ]
  },
  {
   "cell_type": "code",
   "execution_count": 44,
   "id": "acf94274-17e9-47bc-8376-2baaee1f2551",
   "metadata": {},
   "outputs": [
    {
     "data": {
      "text/plain": [
       "2"
      ]
     },
     "execution_count": 44,
     "metadata": {},
     "output_type": "execute_result"
    }
   ],
   "source": [
    "next(n)"
   ]
  },
  {
   "cell_type": "code",
   "execution_count": 46,
   "id": "f712903f-56e5-4a50-92d0-75a9bbe6c822",
   "metadata": {},
   "outputs": [
    {
     "data": {
      "text/plain": [
       "3"
      ]
     },
     "execution_count": 46,
     "metadata": {},
     "output_type": "execute_result"
    }
   ],
   "source": [
    "next(n)"
   ]
  },
  {
   "cell_type": "code",
   "execution_count": null,
   "id": "089379bf-06a3-4649-ba60-ca933ae7e704",
   "metadata": {},
   "outputs": [],
   "source": []
  },
  {
   "cell_type": "code",
   "execution_count": 49,
   "id": "60af766f-7add-4fa8-948d-a5e1d1416000",
   "metadata": {},
   "outputs": [],
   "source": [
    "def days():\n",
    "    day = ['mon' , 'tues' , 'wed' , 'thurs' ,'fri' , 'sat', 'sun']\n",
    "    i=0\n",
    "    while True:  # infite loop\n",
    "        x=day[i]\n",
    "        i= (i+1) %7\n",
    "        yield x    # yield stops function gives the value and next time starts from the same state only\n",
    "\n",
    "d = days()  # here d is an iterator "
   ]
  },
  {
   "cell_type": "code",
   "execution_count": 50,
   "id": "e1997fa9-c61c-46d0-850a-5ca8b0c0e28f",
   "metadata": {},
   "outputs": [
    {
     "name": "stdout",
     "output_type": "stream",
     "text": [
      "mon\n"
     ]
    }
   ],
   "source": [
    "print(next(d))"
   ]
  },
  {
   "cell_type": "code",
   "execution_count": 51,
   "id": "78365eb9-b418-4eca-90bc-84c17b35cc2c",
   "metadata": {},
   "outputs": [
    {
     "name": "stdout",
     "output_type": "stream",
     "text": [
      "tues\n"
     ]
    }
   ],
   "source": [
    "print(next(d))"
   ]
  },
  {
   "cell_type": "code",
   "execution_count": 52,
   "id": "cb047219-d21c-43d9-ac2c-b5f18095ba52",
   "metadata": {},
   "outputs": [
    {
     "name": "stdout",
     "output_type": "stream",
     "text": [
      "wed\n"
     ]
    }
   ],
   "source": [
    "print(next(d))"
   ]
  },
  {
   "cell_type": "code",
   "execution_count": 53,
   "id": "ae55ed80-ede5-4de6-b92b-c8de7ec555d5",
   "metadata": {},
   "outputs": [
    {
     "name": "stdout",
     "output_type": "stream",
     "text": [
      "thurs\n"
     ]
    }
   ],
   "source": [
    "print(next(d))"
   ]
  },
  {
   "cell_type": "code",
   "execution_count": 54,
   "id": "5dab8817-c6ae-4eb0-b86e-9d3a9cf7e764",
   "metadata": {},
   "outputs": [
    {
     "name": "stdout",
     "output_type": "stream",
     "text": [
      "fri\n"
     ]
    }
   ],
   "source": [
    "print(next(d))"
   ]
  },
  {
   "cell_type": "code",
   "execution_count": 55,
   "id": "5415fdc0-6a7b-4c97-987f-faf4d35a5a40",
   "metadata": {},
   "outputs": [
    {
     "name": "stdout",
     "output_type": "stream",
     "text": [
      "sat\n"
     ]
    }
   ],
   "source": [
    "print(next(d))"
   ]
  },
  {
   "cell_type": "code",
   "execution_count": 56,
   "id": "0701a5f0-9b83-4daf-96e0-8fdb55139f45",
   "metadata": {},
   "outputs": [
    {
     "name": "stdout",
     "output_type": "stream",
     "text": [
      "sun\n"
     ]
    }
   ],
   "source": [
    "print(next(d))"
   ]
  },
  {
   "cell_type": "code",
   "execution_count": 57,
   "id": "ca79dbf3-3e44-45f4-ae21-0b82d4c034fa",
   "metadata": {},
   "outputs": [
    {
     "name": "stdout",
     "output_type": "stream",
     "text": [
      "mon\n"
     ]
    }
   ],
   "source": [
    "print(next(d))"
   ]
  },
  {
   "cell_type": "code",
   "execution_count": 58,
   "id": "b8a6a28d-8b88-4f94-b73a-35cce334cbef",
   "metadata": {},
   "outputs": [
    {
     "name": "stdout",
     "output_type": "stream",
     "text": [
      "tues\n"
     ]
    }
   ],
   "source": [
    "print(next(d))"
   ]
  },
  {
   "cell_type": "code",
   "execution_count": null,
   "id": "3cd4b02d-cd98-4130-980a-d3f5b530e45d",
   "metadata": {},
   "outputs": [],
   "source": []
  },
  {
   "cell_type": "code",
   "execution_count": 78,
   "id": "804c47ea-4f38-4104-941b-b34243c8cbf3",
   "metadata": {},
   "outputs": [
    {
     "name": "stdout",
     "output_type": "stream",
     "text": [
      "outside  10\n",
      "local 4 8\n",
      "global 10\n",
      "outside  10\n"
     ]
    }
   ],
   "source": [
    "g = 10 # g is global and hence accessable everywhere\n",
    "print(\"outside \" , g)\n",
    "def add(a,b):\n",
    "    print(\"local\" , a , b)\n",
    "    print(\"global\" ,g )\n",
    "\n",
    "add(4,8)\n",
    "print(\"outside \" , g)\n",
    "\n"
   ]
  },
  {
   "cell_type": "code",
   "execution_count": 79,
   "id": "2f5f8eba-b98f-490e-8bfe-076928de4c4e",
   "metadata": {},
   "outputs": [
    {
     "ename": "NameError",
     "evalue": "name 'a' is not defined",
     "output_type": "error",
     "traceback": [
      "\u001b[1;31m---------------------------------------------------------------------------\u001b[0m",
      "\u001b[1;31mNameError\u001b[0m                                 Traceback (most recent call last)",
      "Cell \u001b[1;32mIn[79], line 1\u001b[0m\n\u001b[1;32m----> 1\u001b[0m \u001b[38;5;28mprint\u001b[39m(\u001b[43ma\u001b[49m,b) \u001b[38;5;66;03m# a and b are local hence cannot be accessed outside the function add\u001b[39;00m\n",
      "\u001b[1;31mNameError\u001b[0m: name 'a' is not defined"
     ]
    }
   ],
   "source": [
    "print(a,b) # a and b are local hence cannot be accessed outside the function add"
   ]
  },
  {
   "cell_type": "code",
   "execution_count": 84,
   "id": "e47c5252-8257-466a-b620-31ad7c37f9ff",
   "metadata": {},
   "outputs": [
    {
     "name": "stdout",
     "output_type": "stream",
     "text": [
      "local 2 3\n"
     ]
    },
    {
     "ename": "NameError",
     "evalue": "name 'k' is not defined",
     "output_type": "error",
     "traceback": [
      "\u001b[1;31m---------------------------------------------------------------------------\u001b[0m",
      "\u001b[1;31mNameError\u001b[0m                                 Traceback (most recent call last)",
      "Cell \u001b[1;32mIn[84], line 6\u001b[0m\n\u001b[0;32m      3\u001b[0m     \u001b[38;5;28mprint\u001b[39m(\u001b[38;5;124m\"\u001b[39m\u001b[38;5;124mlocal\u001b[39m\u001b[38;5;124m\"\u001b[39m , a,b)\n\u001b[0;32m      4\u001b[0m     \u001b[38;5;28mprint\u001b[39m(\u001b[38;5;124m\"\u001b[39m\u001b[38;5;124mglobal\u001b[39m\u001b[38;5;124m\"\u001b[39m , k)\n\u001b[1;32m----> 6\u001b[0m \u001b[43madd\u001b[49m\u001b[43m(\u001b[49m\u001b[38;5;241;43m2\u001b[39;49m\u001b[43m,\u001b[49m\u001b[38;5;241;43m3\u001b[39;49m\u001b[43m)\u001b[49m\n\u001b[0;32m      7\u001b[0m k\u001b[38;5;241m=\u001b[39m \u001b[38;5;241m10\u001b[39m  \u001b[38;5;66;03m# k is a global variable but it is declared after the function call hence it cannot be accessed\u001b[39;00m\n",
      "Cell \u001b[1;32mIn[84], line 4\u001b[0m, in \u001b[0;36madd\u001b[1;34m(a, b)\u001b[0m\n\u001b[0;32m      1\u001b[0m \u001b[38;5;28;01mdef\u001b[39;00m \u001b[38;5;21madd\u001b[39m(a,b):\n\u001b[0;32m      3\u001b[0m     \u001b[38;5;28mprint\u001b[39m(\u001b[38;5;124m\"\u001b[39m\u001b[38;5;124mlocal\u001b[39m\u001b[38;5;124m\"\u001b[39m , a,b)\n\u001b[1;32m----> 4\u001b[0m     \u001b[38;5;28mprint\u001b[39m(\u001b[38;5;124m\"\u001b[39m\u001b[38;5;124mglobal\u001b[39m\u001b[38;5;124m\"\u001b[39m , \u001b[43mk\u001b[49m)\n",
      "\u001b[1;31mNameError\u001b[0m: name 'k' is not defined"
     ]
    }
   ],
   "source": [
    "def add(a,b):\n",
    "    \n",
    "    print(\"local\" , a,b)\n",
    "    print(\"global\" , k)\n",
    "\n",
    "add(2,3)\n",
    "k= 10  # k is a global variable but it is declared after the function call hence it cannot be accessed"
   ]
  },
  {
   "cell_type": "code",
   "execution_count": null,
   "id": "99077380-32c6-49b0-9dfe-72e181f98e2a",
   "metadata": {},
   "outputs": [],
   "source": []
  },
  {
   "cell_type": "code",
   "execution_count": 86,
   "id": "89ad45ea-dd3c-4aa0-9923-37b14afab68b",
   "metadata": {},
   "outputs": [
    {
     "name": "stdout",
     "output_type": "stream",
     "text": [
      "20\n",
      "10\n"
     ]
    }
   ],
   "source": [
    "g = 10\n",
    "def fun():\n",
    "    g = 20\n",
    "    print(g)   # name conflict hence it takes the g declared inside the function not the global g\n",
    "\n",
    "fun()\n",
    "print(g)"
   ]
  },
  {
   "cell_type": "code",
   "execution_count": null,
   "id": "b5252e02-e1ce-4a5b-96a1-94255c2a90c2",
   "metadata": {},
   "outputs": [],
   "source": []
  },
  {
   "cell_type": "code",
   "execution_count": 88,
   "id": "8b47d82e-7b48-43ed-95ff-e413d4b78b4e",
   "metadata": {},
   "outputs": [
    {
     "ename": "UnboundLocalError",
     "evalue": "cannot access local variable 'g' where it is not associated with a value",
     "output_type": "error",
     "traceback": [
      "\u001b[1;31m---------------------------------------------------------------------------\u001b[0m",
      "\u001b[1;31mUnboundLocalError\u001b[0m                         Traceback (most recent call last)",
      "Cell \u001b[1;32mIn[88], line 5\u001b[0m\n\u001b[0;32m      3\u001b[0m     g\u001b[38;5;241m+\u001b[39m\u001b[38;5;241m=\u001b[39m \u001b[38;5;241m5\u001b[39m\n\u001b[0;32m      4\u001b[0m     \u001b[38;5;28mprint\u001b[39m(g)   \u001b[38;5;66;03m#  a function simply cannot modify the global variables , it can only read and access them\u001b[39;00m\n\u001b[1;32m----> 5\u001b[0m \u001b[43madd\u001b[49m\u001b[43m(\u001b[49m\u001b[43m)\u001b[49m\n",
      "Cell \u001b[1;32mIn[88], line 3\u001b[0m, in \u001b[0;36madd\u001b[1;34m()\u001b[0m\n\u001b[0;32m      2\u001b[0m \u001b[38;5;28;01mdef\u001b[39;00m \u001b[38;5;21madd\u001b[39m():\n\u001b[1;32m----> 3\u001b[0m     \u001b[43mg\u001b[49m\u001b[38;5;241m+\u001b[39m\u001b[38;5;241m=\u001b[39m \u001b[38;5;241m5\u001b[39m\n\u001b[0;32m      4\u001b[0m     \u001b[38;5;28mprint\u001b[39m(g)\n",
      "\u001b[1;31mUnboundLocalError\u001b[0m: cannot access local variable 'g' where it is not associated with a value"
     ]
    }
   ],
   "source": [
    "g = 10\n",
    "def add():\n",
    "    g+= 5\n",
    "    print(g)   #  a function simply cannot modify the global variables , it can only read and access them\n",
    "add()"
   ]
  },
  {
   "cell_type": "code",
   "execution_count": 89,
   "id": "6a27b7c3-7d26-4dab-91ed-f5c31a017d31",
   "metadata": {},
   "outputs": [
    {
     "name": "stdout",
     "output_type": "stream",
     "text": [
      "15\n"
     ]
    }
   ],
   "source": [
    "g = 10\n",
    "def add():\n",
    "    global g\n",
    "    g+=5\n",
    "    print(g)\n",
    "\n",
    "add()"
   ]
  },
  {
   "cell_type": "code",
   "execution_count": 90,
   "id": "9eebfac9-c6ed-48d9-b950-b7346d8f86a5",
   "metadata": {},
   "outputs": [
    {
     "name": "stdout",
     "output_type": "stream",
     "text": [
      "20\n"
     ]
    }
   ],
   "source": [
    "add()"
   ]
  },
  {
   "cell_type": "code",
   "execution_count": 91,
   "id": "17756853-957c-49cd-97e4-b8d502f423f1",
   "metadata": {},
   "outputs": [
    {
     "name": "stdout",
     "output_type": "stream",
     "text": [
      "25\n"
     ]
    }
   ],
   "source": [
    "add()"
   ]
  },
  {
   "cell_type": "code",
   "execution_count": 92,
   "id": "17cad83c-caa0-4dec-acec-92d7bbdb94d6",
   "metadata": {},
   "outputs": [
    {
     "name": "stdout",
     "output_type": "stream",
     "text": [
      "25\n"
     ]
    }
   ],
   "source": [
    "print(g)"
   ]
  },
  {
   "cell_type": "code",
   "execution_count": null,
   "id": "7f90a9f3-c7a9-486e-8333-2ae11ca9ef8b",
   "metadata": {},
   "outputs": [],
   "source": []
  },
  {
   "cell_type": "code",
   "execution_count": 96,
   "id": "bb99eb13-2ba4-488f-9965-bd9185a97e93",
   "metadata": {},
   "outputs": [
    {
     "name": "stdout",
     "output_type": "stream",
     "text": [
      "{'a': 15, 'b': 30, 'x': 10, 'y': 20}\n",
      "{'__name__': '__main__', '__doc__': 'Automatically created module for IPython interactive environment', '__package__': None, '__loader__': None, '__spec__': None, '__builtin__': <module 'builtins' (built-in)>, '__builtins__': <module 'builtins' (built-in)>, '_ih': ['', '# itereator', 'l = [1,2,3,4,5]\\nn = iter(l)', 'n', 'print(next(itr))', 'print(next(n))', 'print(next(n))', 'n', 'print(next(n))', 'l = [1,2,3,4,5]\\nn = iter(l)', 'n', 'print(next(n))', 'print(next(n))', 'print(next(n))', 'print(next(n))', 'print(next(n))', 'print(next(n))', 'l = [1,2,3,4,5]\\nn = iter(l)  # iter function (take any iterable object as a parameter)', 'n', 'print(next(n))', 'print(next(n))', 'print(next(n))', 'print(next(n))', 'print(next(n))', 'print(next(n))', 't = tuple([1,2,3,4,5])', 't = tuple([1,2,3,4,5])\\nn = iter(n)', 'next(n)', 't = tuple([1,2,3,4,5])\\nn = iter(n)', 'next(n)', 't = tuple([[1,2,3,4,5]])\\nn = iter(n)', 'next(n)', 't = tuple(([1,2,3,4,5]))\\nn = iter(n)', 'next(n)', 't = tuple([1,2,3,4,5])\\nn = iter(t)', 'next(n)', 'print(next(n))', 'print(next(n))', 'print(next(n))', 'print(next(n))', 'print(next(n))', 'd = {1:\"a\" , 2:\"b\" , 3:\"c\"}\\nd', 'n = iter(d)', 'next(n)', 'next(n)', 'd[n]', 'next(n)', \"def days():\\n    day = ['mon' , 'tues' , 'wed' , 'thurs' ,'fri' , 'sat', 'sun']\\n    i=0\\n    while True:\\n        x=l[i]\\n        i= (i+1) %7\\n        yield x\\n\\nd = days()\", 'print(next(d))', \"def days():\\n    day = ['mon' , 'tues' , 'wed' , 'thurs' ,'fri' , 'sat', 'sun']\\n    i=0\\n    while True:\\n        x=day[i]\\n        i= (i+1) %7\\n        yield x\\n\\nd = days()\", 'print(next(d))', 'print(next(d))', 'print(next(d))', 'print(next(d))', 'print(next(d))', 'print(next(d))', 'print(next(d))', 'print(next(d))', 'print(next(d))', 'g = 10\\ndef add(a,b):\\n    print(\"local\" , a , b)\\n    print(\"global\" , g)\\n\\nadd(4,8)', 'g = 10\\ndef add(a,b):\\n    print(\"local\" , a , b)\\n    print(\"global\" , g)\\n\\nadd(4,8)\\nprint(a,b)', 'g = 10\\ndef add(a,b):\\n    print(\"local\" , a , b)\\n    print(\"global\" , g)\\n\\nadd(4,8)', 'print(a,b)', 'g = 10  # g is global and hence accessable everywhere\\ndef add(a,b):\\n    print(\"local\" , a , b)\\n    print(\"global\" , g)\\n\\nadd(4,8)', 'print(a,b) # a and b are local hence cannot be accessed outside the function add', 'print(g)', 'g = 10  # g is global and hence accessable everywhere\\ndef add(a,b):\\n    print(\"local\" , a , b)\\n    print(\"global\" , g+1)\\n\\nadd(4,8)', 'print(a,b) # a and b are local hence cannot be accessed outside the function add', 'print(g)', 'g = 10  # g is global and hence accessable everywhere\\ndef add(a,b):\\n    g+=1\\n    print(\"local\" , a , b)\\n    print(\"global\" , )\\n\\nadd(4,8)', 'g = 10  # g is global and hence accessable everywhere\\ndef add(a,b):\\n    g= g+1\\n    print(\"local\" , a , b)\\n    print(\"global\" , )\\n\\nadd(4,8)', 'g = 10  # g is global and hence accessable everywhere\\ndef add(a,b):\\n    print(\"local\" , a , b)\\n    print(\"global\" , )\\n\\nadd(4,8)', 'print(a,b) # a and b are local hence cannot be accessed outside the function add', 'g = 10  # g is global and hence accessable everywhere\\ndef add(a,b):\\n    print(\"local\" , a , b)\\n    print(\"global\" , )\\n\\nadd(4,8)', 'print(a,b) # a and b are local hence cannot be accessed outside the function add', 'print(g)', 'g = 10 # g is global and hence accessable everywhere\\nprint(\"outside \" , g)\\ndef add(a,b):\\n    print(\"local\" , a , b)\\n    print(\"global\" , )\\n\\nadd(4,8)', 'g = 10 # g is global and hence accessable everywhere\\nprint(\"outside \" , g)\\ndef add(a,b):\\n    print(\"local\" , a , b)\\n    print(\"global\" , )\\n\\nadd(4,8)\\nprint(\"outside \" , g)', 'g = 10 # g is global and hence accessable everywhere\\nprint(\"outside \" , g)\\ndef add(a,b):\\n    print(\"local\" , a , b)\\n    print(\"global\" ,g )\\n\\nadd(4,8)\\nprint(\"outside \" , g)', 'print(a,b) # a and b are local hence cannot be accessed outside the function add', 'def add(a,b):\\n    print(\"global\" , g)\\n    print(\"local\" , a,b)\\n\\nadd(2,3)\\ng = 10', 'def add(a,b):\\n    print(\"global\" , g)\\n    print(\"local\" , a,b)\\n\\nadd(2,3)\\n\\ng = 10', 'def add(a,b):\\n    \\n    print(\"local\" , a,b)\\n    print(\"global\" , g)\\n\\nadd(2,3)\\n\\ng = 10', 'def add(a,b):\\n    \\n    print(\"local\" , a,b)\\n    print(\"global\" , k)\\n\\nadd(2,3)\\nk= 10', 'def add(a,b):\\n    \\n    print(\"local\" , a,b)\\n    print(\"global\" , k)\\n\\nadd(2,3)\\nk= 10  # k is a global variable but it is declared after the function call hence it cannot be accessed', 'g = 10\\ndef fun():\\n    g = 20\\n    print(g)\\n\\nfun()\\nprint(g)', 'g = 10\\ndef fun():\\n    g = 20\\n    print(g)   # name conflict hence it takes the g declared inside the function not the global g\\n\\nfun()\\nprint(g)', 'g = 10\\ndef add():\\n    g+= 5\\n    print(g)\\nadd()', 'g = 10\\ndef add():\\n    g+= 5\\n    print(g)   #  a function simply cannot modify the global variables , it can only read and access them\\nadd()', 'g = 10\\ndef add():\\n    global g\\n    g+=5\\n    print(g)\\n\\nadd()', 'add()', 'add()', 'print(g)', 'def(a=15 , b = 30):', 'def fun(a=15 , b = 30):\\n    x,y = 10  20\\n    print(locals())\\n\\nx,y,z = 11, 22 , 33\\nprint(globals())', 'def fun(a=15 , b = 30):\\n    x,y = 10 , 20\\n    print(locals())\\n\\nx,y,z = 11, 22 , 33\\nprint(globals())', 'def fun(a=15 , b = 30):\\n    x,y = 10 , 20\\n    print(locals())\\n\\nx,y,z = 11, 22 , 33\\nfun()\\nprint(globals())'], '_oh': {3: <list_iterator object at 0x000001A8DF1CB8E0>, 7: <list_iterator object at 0x000001A8DF1CB8E0>, 10: <list_iterator object at 0x000001A8DF1C85B0>, 18: <list_iterator object at 0x000001A8DF1C80D0>, 35: 1, 41: {1: 'a', 2: 'b', 3: 'c'}, 43: 1, 44: 2, 46: 3}, '_dh': [WindowsPath('C:/Users/HP/Desktop/abdul_bari_python')], 'In': ['', '# itereator', 'l = [1,2,3,4,5]\\nn = iter(l)', 'n', 'print(next(itr))', 'print(next(n))', 'print(next(n))', 'n', 'print(next(n))', 'l = [1,2,3,4,5]\\nn = iter(l)', 'n', 'print(next(n))', 'print(next(n))', 'print(next(n))', 'print(next(n))', 'print(next(n))', 'print(next(n))', 'l = [1,2,3,4,5]\\nn = iter(l)  # iter function (take any iterable object as a parameter)', 'n', 'print(next(n))', 'print(next(n))', 'print(next(n))', 'print(next(n))', 'print(next(n))', 'print(next(n))', 't = tuple([1,2,3,4,5])', 't = tuple([1,2,3,4,5])\\nn = iter(n)', 'next(n)', 't = tuple([1,2,3,4,5])\\nn = iter(n)', 'next(n)', 't = tuple([[1,2,3,4,5]])\\nn = iter(n)', 'next(n)', 't = tuple(([1,2,3,4,5]))\\nn = iter(n)', 'next(n)', 't = tuple([1,2,3,4,5])\\nn = iter(t)', 'next(n)', 'print(next(n))', 'print(next(n))', 'print(next(n))', 'print(next(n))', 'print(next(n))', 'd = {1:\"a\" , 2:\"b\" , 3:\"c\"}\\nd', 'n = iter(d)', 'next(n)', 'next(n)', 'd[n]', 'next(n)', \"def days():\\n    day = ['mon' , 'tues' , 'wed' , 'thurs' ,'fri' , 'sat', 'sun']\\n    i=0\\n    while True:\\n        x=l[i]\\n        i= (i+1) %7\\n        yield x\\n\\nd = days()\", 'print(next(d))', \"def days():\\n    day = ['mon' , 'tues' , 'wed' , 'thurs' ,'fri' , 'sat', 'sun']\\n    i=0\\n    while True:\\n        x=day[i]\\n        i= (i+1) %7\\n        yield x\\n\\nd = days()\", 'print(next(d))', 'print(next(d))', 'print(next(d))', 'print(next(d))', 'print(next(d))', 'print(next(d))', 'print(next(d))', 'print(next(d))', 'print(next(d))', 'g = 10\\ndef add(a,b):\\n    print(\"local\" , a , b)\\n    print(\"global\" , g)\\n\\nadd(4,8)', 'g = 10\\ndef add(a,b):\\n    print(\"local\" , a , b)\\n    print(\"global\" , g)\\n\\nadd(4,8)\\nprint(a,b)', 'g = 10\\ndef add(a,b):\\n    print(\"local\" , a , b)\\n    print(\"global\" , g)\\n\\nadd(4,8)', 'print(a,b)', 'g = 10  # g is global and hence accessable everywhere\\ndef add(a,b):\\n    print(\"local\" , a , b)\\n    print(\"global\" , g)\\n\\nadd(4,8)', 'print(a,b) # a and b are local hence cannot be accessed outside the function add', 'print(g)', 'g = 10  # g is global and hence accessable everywhere\\ndef add(a,b):\\n    print(\"local\" , a , b)\\n    print(\"global\" , g+1)\\n\\nadd(4,8)', 'print(a,b) # a and b are local hence cannot be accessed outside the function add', 'print(g)', 'g = 10  # g is global and hence accessable everywhere\\ndef add(a,b):\\n    g+=1\\n    print(\"local\" , a , b)\\n    print(\"global\" , )\\n\\nadd(4,8)', 'g = 10  # g is global and hence accessable everywhere\\ndef add(a,b):\\n    g= g+1\\n    print(\"local\" , a , b)\\n    print(\"global\" , )\\n\\nadd(4,8)', 'g = 10  # g is global and hence accessable everywhere\\ndef add(a,b):\\n    print(\"local\" , a , b)\\n    print(\"global\" , )\\n\\nadd(4,8)', 'print(a,b) # a and b are local hence cannot be accessed outside the function add', 'g = 10  # g is global and hence accessable everywhere\\ndef add(a,b):\\n    print(\"local\" , a , b)\\n    print(\"global\" , )\\n\\nadd(4,8)', 'print(a,b) # a and b are local hence cannot be accessed outside the function add', 'print(g)', 'g = 10 # g is global and hence accessable everywhere\\nprint(\"outside \" , g)\\ndef add(a,b):\\n    print(\"local\" , a , b)\\n    print(\"global\" , )\\n\\nadd(4,8)', 'g = 10 # g is global and hence accessable everywhere\\nprint(\"outside \" , g)\\ndef add(a,b):\\n    print(\"local\" , a , b)\\n    print(\"global\" , )\\n\\nadd(4,8)\\nprint(\"outside \" , g)', 'g = 10 # g is global and hence accessable everywhere\\nprint(\"outside \" , g)\\ndef add(a,b):\\n    print(\"local\" , a , b)\\n    print(\"global\" ,g )\\n\\nadd(4,8)\\nprint(\"outside \" , g)', 'print(a,b) # a and b are local hence cannot be accessed outside the function add', 'def add(a,b):\\n    print(\"global\" , g)\\n    print(\"local\" , a,b)\\n\\nadd(2,3)\\ng = 10', 'def add(a,b):\\n    print(\"global\" , g)\\n    print(\"local\" , a,b)\\n\\nadd(2,3)\\n\\ng = 10', 'def add(a,b):\\n    \\n    print(\"local\" , a,b)\\n    print(\"global\" , g)\\n\\nadd(2,3)\\n\\ng = 10', 'def add(a,b):\\n    \\n    print(\"local\" , a,b)\\n    print(\"global\" , k)\\n\\nadd(2,3)\\nk= 10', 'def add(a,b):\\n    \\n    print(\"local\" , a,b)\\n    print(\"global\" , k)\\n\\nadd(2,3)\\nk= 10  # k is a global variable but it is declared after the function call hence it cannot be accessed', 'g = 10\\ndef fun():\\n    g = 20\\n    print(g)\\n\\nfun()\\nprint(g)', 'g = 10\\ndef fun():\\n    g = 20\\n    print(g)   # name conflict hence it takes the g declared inside the function not the global g\\n\\nfun()\\nprint(g)', 'g = 10\\ndef add():\\n    g+= 5\\n    print(g)\\nadd()', 'g = 10\\ndef add():\\n    g+= 5\\n    print(g)   #  a function simply cannot modify the global variables , it can only read and access them\\nadd()', 'g = 10\\ndef add():\\n    global g\\n    g+=5\\n    print(g)\\n\\nadd()', 'add()', 'add()', 'print(g)', 'def(a=15 , b = 30):', 'def fun(a=15 , b = 30):\\n    x,y = 10  20\\n    print(locals())\\n\\nx,y,z = 11, 22 , 33\\nprint(globals())', 'def fun(a=15 , b = 30):\\n    x,y = 10 , 20\\n    print(locals())\\n\\nx,y,z = 11, 22 , 33\\nprint(globals())', 'def fun(a=15 , b = 30):\\n    x,y = 10 , 20\\n    print(locals())\\n\\nx,y,z = 11, 22 , 33\\nfun()\\nprint(globals())'], 'Out': {3: <list_iterator object at 0x000001A8DF1CB8E0>, 7: <list_iterator object at 0x000001A8DF1CB8E0>, 10: <list_iterator object at 0x000001A8DF1C85B0>, 18: <list_iterator object at 0x000001A8DF1C80D0>, 35: 1, 41: {1: 'a', 2: 'b', 3: 'c'}, 43: 1, 44: 2, 46: 3}, 'get_ipython': <bound method InteractiveShell.get_ipython of <ipykernel.zmqshell.ZMQInteractiveShell object at 0x000001A8DDEAA570>>, 'exit': <IPython.core.autocall.ZMQExitAutocall object at 0x000001A8DDD140E0>, 'quit': <IPython.core.autocall.ZMQExitAutocall object at 0x000001A8DDD140E0>, 'open': <function open at 0x000001A8DCFD2E80>, '_': 3, '__': 2, '___': 1, '__session__': 'C:\\\\Users\\\\HP\\\\Desktop\\\\abdul_bari_python\\\\functions.ipynb', '_i': 'def fun(a=15 , b = 30):\\n    x,y = 10 , 20\\n    print(locals())\\n\\nx,y,z = 11, 22 , 33\\nprint(globals())', '_ii': 'def fun(a=15 , b = 30):\\n    x,y = 10  20\\n    print(locals())\\n\\nx,y,z = 11, 22 , 33\\nprint(globals())', '_iii': 'def(a=15 , b = 30):', '_i1': '# itereator', '_i2': 'l = [1,2,3,4,5]\\nn = iter(l)', 'l': [1, 2, 3, 4, 5], 'n': <dict_keyiterator object at 0x000001A8DF80FB00>, '_i3': 'n', '_3': <list_iterator object at 0x000001A8DF1CB8E0>, '_i4': 'print(next(itr))', '_i5': 'print(next(n))', '_i6': 'print(next(n))', '_i7': 'n', '_7': <list_iterator object at 0x000001A8DF1CB8E0>, '_i8': 'print(next(n))', '_i9': 'l = [1,2,3,4,5]\\nn = iter(l)', '_i10': 'n', '_10': <list_iterator object at 0x000001A8DF1C85B0>, '_i11': 'print(next(n))', '_i12': 'print(next(n))', '_i13': 'print(next(n))', '_i14': 'print(next(n))', '_i15': 'print(next(n))', '_i16': 'print(next(n))', '_i17': 'l = [1,2,3,4,5]\\nn = iter(l)  # iter function (take any iterable object as a parameter)', '_i18': 'n', '_18': <list_iterator object at 0x000001A8DF1C80D0>, '_i19': 'print(next(n))', '_i20': 'print(next(n))', '_i21': 'print(next(n))', '_i22': 'print(next(n))', '_i23': 'print(next(n))', '_i24': 'print(next(n))', '_i25': 't = tuple([1,2,3,4,5])', 't': (1, 2, 3, 4, 5), '_i26': 't = tuple([1,2,3,4,5])\\nn = iter(n)', '_i27': 'next(n)', '_i28': 't = tuple([1,2,3,4,5])\\nn = iter(n)', '_i29': 'next(n)', '_i30': 't = tuple([[1,2,3,4,5]])\\nn = iter(n)', '_i31': 'next(n)', '_i32': 't = tuple(([1,2,3,4,5]))\\nn = iter(n)', '_i33': 'next(n)', '_i34': 't = tuple([1,2,3,4,5])\\nn = iter(t)', '_i35': 'next(n)', '_35': 1, '_i36': 'print(next(n))', '_i37': 'print(next(n))', '_i38': 'print(next(n))', '_i39': 'print(next(n))', '_i40': 'print(next(n))', '_i41': 'd = {1:\"a\" , 2:\"b\" , 3:\"c\"}\\nd', 'd': <generator object days at 0x000001A8DF8172A0>, '_41': {1: 'a', 2: 'b', 3: 'c'}, '_i42': 'n = iter(d)', '_i43': 'next(n)', '_43': 1, '_i44': 'next(n)', '_44': 2, '_i45': 'd[n]', '_i46': 'next(n)', '_46': 3, '_i47': \"def days():\\n    day = ['mon' , 'tues' , 'wed' , 'thurs' ,'fri' , 'sat', 'sun']\\n    i=0\\n    while True:\\n        x=l[i]\\n        i= (i+1) %7\\n        yield x\\n\\nd = days()\", 'days': <function days at 0x000001A8DF267EC0>, '_i48': 'print(next(d))', '_i49': \"def days():\\n    day = ['mon' , 'tues' , 'wed' , 'thurs' ,'fri' , 'sat', 'sun']\\n    i=0\\n    while True:\\n        x=day[i]\\n        i= (i+1) %7\\n        yield x\\n\\nd = days()\", '_i50': 'print(next(d))', '_i51': 'print(next(d))', '_i52': 'print(next(d))', '_i53': 'print(next(d))', '_i54': 'print(next(d))', '_i55': 'print(next(d))', '_i56': 'print(next(d))', '_i57': 'print(next(d))', '_i58': 'print(next(d))', '_i59': 'g = 10\\ndef add(a,b):\\n    print(\"local\" , a , b)\\n    print(\"global\" , g)\\n\\nadd(4,8)', 'g': 25, 'add': <function add at 0x000001A8DF978540>, '_i60': 'g = 10\\ndef add(a,b):\\n    print(\"local\" , a , b)\\n    print(\"global\" , g)\\n\\nadd(4,8)\\nprint(a,b)', '_i61': 'g = 10\\ndef add(a,b):\\n    print(\"local\" , a , b)\\n    print(\"global\" , g)\\n\\nadd(4,8)', '_i62': 'print(a,b)', '_i63': 'g = 10  # g is global and hence accessable everywhere\\ndef add(a,b):\\n    print(\"local\" , a , b)\\n    print(\"global\" , g)\\n\\nadd(4,8)', '_i64': 'print(a,b) # a and b are local hence cannot be accessed outside the function add', '_i65': 'print(g)', '_i66': 'g = 10  # g is global and hence accessable everywhere\\ndef add(a,b):\\n    print(\"local\" , a , b)\\n    print(\"global\" , g+1)\\n\\nadd(4,8)', '_i67': 'print(a,b) # a and b are local hence cannot be accessed outside the function add', '_i68': 'print(g)', '_i69': 'g = 10  # g is global and hence accessable everywhere\\ndef add(a,b):\\n    g+=1\\n    print(\"local\" , a , b)\\n    print(\"global\" , )\\n\\nadd(4,8)', '_i70': 'g = 10  # g is global and hence accessable everywhere\\ndef add(a,b):\\n    g= g+1\\n    print(\"local\" , a , b)\\n    print(\"global\" , )\\n\\nadd(4,8)', '_i71': 'g = 10  # g is global and hence accessable everywhere\\ndef add(a,b):\\n    print(\"local\" , a , b)\\n    print(\"global\" , )\\n\\nadd(4,8)', '_i72': 'print(a,b) # a and b are local hence cannot be accessed outside the function add', '_i73': 'g = 10  # g is global and hence accessable everywhere\\ndef add(a,b):\\n    print(\"local\" , a , b)\\n    print(\"global\" , )\\n\\nadd(4,8)', '_i74': 'print(a,b) # a and b are local hence cannot be accessed outside the function add', '_i75': 'print(g)', '_i76': 'g = 10 # g is global and hence accessable everywhere\\nprint(\"outside \" , g)\\ndef add(a,b):\\n    print(\"local\" , a , b)\\n    print(\"global\" , )\\n\\nadd(4,8)', '_i77': 'g = 10 # g is global and hence accessable everywhere\\nprint(\"outside \" , g)\\ndef add(a,b):\\n    print(\"local\" , a , b)\\n    print(\"global\" , )\\n\\nadd(4,8)\\nprint(\"outside \" , g)', '_i78': 'g = 10 # g is global and hence accessable everywhere\\nprint(\"outside \" , g)\\ndef add(a,b):\\n    print(\"local\" , a , b)\\n    print(\"global\" ,g )\\n\\nadd(4,8)\\nprint(\"outside \" , g)', '_i79': 'print(a,b) # a and b are local hence cannot be accessed outside the function add', '_i80': 'def add(a,b):\\n    print(\"global\" , g)\\n    print(\"local\" , a,b)\\n\\nadd(2,3)\\ng = 10', '_i81': 'def add(a,b):\\n    print(\"global\" , g)\\n    print(\"local\" , a,b)\\n\\nadd(2,3)\\n\\ng = 10', '_i82': 'def add(a,b):\\n    \\n    print(\"local\" , a,b)\\n    print(\"global\" , g)\\n\\nadd(2,3)\\n\\ng = 10', '_i83': 'def add(a,b):\\n    \\n    print(\"local\" , a,b)\\n    print(\"global\" , k)\\n\\nadd(2,3)\\nk= 10', '_i84': 'def add(a,b):\\n    \\n    print(\"local\" , a,b)\\n    print(\"global\" , k)\\n\\nadd(2,3)\\nk= 10  # k is a global variable but it is declared after the function call hence it cannot be accessed', '_i85': 'g = 10\\ndef fun():\\n    g = 20\\n    print(g)\\n\\nfun()\\nprint(g)', 'fun': <function fun at 0x000001A8DF979800>, '_i86': 'g = 10\\ndef fun():\\n    g = 20\\n    print(g)   # name conflict hence it takes the g declared inside the function not the global g\\n\\nfun()\\nprint(g)', '_i87': 'g = 10\\ndef add():\\n    g+= 5\\n    print(g)\\nadd()', '_i88': 'g = 10\\ndef add():\\n    g+= 5\\n    print(g)   #  a function simply cannot modify the global variables , it can only read and access them\\nadd()', '_i89': 'g = 10\\ndef add():\\n    global g\\n    g+=5\\n    print(g)\\n\\nadd()', '_i90': 'add()', '_i91': 'add()', '_i92': 'print(g)', '_i93': 'def(a=15 , b = 30):', '_i94': 'def fun(a=15 , b = 30):\\n    x,y = 10  20\\n    print(locals())\\n\\nx,y,z = 11, 22 , 33\\nprint(globals())', '_i95': 'def fun(a=15 , b = 30):\\n    x,y = 10 , 20\\n    print(locals())\\n\\nx,y,z = 11, 22 , 33\\nprint(globals())', 'x': 11, 'y': 22, 'z': 33, '_i96': 'def fun(a=15 , b = 30):\\n    x,y = 10 , 20\\n    print(locals())\\n\\nx,y,z = 11, 22 , 33\\nfun()\\nprint(globals())'}\n"
     ]
    }
   ],
   "source": [
    "def fun(a=15 , b = 30):\n",
    "    x,y = 10 , 20\n",
    "    print(locals())\n",
    "\n",
    "x,y,z = 11, 22 , 33\n",
    "fun()\n",
    "print(globals())"
   ]
  },
  {
   "cell_type": "code",
   "execution_count": null,
   "id": "dca40fe7-97ea-4156-973e-ec86da5b810e",
   "metadata": {},
   "outputs": [],
   "source": []
  },
  {
   "cell_type": "code",
   "execution_count": 98,
   "id": "36f19bed-c3ef-46a6-9282-1e300318a64a",
   "metadata": {},
   "outputs": [],
   "source": [
    "def fact(n):\n",
    "    if n==0:\n",
    "        return 1\n",
    "    else:\n",
    "        return n*fact(n-1)"
   ]
  },
  {
   "cell_type": "code",
   "execution_count": 99,
   "id": "80e283a3-8c9a-463c-8ddf-fd47eb1429d1",
   "metadata": {},
   "outputs": [
    {
     "data": {
      "text/plain": [
       "3628800"
      ]
     },
     "execution_count": 99,
     "metadata": {},
     "output_type": "execute_result"
    }
   ],
   "source": [
    "fact(10)"
   ]
  },
  {
   "cell_type": "code",
   "execution_count": 100,
   "id": "0c536e57-257c-4f3a-9a74-8b0657d46589",
   "metadata": {},
   "outputs": [
    {
     "data": {
      "text/plain": [
       "120"
      ]
     },
     "execution_count": 100,
     "metadata": {},
     "output_type": "execute_result"
    }
   ],
   "source": [
    "fact(5)"
   ]
  },
  {
   "cell_type": "code",
   "execution_count": null,
   "id": "fb5b0eb7-dc9d-46d6-a8c1-a2c71433cfb0",
   "metadata": {},
   "outputs": [],
   "source": []
  }
 ],
 "metadata": {
  "kernelspec": {
   "display_name": "Python 3 (ipykernel)",
   "language": "python",
   "name": "python3"
  },
  "language_info": {
   "codemirror_mode": {
    "name": "ipython",
    "version": 3
   },
   "file_extension": ".py",
   "mimetype": "text/x-python",
   "name": "python",
   "nbconvert_exporter": "python",
   "pygments_lexer": "ipython3",
   "version": "3.12.3"
  }
 },
 "nbformat": 4,
 "nbformat_minor": 5
}
