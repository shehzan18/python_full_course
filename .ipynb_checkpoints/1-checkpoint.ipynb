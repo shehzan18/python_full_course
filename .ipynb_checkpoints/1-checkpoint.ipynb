{
 "cells": [
  {
   "cell_type": "code",
   "execution_count": 1,
   "id": "793e82d9-79b6-4043-b188-ed4487bc7d5c",
   "metadata": {},
   "outputs": [
    {
     "name": "stdout",
     "output_type": "stream",
     "text": [
      "28\n"
     ]
    }
   ],
   "source": [
    "a = 12\n",
    "print(a.__sizeof__())  # in bytes"
   ]
  },
  {
   "cell_type": "code",
   "execution_count": 3,
   "id": "d5cf2223-8a01-496f-900e-94e54f77df5a",
   "metadata": {},
   "outputs": [
    {
     "name": "stdout",
     "output_type": "stream",
     "text": [
      "10 10 10\n"
     ]
    }
   ],
   "source": [
    "a , b , c = 10 , 10 , 10  # no of variable and values must be equal\n",
    "\n",
    "print(a,b,c)"
   ]
  },
  {
   "cell_type": "code",
   "execution_count": 5,
   "id": "0f617388-3311-4eaa-a98e-6b7332a75206",
   "metadata": {},
   "outputs": [],
   "source": [
    "a = b = c = 10\n"
   ]
  },
  {
   "cell_type": "code",
   "execution_count": 8,
   "id": "0d2005ed-029a-40d4-9172-863f3b762a31",
   "metadata": {},
   "outputs": [
    {
     "name": "stdout",
     "output_type": "stream",
     "text": [
      "<class 'int'>\n"
     ]
    }
   ],
   "source": [
    "print(type(a)) # datatype "
   ]
  },
  {
   "cell_type": "code",
   "execution_count": null,
   "id": "01a04a73-ea73-4c6e-8890-dc3e50b18818",
   "metadata": {},
   "outputs": [],
   "source": []
  },
  {
   "cell_type": "code",
   "execution_count": 10,
   "id": "d0c5a54e-983b-48ac-8164-4d1ffdb8a22a",
   "metadata": {},
   "outputs": [
    {
     "data": {
      "text/plain": [
       "12.55"
      ]
     },
     "execution_count": 10,
     "metadata": {},
     "output_type": "execute_result"
    }
   ],
   "source": [
    "f = 12.55\n",
    "f\n"
   ]
  },
  {
   "cell_type": "code",
   "execution_count": 11,
   "id": "b4d58667-147c-4670-8633-769a2fdc7747",
   "metadata": {},
   "outputs": [
    {
     "data": {
      "text/plain": [
       "12.55"
      ]
     },
     "execution_count": 11,
     "metadata": {},
     "output_type": "execute_result"
    }
   ],
   "source": [
    "f = 1255e-2\n",
    "f"
   ]
  },
  {
   "cell_type": "code",
   "execution_count": 13,
   "id": "bfa14d6c-f995-4ea4-9a44-6700579d264b",
   "metadata": {},
   "outputs": [
    {
     "data": {
      "text/plain": [
       "12.55"
      ]
     },
     "execution_count": 13,
     "metadata": {},
     "output_type": "execute_result"
    }
   ],
   "source": [
    "f = 0.1255E2\n",
    "f"
   ]
  },
  {
   "cell_type": "code",
   "execution_count": null,
   "id": "e2205e84-3cd4-4818-925a-a9d22779d109",
   "metadata": {},
   "outputs": [],
   "source": []
  },
  {
   "cell_type": "code",
   "execution_count": 14,
   "id": "51666df0-aafe-4ac2-8f20-57efdf2cde1b",
   "metadata": {},
   "outputs": [
    {
     "name": "stdout",
     "output_type": "stream",
     "text": [
      "True False\n"
     ]
    }
   ],
   "source": [
    "a = True \n",
    "b = False\n",
    "print(a,b)"
   ]
  },
  {
   "cell_type": "code",
   "execution_count": 15,
   "id": "c94d1065-e3d4-43b2-8fa6-1aebf972b0cd",
   "metadata": {},
   "outputs": [
    {
     "name": "stdout",
     "output_type": "stream",
     "text": [
      "<class 'bool'>\n"
     ]
    }
   ],
   "source": [
    "print(type(a))"
   ]
  },
  {
   "cell_type": "code",
   "execution_count": 16,
   "id": "5d4125bb-1a6d-4262-aed8-bdbdac7d8181",
   "metadata": {},
   "outputs": [
    {
     "name": "stdout",
     "output_type": "stream",
     "text": [
      "1 0\n"
     ]
    }
   ],
   "source": [
    "print(int(a), int(b))"
   ]
  },
  {
   "cell_type": "code",
   "execution_count": null,
   "id": "ce91c58d-377d-49a7-a159-01952f41046f",
   "metadata": {},
   "outputs": [],
   "source": []
  },
  {
   "cell_type": "code",
   "execution_count": 18,
   "id": "12506044-66a6-4b7c-98c3-a1dee7dbfe79",
   "metadata": {},
   "outputs": [
    {
     "data": {
      "text/plain": [
       "(12+9j)"
      ]
     },
     "execution_count": 18,
     "metadata": {},
     "output_type": "execute_result"
    }
   ],
   "source": [
    "a = 12 + 9j\n",
    "a\n"
   ]
  },
  {
   "cell_type": "code",
   "execution_count": 19,
   "id": "2ffad214-9b23-48a3-8e06-0c9da9224338",
   "metadata": {},
   "outputs": [
    {
     "name": "stdout",
     "output_type": "stream",
     "text": [
      "<class 'complex'>\n"
     ]
    }
   ],
   "source": [
    "print(type(a))"
   ]
  },
  {
   "cell_type": "code",
   "execution_count": 20,
   "id": "05724edc-360c-428d-8263-a7e97d66e47c",
   "metadata": {},
   "outputs": [
    {
     "name": "stdout",
     "output_type": "stream",
     "text": [
      "12.0\n"
     ]
    }
   ],
   "source": [
    "print(a.real)"
   ]
  },
  {
   "cell_type": "code",
   "execution_count": 21,
   "id": "bfaac6b0-8673-4326-b28c-17aee22f8539",
   "metadata": {},
   "outputs": [
    {
     "name": "stdout",
     "output_type": "stream",
     "text": [
      "9.0\n"
     ]
    }
   ],
   "source": [
    "print(a.imag)"
   ]
  },
  {
   "cell_type": "code",
   "execution_count": 22,
   "id": "7ef27204-d6bc-462f-8595-78087a147146",
   "metadata": {},
   "outputs": [
    {
     "data": {
      "text/plain": [
       "(12+1j)"
      ]
     },
     "execution_count": 22,
     "metadata": {},
     "output_type": "execute_result"
    }
   ],
   "source": [
    "b = complex(12,1)\n",
    "b"
   ]
  },
  {
   "cell_type": "code",
   "execution_count": null,
   "id": "3b4cd4cc-355d-4710-b695-8a254b7fcf85",
   "metadata": {},
   "outputs": [],
   "source": []
  },
  {
   "cell_type": "code",
   "execution_count": 23,
   "id": "922f1197-ddfe-4454-afd9-43c2047a4110",
   "metadata": {},
   "outputs": [
    {
     "data": {
      "text/plain": [
       "12121121212121212"
      ]
     },
     "execution_count": 23,
     "metadata": {},
     "output_type": "execute_result"
    }
   ],
   "source": [
    "a = 12121_1212_1212_1212\n",
    "a"
   ]
  },
  {
   "cell_type": "code",
   "execution_count": 24,
   "id": "781e99cf-93e6-4657-8002-8317a6f85c42",
   "metadata": {},
   "outputs": [
    {
     "data": {
      "text/plain": [
       "121.12112"
      ]
     },
     "execution_count": 24,
     "metadata": {},
     "output_type": "execute_result"
    }
   ],
   "source": [
    "b = 12_1.121_12\n",
    "b"
   ]
  },
  {
   "cell_type": "code",
   "execution_count": 26,
   "id": "3874ee3c-569c-45fc-b85d-434090002b8d",
   "metadata": {},
   "outputs": [
    {
     "ename": "SyntaxError",
     "evalue": "invalid decimal literal (1644999463.py, line 1)",
     "output_type": "error",
     "traceback": [
      "\u001b[1;36m  Cell \u001b[1;32mIn[26], line 1\u001b[1;36m\u001b[0m\n\u001b[1;33m    c = 12._12  # underscore must be between  two digits\u001b[0m\n\u001b[1;37m          ^\u001b[0m\n\u001b[1;31mSyntaxError\u001b[0m\u001b[1;31m:\u001b[0m invalid decimal literal\n"
     ]
    }
   ],
   "source": [
    "c = 12._12  # underscore must be between  two digits"
   ]
  },
  {
   "cell_type": "code",
   "execution_count": null,
   "id": "c5186af3-8914-4f8a-9faa-6c4bb6d4ba7c",
   "metadata": {},
   "outputs": [],
   "source": []
  },
  {
   "cell_type": "code",
   "execution_count": 27,
   "id": "7f544611-3216-42bc-84c6-80991902099f",
   "metadata": {},
   "outputs": [
    {
     "name": "stdout",
     "output_type": "stream",
     "text": [
      "10 10 10 10\n"
     ]
    }
   ],
   "source": [
    "a = 10\n",
    "b = 0b1010\n",
    "c = 0o12\n",
    "h = 0xA  \n",
    "print(a , b, c , h)"
   ]
  },
  {
   "cell_type": "code",
   "execution_count": 28,
   "id": "ce2c1754-d940-4f6f-b987-e69b69b1cfaa",
   "metadata": {},
   "outputs": [
    {
     "name": "stdout",
     "output_type": "stream",
     "text": [
      "0b1010\n",
      "0o12\n",
      "0xa\n"
     ]
    }
   ],
   "source": [
    "a = 10\n",
    "print(bin(a))\n",
    "print(oct(a))\n",
    "print(hex(a))"
   ]
  },
  {
   "cell_type": "code",
   "execution_count": 29,
   "id": "4302413b-fd11-4eae-acd8-03c7c5b78bc9",
   "metadata": {},
   "outputs": [
    {
     "name": "stdout",
     "output_type": "stream",
     "text": [
      "<class 'str'>\n"
     ]
    }
   ],
   "source": [
    "print(type(bin(a)))"
   ]
  },
  {
   "cell_type": "code",
   "execution_count": 30,
   "id": "a277d8e9-9139-4a62-b8b8-12bce95b8522",
   "metadata": {},
   "outputs": [
    {
     "name": "stdout",
     "output_type": "stream",
     "text": [
      "10 10 10\n"
     ]
    }
   ],
   "source": [
    "b = \"0b1010\"\n",
    "o  = \"0o12\"\n",
    "h = \"0xA\"\n",
    "b =int(b,2)\n",
    "o = int(o , 8)\n",
    "h = int(h,16)\n",
    "print(b, o  , h)"
   ]
  },
  {
   "cell_type": "code",
   "execution_count": null,
   "id": "87876014-4885-475f-98ae-8fcefe0e8b58",
   "metadata": {},
   "outputs": [],
   "source": []
  },
  {
   "cell_type": "code",
   "execution_count": 31,
   "id": "f8d6017f-85cd-43dc-a69e-149f083258d4",
   "metadata": {},
   "outputs": [
    {
     "name": "stdout",
     "output_type": "stream",
     "text": [
      "False False\n"
     ]
    }
   ],
   "source": [
    "c = 0 + 0j\n",
    "d = \"\"\n",
    "c = bool(c)\n",
    "d = bool(d)\n",
    "print(c,d)"
   ]
  },
  {
   "cell_type": "code",
   "execution_count": null,
   "id": "ced8c1c6-0d02-4305-a8d3-b1a131743007",
   "metadata": {},
   "outputs": [],
   "source": []
  },
  {
   "cell_type": "code",
   "execution_count": 32,
   "id": "e2daa8a0-8cec-462d-8208-6cff3fbad5ca",
   "metadata": {},
   "outputs": [
    {
     "name": "stdout",
     "output_type": "stream",
     "text": [
      "72.0\n"
     ]
    }
   ],
   "source": [
    "l = 12\n",
    "h = 12\n",
    "area = 1/2*l*h\n",
    "print(area)"
   ]
  },
  {
   "cell_type": "code",
   "execution_count": 36,
   "id": "14918370-cd0a-4e5e-a158-af3bad2fd7d3",
   "metadata": {},
   "outputs": [
    {
     "data": {
      "text/plain": [
       "(-0.49999999999999994+0.8660254037844386j)"
      ]
     },
     "execution_count": 36,
     "metadata": {},
     "output_type": "execute_result"
    }
   ],
   "source": [
    "a = 1;\n",
    "b  = 1;\n",
    "c = 1;\n",
    "import math\n",
    "root = (-b + (b**2 - 4*a*c)**0.5)/(2*a)\n",
    "root"
   ]
  },
  {
   "cell_type": "code",
   "execution_count": 38,
   "id": "f885c906-7dd7-45c3-a817-4789e1d9daaf",
   "metadata": {},
   "outputs": [
    {
     "data": {
      "text/plain": [
       "256"
      ]
     },
     "execution_count": 38,
     "metadata": {},
     "output_type": "execute_result"
    }
   ],
   "source": [
    "a = 2**2**3\n",
    "a"
   ]
  },
  {
   "cell_type": "code",
   "execution_count": 39,
   "id": "f1a4c61c-86c0-488c-97ce-b79178221654",
   "metadata": {},
   "outputs": [
    {
     "data": {
      "text/plain": [
       "512"
      ]
     },
     "execution_count": 39,
     "metadata": {},
     "output_type": "execute_result"
    }
   ],
   "source": [
    "b = 2**3**2\n",
    "b\n"
   ]
  },
  {
   "cell_type": "code",
   "execution_count": 40,
   "id": "39d76e06-ad06-4599-a736-667175df157b",
   "metadata": {},
   "outputs": [
    {
     "data": {
      "text/plain": [
       "16"
      ]
     },
     "execution_count": 40,
     "metadata": {},
     "output_type": "execute_result"
    }
   ],
   "source": [
    "c = (2**2)**2\n",
    "c"
   ]
  },
  {
   "cell_type": "code",
   "execution_count": null,
   "id": "03101d29-8b6b-49ae-ae80-5da4a617706b",
   "metadata": {},
   "outputs": [],
   "source": []
  }
 ],
 "metadata": {
  "kernelspec": {
   "display_name": "Python 3 (ipykernel)",
   "language": "python",
   "name": "python3"
  },
  "language_info": {
   "codemirror_mode": {
    "name": "ipython",
    "version": 3
   },
   "file_extension": ".py",
   "mimetype": "text/x-python",
   "name": "python",
   "nbconvert_exporter": "python",
   "pygments_lexer": "ipython3",
   "version": "3.12.3"
  }
 },
 "nbformat": 4,
 "nbformat_minor": 5
}
