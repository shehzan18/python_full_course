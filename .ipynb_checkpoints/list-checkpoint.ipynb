{
 "cells": [
  {
   "cell_type": "code",
   "execution_count": 1,
   "id": "38a397d6-3418-48bb-b1f9-01c29332e4b6",
   "metadata": {},
   "outputs": [
    {
     "data": {
      "text/plain": [
       "[1, 'hey', 9.99, True, (3+4j)]"
      ]
     },
     "execution_count": 1,
     "metadata": {},
     "output_type": "execute_result"
    }
   ],
   "source": [
    "l = [1,\"hey\",9.99,True,3+4j]\n",
    "l"
   ]
  },
  {
   "cell_type": "code",
   "execution_count": 2,
   "id": "2a78d3cd-e654-4bd2-953b-aeb9ba1a9a66",
   "metadata": {},
   "outputs": [
    {
     "data": {
      "text/plain": [
       "list"
      ]
     },
     "execution_count": 2,
     "metadata": {},
     "output_type": "execute_result"
    }
   ],
   "source": [
    "type(l)"
   ]
  },
  {
   "cell_type": "code",
   "execution_count": 3,
   "id": "b8751415-b34e-418a-b4cf-ffde15b80614",
   "metadata": {},
   "outputs": [
    {
     "data": {
      "text/plain": [
       "5"
      ]
     },
     "execution_count": 3,
     "metadata": {},
     "output_type": "execute_result"
    }
   ],
   "source": [
    "len(l)"
   ]
  },
  {
   "cell_type": "code",
   "execution_count": 4,
   "id": "bb19bbb2-0eb8-467f-821f-dd56210d34cf",
   "metadata": {},
   "outputs": [
    {
     "data": {
      "text/plain": [
       "1"
      ]
     },
     "execution_count": 4,
     "metadata": {},
     "output_type": "execute_result"
    }
   ],
   "source": [
    "l[0]"
   ]
  },
  {
   "cell_type": "code",
   "execution_count": 5,
   "id": "b88f4745-6291-4a24-b762-ae18c2fc3350",
   "metadata": {},
   "outputs": [
    {
     "data": {
      "text/plain": [
       "(3+4j)"
      ]
     },
     "execution_count": 5,
     "metadata": {},
     "output_type": "execute_result"
    }
   ],
   "source": [
    "l[-1]"
   ]
  },
  {
   "cell_type": "code",
   "execution_count": 6,
   "id": "052ab425-c3c4-4785-afec-a68c7fa689d0",
   "metadata": {},
   "outputs": [
    {
     "name": "stdout",
     "output_type": "stream",
     "text": [
      "140713464568248 2086422425504 2086421701840\n"
     ]
    }
   ],
   "source": [
    "print(id(l[0]) , id(l[1]), id(l[2]))"
   ]
  },
  {
   "cell_type": "code",
   "execution_count": 7,
   "id": "90c99afe-0ea7-464c-8325-681c6b781939",
   "metadata": {},
   "outputs": [
    {
     "name": "stdout",
     "output_type": "stream",
     "text": [
      "2086422482816\n"
     ]
    }
   ],
   "source": [
    "print(id(l))"
   ]
  },
  {
   "cell_type": "code",
   "execution_count": null,
   "id": "f6fe90ad-9023-4af9-85c7-fc8460a26213",
   "metadata": {},
   "outputs": [],
   "source": []
  },
  {
   "cell_type": "code",
   "execution_count": 8,
   "id": "3f6a8ec4-4577-48bb-a89d-7701127aec9b",
   "metadata": {},
   "outputs": [
    {
     "data": {
      "text/plain": [
       "[15, 9, 12, 18, 7, 10]"
      ]
     },
     "execution_count": 8,
     "metadata": {},
     "output_type": "execute_result"
    }
   ],
   "source": [
    "l = [15,9,12,18,7,10]\n",
    "l"
   ]
  },
  {
   "cell_type": "code",
   "execution_count": 9,
   "id": "3e3790db-3eb0-4328-a564-0873b9ba3a20",
   "metadata": {},
   "outputs": [
    {
     "data": {
      "text/plain": [
       "['heya', 9, 12, 18, True, 10]"
      ]
     },
     "execution_count": 9,
     "metadata": {},
     "output_type": "execute_result"
    }
   ],
   "source": [
    "l[0] = \"heya\"\n",
    "l[4] = True\n",
    "l"
   ]
  },
  {
   "cell_type": "code",
   "execution_count": null,
   "id": "da0e12ba-1100-4b9e-840d-ea8f5b456976",
   "metadata": {},
   "outputs": [],
   "source": []
  },
  {
   "cell_type": "code",
   "execution_count": 10,
   "id": "6aba5463-09bd-4338-a138-6b5afb524c85",
   "metadata": {},
   "outputs": [
    {
     "name": "stdout",
     "output_type": "stream",
     "text": [
      "6\n",
      "['heya', 9, 12, 18, True, 10, 50]\n",
      "7\n"
     ]
    }
   ],
   "source": [
    "print(len(l))\n",
    "l.append(50)\n",
    "print(l)\n",
    "print(len(l))"
   ]
  },
  {
   "cell_type": "code",
   "execution_count": null,
   "id": "b4f28237-d537-4279-9e67-f226ccb640e8",
   "metadata": {},
   "outputs": [],
   "source": []
  },
  {
   "cell_type": "code",
   "execution_count": 11,
   "id": "b8f3078c-06f7-4ede-a3dc-16b2c46ffe01",
   "metadata": {},
   "outputs": [],
   "source": [
    "# [] to read and write in a list\n",
    "l1 = [1,2,3,4,5,6,7,8,9,10]"
   ]
  },
  {
   "cell_type": "code",
   "execution_count": 12,
   "id": "2c19929d-76ec-440f-8102-765de88ecf65",
   "metadata": {},
   "outputs": [
    {
     "data": {
      "text/plain": [
       "1"
      ]
     },
     "execution_count": 12,
     "metadata": {},
     "output_type": "execute_result"
    }
   ],
   "source": [
    "l1[0]"
   ]
  },
  {
   "cell_type": "code",
   "execution_count": 13,
   "id": "716acb0e-f00e-4e23-9b56-4491c5ccff31",
   "metadata": {},
   "outputs": [
    {
     "data": {
      "text/plain": [
       "[10, 2, 3, 4, 5, 6, 7, 8, 9, 10]"
      ]
     },
     "execution_count": 13,
     "metadata": {},
     "output_type": "execute_result"
    }
   ],
   "source": [
    "l1[0]= 10\n",
    "l1"
   ]
  },
  {
   "cell_type": "code",
   "execution_count": 14,
   "id": "a24272a3-d70b-41b6-a17b-925f202d8dcd",
   "metadata": {},
   "outputs": [
    {
     "data": {
      "text/plain": [
       "9"
      ]
     },
     "execution_count": 14,
     "metadata": {},
     "output_type": "execute_result"
    }
   ],
   "source": [
    "l1[-2]"
   ]
  },
  {
   "cell_type": "code",
   "execution_count": 15,
   "id": "a098a093-d99f-4502-9401-c8d434323903",
   "metadata": {},
   "outputs": [
    {
     "data": {
      "text/plain": [
       "10"
      ]
     },
     "execution_count": 15,
     "metadata": {},
     "output_type": "execute_result"
    }
   ],
   "source": [
    "l1[-10]"
   ]
  },
  {
   "cell_type": "code",
   "execution_count": null,
   "id": "26f2b381-2220-428d-a9b5-c6752f4caaab",
   "metadata": {},
   "outputs": [],
   "source": []
  },
  {
   "cell_type": "code",
   "execution_count": 17,
   "id": "5069252e-5e97-4137-ae58-163c69e35d67",
   "metadata": {},
   "outputs": [],
   "source": [
    "# [::] slicing operator . creates a new list as an o/p\n",
    "l1 = [1,2,3,4,5,6,7,8,9,10]"
   ]
  },
  {
   "cell_type": "code",
   "execution_count": 20,
   "id": "60fd7dc4-3c0b-4bf2-aa7b-16e3da7f34ec",
   "metadata": {},
   "outputs": [
    {
     "data": {
      "text/plain": [
       "[1, 2, 3, 4, 5, 6, 7, 8, 9, 10]"
      ]
     },
     "execution_count": 20,
     "metadata": {},
     "output_type": "execute_result"
    }
   ],
   "source": [
    "l1[::]"
   ]
  },
  {
   "cell_type": "code",
   "execution_count": 21,
   "id": "0c30d8ea-86ff-4449-862d-ee892e4754a2",
   "metadata": {},
   "outputs": [
    {
     "data": {
      "text/plain": [
       "[1, 2, 3, 4, 5]"
      ]
     },
     "execution_count": 21,
     "metadata": {},
     "output_type": "execute_result"
    }
   ],
   "source": [
    "l1[:5]"
   ]
  },
  {
   "cell_type": "code",
   "execution_count": 22,
   "id": "7dab1904-ec9d-4fc5-8ea7-21823d6a37f7",
   "metadata": {},
   "outputs": [
    {
     "data": {
      "text/plain": [
       "[6, 7, 8, 9, 10]"
      ]
     },
     "execution_count": 22,
     "metadata": {},
     "output_type": "execute_result"
    }
   ],
   "source": [
    "l1[5:]"
   ]
  },
  {
   "cell_type": "code",
   "execution_count": 23,
   "id": "50edd53e-b81c-4916-ab8f-241806542a87",
   "metadata": {},
   "outputs": [
    {
     "data": {
      "text/plain": [
       "[2, 3, 4, 5, 6, 7]"
      ]
     },
     "execution_count": 23,
     "metadata": {},
     "output_type": "execute_result"
    }
   ],
   "source": [
    "l1[1:7]"
   ]
  },
  {
   "cell_type": "code",
   "execution_count": 24,
   "id": "4a6ceeae-624f-4626-9320-92dd3d954691",
   "metadata": {},
   "outputs": [
    {
     "data": {
      "text/plain": [
       "[1, 3, 5, 7, 9]"
      ]
     },
     "execution_count": 24,
     "metadata": {},
     "output_type": "execute_result"
    }
   ],
   "source": [
    "l1[::2]"
   ]
  },
  {
   "cell_type": "code",
   "execution_count": 27,
   "id": "335e79cb-00b5-4198-aab8-858381be0004",
   "metadata": {},
   "outputs": [
    {
     "data": {
      "text/plain": [
       "[10, 9, 8, 7, 6, 5, 4, 3, 2, 1]"
      ]
     },
     "execution_count": 27,
     "metadata": {},
     "output_type": "execute_result"
    }
   ],
   "source": [
    "l1[::-1] # 0-1 = -1 , -1-1 = -2 ..."
   ]
  },
  {
   "cell_type": "code",
   "execution_count": 28,
   "id": "316807a6-1eb1-47d2-8357-6a47a5411bf3",
   "metadata": {},
   "outputs": [
    {
     "data": {
      "text/plain": [
       "[]"
      ]
     },
     "execution_count": 28,
     "metadata": {},
     "output_type": "execute_result"
    }
   ],
   "source": [
    "l1[0:10:-1]"
   ]
  },
  {
   "cell_type": "code",
   "execution_count": 29,
   "id": "ce175f4c-b8c6-4052-804a-10a15998cc60",
   "metadata": {},
   "outputs": [
    {
     "data": {
      "text/plain": [
       "[10, 9, 8, 7, 6, 5, 4, 3, 2]"
      ]
     },
     "execution_count": 29,
     "metadata": {},
     "output_type": "execute_result"
    }
   ],
   "source": [
    "l1[-1:-10:-1]"
   ]
  },
  {
   "cell_type": "code",
   "execution_count": 32,
   "id": "1766751f-a73b-43dd-8aa9-0b0467e7e4eb",
   "metadata": {},
   "outputs": [
    {
     "data": {
      "text/plain": [
       "[1, 2, 3, 4, 5, 6, 7, 8, 9, 10]"
      ]
     },
     "execution_count": 32,
     "metadata": {},
     "output_type": "execute_result"
    }
   ],
   "source": [
    "temp = l1[:]\n",
    "temp"
   ]
  },
  {
   "cell_type": "code",
   "execution_count": null,
   "id": "45c2825a-8192-41ca-aa9e-1b74d5e49743",
   "metadata": {},
   "outputs": [],
   "source": [
    "# changes the list doesn.t creates a new list"
   ]
  },
  {
   "cell_type": "code",
   "execution_count": 33,
   "id": "944afdbd-f9aa-41ca-96b2-850cdffa646e",
   "metadata": {},
   "outputs": [
    {
     "name": "stdout",
     "output_type": "stream",
     "text": [
      "10\n"
     ]
    }
   ],
   "source": [
    "l1 = [1,2,3,4,5,6,7,8,9,10]\n",
    "print(len(l1))"
   ]
  },
  {
   "cell_type": "code",
   "execution_count": 35,
   "id": "37559911-b58b-4510-ae9d-4dacffb013e2",
   "metadata": {},
   "outputs": [
    {
     "name": "stdout",
     "output_type": "stream",
     "text": [
      "[10, 20, 30, 4, 5, 6, 7, 8, 9, 10] 10\n"
     ]
    }
   ],
   "source": [
    "l1[0:3] = [10,20,30]\n",
    "print(l1 , len(l1))"
   ]
  },
  {
   "cell_type": "code",
   "execution_count": 36,
   "id": "df69ec6f-f9e6-4f0b-b6ff-dde975cfd48b",
   "metadata": {},
   "outputs": [
    {
     "name": "stdout",
     "output_type": "stream",
     "text": [
      "[10, 20, 4, 5, 6, 7, 8, 9, 10] 9\n"
     ]
    }
   ],
   "source": [
    "l1[0:3] = [10,20]\n",
    "print(l1, len(l1))"
   ]
  },
  {
   "cell_type": "code",
   "execution_count": 37,
   "id": "d0180b2f-1314-4592-bab9-49f1c843f4d1",
   "metadata": {},
   "outputs": [
    {
     "name": "stdout",
     "output_type": "stream",
     "text": [
      "[10, 20, 30, 40, 50, 5, 6, 7, 8, 9, 10] 11\n"
     ]
    }
   ],
   "source": [
    "l1[0:3] = [10,20,30,40,50]\n",
    "print(l1,len(l1))"
   ]
  },
  {
   "cell_type": "code",
   "execution_count": 38,
   "id": "cc6e04b4-af57-4cdb-b77b-8934d7fad337",
   "metadata": {},
   "outputs": [
    {
     "data": {
      "text/plain": [
       "[10, 20, 30, 40, 50, 5, 6, 7, 8, 9, 10]"
      ]
     },
     "execution_count": 38,
     "metadata": {},
     "output_type": "execute_result"
    }
   ],
   "source": [
    "l1 "
   ]
  },
  {
   "cell_type": "code",
   "execution_count": 39,
   "id": "66b14204-e76e-4247-9d7c-fa3bb56899a8",
   "metadata": {},
   "outputs": [
    {
     "name": "stdout",
     "output_type": "stream",
     "text": [
      "[10, 20, 30, 40, 50, 4, 5, 6, 7, 8, 9, 10] 12\n"
     ]
    }
   ],
   "source": [
    "l2 = [1,2,3,4,5,6,7,8,9,10]\n",
    "l2[0:3] = [10,20,30,40,50]\n",
    "print(l2,len(l2))"
   ]
  },
  {
   "cell_type": "code",
   "execution_count": 40,
   "id": "449a48e0-092d-4a6e-8c87-2d49b7765972",
   "metadata": {},
   "outputs": [
    {
     "data": {
      "text/plain": [
       "[1, 2, 3, 4, 5, 6, 7, 8, 9, 10]"
      ]
     },
     "execution_count": 40,
     "metadata": {},
     "output_type": "execute_result"
    }
   ],
   "source": [
    "l2 = [1,2,3,4,5,6,7,8,9,10]\n",
    "l2"
   ]
  },
  {
   "cell_type": "code",
   "execution_count": 41,
   "id": "99be70f4-b744-4faa-8b82-e4c7c472f541",
   "metadata": {},
   "outputs": [
    {
     "ename": "ValueError",
     "evalue": "attempt to assign sequence of size 4 to extended slice of size 5",
     "output_type": "error",
     "traceback": [
      "\u001b[1;31m---------------------------------------------------------------------------\u001b[0m",
      "\u001b[1;31mValueError\u001b[0m                                Traceback (most recent call last)",
      "Cell \u001b[1;32mIn[41], line 1\u001b[0m\n\u001b[1;32m----> 1\u001b[0m \u001b[43ml2\u001b[49m\u001b[43m[\u001b[49m\u001b[43m:\u001b[49m\u001b[43m:\u001b[49m\u001b[38;5;241;43m2\u001b[39;49m\u001b[43m]\u001b[49m \u001b[38;5;241m=\u001b[39m [\u001b[38;5;241m11\u001b[39m,\u001b[38;5;241m22\u001b[39m,\u001b[38;5;241m33\u001b[39m,\u001b[38;5;241m44\u001b[39m]\n",
      "\u001b[1;31mValueError\u001b[0m: attempt to assign sequence of size 4 to extended slice of size 5"
     ]
    }
   ],
   "source": [
    "l2[::2] = [11,22,33,44]"
   ]
  },
  {
   "cell_type": "code",
   "execution_count": 44,
   "id": "17cc8961-8b98-4d35-ac2f-b7f71d9214d9",
   "metadata": {},
   "outputs": [
    {
     "data": {
      "text/plain": [
       "[11, 2, 22, 4, 33, 6, 44, 8, 55, 10]"
      ]
     },
     "execution_count": 44,
     "metadata": {},
     "output_type": "execute_result"
    }
   ],
   "source": [
    "l2[::2] = [11,22,33,44,55]\n",
    "l2"
   ]
  },
  {
   "cell_type": "code",
   "execution_count": null,
   "id": "9979cc4b-93f6-40f7-ad07-7a7c3cf0f82b",
   "metadata": {},
   "outputs": [],
   "source": []
  },
  {
   "cell_type": "code",
   "execution_count": 50,
   "id": "d412dbf4-71a1-449b-b469-efa6b59250c8",
   "metadata": {},
   "outputs": [
    {
     "data": {
      "text/plain": [
       "[1, 2, 3, 4, 5, 6]"
      ]
     },
     "execution_count": 50,
     "metadata": {},
     "output_type": "execute_result"
    }
   ],
   "source": [
    "l1 = [1,2,3]\n",
    "l2 = [4,5,6]\n",
    "\n",
    "l1+l2"
   ]
  },
  {
   "cell_type": "code",
   "execution_count": 51,
   "id": "52a97a6b-8487-4593-9632-a04878bbf260",
   "metadata": {},
   "outputs": [
    {
     "data": {
      "text/plain": [
       "[1, 2, 3]"
      ]
     },
     "execution_count": 51,
     "metadata": {},
     "output_type": "execute_result"
    }
   ],
   "source": [
    "l1 "
   ]
  },
  {
   "cell_type": "code",
   "execution_count": 55,
   "id": "492f8701-c765-4d30-9214-a98fea75532e",
   "metadata": {},
   "outputs": [
    {
     "data": {
      "text/plain": [
       "[4, 5, 6]"
      ]
     },
     "execution_count": 55,
     "metadata": {},
     "output_type": "execute_result"
    }
   ],
   "source": [
    "l2"
   ]
  },
  {
   "cell_type": "code",
   "execution_count": 56,
   "id": "26df702d-5f93-4368-9b74-7c4fa15b0de9",
   "metadata": {},
   "outputs": [
    {
     "name": "stdout",
     "output_type": "stream",
     "text": [
      "2086428704512\n",
      "[1, 2, 3, 1, 2, 3, 1, 2, 3, 1, 2, 3]\n",
      "2086428794432\n"
     ]
    }
   ],
   "source": [
    "print(id(l1))\n",
    "l1 = l1+l1\n",
    "print(l1)\n",
    "print(id(l1))  # a new list is created only"
   ]
  },
  {
   "cell_type": "code",
   "execution_count": 54,
   "id": "75838b7b-2174-415d-acac-ff0e5cbf39bd",
   "metadata": {},
   "outputs": [
    {
     "data": {
      "text/plain": [
       "[1, 2, 3, 1, 2, 3, 4, 5, 6]"
      ]
     },
     "execution_count": 54,
     "metadata": {},
     "output_type": "execute_result"
    }
   ],
   "source": [
    "l3 = l1+l2\n",
    "l3"
   ]
  },
  {
   "cell_type": "code",
   "execution_count": null,
   "id": "ab7eb75d-3ab1-40e7-8e96-92b8104423cf",
   "metadata": {},
   "outputs": [],
   "source": []
  },
  {
   "cell_type": "code",
   "execution_count": 57,
   "id": "1ac915a3-15d2-4a13-b990-8dbcc1a5c5de",
   "metadata": {},
   "outputs": [
    {
     "name": "stdout",
     "output_type": "stream",
     "text": [
      "2086428795456\n"
     ]
    }
   ],
   "source": [
    "l1 =[1,2,3]\n",
    "print(id(l1))"
   ]
  },
  {
   "cell_type": "code",
   "execution_count": 58,
   "id": "9d5fea83-402b-462b-987a-77bfd1b7e84b",
   "metadata": {},
   "outputs": [
    {
     "name": "stdout",
     "output_type": "stream",
     "text": [
      "[1, 2, 3, 4, 5, 6]\n",
      "2086428795456\n"
     ]
    }
   ],
   "source": [
    "l1.extend([4,5,6])\n",
    "print(l1)\n",
    "print(id(l1))"
   ]
  },
  {
   "cell_type": "code",
   "execution_count": null,
   "id": "6c9baa34-5678-44f9-9574-43921b1197d7",
   "metadata": {},
   "outputs": [],
   "source": []
  },
  {
   "cell_type": "code",
   "execution_count": 59,
   "id": "cf756a34-b759-48f3-b08b-60bd530ecc97",
   "metadata": {},
   "outputs": [],
   "source": [
    "l1= [1,2,3]"
   ]
  },
  {
   "cell_type": "code",
   "execution_count": 61,
   "id": "535fc5d1-3255-49cb-898c-fd1f3f78f4fc",
   "metadata": {},
   "outputs": [
    {
     "data": {
      "text/plain": [
       "[1, 2, 3, 1, 2, 3]"
      ]
     },
     "execution_count": 61,
     "metadata": {},
     "output_type": "execute_result"
    }
   ],
   "source": [
    "l1*2"
   ]
  },
  {
   "cell_type": "code",
   "execution_count": 62,
   "id": "326feefe-1170-418b-bbc8-e1af6b5f995f",
   "metadata": {},
   "outputs": [
    {
     "data": {
      "text/plain": [
       "[1, 2, 3]"
      ]
     },
     "execution_count": 62,
     "metadata": {},
     "output_type": "execute_result"
    }
   ],
   "source": [
    "l1"
   ]
  },
  {
   "cell_type": "code",
   "execution_count": 63,
   "id": "8be7dd10-c2d9-4e69-89b3-498d35c37b39",
   "metadata": {},
   "outputs": [
    {
     "data": {
      "text/plain": [
       "[1, 2, 3, 1, 2, 3, 1, 2, 3]"
      ]
     },
     "execution_count": 63,
     "metadata": {},
     "output_type": "execute_result"
    }
   ],
   "source": [
    "l1 = l1*3\n",
    "l1"
   ]
  },
  {
   "cell_type": "code",
   "execution_count": null,
   "id": "776092bc-2703-4d80-98b9-f12323eefdad",
   "metadata": {},
   "outputs": [],
   "source": []
  },
  {
   "cell_type": "code",
   "execution_count": 64,
   "id": "99dd693b-77a4-426b-943b-d717ded8618d",
   "metadata": {},
   "outputs": [],
   "source": [
    "l1 = [1,2,3,4.0]"
   ]
  },
  {
   "cell_type": "code",
   "execution_count": 65,
   "id": "3bb77dc2-22ce-4bb8-b4d2-c91016c706e8",
   "metadata": {},
   "outputs": [
    {
     "data": {
      "text/plain": [
       "True"
      ]
     },
     "execution_count": 65,
     "metadata": {},
     "output_type": "execute_result"
    }
   ],
   "source": [
    "4.0 in l1"
   ]
  },
  {
   "cell_type": "code",
   "execution_count": 66,
   "id": "3894ecff-3836-4e4e-b102-e523fdd650ba",
   "metadata": {},
   "outputs": [
    {
     "data": {
      "text/plain": [
       "False"
      ]
     },
     "execution_count": 66,
     "metadata": {},
     "output_type": "execute_result"
    }
   ],
   "source": [
    "4.0 not in l1"
   ]
  },
  {
   "cell_type": "code",
   "execution_count": 67,
   "id": "892790cf-28a8-44ef-ac74-6fef6bde898e",
   "metadata": {},
   "outputs": [
    {
     "data": {
      "text/plain": [
       "False"
      ]
     },
     "execution_count": 67,
     "metadata": {},
     "output_type": "execute_result"
    }
   ],
   "source": [
    "\"4\" in l1"
   ]
  },
  {
   "cell_type": "code",
   "execution_count": 68,
   "id": "6cc0b879-c5b5-4b69-8cc8-14ecf1aa55ac",
   "metadata": {},
   "outputs": [
    {
     "data": {
      "text/plain": [
       "True"
      ]
     },
     "execution_count": 68,
     "metadata": {},
     "output_type": "execute_result"
    }
   ],
   "source": [
    "3 in l1"
   ]
  },
  {
   "cell_type": "code",
   "execution_count": null,
   "id": "188ce311-bc27-49f4-964b-b9e46dee33b0",
   "metadata": {},
   "outputs": [],
   "source": []
  },
  {
   "cell_type": "code",
   "execution_count": 69,
   "id": "dc440120-6779-45cd-9946-1c94efaedb32",
   "metadata": {},
   "outputs": [],
   "source": [
    "l1 = [5,6,7,8,9]"
   ]
  },
  {
   "cell_type": "code",
   "execution_count": 70,
   "id": "1f35b5d0-9b94-4782-a525-36ecf299e973",
   "metadata": {},
   "outputs": [
    {
     "name": "stdout",
     "output_type": "stream",
     "text": [
      "5 140713464568376\n",
      "6 140713464568408\n",
      "7 140713464568440\n",
      "8 140713464568472\n",
      "9 140713464568504\n"
     ]
    }
   ],
   "source": [
    "for x in l1:\n",
    "    print(x , id(x))"
   ]
  },
  {
   "cell_type": "code",
   "execution_count": 71,
   "id": "1e45e878-7b0f-44db-bb4d-207f657ee082",
   "metadata": {},
   "outputs": [
    {
     "name": "stdout",
     "output_type": "stream",
     "text": [
      "5\n",
      "6\n",
      "7\n",
      "8\n",
      "9\n"
     ]
    }
   ],
   "source": [
    "for x in l1:\n",
    "    print(x)"
   ]
  },
  {
   "cell_type": "code",
   "execution_count": 72,
   "id": "e9aca8c7-6b30-4f16-be46-736d2a6d7a90",
   "metadata": {},
   "outputs": [
    {
     "name": "stdout",
     "output_type": "stream",
     "text": [
      "5\n",
      "6\n",
      "7\n",
      "8\n",
      "9\n"
     ]
    }
   ],
   "source": [
    "for x in l1:\n",
    "    x+= 2\n",
    "for x in l1:\n",
    "    print(x)"
   ]
  },
  {
   "cell_type": "code",
   "execution_count": null,
   "id": "5bf14223-adee-4d01-ad9d-7775792b18d4",
   "metadata": {},
   "outputs": [],
   "source": []
  },
  {
   "cell_type": "code",
   "execution_count": 73,
   "id": "d0ba2047-1053-494e-b325-8aad9a28b02c",
   "metadata": {},
   "outputs": [
    {
     "data": {
      "text/plain": [
       "[5, 6, 7, 8, 9]"
      ]
     },
     "execution_count": 73,
     "metadata": {},
     "output_type": "execute_result"
    }
   ],
   "source": [
    "l1"
   ]
  },
  {
   "cell_type": "code",
   "execution_count": 78,
   "id": "9236b637-ca32-4f9a-ab98-768a05e269c7",
   "metadata": {},
   "outputs": [
    {
     "name": "stdout",
     "output_type": "stream",
     "text": [
      "5\n",
      "6\n",
      "7\n",
      "8\n",
      "9\n"
     ]
    }
   ],
   "source": [
    "for i in range(len(l1)):\n",
    "    print(l1[i])"
   ]
  },
  {
   "cell_type": "code",
   "execution_count": 82,
   "id": "8a0993bf-33a8-434e-a3ee-a262f3fe1467",
   "metadata": {},
   "outputs": [
    {
     "name": "stdout",
     "output_type": "stream",
     "text": [
      "9\n",
      "8\n",
      "7\n",
      "6\n",
      "5\n"
     ]
    }
   ],
   "source": [
    "for i in range(len(l1)-1 , -1 , -1):\n",
    "    print(l1[i])"
   ]
  },
  {
   "cell_type": "code",
   "execution_count": 85,
   "id": "b5abda43-56a6-4d21-9fb6-e54c4ee43492",
   "metadata": {},
   "outputs": [
    {
     "name": "stdout",
     "output_type": "stream",
     "text": [
      "9\n",
      "8\n",
      "7\n",
      "6\n",
      "5\n"
     ]
    }
   ],
   "source": [
    "for i in range(-1 , -(len(l1) + 1) , -1):\n",
    "    print(l1[i])"
   ]
  },
  {
   "cell_type": "code",
   "execution_count": null,
   "id": "3fea4a4f-e8c2-4d17-86e8-f2774771c4a4",
   "metadata": {},
   "outputs": [],
   "source": []
  },
  {
   "cell_type": "code",
   "execution_count": 87,
   "id": "44761c39-97d8-41a1-a5bf-d2371bdb4239",
   "metadata": {},
   "outputs": [
    {
     "name": "stdout",
     "output_type": "stream",
     "text": [
      "5\n",
      "6\n",
      "7\n",
      "8\n",
      "9\n"
     ]
    }
   ],
   "source": [
    "i = 0\n",
    "while(i<len(l1)):\n",
    "    print(l1[i])\n",
    "    i+=1"
   ]
  },
  {
   "cell_type": "code",
   "execution_count": 89,
   "id": "813741cf-6f48-4feb-a212-e4716a2b01ea",
   "metadata": {},
   "outputs": [
    {
     "name": "stdout",
     "output_type": "stream",
     "text": [
      "9\n",
      "8\n",
      "7\n",
      "6\n",
      "5\n"
     ]
    }
   ],
   "source": [
    "i = -1\n",
    "while(i>= -len(l1)):\n",
    "    print(l1[i])\n",
    "    i-=1"
   ]
  },
  {
   "cell_type": "code",
   "execution_count": null,
   "id": "54870d59-fdc4-4f87-be7f-711e93b55454",
   "metadata": {},
   "outputs": [],
   "source": []
  },
  {
   "cell_type": "code",
   "execution_count": null,
   "id": "2e2998e8-4314-4d27-82d1-1d9479653bb0",
   "metadata": {},
   "outputs": [],
   "source": []
  }
 ],
 "metadata": {
  "kernelspec": {
   "display_name": "Python 3 (ipykernel)",
   "language": "python",
   "name": "python3"
  },
  "language_info": {
   "codemirror_mode": {
    "name": "ipython",
    "version": 3
   },
   "file_extension": ".py",
   "mimetype": "text/x-python",
   "name": "python",
   "nbconvert_exporter": "python",
   "pygments_lexer": "ipython3",
   "version": "3.12.3"
  }
 },
 "nbformat": 4,
 "nbformat_minor": 5
}
