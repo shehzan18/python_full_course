{
 "cells": [
  {
   "cell_type": "code",
   "execution_count": 1,
   "id": "5fb97aa8-d222-445d-a96a-489ac721116b",
   "metadata": {},
   "outputs": [
    {
     "data": {
      "text/plain": [
       "['a',\n",
       " 'b',\n",
       " 'b',\n",
       " 'f',\n",
       " 'f',\n",
       " 'f',\n",
       " 'f',\n",
       " 'g',\n",
       " 'g',\n",
       " 'g',\n",
       " 'g',\n",
       " 'h',\n",
       " 'j',\n",
       " 'k',\n",
       " 'k',\n",
       " 's',\n",
       " 's',\n",
       " 's']"
      ]
     },
     "execution_count": 1,
     "metadata": {},
     "output_type": "execute_result"
    }
   ],
   "source": [
    "s = \"sfgffghkjsbgksabfg\"\n",
    "ss =sorted(s)\n",
    "ss"
   ]
  },
  {
   "cell_type": "code",
   "execution_count": 2,
   "id": "cbe8c091-2d21-4bec-89ce-91e5de16b9f5",
   "metadata": {},
   "outputs": [
    {
     "data": {
      "text/plain": [
       "'abbffffgggghjkksss'"
      ]
     },
     "execution_count": 2,
     "metadata": {},
     "output_type": "execute_result"
    }
   ],
   "source": [
    "ss = \"\".join(ss)\n",
    "ss\n"
   ]
  },
  {
   "cell_type": "code",
   "execution_count": null,
   "id": "5d219be7-6039-4d70-8b96-59b74a78f25f",
   "metadata": {},
   "outputs": [],
   "source": []
  },
  {
   "cell_type": "code",
   "execution_count": 3,
   "id": "669f54dc-8d49-4da5-aa88-8e91e810a81e",
   "metadata": {},
   "outputs": [],
   "source": [
    "name = [\"chicken pizza\" , \"biryani\", \"shawarma\"]\n",
    "prize = [\"300\" , \"250\" , \"80\"]\n",
    "dot = []"
   ]
  },
  {
   "cell_type": "code",
   "execution_count": 4,
   "id": "4a68826d-fede-46b3-aa52-fcf33ec462a0",
   "metadata": {},
   "outputs": [],
   "source": [
    "for i in range(0 , len(name)):\n",
    "    \n",
    "    dot.append ( 25 - (len(name[i]) + len(prize[i])))"
   ]
  },
  {
   "cell_type": "code",
   "execution_count": 5,
   "id": "093bf7a0-edca-4e36-a5a5-ff4275d36e2c",
   "metadata": {},
   "outputs": [],
   "source": [
    "bill = []\n",
    "for i in range(0 , len(name)):\n",
    "    \n",
    "    bill.append(name[i]+ dot[i]*\".\" + prize[i])\n"
   ]
  },
  {
   "cell_type": "code",
   "execution_count": 6,
   "id": "1ee7f677-61bf-493b-bcb8-a3d85d0e737a",
   "metadata": {},
   "outputs": [
    {
     "name": "stdout",
     "output_type": "stream",
     "text": [
      "chicken pizza.........300\n",
      "biryani...............250\n",
      "shawarma...............80\n"
     ]
    }
   ],
   "source": [
    "for i in bill:\n",
    "    print(i)"
   ]
  },
  {
   "cell_type": "code",
   "execution_count": null,
   "id": "bffc04de-2576-478b-b272-3a1c1bffd42c",
   "metadata": {},
   "outputs": [],
   "source": []
  },
  {
   "cell_type": "code",
   "execution_count": 7,
   "id": "b2973f86-ee52-4cda-bd32-227d160a0181",
   "metadata": {},
   "outputs": [
    {
     "name": "stdin",
     "output_type": "stream",
     "text": [
      "enter password  sd\n",
      "enter confirm password  sd\n"
     ]
    },
    {
     "name": "stdout",
     "output_type": "stream",
     "text": [
      "valid password\n"
     ]
    }
   ],
   "source": [
    "p = input(\"enter password \")\n",
    "p2 = input(\"enter confirm password \")\n",
    "if(p == p2):\n",
    "    print(\"valid password\")\n",
    "elif (p.casefold() == p2.casefold()):\n",
    "    print(\"please check cases\")\n",
    "else:\n",
    "    print(\"invalid password\")\n",
    "    print(\"try again\")\n",
    "    "
   ]
  },
  {
   "cell_type": "code",
   "execution_count": null,
   "id": "ef190afd-2753-4ddd-a895-66d94a2e2b74",
   "metadata": {},
   "outputs": [],
   "source": []
  },
  {
   "cell_type": "code",
   "execution_count": 10,
   "id": "05e4b882-22d0-48df-b69c-ff79668cac30",
   "metadata": {},
   "outputs": [
    {
     "name": "stdin",
     "output_type": "stream",
     "text": [
      "enter card no  1111 1111 1111 1111\n"
     ]
    },
    {
     "name": "stdout",
     "output_type": "stream",
     "text": [
      "**** **** **** 1111\n"
     ]
    }
   ],
   "source": [
    "n = input(\"enter card no \")\n",
    "star = \"**** \"\n",
    "display = star*3 + n[-1:-5:-1]\n",
    "print(display)\n"
   ]
  },
  {
   "cell_type": "code",
   "execution_count": null,
   "id": "15a92235-259c-404b-a6d2-021bba501eac",
   "metadata": {},
   "outputs": [],
   "source": []
  },
  {
   "cell_type": "code",
   "execution_count": 13,
   "id": "28bcd4aa-822a-4e1a-bed2-f3863a881912",
   "metadata": {},
   "outputs": [
    {
     "name": "stdin",
     "output_type": "stream",
     "text": [
      "enter your id  shehzan@gmail.com\n"
     ]
    },
    {
     "name": "stdout",
     "output_type": "stream",
     "text": [
      "name is  shehzan domain is  gmail.com\n"
     ]
    }
   ],
   "source": [
    "m = input(\"enter your id \")\n",
    "index= m.index(\"@\")\n",
    "name = m[:index]\n",
    "domain = m[index+1 :]\n",
    "print(\"name is \" , name , \"domain is \", domain)"
   ]
  },
  {
   "cell_type": "code",
   "execution_count": null,
   "id": "e384d980-e3bf-4210-bc97-626841ba84f0",
   "metadata": {},
   "outputs": [],
   "source": []
  },
  {
   "cell_type": "code",
   "execution_count": 20,
   "id": "4bafa169-91d8-44f9-bf02-02196cbbdb8d",
   "metadata": {},
   "outputs": [
    {
     "name": "stdin",
     "output_type": "stream",
     "text": [
      "enter the string  abb\n"
     ]
    },
    {
     "name": "stdout",
     "output_type": "stream",
     "text": [
      "not a palindrome\n",
      "abbbba is a palindrome of entered string\n"
     ]
    }
   ],
   "source": [
    "s = input(\"enter the string \")\n",
    "j = 0\n",
    "rev = s[::-1]\n",
    "for i in range(0, len(s)//2):\n",
    "    if (s[i] == s[len(s) -i-1]):\n",
    "        j+= 1\n",
    "        \n",
    "    else:\n",
    "        print(\"not a palindrome\")\n",
    "        break\n",
    "if(j==len(s)//2):\n",
    "    print(\"palindrome\")\n",
    "\n",
    "else:\n",
    "    print(s+rev ,\"is a palindrome of entered string\")\n",
    "    \n",
    "    "
   ]
  },
  {
   "cell_type": "code",
   "execution_count": 23,
   "id": "bf428d2a-09e5-4d8f-9367-fb70d6f19a31",
   "metadata": {},
   "outputs": [
    {
     "name": "stdin",
     "output_type": "stream",
     "text": [
      "enter date  18/1/2005\n"
     ]
    },
    {
     "name": "stdout",
     "output_type": "stream",
     "text": [
      "day :  18\n",
      "month :  1\n",
      "year :  2005\n"
     ]
    }
   ],
   "source": [
    "d = input(\"enter date \")\n",
    "a = d.find(\"/\")\n",
    "b = d.find(\"/\" , a+1)\n",
    "c = d.find(\"/\" , b+1)\n",
    "print(\"day : \" , d[:a])\n",
    "print(\"month : \" , d[a+1:b])\n",
    "print(\"year : \", d[b+1:])"
   ]
  },
  {
   "cell_type": "code",
   "execution_count": 26,
   "id": "5a373618-2d49-41e6-b741-fa2b85f957f3",
   "metadata": {},
   "outputs": [
    {
     "name": "stdin",
     "output_type": "stream",
     "text": [
      "enter date  18/01/2005\n"
     ]
    },
    {
     "name": "stdout",
     "output_type": "stream",
     "text": [
      "day  18 month  01 year  2005\n"
     ]
    }
   ],
   "source": [
    "d = input(\"enter date \")\n",
    "l = d.split(\"/\")\n",
    "print(\"day \", l[0] , \"month \" , l[1] , \"year \" , l[2])"
   ]
  },
  {
   "cell_type": "code",
   "execution_count": null,
   "id": "4b70d518-21dc-409c-bbbf-c689ee76306f",
   "metadata": {},
   "outputs": [],
   "source": []
  },
  {
   "cell_type": "code",
   "execution_count": 31,
   "id": "b619100b-32ff-41cb-8271-f9bde3cf3714",
   "metadata": {},
   "outputs": [
    {
     "name": "stdin",
     "output_type": "stream",
     "text": [
      "enter first string  medical\n",
      "enter second string  decimal\n"
     ]
    },
    {
     "name": "stdout",
     "output_type": "stream",
     "text": [
      "anagram\n"
     ]
    }
   ],
   "source": [
    "# anagram\n",
    "s1 = input(\"enter first string \")\n",
    "s2 = input(\"enter second string \")\n",
    "for i in s1:\n",
    "    if i not in s2:\n",
    "        print(\"not an anagram\")\n",
    "        break\n",
    "else:\n",
    "    print(\"anagram\")\n",
    "    "
   ]
  },
  {
   "cell_type": "code",
   "execution_count": null,
   "id": "311071dc-41d8-42f0-bf36-06d93e949fe7",
   "metadata": {},
   "outputs": [],
   "source": []
  },
  {
   "cell_type": "code",
   "execution_count": 35,
   "id": "5c620a5c-3b7d-4c81-b142-628cad7a354c",
   "metadata": {},
   "outputs": [
    {
     "name": "stdin",
     "output_type": "stream",
     "text": [
      "enter a string  sdSDFDdff\n"
     ]
    },
    {
     "name": "stdout",
     "output_type": "stream",
     "text": [
      "sddffSDFD\n"
     ]
    }
   ],
   "source": [
    "# lower then upper\n",
    "s = input(\"enter a string \")\n",
    "l = \"\"\n",
    "h = \"\"\n",
    "for i in s:\n",
    "    if(i.isupper()):\n",
    "        h = h+i\n",
    "    elif(i.islower()):\n",
    "        l = l+i\n",
    "s = l+h\n",
    "print(s)\n",
    "\n",
    "        "
   ]
  },
  {
   "cell_type": "code",
   "execution_count": null,
   "id": "087e7aef-c171-4e9b-8fdc-602eb28092a1",
   "metadata": {},
   "outputs": [],
   "source": []
  },
  {
   "cell_type": "code",
   "execution_count": 36,
   "id": "16afa2c1-9ef0-4991-9560-4ee77a4fd094",
   "metadata": {},
   "outputs": [
    {
     "name": "stdin",
     "output_type": "stream",
     "text": [
      "enter a string  dsfsdf@#@#dsfsd123\n"
     ]
    },
    {
     "name": "stdout",
     "output_type": "stream",
     "text": [
      "dsfsdfdsfsd123\n"
     ]
    }
   ],
   "source": [
    "#remove punctuation\n",
    "s = input(\"enter a string \")\n",
    "k = \"\"\n",
    "for i in s:\n",
    "    if (i.isalnum()):\n",
    "        k+=i\n",
    "\n",
    "print(k)"
   ]
  },
  {
   "cell_type": "code",
   "execution_count": null,
   "id": "9d2db28a-f8b1-43dc-b636-56393ae0ff9f",
   "metadata": {},
   "outputs": [],
   "source": []
  }
 ],
 "metadata": {
  "kernelspec": {
   "display_name": "Python 3 (ipykernel)",
   "language": "python",
   "name": "python3"
  },
  "language_info": {
   "codemirror_mode": {
    "name": "ipython",
    "version": 3
   },
   "file_extension": ".py",
   "mimetype": "text/x-python",
   "name": "python",
   "nbconvert_exporter": "python",
   "pygments_lexer": "ipython3",
   "version": "3.12.3"
  }
 },
 "nbformat": 4,
 "nbformat_minor": 5
}
