{
 "cells": [
  {
   "cell_type": "code",
   "execution_count": 1,
   "id": "9cd9137b-0525-4cd6-9b94-489ed8218ed8",
   "metadata": {},
   "outputs": [
    {
     "data": {
      "text/plain": [
       "97"
      ]
     },
     "execution_count": 1,
     "metadata": {},
     "output_type": "execute_result"
    }
   ],
   "source": [
    "ord(\"a\")"
   ]
  },
  {
   "cell_type": "code",
   "execution_count": 2,
   "id": "af30ff4a-a8e7-462b-b6f9-59066ef7f5ed",
   "metadata": {},
   "outputs": [
    {
     "data": {
      "text/plain": [
       "107"
      ]
     },
     "execution_count": 2,
     "metadata": {},
     "output_type": "execute_result"
    }
   ],
   "source": [
    "ord(\"k\")"
   ]
  },
  {
   "cell_type": "code",
   "execution_count": 4,
   "id": "7a5d173b-a165-4b6f-8566-f8fbb982ac86",
   "metadata": {},
   "outputs": [
    {
     "data": {
      "text/plain": [
       "107"
      ]
     },
     "execution_count": 4,
     "metadata": {},
     "output_type": "execute_result"
    }
   ],
   "source": [
    "97+11  - 1\n"
   ]
  },
  {
   "cell_type": "code",
   "execution_count": 5,
   "id": "1ff19c69-68ef-4568-a527-0d49d79841de",
   "metadata": {},
   "outputs": [
    {
     "data": {
      "text/plain": [
       "65"
      ]
     },
     "execution_count": 5,
     "metadata": {},
     "output_type": "execute_result"
    }
   ],
   "source": [
    "ord(\"A\")"
   ]
  },
  {
   "cell_type": "code",
   "execution_count": 6,
   "id": "6ac6e43f-3fa7-4f71-979e-3c60b8ba42ea",
   "metadata": {},
   "outputs": [
    {
     "data": {
      "text/plain": [
       "66"
      ]
     },
     "execution_count": 6,
     "metadata": {},
     "output_type": "execute_result"
    }
   ],
   "source": [
    "ord(\"B\")"
   ]
  },
  {
   "cell_type": "code",
   "execution_count": 7,
   "id": "e0683c40-e01c-44ba-82d5-2b04ebd3bb7b",
   "metadata": {},
   "outputs": [
    {
     "data": {
      "text/plain": [
       "32"
      ]
     },
     "execution_count": 7,
     "metadata": {},
     "output_type": "execute_result"
    }
   ],
   "source": [
    "ord(\" \")"
   ]
  },
  {
   "cell_type": "code",
   "execution_count": 10,
   "id": "4b610803-ba03-4071-837b-7a90854d504d",
   "metadata": {},
   "outputs": [
    {
     "data": {
      "text/plain": [
       "48"
      ]
     },
     "execution_count": 10,
     "metadata": {},
     "output_type": "execute_result"
    }
   ],
   "source": [
    "ord(\"0\")"
   ]
  },
  {
   "cell_type": "code",
   "execution_count": 11,
   "id": "3057fe88-cac9-4ff0-80d4-2e4af4f8e7ab",
   "metadata": {},
   "outputs": [
    {
     "data": {
      "text/plain": [
       "49"
      ]
     },
     "execution_count": 11,
     "metadata": {},
     "output_type": "execute_result"
    }
   ],
   "source": [
    "ord(\"1\")"
   ]
  },
  {
   "cell_type": "code",
   "execution_count": 13,
   "id": "855b5d64-9289-4ffb-b1bf-de6c64fba9f5",
   "metadata": {},
   "outputs": [
    {
     "data": {
      "text/plain": [
       "37"
      ]
     },
     "execution_count": 13,
     "metadata": {},
     "output_type": "execute_result"
    }
   ],
   "source": [
    "ord(\"%\")"
   ]
  },
  {
   "cell_type": "code",
   "execution_count": null,
   "id": "cdf8f455-6d62-4487-80a7-3c2ee11502ea",
   "metadata": {},
   "outputs": [],
   "source": []
  },
  {
   "cell_type": "code",
   "execution_count": 14,
   "id": "592a6fd6-cce8-4da9-a3ab-4e7a3cec3f27",
   "metadata": {},
   "outputs": [
    {
     "data": {
      "text/plain": [
       "'A'"
      ]
     },
     "execution_count": 14,
     "metadata": {},
     "output_type": "execute_result"
    }
   ],
   "source": [
    "chr(65)"
   ]
  },
  {
   "cell_type": "code",
   "execution_count": 15,
   "id": "10cbcfd2-8ec1-4e68-bc42-97661dcd48d6",
   "metadata": {},
   "outputs": [
    {
     "data": {
      "text/plain": [
       "' '"
      ]
     },
     "execution_count": 15,
     "metadata": {},
     "output_type": "execute_result"
    }
   ],
   "source": [
    "chr(32)"
   ]
  },
  {
   "cell_type": "code",
   "execution_count": 16,
   "id": "e25b5a89-66d6-498f-9dee-8cbc5b05d1d8",
   "metadata": {},
   "outputs": [
    {
     "data": {
      "text/plain": [
       "'\\x00'"
      ]
     },
     "execution_count": 16,
     "metadata": {},
     "output_type": "execute_result"
    }
   ],
   "source": [
    "chr(0)"
   ]
  },
  {
   "cell_type": "code",
   "execution_count": 17,
   "id": "eaa01cb2-8984-4e55-aa0f-b45e0daa9fe8",
   "metadata": {},
   "outputs": [
    {
     "data": {
      "text/plain": [
       "'a'"
      ]
     },
     "execution_count": 17,
     "metadata": {},
     "output_type": "execute_result"
    }
   ],
   "source": [
    "chr(97)"
   ]
  },
  {
   "cell_type": "code",
   "execution_count": 18,
   "id": "d2629881-739c-4db0-a7bb-c94dcef7fda2",
   "metadata": {},
   "outputs": [
    {
     "data": {
      "text/plain": [
       "'0'"
      ]
     },
     "execution_count": 18,
     "metadata": {},
     "output_type": "execute_result"
    }
   ],
   "source": [
    "chr(48)"
   ]
  },
  {
   "cell_type": "code",
   "execution_count": null,
   "id": "7c4b12bb-5672-4e65-b456-d04f52145010",
   "metadata": {},
   "outputs": [],
   "source": []
  },
  {
   "cell_type": "code",
   "execution_count": 19,
   "id": "c5fe1fd8-c1fe-4974-82af-b793f0826bf2",
   "metadata": {},
   "outputs": [
    {
     "data": {
      "text/plain": [
       "'α'"
      ]
     },
     "execution_count": 19,
     "metadata": {},
     "output_type": "execute_result"
    }
   ],
   "source": [
    "s =\"\\u03B1\"\n",
    "s"
   ]
  },
  {
   "cell_type": "code",
   "execution_count": 20,
   "id": "3bda7b0b-332c-439d-ad3e-1aa602962769",
   "metadata": {},
   "outputs": [
    {
     "data": {
      "text/plain": [
       "'β'"
      ]
     },
     "execution_count": 20,
     "metadata": {},
     "output_type": "execute_result"
    }
   ],
   "source": [
    "s = \"\\u03B2\"\n",
    "s"
   ]
  },
  {
   "cell_type": "code",
   "execution_count": 22,
   "id": "8246492f-248d-4ee9-bd08-82054be5936c",
   "metadata": {},
   "outputs": [
    {
     "data": {
      "text/plain": [
       "'γ'"
      ]
     },
     "execution_count": 22,
     "metadata": {},
     "output_type": "execute_result"
    }
   ],
   "source": [
    "s = \"\\u03B3\"\n",
    "s"
   ]
  },
  {
   "cell_type": "code",
   "execution_count": 23,
   "id": "e9d9d0d9-2220-4adc-8365-1c95fd7178a9",
   "metadata": {},
   "outputs": [
    {
     "data": {
      "text/plain": [
       "'αβγ'"
      ]
     },
     "execution_count": 23,
     "metadata": {},
     "output_type": "execute_result"
    }
   ],
   "source": [
    "s = \"\\u03b1\\u03b2\\u03b3\"\n",
    "s"
   ]
  },
  {
   "cell_type": "code",
   "execution_count": 24,
   "id": "2a6fe30d-6b28-42b0-99c5-c1e38466563b",
   "metadata": {},
   "outputs": [
    {
     "data": {
      "text/plain": [
       "'A'"
      ]
     },
     "execution_count": 24,
     "metadata": {},
     "output_type": "execute_result"
    }
   ],
   "source": [
    "s = \"\\u0041\"  # 0041 is hexadecimal of 65\n",
    "s"
   ]
  },
  {
   "cell_type": "code",
   "execution_count": 25,
   "id": "faa96d3e-d0b7-4f64-9789-279a559a550b",
   "metadata": {},
   "outputs": [
    {
     "data": {
      "text/plain": [
       "'कखग'"
      ]
     },
     "execution_count": 25,
     "metadata": {},
     "output_type": "execute_result"
    }
   ],
   "source": [
    "s = \"\\u0915\\u0916\\u0917\"\n",
    "s"
   ]
  },
  {
   "cell_type": "code",
   "execution_count": null,
   "id": "73aff617-f20c-4d77-b8dd-cd16231fd1e2",
   "metadata": {},
   "outputs": [],
   "source": []
  },
  {
   "cell_type": "code",
   "execution_count": 26,
   "id": "4573ab5c-a758-4a6e-8bca-809cf8378bba",
   "metadata": {},
   "outputs": [
    {
     "name": "stdout",
     "output_type": "stream",
     "text": [
      "ab\n",
      "cd\n"
     ]
    }
   ],
   "source": [
    "print(\"ab\")\n",
    "print(\"cd\")"
   ]
  },
  {
   "cell_type": "code",
   "execution_count": 29,
   "id": "e31922a6-febb-4c15-9ae2-b8fa128f2ce8",
   "metadata": {},
   "outputs": [
    {
     "name": "stdout",
     "output_type": "stream",
     "text": [
      "abcd\n"
     ]
    }
   ],
   "source": [
    "print(\"ab\" , end = \"\")\n",
    "print(\"cd\")"
   ]
  },
  {
   "cell_type": "code",
   "execution_count": 30,
   "id": "5fc407b1-d9d2-4079-91dd-c65a535b2600",
   "metadata": {},
   "outputs": [
    {
     "name": "stdout",
     "output_type": "stream",
     "text": [
      "ab cd\n"
     ]
    }
   ],
   "source": [
    "print(\"ab\" , end = \" \")\n",
    "print(\"cd\")"
   ]
  },
  {
   "cell_type": "code",
   "execution_count": 31,
   "id": "cc15bc3d-a5f2-4090-a189-4441e2cf48c3",
   "metadata": {},
   "outputs": [
    {
     "name": "stdout",
     "output_type": "stream",
     "text": [
      "ab+cd\n"
     ]
    }
   ],
   "source": [
    "print(\"ab\" , end = \"+\")\n",
    "print(\"cd\")"
   ]
  },
  {
   "cell_type": "code",
   "execution_count": 33,
   "id": "780b68d6-4066-48fb-b818-0f0b8c6620bc",
   "metadata": {},
   "outputs": [
    {
     "name": "stdout",
     "output_type": "stream",
     "text": [
      "abc\n",
      "def\n"
     ]
    }
   ],
   "source": [
    "print(\"abc\\ndef\" )"
   ]
  },
  {
   "cell_type": "code",
   "execution_count": null,
   "id": "7c2a3197-d493-4a21-a76e-f3318932fdcb",
   "metadata": {},
   "outputs": [],
   "source": []
  },
  {
   "cell_type": "code",
   "execution_count": 37,
   "id": "66002a2b-4173-466f-bd15-c00f2ec2de8e",
   "metadata": {},
   "outputs": [
    {
     "name": "stdout",
     "output_type": "stream",
     "text": [
      "ab\f",
      "cd"
     ]
    }
   ],
   "source": [
    "print(\"ab\\fcd\" , end =\"\")  "
   ]
  },
  {
   "cell_type": "code",
   "execution_count": 38,
   "id": "6755f423-363e-480e-9705-590a59b44b3d",
   "metadata": {},
   "outputs": [
    {
     "name": "stdout",
     "output_type": "stream",
     "text": [
      "cdef\n"
     ]
    }
   ],
   "source": [
    "print(\"ab\\rcdef\")"
   ]
  },
  {
   "cell_type": "code",
   "execution_count": 39,
   "id": "85dc214f-3a63-4614-9cbf-bffc16fdc289",
   "metadata": {},
   "outputs": [
    {
     "name": "stdout",
     "output_type": "stream",
     "text": [
      "shehza\n"
     ]
    }
   ],
   "source": [
    "print(\"shehzan\\b\")"
   ]
  },
  {
   "cell_type": "code",
   "execution_count": 41,
   "id": "2974756e-26dd-4d9c-9bae-fe4acbd92ef5",
   "metadata": {},
   "outputs": [
    {
     "name": "stdout",
     "output_type": "stream",
     "text": [
      "sheh\tzan\n"
     ]
    }
   ],
   "source": [
    "print(\"sheh\\tzan\")"
   ]
  },
  {
   "cell_type": "code",
   "execution_count": 42,
   "id": "b60046e9-3e8f-4f05-9032-7e7f82f066b9",
   "metadata": {},
   "outputs": [
    {
     "name": "stdout",
     "output_type": "stream",
     "text": [
      "sheh\u000b",
      "zan\n"
     ]
    }
   ],
   "source": [
    "print(\"sheh\\vzan\")"
   ]
  },
  {
   "cell_type": "code",
   "execution_count": 43,
   "id": "7c46c5d2-695c-4634-80e5-3bb04220ea7a",
   "metadata": {},
   "outputs": [
    {
     "name": "stdout",
     "output_type": "stream",
     "text": [
      "shehzan\u0007\n"
     ]
    }
   ],
   "source": [
    "print(\"shehzan\\a\")"
   ]
  },
  {
   "cell_type": "code",
   "execution_count": null,
   "id": "7fffe738-d6c8-4928-96bb-8dc5b50ded4a",
   "metadata": {},
   "outputs": [],
   "source": []
  },
  {
   "cell_type": "code",
   "execution_count": 44,
   "id": "aaeffdba-23dd-4a31-8f4d-99954aae7c52",
   "metadata": {},
   "outputs": [
    {
     "name": "stdout",
     "output_type": "stream",
     "text": [
      "we're\n"
     ]
    }
   ],
   "source": [
    "print(\"we\\'re\")"
   ]
  },
  {
   "cell_type": "code",
   "execution_count": 45,
   "id": "ef7d1871-dc18-43e6-a2ed-42ab0b08102c",
   "metadata": {},
   "outputs": [
    {
     "name": "stdout",
     "output_type": "stream",
     "text": [
      "we\"re\n"
     ]
    }
   ],
   "source": [
    "print(\"we\\\"re\")"
   ]
  },
  {
   "cell_type": "code",
   "execution_count": 46,
   "id": "5fb2cb5e-0832-4927-8e60-17d50926e1d3",
   "metadata": {},
   "outputs": [
    {
     "name": "stdout",
     "output_type": "stream",
     "text": [
      "we\\re\n"
     ]
    }
   ],
   "source": [
    "print(\"we\\\\re\")"
   ]
  },
  {
   "cell_type": "code",
   "execution_count": 47,
   "id": "1bda0363-f013-4737-bbd3-980e3d07fb49",
   "metadata": {},
   "outputs": [
    {
     "name": "stdout",
     "output_type": "stream",
     "text": [
      "shehzan's\n"
     ]
    }
   ],
   "source": [
    "print(\"shehzan's\")"
   ]
  },
  {
   "cell_type": "code",
   "execution_count": 48,
   "id": "eca9db5e-d0d2-4375-8a63-ae47d12b2b67",
   "metadata": {},
   "outputs": [
    {
     "ename": "SyntaxError",
     "evalue": "unterminated string literal (detected at line 1) (491690570.py, line 1)",
     "output_type": "error",
     "traceback": [
      "\u001b[1;36m  Cell \u001b[1;32mIn[48], line 1\u001b[1;36m\u001b[0m\n\u001b[1;33m    print('shehzan's')\u001b[0m\n\u001b[1;37m                    ^\u001b[0m\n\u001b[1;31mSyntaxError\u001b[0m\u001b[1;31m:\u001b[0m unterminated string literal (detected at line 1)\n"
     ]
    }
   ],
   "source": [
    "print('shehzan's')"
   ]
  },
  {
   "cell_type": "code",
   "execution_count": 49,
   "id": "83a7f1a1-4428-4917-9890-a07f9abd2928",
   "metadata": {},
   "outputs": [
    {
     "name": "stdout",
     "output_type": "stream",
     "text": [
      "sheh\\nzan\n"
     ]
    }
   ],
   "source": [
    "print(\"sheh\\\\nzan\")"
   ]
  },
  {
   "cell_type": "code",
   "execution_count": 50,
   "id": "cf2338c3-2b71-46a9-8a25-58bed7d69da6",
   "metadata": {},
   "outputs": [
    {
     "name": "stdout",
     "output_type": "stream",
     "text": [
      "sheh\\tzan\n"
     ]
    }
   ],
   "source": [
    "print(\"sheh\\\\tzan\")"
   ]
  },
  {
   "cell_type": "code",
   "execution_count": null,
   "id": "408075f7-ba68-42e4-a159-06f2ccbe411b",
   "metadata": {},
   "outputs": [],
   "source": []
  }
 ],
 "metadata": {
  "kernelspec": {
   "display_name": "Python 3 (ipykernel)",
   "language": "python",
   "name": "python3"
  },
  "language_info": {
   "codemirror_mode": {
    "name": "ipython",
    "version": 3
   },
   "file_extension": ".py",
   "mimetype": "text/x-python",
   "name": "python",
   "nbconvert_exporter": "python",
   "pygments_lexer": "ipython3",
   "version": "3.12.3"
  }
 },
 "nbformat": 4,
 "nbformat_minor": 5
}
