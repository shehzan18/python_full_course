{
 "cells": [
  {
   "cell_type": "markdown",
   "id": "05c51ca2-1f26-4f86-b9ae-041a79191fa9",
   "metadata": {},
   "source": []
  },
  {
   "cell_type": "code",
   "execution_count": 1,
   "id": "0df1ead9-704b-4a31-9785-59f293c4ff9e",
   "metadata": {},
   "outputs": [
    {
     "data": {
      "text/plain": [
       "{'abacus': 'a calculator',\n",
       " 'bachelor': 'an unmarried person',\n",
       " 'cable': 'strong rope'}"
      ]
     },
     "execution_count": 1,
     "metadata": {},
     "output_type": "execute_result"
    }
   ],
   "source": [
    "d1 = {\"abacus\":\"a calculator\" , \"bachelor\": \"an unmarried person\" , \"cable\": \"strong rope\"}\n",
    "d1"
   ]
  },
  {
   "cell_type": "code",
   "execution_count": 2,
   "id": "349421b3-114a-4a16-8f75-dc2997ba3097",
   "metadata": {},
   "outputs": [
    {
     "data": {
      "text/plain": [
       "'a calculator'"
      ]
     },
     "execution_count": 2,
     "metadata": {},
     "output_type": "execute_result"
    }
   ],
   "source": [
    "d1[\"abacus\"]"
   ]
  },
  {
   "cell_type": "code",
   "execution_count": 3,
   "id": "b91603c4-8dfb-4a3c-acf6-b89243414cd0",
   "metadata": {},
   "outputs": [
    {
     "ename": "KeyError",
     "evalue": "0",
     "output_type": "error",
     "traceback": [
      "\u001b[1;31m---------------------------------------------------------------------------\u001b[0m",
      "\u001b[1;31mKeyError\u001b[0m                                  Traceback (most recent call last)",
      "Cell \u001b[1;32mIn[3], line 1\u001b[0m\n\u001b[1;32m----> 1\u001b[0m \u001b[43md1\u001b[49m\u001b[43m[\u001b[49m\u001b[38;5;241;43m0\u001b[39;49m\u001b[43m]\u001b[49m\n",
      "\u001b[1;31mKeyError\u001b[0m: 0"
     ]
    }
   ],
   "source": [
    "d1[0]"
   ]
  },
  {
   "cell_type": "code",
   "execution_count": null,
   "id": "c253567c-0d82-46fb-b2e1-88c8d8221c3d",
   "metadata": {},
   "outputs": [],
   "source": []
  },
  {
   "cell_type": "code",
   "execution_count": 4,
   "id": "d4ad76e3-eccb-4362-b2ce-a87a54fabe44",
   "metadata": {},
   "outputs": [
    {
     "data": {
      "text/plain": [
       "{101: 'john', 102: ' smith', 103: 'mark'}"
      ]
     },
     "execution_count": 4,
     "metadata": {},
     "output_type": "execute_result"
    }
   ],
   "source": [
    "d2 = {101:\"john\" , 102 : \" smith\" , 103: \"mark\"}\n",
    "d2"
   ]
  },
  {
   "cell_type": "code",
   "execution_count": 5,
   "id": "2a671f8c-7e5d-410e-8617-47561a44fec5",
   "metadata": {},
   "outputs": [
    {
     "data": {
      "text/plain": [
       "'mark'"
      ]
     },
     "execution_count": 5,
     "metadata": {},
     "output_type": "execute_result"
    }
   ],
   "source": [
    "d2[103]"
   ]
  },
  {
   "cell_type": "code",
   "execution_count": null,
   "id": "6ff54c57-88f8-49b6-8eaf-c4927784fc2e",
   "metadata": {},
   "outputs": [],
   "source": []
  },
  {
   "cell_type": "code",
   "execution_count": 6,
   "id": "6930f0be-051a-4779-9d0b-4debf7622b84",
   "metadata": {},
   "outputs": [
    {
     "data": {
      "text/plain": [
       "{101: 'john', 102: ' smith', 103: 'zan'}"
      ]
     },
     "execution_count": 6,
     "metadata": {},
     "output_type": "execute_result"
    }
   ],
   "source": [
    "d2[103] = \"zan\"\n",
    "d2"
   ]
  },
  {
   "cell_type": "code",
   "execution_count": 7,
   "id": "8c348dd0-5c56-48f3-becb-e8f1c28b4d5c",
   "metadata": {},
   "outputs": [
    {
     "data": {
      "text/plain": [
       "{101: 'john', 102: ' smith', 103: 'zan', 104: 'rone'}"
      ]
     },
     "execution_count": 7,
     "metadata": {},
     "output_type": "execute_result"
    }
   ],
   "source": [
    "d2[104] = \"rone\"\n",
    "d2"
   ]
  },
  {
   "cell_type": "code",
   "execution_count": null,
   "id": "455031f7-b4e8-4231-a44a-5774fc98cc81",
   "metadata": {},
   "outputs": [],
   "source": []
  },
  {
   "cell_type": "code",
   "execution_count": 8,
   "id": "58cd2627-3705-4d78-b7d2-979d965e9963",
   "metadata": {},
   "outputs": [
    {
     "data": {
      "text/plain": [
       "{102: ' smith', 103: 'zan', 104: 'rone'}"
      ]
     },
     "execution_count": 8,
     "metadata": {},
     "output_type": "execute_result"
    }
   ],
   "source": [
    "del d2[101]\n",
    "d2"
   ]
  },
  {
   "cell_type": "code",
   "execution_count": null,
   "id": "b0c72719-3f9b-4f61-b023-5c6cc2128db0",
   "metadata": {},
   "outputs": [],
   "source": []
  },
  {
   "cell_type": "code",
   "execution_count": 9,
   "id": "c3e12f4e-7a46-4266-8a8c-0fae8bf7136a",
   "metadata": {},
   "outputs": [
    {
     "name": "stdout",
     "output_type": "stream",
     "text": [
      "102\n",
      "103\n",
      "104\n"
     ]
    }
   ],
   "source": [
    "for i in d2:\n",
    "    print (i)"
   ]
  },
  {
   "cell_type": "code",
   "execution_count": 11,
   "id": "3f1a4196-8e5e-4f1e-98e0-12b27b37bb41",
   "metadata": {},
   "outputs": [
    {
     "name": "stdout",
     "output_type": "stream",
     "text": [
      "102  smith\n",
      "103 zan\n",
      "104 rone\n"
     ]
    }
   ],
   "source": [
    "for i in d2:\n",
    "    print(i , d2[i])"
   ]
  },
  {
   "cell_type": "code",
   "execution_count": null,
   "id": "9eecbbc7-8ae4-4023-a781-1a6c5a31dcb9",
   "metadata": {},
   "outputs": [],
   "source": []
  },
  {
   "cell_type": "code",
   "execution_count": 12,
   "id": "3774d6ed-eb8d-4258-84c8-b6e1792a9624",
   "metadata": {},
   "outputs": [
    {
     "name": "stdout",
     "output_type": "stream",
     "text": [
      "<class 'dict'> <class 'dict'>\n"
     ]
    }
   ],
   "source": [
    "d1 = {}\n",
    "d2= dict()\n",
    "print(type(d1) , type(d2))"
   ]
  },
  {
   "cell_type": "code",
   "execution_count": 13,
   "id": "66f39d1e-2b4b-4276-8635-74c49e6211f1",
   "metadata": {},
   "outputs": [
    {
     "data": {
      "text/plain": [
       "{'mango': 'yellow', 'apple': 'red'}"
      ]
     },
     "execution_count": 13,
     "metadata": {},
     "output_type": "execute_result"
    }
   ],
   "source": [
    "d1[\"mango\"] = \"yellow\"\n",
    "d1[\"apple\"] = \"red\"\n",
    "d1"
   ]
  },
  {
   "cell_type": "code",
   "execution_count": 14,
   "id": "9433a5e9-4644-4a93-903e-57058e04d1b3",
   "metadata": {},
   "outputs": [
    {
     "data": {
      "text/plain": [
       "{1: 1, 2: 4, 3: 9, 4: 16, 5: 25}"
      ]
     },
     "execution_count": 14,
     "metadata": {},
     "output_type": "execute_result"
    }
   ],
   "source": [
    "for i in range (1,6):\n",
    "    d2[i] = i**2\n",
    "d2"
   ]
  },
  {
   "cell_type": "code",
   "execution_count": null,
   "id": "60166b42-e793-476a-81c7-965b70234038",
   "metadata": {},
   "outputs": [],
   "source": []
  },
  {
   "cell_type": "code",
   "execution_count": 15,
   "id": "461e66c1-d1a1-4978-8850-114384f89d0f",
   "metadata": {},
   "outputs": [
    {
     "data": {
      "text/plain": [
       "{1: 2, 2: 4, 3: 6}"
      ]
     },
     "execution_count": 15,
     "metadata": {},
     "output_type": "execute_result"
    }
   ],
   "source": [
    "d = dict(((1,2), (2,4) , (3,6)))  # dict((iterable pairs))\n",
    "d"
   ]
  },
  {
   "cell_type": "code",
   "execution_count": 16,
   "id": "b2bc690e-7477-4009-b024-bbffce5af284",
   "metadata": {},
   "outputs": [
    {
     "data": {
      "text/plain": [
       "{'a': 'b', 'c': 'd', 'e': 'f'}"
      ]
     },
     "execution_count": 16,
     "metadata": {},
     "output_type": "execute_result"
    }
   ],
   "source": [
    "d = dict((\"ab\" , \"cd\" , \"ef\"))\n",
    "d"
   ]
  },
  {
   "cell_type": "code",
   "execution_count": 17,
   "id": "b57c2256-68b9-4eb5-91c8-607637d78178",
   "metadata": {},
   "outputs": [
    {
     "ename": "ValueError",
     "evalue": "dictionary update sequence element #0 has length 4; 2 is required",
     "output_type": "error",
     "traceback": [
      "\u001b[1;31m---------------------------------------------------------------------------\u001b[0m",
      "\u001b[1;31mValueError\u001b[0m                                Traceback (most recent call last)",
      "Cell \u001b[1;32mIn[17], line 1\u001b[0m\n\u001b[1;32m----> 1\u001b[0m d \u001b[38;5;241m=\u001b[39m \u001b[38;5;28;43mdict\u001b[39;49m\u001b[43m(\u001b[49m\u001b[43m(\u001b[49m\u001b[38;5;124;43m\"\u001b[39;49m\u001b[38;5;124;43mab12\u001b[39;49m\u001b[38;5;124;43m\"\u001b[39;49m\u001b[43m \u001b[49m\u001b[43m,\u001b[49m\u001b[43m \u001b[49m\u001b[38;5;124;43m\"\u001b[39;49m\u001b[38;5;124;43mcd12\u001b[39;49m\u001b[38;5;124;43m\"\u001b[39;49m\u001b[43m \u001b[49m\u001b[43m,\u001b[49m\u001b[43m \u001b[49m\u001b[38;5;124;43m\"\u001b[39;49m\u001b[38;5;124;43mef12\u001b[39;49m\u001b[38;5;124;43m\"\u001b[39;49m\u001b[43m)\u001b[49m\u001b[43m)\u001b[49m\n\u001b[0;32m      2\u001b[0m d\n",
      "\u001b[1;31mValueError\u001b[0m: dictionary update sequence element #0 has length 4; 2 is required"
     ]
    }
   ],
   "source": [
    "d = dict((\"ab12\" , \"cd12\" , \"ef12\"))\n",
    "d"
   ]
  },
  {
   "cell_type": "code",
   "execution_count": 18,
   "id": "3fde97bf-0bf0-4b7f-b833-1b86749e959b",
   "metadata": {},
   "outputs": [
    {
     "data": {
      "text/plain": [
       "{1: 2, 2: 4, 3: 6}"
      ]
     },
     "execution_count": 18,
     "metadata": {},
     "output_type": "execute_result"
    }
   ],
   "source": [
    "d = dict(([1,2],[2,4],[3,6]))\n",
    "d"
   ]
  },
  {
   "cell_type": "code",
   "execution_count": 19,
   "id": "575261ce-67b8-4e40-830b-0bc15133fd2b",
   "metadata": {},
   "outputs": [
    {
     "data": {
      "text/plain": [
       "{1: 2, 3: 4, 5: 6}"
      ]
     },
     "execution_count": 19,
     "metadata": {},
     "output_type": "execute_result"
    }
   ],
   "source": [
    "l = [[1,2] , [3,4] , [5,6]]\n",
    "d = dict(l)\n",
    "d"
   ]
  },
  {
   "cell_type": "code",
   "execution_count": null,
   "id": "5baaa87a-b1ab-4bbc-8108-eaa2d7f76852",
   "metadata": {},
   "outputs": [],
   "source": []
  },
  {
   "cell_type": "code",
   "execution_count": 22,
   "id": "00e9d7d6-5b96-4e97-ad7d-6d8f5c8d28b9",
   "metadata": {},
   "outputs": [
    {
     "data": {
      "text/plain": [
       "{'a': 'apple', 'b': 'ball', 'c': 'cat'}"
      ]
     },
     "execution_count": 22,
     "metadata": {},
     "output_type": "execute_result"
    }
   ],
   "source": [
    "l1 = ['a' , 'b' , 'c']  # dict(zip(iterable , iterable))\n",
    "l2 = ('apple' , 'ball' , 'cat')\n",
    "d = dict(zip(l1,l2))\n",
    "d"
   ]
  },
  {
   "cell_type": "code",
   "execution_count": 24,
   "id": "25c3e9fe-e731-4175-ab25-8146b81c5ba9",
   "metadata": {},
   "outputs": [
    {
     "data": {
      "text/plain": [
       "{1: 'a', 2: 'b', 3: 'c'}"
      ]
     },
     "execution_count": 24,
     "metadata": {},
     "output_type": "execute_result"
    }
   ],
   "source": [
    "l1 = [1,2,3]\n",
    "l2 = \"abc\"\n",
    "d = dict(zip(l1,l2))\n",
    "d"
   ]
  },
  {
   "cell_type": "code",
   "execution_count": 26,
   "id": "84a4d2d1-f828-47ca-90a9-1715b1797db8",
   "metadata": {},
   "outputs": [
    {
     "data": {
      "text/plain": [
       "{1: 'a', 2: 'b', 3: 'c'}"
      ]
     },
     "execution_count": 26,
     "metadata": {},
     "output_type": "execute_result"
    }
   ],
   "source": [
    "l1 = [1,2,3]\n",
    "l2 = \"abcde\"\n",
    "d = dict(zip(l1,l2))  # extra valuea are ignored\n",
    "d"
   ]
  },
  {
   "cell_type": "code",
   "execution_count": null,
   "id": "bea96e2b-36f4-40bc-bf67-ad681f4c8be5",
   "metadata": {},
   "outputs": [],
   "source": []
  },
  {
   "cell_type": "code",
   "execution_count": 29,
   "id": "36ba7e6f-685a-4b9f-a71b-3be6bf164c63",
   "metadata": {},
   "outputs": [
    {
     "name": "stdout",
     "output_type": "stream",
     "text": [
      "<enumerate object at 0x000001701706ED40>\n"
     ]
    }
   ],
   "source": [
    "l= [\"a\",'b','c']\n",
    "print(enumerate(l))"
   ]
  },
  {
   "cell_type": "code",
   "execution_count": 30,
   "id": "7ec9d3bc-9707-4ae6-8c6c-3a8ef06cecc5",
   "metadata": {},
   "outputs": [
    {
     "name": "stdout",
     "output_type": "stream",
     "text": [
      "(0, 'a')\n",
      "(1, 'b')\n",
      "(2, 'c')\n"
     ]
    }
   ],
   "source": [
    "for x in enumerate(l):\n",
    "    print(x)"
   ]
  },
  {
   "cell_type": "code",
   "execution_count": 31,
   "id": "db2c9dcd-afb7-4cb8-8da7-62bcd3256342",
   "metadata": {},
   "outputs": [
    {
     "name": "stdout",
     "output_type": "stream",
     "text": [
      "<class 'enumerate'>\n"
     ]
    }
   ],
   "source": [
    "print(type(enumerate(l)))"
   ]
  },
  {
   "cell_type": "code",
   "execution_count": null,
   "id": "abddcd59-51b9-45af-a759-481d42d21810",
   "metadata": {},
   "outputs": [],
   "source": []
  },
  {
   "cell_type": "code",
   "execution_count": 33,
   "id": "e42786b5-9503-48d8-8836-48bc67a3dd44",
   "metadata": {},
   "outputs": [
    {
     "data": {
      "text/plain": [
       "{0: 'a', 1: 'b', 2: 'c'}"
      ]
     },
     "execution_count": 33,
     "metadata": {},
     "output_type": "execute_result"
    }
   ],
   "source": [
    "d = dict(enumerate(l))\n",
    "d"
   ]
  },
  {
   "cell_type": "code",
   "execution_count": null,
   "id": "fe5964de-37e2-4d8f-aefe-5f21d8216aaf",
   "metadata": {},
   "outputs": [],
   "source": []
  },
  {
   "cell_type": "code",
   "execution_count": 34,
   "id": "f280c828-0a13-4f9e-813a-8643d5b5de33",
   "metadata": {},
   "outputs": [
    {
     "data": {
      "text/plain": [
       "{1: 1, 2: 4, 3: 9, 4: 16, 5: 25}"
      ]
     },
     "execution_count": 34,
     "metadata": {},
     "output_type": "execute_result"
    }
   ],
   "source": [
    "# dict(exp : exp for item in iterable)\n",
    "d = {x:x**2 for x in range(1,6)}\n",
    "d"
   ]
  },
  {
   "cell_type": "code",
   "execution_count": 39,
   "id": "ba4cbcc9-cff4-48cb-8884-94cd88e1afad",
   "metadata": {},
   "outputs": [
    {
     "data": {
      "text/plain": [
       "{'s': 'n', 'h': 'n', 'e': 'n', 'z': 'n', 'a': 'n', 'n': 'n'}"
      ]
     },
     "execution_count": 39,
     "metadata": {},
     "output_type": "execute_result"
    }
   ],
   "source": [
    "d = {x:y for x in \"shehzan\" for y in \"shehzan\"}\n",
    "d"
   ]
  },
  {
   "cell_type": "code",
   "execution_count": null,
   "id": "0eda34e6-e7b9-4d39-8147-504703c4bef0",
   "metadata": {},
   "outputs": [],
   "source": []
  },
  {
   "cell_type": "code",
   "execution_count": 40,
   "id": "60eee139-5768-4a76-ae4c-4d3c8cd31fda",
   "metadata": {},
   "outputs": [
    {
     "data": {
      "text/plain": [
       "{1: 'a', 2: 'b', 3: 'c'}"
      ]
     },
     "execution_count": 40,
     "metadata": {},
     "output_type": "execute_result"
    }
   ],
   "source": [
    "d = dict(zip([1,2,3] , ['a','b','c']))\n",
    "d"
   ]
  },
  {
   "cell_type": "code",
   "execution_count": 41,
   "id": "8b2dfcbb-ab04-4984-98db-7f4ffb9aa365",
   "metadata": {},
   "outputs": [
    {
     "data": {
      "text/plain": [
       "'a'"
      ]
     },
     "execution_count": 41,
     "metadata": {},
     "output_type": "execute_result"
    }
   ],
   "source": [
    "d.get(1)"
   ]
  },
  {
   "cell_type": "code",
   "execution_count": 42,
   "id": "3db8631c-d1ed-4e8d-a915-faf7260d47cc",
   "metadata": {},
   "outputs": [
    {
     "data": {
      "text/plain": [
       "'c'"
      ]
     },
     "execution_count": 42,
     "metadata": {},
     "output_type": "execute_result"
    }
   ],
   "source": [
    "d.get(3)"
   ]
  },
  {
   "cell_type": "code",
   "execution_count": 43,
   "id": "cd5eeedb-bea5-418f-bdb2-5a448360922d",
   "metadata": {},
   "outputs": [],
   "source": [
    "d.get(4)"
   ]
  },
  {
   "cell_type": "code",
   "execution_count": 44,
   "id": "4db39c99-4789-4878-82cb-7f1ef32fdf72",
   "metadata": {},
   "outputs": [
    {
     "data": {
      "text/plain": [
       "'no such value'"
      ]
     },
     "execution_count": 44,
     "metadata": {},
     "output_type": "execute_result"
    }
   ],
   "source": [
    "d.get(4, \"no such value\") # .get(key , message) if key is not found it returns message if it is given else does nothing"
   ]
  },
  {
   "cell_type": "code",
   "execution_count": 45,
   "id": "3d18bfa6-0cdf-45d9-8d43-89076d333917",
   "metadata": {},
   "outputs": [
    {
     "ename": "KeyError",
     "evalue": "4",
     "output_type": "error",
     "traceback": [
      "\u001b[1;31m---------------------------------------------------------------------------\u001b[0m",
      "\u001b[1;31mKeyError\u001b[0m                                  Traceback (most recent call last)",
      "Cell \u001b[1;32mIn[45], line 1\u001b[0m\n\u001b[1;32m----> 1\u001b[0m \u001b[43md\u001b[49m\u001b[43m[\u001b[49m\u001b[38;5;241;43m4\u001b[39;49m\u001b[43m]\u001b[49m\n",
      "\u001b[1;31mKeyError\u001b[0m: 4"
     ]
    }
   ],
   "source": [
    "d[4]"
   ]
  },
  {
   "cell_type": "code",
   "execution_count": null,
   "id": "861a477c-a8b2-4582-83ab-baaaaf5e1081",
   "metadata": {},
   "outputs": [],
   "source": []
  },
  {
   "cell_type": "code",
   "execution_count": 46,
   "id": "04e5e984-9a2d-410f-beb0-aa733c2c9985",
   "metadata": {},
   "outputs": [
    {
     "data": {
      "text/plain": [
       "dict_keys([1, 2, 3])"
      ]
     },
     "execution_count": 46,
     "metadata": {},
     "output_type": "execute_result"
    }
   ],
   "source": [
    "d.keys()"
   ]
  },
  {
   "cell_type": "code",
   "execution_count": null,
   "id": "023a306f-6e32-409e-9ec6-4646ea220f35",
   "metadata": {},
   "outputs": [],
   "source": []
  },
  {
   "cell_type": "code",
   "execution_count": 47,
   "id": "0df80039-d05e-442b-b55f-d504ff698276",
   "metadata": {},
   "outputs": [
    {
     "data": {
      "text/plain": [
       "dict_values(['a', 'b', 'c'])"
      ]
     },
     "execution_count": 47,
     "metadata": {},
     "output_type": "execute_result"
    }
   ],
   "source": [
    "d.values()"
   ]
  },
  {
   "cell_type": "code",
   "execution_count": null,
   "id": "91514195-c562-44ce-8229-6d7b66582867",
   "metadata": {},
   "outputs": [],
   "source": []
  },
  {
   "cell_type": "code",
   "execution_count": 48,
   "id": "c27f271b-15e7-40fb-bf3a-7d4c4bf150b2",
   "metadata": {},
   "outputs": [
    {
     "data": {
      "text/plain": [
       "dict_items([(1, 'a'), (2, 'b'), (3, 'c')])"
      ]
     },
     "execution_count": 48,
     "metadata": {},
     "output_type": "execute_result"
    }
   ],
   "source": [
    "d.items()"
   ]
  },
  {
   "cell_type": "code",
   "execution_count": null,
   "id": "4ae5f5f7-47fb-4612-b90b-1732472dd800",
   "metadata": {},
   "outputs": [],
   "source": []
  },
  {
   "cell_type": "code",
   "execution_count": 49,
   "id": "2939d132-2109-4bf5-9bda-5d3cf06d9ea6",
   "metadata": {},
   "outputs": [
    {
     "name": "stdout",
     "output_type": "stream",
     "text": [
      "1 a\n",
      "2 b\n",
      "3 c\n"
     ]
    }
   ],
   "source": [
    "for k in d.keys():\n",
    "    print(k,d[k])"
   ]
  },
  {
   "cell_type": "code",
   "execution_count": 50,
   "id": "d92f771b-3827-4ace-abf3-0506df916578",
   "metadata": {},
   "outputs": [
    {
     "name": "stdout",
     "output_type": "stream",
     "text": [
      "a\n",
      "b\n",
      "c\n"
     ]
    }
   ],
   "source": [
    "for v in d.values():\n",
    "    print(v)"
   ]
  },
  {
   "cell_type": "code",
   "execution_count": 51,
   "id": "fa889cbc-0166-4a1c-8c31-8d9c81de255e",
   "metadata": {},
   "outputs": [
    {
     "name": "stdout",
     "output_type": "stream",
     "text": [
      "1 a\n",
      "2 b\n",
      "3 c\n"
     ]
    }
   ],
   "source": [
    "for x,y in d.items():\n",
    "    print(x,y)"
   ]
  },
  {
   "cell_type": "code",
   "execution_count": null,
   "id": "936cadad-8ed1-4209-b8db-d3c98c920092",
   "metadata": {},
   "outputs": [],
   "source": []
  },
  {
   "cell_type": "code",
   "execution_count": 1,
   "id": "7041dc75-051a-4064-83c8-a654f6fcee93",
   "metadata": {},
   "outputs": [],
   "source": [
    "d = {101: \"ai\" , 102 : \"cse\" , 103 : \"ece\" , 104 :\"ee\"}\n",
    "d2 = d.copy()"
   ]
  },
  {
   "cell_type": "code",
   "execution_count": 2,
   "id": "07a36284-9552-466e-a083-5b0de61d00cb",
   "metadata": {},
   "outputs": [
    {
     "data": {
      "text/plain": [
       "{101: 'ai', 102: 'cse', 103: 'ece', 104: 'ee'}"
      ]
     },
     "execution_count": 2,
     "metadata": {},
     "output_type": "execute_result"
    }
   ],
   "source": [
    "d"
   ]
  },
  {
   "cell_type": "code",
   "execution_count": 3,
   "id": "e1bf71e5-9069-4927-8916-1c3407af3485",
   "metadata": {},
   "outputs": [
    {
     "data": {
      "text/plain": [
       "{101: 'ai', 102: 'cse', 103: 'ece', 104: 'ee'}"
      ]
     },
     "execution_count": 3,
     "metadata": {},
     "output_type": "execute_result"
    }
   ],
   "source": [
    "d2"
   ]
  },
  {
   "cell_type": "code",
   "execution_count": 5,
   "id": "b1377205-80d7-4fe1-a9d8-623a01442cfe",
   "metadata": {},
   "outputs": [
    {
     "data": {
      "text/plain": [
       "{101: 'ai', 102: 'mech', 103: 'ece', 104: 'ee'}"
      ]
     },
     "execution_count": 5,
     "metadata": {},
     "output_type": "execute_result"
    }
   ],
   "source": [
    "d2[102] = \"mech\"\n",
    "d2"
   ]
  },
  {
   "cell_type": "code",
   "execution_count": 7,
   "id": "eec20916-2d37-461e-9234-d49dd5df799f",
   "metadata": {},
   "outputs": [
    {
     "data": {
      "text/plain": [
       "{101: 'ai', 102: 'cse', 103: 'ece', 104: 'ee'}"
      ]
     },
     "execution_count": 7,
     "metadata": {},
     "output_type": "execute_result"
    }
   ],
   "source": [
    "d"
   ]
  },
  {
   "cell_type": "code",
   "execution_count": 9,
   "id": "6129b1a3-3ede-4324-b7aa-3245de4aae97",
   "metadata": {},
   "outputs": [
    {
     "name": "stdout",
     "output_type": "stream",
     "text": [
      "2329529898624 2329529898624\n"
     ]
    }
   ],
   "source": [
    "print(id(d[101]) , id(d2[101] ))"
   ]
  },
  {
   "cell_type": "code",
   "execution_count": 11,
   "id": "9b0410b7-b46b-45ef-a8b7-b3da0eaa81c5",
   "metadata": {},
   "outputs": [
    {
     "name": "stdout",
     "output_type": "stream",
     "text": [
      "2329562288016 2329562288016\n"
     ]
    }
   ],
   "source": [
    "print(id(d[102]) , id(d[102]))"
   ]
  },
  {
   "cell_type": "code",
   "execution_count": null,
   "id": "1082a7db-2891-4efe-b186-204155236d7a",
   "metadata": {},
   "outputs": [],
   "source": []
  },
  {
   "cell_type": "code",
   "execution_count": 12,
   "id": "f17bd29d-8ef0-4479-8861-eff99825066e",
   "metadata": {},
   "outputs": [
    {
     "data": {
      "text/plain": [
       "{101: 'ai', 102: 'cse', 103: 'ece', 104: 'ee'}"
      ]
     },
     "execution_count": 12,
     "metadata": {},
     "output_type": "execute_result"
    }
   ],
   "source": [
    "d  # .update(iterable)"
   ]
  },
  {
   "cell_type": "code",
   "execution_count": 13,
   "id": "b0ccd5bb-f48e-4713-a65c-310b9092ec17",
   "metadata": {},
   "outputs": [],
   "source": [
    "d2 = {105:\"mech\" , 106:\"civil\"}"
   ]
  },
  {
   "cell_type": "code",
   "execution_count": 15,
   "id": "09f08d98-7ef6-469f-a18f-1111005f9214",
   "metadata": {},
   "outputs": [
    {
     "data": {
      "text/plain": [
       "{101: 'ai', 102: 'cse', 103: 'ece', 104: 'ee', 105: 'mech', 106: 'civil'}"
      ]
     },
     "execution_count": 15,
     "metadata": {},
     "output_type": "execute_result"
    }
   ],
   "source": [
    "d.update(d2)\n",
    "d"
   ]
  },
  {
   "cell_type": "code",
   "execution_count": 16,
   "id": "8a5c73d3-b9d2-41e4-8441-d396af8412d6",
   "metadata": {},
   "outputs": [
    {
     "data": {
      "text/plain": [
       "{105: 'mech', 106: 'civil'}"
      ]
     },
     "execution_count": 16,
     "metadata": {},
     "output_type": "execute_result"
    }
   ],
   "source": [
    "d2"
   ]
  },
  {
   "cell_type": "code",
   "execution_count": 18,
   "id": "e119ef86-cab7-4a96-8b29-ab121c700cc6",
   "metadata": {},
   "outputs": [
    {
     "data": {
      "text/plain": [
       "{105: 'mech', 106: 'civil', 1: 2, 3: 5}"
      ]
     },
     "execution_count": 18,
     "metadata": {},
     "output_type": "execute_result"
    }
   ],
   "source": [
    "d2.update(([1,2] , [3,5]))\n",
    "d2"
   ]
  },
  {
   "cell_type": "code",
   "execution_count": null,
   "id": "31f296fa-205c-49a2-93d7-1176e09e26ad",
   "metadata": {},
   "outputs": [],
   "source": []
  },
  {
   "cell_type": "code",
   "execution_count": 19,
   "id": "39b805c6-fd48-4f6f-bdec-15edaaf7bac9",
   "metadata": {},
   "outputs": [],
   "source": [
    "d = {101: \"ai\" , 102 : \"cse\" , 103 : \"ece\" , 104 :\"ee\"}\n"
   ]
  },
  {
   "cell_type": "code",
   "execution_count": 20,
   "id": "295f14e7-998a-4f57-8366-e314282308a6",
   "metadata": {},
   "outputs": [
    {
     "data": {
      "text/plain": [
       "'cse'"
      ]
     },
     "execution_count": 20,
     "metadata": {},
     "output_type": "execute_result"
    }
   ],
   "source": [
    "d.setdefault(102)"
   ]
  },
  {
   "cell_type": "code",
   "execution_count": 21,
   "id": "994cb470-0871-42b2-ab65-c54702d107ba",
   "metadata": {},
   "outputs": [
    {
     "data": {
      "text/plain": [
       "{101: 'ai', 102: 'cse', 103: 'ece', 104: 'ee', 110: None}"
      ]
     },
     "execution_count": 21,
     "metadata": {},
     "output_type": "execute_result"
    }
   ],
   "source": [
    "d.setdefault(110)\n",
    "d"
   ]
  },
  {
   "cell_type": "code",
   "execution_count": 24,
   "id": "2218670c-b5f3-4f2d-b60b-6438326ea9e2",
   "metadata": {},
   "outputs": [
    {
     "data": {
      "text/plain": [
       "{101: 'ai', 102: 'cse', 103: 'ece', 104: 'ee', 110: None, 111: 'mech'}"
      ]
     },
     "execution_count": 24,
     "metadata": {},
     "output_type": "execute_result"
    }
   ],
   "source": [
    "d.setdefault(111,\"mech\")\n",
    "d"
   ]
  },
  {
   "cell_type": "code",
   "execution_count": null,
   "id": "e4bb6845-fb82-4dca-9a58-74746883235b",
   "metadata": {},
   "outputs": [],
   "source": []
  },
  {
   "cell_type": "code",
   "execution_count": 30,
   "id": "f17540c0-b3ea-431a-96b8-4cca2e9d7f9a",
   "metadata": {},
   "outputs": [
    {
     "data": {
      "text/plain": [
       "{}"
      ]
     },
     "execution_count": 30,
     "metadata": {},
     "output_type": "execute_result"
    }
   ],
   "source": [
    "d = {}\n",
    "l = (1,2,3)\n",
    "d.fromkeys(l,100)\n",
    "d"
   ]
  },
  {
   "cell_type": "code",
   "execution_count": null,
   "id": "32dd8815-b58e-4f40-bf00-05bde0c2bdbd",
   "metadata": {},
   "outputs": [],
   "source": []
  },
  {
   "cell_type": "code",
   "execution_count": null,
   "id": "3278982d-4333-49ca-bc09-59e57b7ca35e",
   "metadata": {},
   "outputs": [],
   "source": []
  },
  {
   "cell_type": "code",
   "execution_count": null,
   "id": "763adaae-fbd6-4344-a879-c5943421f16c",
   "metadata": {},
   "outputs": [],
   "source": []
  },
  {
   "cell_type": "code",
   "execution_count": 37,
   "id": "24b8397e-fcdb-44ba-a9fc-de79c543cc9f",
   "metadata": {},
   "outputs": [],
   "source": [
    "d = {1:1 , 2:4 , 3:6}"
   ]
  },
  {
   "cell_type": "code",
   "execution_count": 38,
   "id": "c40ea4ac-b179-40b2-a89a-41c2e2b67e76",
   "metadata": {},
   "outputs": [
    {
     "data": {
      "text/plain": [
       "{2: 4, 3: 6}"
      ]
     },
     "execution_count": 38,
     "metadata": {},
     "output_type": "execute_result"
    }
   ],
   "source": [
    "d.pop(1)\n",
    "d"
   ]
  },
  {
   "cell_type": "code",
   "execution_count": 39,
   "id": "ff18f3c8-d0c8-47cc-a642-2e2e050f7c22",
   "metadata": {},
   "outputs": [
    {
     "ename": "KeyError",
     "evalue": "5",
     "output_type": "error",
     "traceback": [
      "\u001b[1;31m---------------------------------------------------------------------------\u001b[0m",
      "\u001b[1;31mKeyError\u001b[0m                                  Traceback (most recent call last)",
      "Cell \u001b[1;32mIn[39], line 1\u001b[0m\n\u001b[1;32m----> 1\u001b[0m \u001b[43md\u001b[49m\u001b[38;5;241;43m.\u001b[39;49m\u001b[43mpop\u001b[49m\u001b[43m(\u001b[49m\u001b[38;5;241;43m5\u001b[39;49m\u001b[43m)\u001b[49m\n",
      "\u001b[1;31mKeyError\u001b[0m: 5"
     ]
    }
   ],
   "source": [
    "d.pop(5)"
   ]
  },
  {
   "cell_type": "code",
   "execution_count": 40,
   "id": "f90c6e6a-017f-4d5a-a12c-d3b453141b3e",
   "metadata": {},
   "outputs": [
    {
     "data": {
      "text/plain": [
       "'5 not present'"
      ]
     },
     "execution_count": 40,
     "metadata": {},
     "output_type": "execute_result"
    }
   ],
   "source": [
    "d.pop(5 , \"5 not present\")"
   ]
  },
  {
   "cell_type": "code",
   "execution_count": null,
   "id": "281ebe78-786a-42bb-afbc-a63317ef8d6f",
   "metadata": {},
   "outputs": [],
   "source": [
    "\n"
   ]
  },
  {
   "cell_type": "code",
   "execution_count": 42,
   "id": "2e79257a-18f8-4651-adb3-26ac8e5aacfd",
   "metadata": {},
   "outputs": [
    {
     "data": {
      "text/plain": [
       "{1: 1, 2: 4, 3: 6}"
      ]
     },
     "execution_count": 42,
     "metadata": {},
     "output_type": "execute_result"
    }
   ],
   "source": [
    "d = {1:1 , 2:4 , 3:6}\n",
    "d"
   ]
  },
  {
   "cell_type": "code",
   "execution_count": 43,
   "id": "02bc93de-ad88-4e00-9424-265b32cf7fdf",
   "metadata": {},
   "outputs": [
    {
     "data": {
      "text/plain": [
       "{1: 1, 2: 4, 3: 6, 4: 8}"
      ]
     },
     "execution_count": 43,
     "metadata": {},
     "output_type": "execute_result"
    }
   ],
   "source": [
    "d[4] = 8\n",
    "d"
   ]
  },
  {
   "cell_type": "code",
   "execution_count": 44,
   "id": "3dae71e7-2d18-48da-87e7-369ca3527afd",
   "metadata": {},
   "outputs": [
    {
     "data": {
      "text/plain": [
       "(4, 8)"
      ]
     },
     "execution_count": 44,
     "metadata": {},
     "output_type": "execute_result"
    }
   ],
   "source": [
    "d.popitem()"
   ]
  },
  {
   "cell_type": "code",
   "execution_count": 45,
   "id": "c0cd5bc2-5548-44e0-8dcf-28086dfc3de4",
   "metadata": {},
   "outputs": [
    {
     "data": {
      "text/plain": [
       "{1: 1, 2: 4, 3: 6}"
      ]
     },
     "execution_count": 45,
     "metadata": {},
     "output_type": "execute_result"
    }
   ],
   "source": [
    "d"
   ]
  },
  {
   "cell_type": "code",
   "execution_count": 46,
   "id": "6d15c5bc-e1e7-46a7-9e99-076deee3f193",
   "metadata": {},
   "outputs": [
    {
     "data": {
      "text/plain": [
       "(3, 6)"
      ]
     },
     "execution_count": 46,
     "metadata": {},
     "output_type": "execute_result"
    }
   ],
   "source": [
    "d.popitem()"
   ]
  },
  {
   "cell_type": "code",
   "execution_count": 47,
   "id": "6cbb61a8-890d-46e8-a72b-024d2984ced3",
   "metadata": {},
   "outputs": [
    {
     "data": {
      "text/plain": [
       "{1: 1, 2: 4}"
      ]
     },
     "execution_count": 47,
     "metadata": {},
     "output_type": "execute_result"
    }
   ],
   "source": [
    "d"
   ]
  },
  {
   "cell_type": "code",
   "execution_count": null,
   "id": "251f58c3-a86d-4c85-9386-9df99da0a01e",
   "metadata": {},
   "outputs": [],
   "source": []
  },
  {
   "cell_type": "code",
   "execution_count": 48,
   "id": "5e5b44cd-a98b-4282-b932-657f9df1bb90",
   "metadata": {},
   "outputs": [
    {
     "data": {
      "text/plain": [
       "{}"
      ]
     },
     "execution_count": 48,
     "metadata": {},
     "output_type": "execute_result"
    }
   ],
   "source": [
    "d.clear()\n",
    "d"
   ]
  },
  {
   "cell_type": "code",
   "execution_count": 49,
   "id": "26976faa-3543-4ad1-b0ae-c1b5defc5b1f",
   "metadata": {},
   "outputs": [
    {
     "ename": "NameError",
     "evalue": "name 'd' is not defined",
     "output_type": "error",
     "traceback": [
      "\u001b[1;31m---------------------------------------------------------------------------\u001b[0m",
      "\u001b[1;31mNameError\u001b[0m                                 Traceback (most recent call last)",
      "Cell \u001b[1;32mIn[49], line 2\u001b[0m\n\u001b[0;32m      1\u001b[0m \u001b[38;5;28;01mdel\u001b[39;00m d\n\u001b[1;32m----> 2\u001b[0m \u001b[43md\u001b[49m\n",
      "\u001b[1;31mNameError\u001b[0m: name 'd' is not defined"
     ]
    }
   ],
   "source": [
    "del d\n",
    "d"
   ]
  },
  {
   "cell_type": "code",
   "execution_count": null,
   "id": "836d27b4-5597-44c2-91d3-8d43e9da092d",
   "metadata": {},
   "outputs": [],
   "source": []
  }
 ],
 "metadata": {
  "kernelspec": {
   "display_name": "Python 3 (ipykernel)",
   "language": "python",
   "name": "python3"
  },
  "language_info": {
   "codemirror_mode": {
    "name": "ipython",
    "version": 3
   },
   "file_extension": ".py",
   "mimetype": "text/x-python",
   "name": "python",
   "nbconvert_exporter": "python",
   "pygments_lexer": "ipython3",
   "version": "3.12.3"
  }
 },
 "nbformat": 4,
 "nbformat_minor": 5
}
