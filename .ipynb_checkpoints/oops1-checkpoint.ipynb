{
 "cells": [
  {
   "cell_type": "code",
   "execution_count": 3,
   "id": "e9667883-25d7-427a-bfbe-0e859bc1a9c1",
   "metadata": {},
   "outputs": [],
   "source": [
    "class cuboid:\n",
    "    def __init__(self ,l,b,h):\n",
    "        \n",
    "        self.lenght = l\n",
    "        self.breadth = b\n",
    "        self.height = h\n",
    "\n",
    "    def area(self):\n",
    "        return 2*(self.lenght*self.breadth + self.breadth*self.height + self.height*self.lenght)\n",
    "\n",
    "    def volume(self):\n",
    "        return self.lenght*self.breadth*self.height"
   ]
  },
  {
   "cell_type": "code",
   "execution_count": 6,
   "id": "da5b543f-5c1e-45c7-b189-ad76c2cb1d44",
   "metadata": {},
   "outputs": [
    {
     "name": "stdout",
     "output_type": "stream",
     "text": [
      "6\n"
     ]
    }
   ],
   "source": [
    "c1 = cuboid(1,2,3)\n",
    "print(c1.volume())"
   ]
  },
  {
   "cell_type": "code",
   "execution_count": 7,
   "id": "f85f27ee-a2f0-408f-9834-ea1342ff8208",
   "metadata": {},
   "outputs": [
    {
     "name": "stdout",
     "output_type": "stream",
     "text": [
      "148\n"
     ]
    }
   ],
   "source": [
    "c2 = cuboid(4,5,6)\n",
    "print(c2.area())"
   ]
  },
  {
   "cell_type": "raw",
   "id": "02b290bd-07eb-44f4-9341-50c81952e613",
   "metadata": {},
   "source": [
    "#self and constructor\n",
    "def __init__ is a constructor method so whenever we make an object of that class this function/constructor is called\n",
    "inside init we declare and assign different attributes/data and for every object whole class data and object is given\n",
    "self is a refernce to the current object"
   ]
  },
  {
   "cell_type": "code",
   "execution_count": 24,
   "id": "b54775b2-ac10-437b-a67a-2aa09bff6be1",
   "metadata": {},
   "outputs": [],
   "source": [
    "class cuboid:\n",
    "    def __init__(self ,l,b,h):\n",
    "        print(id(self))\n",
    "        self.lenght = l\n",
    "        self.breadth = b\n",
    "        self.height = h\n",
    "\n",
    "    def area(self):\n",
    "        return 2*(self.lenght*self.breadth + self.breadth*self.height + self.height*self.lenght)\n",
    "\n",
    "    def volume(self):\n",
    "        print(id(self))\n",
    "        return self.lenght*self.breadth*self.height"
   ]
  },
  {
   "cell_type": "code",
   "execution_count": 25,
   "id": "db5ba9b9-0376-4aa3-98f4-8aa919e7da8b",
   "metadata": {},
   "outputs": [
    {
     "name": "stdout",
     "output_type": "stream",
     "text": [
      "2046198686944\n"
     ]
    }
   ],
   "source": [
    "c3 = cuboid(1,2,3)"
   ]
  },
  {
   "cell_type": "code",
   "execution_count": 26,
   "id": "278f08a7-bedf-4867-a6e7-4d8acc69cb3c",
   "metadata": {},
   "outputs": [
    {
     "name": "stdout",
     "output_type": "stream",
     "text": [
      "2046198685696\n"
     ]
    }
   ],
   "source": [
    "c4 = cuboid(4,5,6)"
   ]
  },
  {
   "cell_type": "code",
   "execution_count": 27,
   "id": "327e3ae1-15d7-4e5b-aa82-40944eb25658",
   "metadata": {},
   "outputs": [
    {
     "data": {
      "text/plain": [
       "<__main__.cuboid at 0x1dc6af224e0>"
      ]
     },
     "execution_count": 27,
     "metadata": {},
     "output_type": "execute_result"
    }
   ],
   "source": [
    "c3"
   ]
  },
  {
   "cell_type": "code",
   "execution_count": 28,
   "id": "7f2bf072-2c35-4b86-93f7-5f23f90e7f06",
   "metadata": {},
   "outputs": [
    {
     "data": {
      "text/plain": [
       "2046176170912"
      ]
     },
     "execution_count": 28,
     "metadata": {},
     "output_type": "execute_result"
    }
   ],
   "source": [
    "int(\"0x1dc699a93a0\" , 16)"
   ]
  },
  {
   "cell_type": "code",
   "execution_count": 29,
   "id": "3a1cd9e0-7bb9-4ae5-80f0-9f0f50940cd7",
   "metadata": {},
   "outputs": [
    {
     "data": {
      "text/plain": [
       "<__main__.cuboid at 0x1dc6af22000>"
      ]
     },
     "execution_count": 29,
     "metadata": {},
     "output_type": "execute_result"
    }
   ],
   "source": [
    "c4 "
   ]
  },
  {
   "cell_type": "code",
   "execution_count": 30,
   "id": "b8a757cb-6162-4359-a6e1-9b395a768072",
   "metadata": {},
   "outputs": [
    {
     "data": {
      "text/plain": [
       "2046198331632"
      ]
     },
     "execution_count": 30,
     "metadata": {},
     "output_type": "execute_result"
    }
   ],
   "source": [
    "int(\"0x1dc6aecb8f0\" , 16)"
   ]
  },
  {
   "cell_type": "code",
   "execution_count": 33,
   "id": "1561a73e-7261-46b9-b51e-8ed560296315",
   "metadata": {},
   "outputs": [
    {
     "name": "stdout",
     "output_type": "stream",
     "text": [
      "2046198686944\n"
     ]
    },
    {
     "data": {
      "text/plain": [
       "6"
      ]
     },
     "execution_count": 33,
     "metadata": {},
     "output_type": "execute_result"
    }
   ],
   "source": [
    "c3.volume()"
   ]
  },
  {
   "cell_type": "code",
   "execution_count": 34,
   "id": "f7f87e14-a195-42d5-8b57-7b22f64612a0",
   "metadata": {},
   "outputs": [
    {
     "name": "stdout",
     "output_type": "stream",
     "text": [
      "2046198685696\n"
     ]
    },
    {
     "data": {
      "text/plain": [
       "120"
      ]
     },
     "execution_count": 34,
     "metadata": {},
     "output_type": "execute_result"
    }
   ],
   "source": [
    "c4.volume()"
   ]
  },
  {
   "cell_type": "raw",
   "id": "6d043e1b-7337-450a-aa37-65d0bb564792",
   "metadata": {},
   "source": [
    "we cannot override def function , if we do so then the recent one will be called , others will be shadowed"
   ]
  },
  {
   "cell_type": "code",
   "execution_count": 35,
   "id": "6a636f87-0652-49d1-907c-147e3612d440",
   "metadata": {},
   "outputs": [],
   "source": [
    "class cuboid:\n",
    "    def __init__(self ,l,b,h):\n",
    "        \n",
    "        self.lenght = l\n",
    "        self.breadth = b\n",
    "        self.height = h\n",
    "    def __init__(self):\n",
    "        pass\n",
    "\n",
    "    def area(self):\n",
    "        return 2*(self.lenght*self.breadth + self.breadth*self.height + self.height*self.lenght)\n",
    "\n",
    "    def volume(self):\n",
    "        return self.lenght*self.breadth*self.height"
   ]
  },
  {
   "cell_type": "code",
   "execution_count": 36,
   "id": "952a8993-cd6a-460a-9df7-40df01eb8c13",
   "metadata": {},
   "outputs": [
    {
     "ename": "TypeError",
     "evalue": "cuboid.__init__() takes 1 positional argument but 4 were given",
     "output_type": "error",
     "traceback": [
      "\u001b[1;31m---------------------------------------------------------------------------\u001b[0m",
      "\u001b[1;31mTypeError\u001b[0m                                 Traceback (most recent call last)",
      "Cell \u001b[1;32mIn[36], line 1\u001b[0m\n\u001b[1;32m----> 1\u001b[0m c1 \u001b[38;5;241m=\u001b[39m \u001b[43mcuboid\u001b[49m\u001b[43m(\u001b[49m\u001b[38;5;241;43m1\u001b[39;49m\u001b[43m,\u001b[49m\u001b[38;5;241;43m2\u001b[39;49m\u001b[43m,\u001b[49m\u001b[38;5;241;43m3\u001b[39;49m\u001b[43m)\u001b[49m\n",
      "\u001b[1;31mTypeError\u001b[0m: cuboid.__init__() takes 1 positional argument but 4 were given"
     ]
    }
   ],
   "source": [
    "c1 = cuboid(1,2,3)"
   ]
  },
  {
   "cell_type": "code",
   "execution_count": 39,
   "id": "f344b9c4-8411-4e15-b5e4-c07572fe95fd",
   "metadata": {},
   "outputs": [],
   "source": [
    "c2 = cuboid()\n"
   ]
  },
  {
   "cell_type": "code",
   "execution_count": 40,
   "id": "a1dec398-16ff-40bd-93c5-7a87ba1b47f0",
   "metadata": {},
   "outputs": [
    {
     "data": {
      "text/plain": [
       "<__main__.cuboid at 0x1dc6af21a00>"
      ]
     },
     "execution_count": 40,
     "metadata": {},
     "output_type": "execute_result"
    }
   ],
   "source": [
    "c2"
   ]
  },
  {
   "cell_type": "markdown",
   "id": "0bad747b-ab5f-4642-befa-6dfca3cf1129",
   "metadata": {},
   "source": [
    "though we can pass default arguments"
   ]
  },
  {
   "cell_type": "code",
   "execution_count": 41,
   "id": "0ff42013-9ec2-4fba-a8eb-fa2a835622d4",
   "metadata": {},
   "outputs": [],
   "source": [
    "class cuboid:\n",
    "    def __init__(self ,l=1,b=1,h=1):\n",
    "        \n",
    "        self.lenght = l\n",
    "        self.breadth = b\n",
    "        self.height = h\n",
    "\n",
    "    def area(self):\n",
    "        return 2*(self.lenght*self.breadth + self.breadth*self.height + self.height*self.lenght)\n",
    "\n",
    "    def volume(self):\n",
    "        return self.lenght*self.breadth*self.height"
   ]
  },
  {
   "cell_type": "code",
   "execution_count": 43,
   "id": "ef50b00e-f5a5-4eb7-beea-d1b367d270e6",
   "metadata": {},
   "outputs": [],
   "source": [
    "c1 = cuboid()\n"
   ]
  },
  {
   "cell_type": "code",
   "execution_count": 44,
   "id": "e0261f24-1de2-4e1c-bfcb-f4e0910799fe",
   "metadata": {},
   "outputs": [
    {
     "data": {
      "text/plain": [
       "1"
      ]
     },
     "execution_count": 44,
     "metadata": {},
     "output_type": "execute_result"
    }
   ],
   "source": [
    "c1.volume()"
   ]
  },
  {
   "cell_type": "code",
   "execution_count": 45,
   "id": "ec55536c-d3ba-4d28-ad97-78c1f90e3c01",
   "metadata": {},
   "outputs": [
    {
     "data": {
      "text/plain": [
       "6"
      ]
     },
     "execution_count": 45,
     "metadata": {},
     "output_type": "execute_result"
    }
   ],
   "source": [
    "c2 = cuboid(1,2,3)\n",
    "c2.volume()"
   ]
  },
  {
   "cell_type": "code",
   "execution_count": 46,
   "id": "ee4e2fc4-d36a-4322-9083-8df10ffd1642",
   "metadata": {},
   "outputs": [],
   "source": [
    "ca = cuboid(10)\n",
    "cb = cuboid(10,10)\n",
    "cc = cuboid(10,10,10)"
   ]
  },
  {
   "cell_type": "code",
   "execution_count": null,
   "id": "8a191d1d-564c-43b7-be15-5c03f07ad21d",
   "metadata": {},
   "outputs": [],
   "source": []
  },
  {
   "cell_type": "raw",
   "id": "a444a361-cdf2-40d4-87ad-a7cf0f59e6a4",
   "metadata": {},
   "source": [
    "types of variable:\n",
    "static/class variable\n",
    "instance variables\n",
    "\n",
    "types of methods:\n",
    "instance methods\n",
    "class methods\n",
    "static methods"
   ]
  },
  {
   "cell_type": "code",
   "execution_count": null,
   "id": "1af32238-f73e-4c76-9da7-ad7cbb982870",
   "metadata": {},
   "outputs": [],
   "source": []
  }
 ],
 "metadata": {
  "kernelspec": {
   "display_name": "Python 3 (ipykernel)",
   "language": "python",
   "name": "python3"
  },
  "language_info": {
   "codemirror_mode": {
    "name": "ipython",
    "version": 3
   },
   "file_extension": ".py",
   "mimetype": "text/x-python",
   "name": "python",
   "nbconvert_exporter": "python",
   "pygments_lexer": "ipython3",
   "version": "3.12.3"
  }
 },
 "nbformat": 4,
 "nbformat_minor": 5
}
