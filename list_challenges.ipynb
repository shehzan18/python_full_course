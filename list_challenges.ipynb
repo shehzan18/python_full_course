{
 "cells": [
  {
   "cell_type": "code",
   "execution_count": 3,
   "id": "1b87974a-7de6-4e23-9147-841d20987155",
   "metadata": {},
   "outputs": [
    {
     "name": "stdin",
     "output_type": "stream",
     "text": [
      "enter no of days  1 2 3 4 5\n",
      "enter per hour wage  10\n"
     ]
    },
    {
     "name": "stdout",
     "output_type": "stream",
     "text": [
      "salary for week is 150\n"
     ]
    }
   ],
   "source": [
    "#salary from hours per day\n",
    "days = (input(\"enter no of days \")).split()\n",
    "per_hour_wage = int(input(\"enter per hour wage \"))\n",
    "sum = 0\n",
    "for day in days:\n",
    "    sum+= int(day)\n",
    "print(\"salary for week is\" , sum*per_hour_wage)\n",
    "    "
   ]
  },
  {
   "cell_type": "code",
   "execution_count": 9,
   "id": "a074d6d5-f0a3-4503-847f-b724fb30910b",
   "metadata": {},
   "outputs": [
    {
     "name": "stdin",
     "output_type": "stream",
     "text": [
      "enter hours per day seperated by comma 2 3 4 \n"
     ]
    },
    {
     "ename": "TypeError",
     "evalue": "'int' object is not callable",
     "output_type": "error",
     "traceback": [
      "\u001b[1;31m---------------------------------------------------------------------------\u001b[0m",
      "\u001b[1;31mTypeError\u001b[0m                                 Traceback (most recent call last)",
      "Cell \u001b[1;32mIn[9], line 3\u001b[0m\n\u001b[0;32m      1\u001b[0m hrs \u001b[38;5;241m=\u001b[39m [\u001b[38;5;28mint\u001b[39m(x) \u001b[38;5;28;01mfor\u001b[39;00m x \u001b[38;5;129;01min\u001b[39;00m \u001b[38;5;28minput\u001b[39m(\u001b[38;5;124m\"\u001b[39m\u001b[38;5;124menter hours per day seperated by comma\u001b[39m\u001b[38;5;124m\"\u001b[39m)\u001b[38;5;241m.\u001b[39msplit()]\n\u001b[0;32m      2\u001b[0m per \u001b[38;5;241m=\u001b[39m \u001b[38;5;241m70\u001b[39m\n\u001b[1;32m----> 3\u001b[0m total_hrs \u001b[38;5;241m=\u001b[39m \u001b[38;5;28;43msum\u001b[39;49m\u001b[43m(\u001b[49m\u001b[43mhrs\u001b[49m\u001b[43m)\u001b[49m\n\u001b[0;32m      4\u001b[0m \u001b[38;5;28mprint\u001b[39m(\u001b[38;5;124m\"\u001b[39m\u001b[38;5;124msalary for week is\u001b[39m\u001b[38;5;124m\"\u001b[39m , per\u001b[38;5;241m*\u001b[39m\u001b[38;5;28mint\u001b[39m(total_hrs))\n",
      "\u001b[1;31mTypeError\u001b[0m: 'int' object is not callable"
     ]
    }
   ],
   "source": [
    "hrs = [int(x) for x in input(\"enter hours per day seperated by comma\").split()]\n",
    "per = 70\n",
    "total_hrs = sum(hrs)\n",
    "print(\"salary for week is\" , per*int(total_hrs))\n"
   ]
  },
  {
   "cell_type": "code",
   "execution_count": 41,
   "id": "0dfc46ca-98ca-486d-856a-d17a0792f9fb",
   "metadata": {},
   "outputs": [
    {
     "name": "stdout",
     "output_type": "stream",
     "text": [
      "[1, 2, 3, 4, 5]\n"
     ]
    }
   ],
   "source": [
    "original_list = [1, 2, 2, 3, 4, 4, 5]\n",
    "\n",
    "i = 0\n",
    "while i < len(original_list):\n",
    "    j = i + 1\n",
    "    while j < len(original_list):\n",
    "        if original_list[j] == original_list[i]:\n",
    "            del original_list[j]\n",
    "        else:\n",
    "            j += 1\n",
    "    i += 1\n",
    "\n",
    "print(original_list)\n"
   ]
  },
  {
   "cell_type": "code",
   "execution_count": 40,
   "id": "94d3e7a9-d226-460c-8486-8094afabba9b",
   "metadata": {},
   "outputs": [
    {
     "name": "stdin",
     "output_type": "stream",
     "text": [
      "enter no with spaces  2 3 3 2\n"
     ]
    },
    {
     "data": {
      "text/plain": [
       "[2, 3, 3, 2]"
      ]
     },
     "execution_count": 40,
     "metadata": {},
     "output_type": "execute_result"
    }
   ],
   "source": [
    "l = [int(x) for x in input(\"enter no with spaces \").split()]\n",
    "while (i<len(l)):\n",
    "    while(j <len(l)):\n",
    "        if(l[j] == l[i]):\n",
    "            del l[j]\n",
    "        else:\n",
    "            j+=1\n",
    "        \n",
    "    i+=1\n",
    "l\n",
    "\n",
    "\n",
    "        "
   ]
  },
  {
   "cell_type": "code",
   "execution_count": null,
   "id": "bbdf6613-036f-4e3e-a485-3860745d7f19",
   "metadata": {},
   "outputs": [],
   "source": []
  },
  {
   "cell_type": "code",
   "execution_count": 43,
   "id": "b6d9f2e2-e55b-4931-92cc-dc93a4a6b017",
   "metadata": {},
   "outputs": [
    {
     "name": "stdin",
     "output_type": "stream",
     "text": [
      "enter no with spaces  2 3 4 32\n"
     ]
    },
    {
     "data": {
      "text/plain": [
       "'23432'"
      ]
     },
     "execution_count": 43,
     "metadata": {},
     "output_type": "execute_result"
    }
   ],
   "source": [
    "l = [int(x) for x in input(\"enter no with spaces \").split()]\n",
    "no = \"\"\n",
    "for i in l:\n",
    "    s = str(i)\n",
    "    no+= s\n",
    "int(no)\n",
    "no\n",
    "\n",
    "    "
   ]
  },
  {
   "cell_type": "code",
   "execution_count": null,
   "id": "4f459d55-5436-49de-bbd0-29486b2623ac",
   "metadata": {},
   "outputs": [],
   "source": []
  },
  {
   "cell_type": "code",
   "execution_count": 45,
   "id": "426c05f4-5008-45ca-a1fe-42114b461bab",
   "metadata": {},
   "outputs": [
    {
     "name": "stdin",
     "output_type": "stream",
     "text": [
      "enter no with spaces  2 3 4 5 \n",
      "enter no with spaces  2 4 5 6 \n"
     ]
    },
    {
     "data": {
      "text/plain": [
       "[2, 4, 5]"
      ]
     },
     "execution_count": 45,
     "metadata": {},
     "output_type": "execute_result"
    }
   ],
   "source": [
    "# overlapping elements\n",
    "l1 =  [int(x) for x in input(\"enter no with spaces \").split()]\n",
    "l2 =  [int(x) for x in input(\"enter no with spaces \").split()]\n",
    "l3 = []\n",
    "for i in l1:\n",
    "    if i in l2:\n",
    "        l3.append(i)\n",
    "l3\n",
    "        "
   ]
  },
  {
   "cell_type": "code",
   "execution_count": null,
   "id": "c331e40c-308a-4aec-bda9-ff75ca3dbb4d",
   "metadata": {},
   "outputs": [],
   "source": []
  },
  {
   "cell_type": "code",
   "execution_count": 51,
   "id": "2eed50a2-af99-46fc-92b6-f6d33fa29f84",
   "metadata": {},
   "outputs": [
    {
     "data": {
      "text/plain": [
       "[[1, 4, 7], [2, 5, 8], [3, 6, 9]]"
      ]
     },
     "execution_count": 51,
     "metadata": {},
     "output_type": "execute_result"
    }
   ],
   "source": [
    "#transpose of a matrix\n",
    "l = [[1,2,3], [4,5,6] , [7,8,9]]\n",
    "at = []\n",
    "for i in range(len(l)):\n",
    "    s = []\n",
    "    for j in range(len(l[0])):\n",
    "        s.append(l[j][i])\n",
    "    at.append(s)\n",
    "at\n",
    "\n",
    "\n"
   ]
  },
  {
   "cell_type": "code",
   "execution_count": 54,
   "id": "c1f2a149-a990-42f7-8977-05f1058c3a40",
   "metadata": {},
   "outputs": [
    {
     "data": {
      "text/plain": [
       "['a', 3, 'b', 2, 'c', 1, 'd', 1]"
      ]
     },
     "execution_count": 54,
     "metadata": {},
     "output_type": "execute_result"
    }
   ],
   "source": [
    "# occurence of letter\n",
    "l = [\"a\" , 'b' , 'c' , 'a' , 'b' , 'a' , 'd']\n",
    "x = []\n",
    "for i in l:\n",
    "    if i in x:\n",
    "        continue\n",
    "    x.extend([i, l.count(i)])\n",
    "x\n"
   ]
  },
  {
   "cell_type": "code",
   "execution_count": 56,
   "id": "621eeffc-85e5-469e-a42a-d37662fc89f5",
   "metadata": {},
   "outputs": [
    {
     "name": "stdin",
     "output_type": "stream",
     "text": [
      "enter a letter  p\n"
     ]
    },
    {
     "name": "stdout",
     "output_type": "stream",
     "text": [
      "pizza\n",
      "pasta\n"
     ]
    }
   ],
   "source": [
    "# starting letter match\n",
    "lis= [\"pizza\" , \"burger\" , \"pasta\" , \"sandwich\"]\n",
    "l = input(\"enter a letter \")\n",
    "for x in lis:\n",
    "    if x[0]== l:\n",
    "        print(x)\n",
    "        "
   ]
  },
  {
   "cell_type": "code",
   "execution_count": 58,
   "id": "5528b035-3c2e-4717-a051-e03404414284",
   "metadata": {},
   "outputs": [
    {
     "name": "stdin",
     "output_type": "stream",
     "text": [
      "enter a letter  p\n"
     ]
    },
    {
     "name": "stdout",
     "output_type": "stream",
     "text": [
      "pizza\n",
      "pasta\n"
     ]
    }
   ],
   "source": [
    "lis= [\"pizza\" , \"burger\" , \"pasta\" , \"sandwich\"]\n",
    "l = input(\"enter a letter \")\n",
    "for x in lis:\n",
    "    if x.startswith(l):\n",
    "        print(x)"
   ]
  },
  {
   "cell_type": "code",
   "execution_count": null,
   "id": "81502edf-20b4-4531-82a1-26bed6f8f039",
   "metadata": {},
   "outputs": [],
   "source": []
  }
 ],
 "metadata": {
  "kernelspec": {
   "display_name": "Python 3 (ipykernel)",
   "language": "python",
   "name": "python3"
  },
  "language_info": {
   "codemirror_mode": {
    "name": "ipython",
    "version": 3
   },
   "file_extension": ".py",
   "mimetype": "text/x-python",
   "name": "python",
   "nbconvert_exporter": "python",
   "pygments_lexer": "ipython3",
   "version": "3.12.3"
  }
 },
 "nbformat": 4,
 "nbformat_minor": 5
}
