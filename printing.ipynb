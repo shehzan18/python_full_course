{
 "cells": [
  {
   "cell_type": "code",
   "execution_count": 1,
   "id": "57239234-1841-499b-95c0-920fc8f3036d",
   "metadata": {},
   "outputs": [
    {
     "name": "stdout",
     "output_type": "stream",
     "text": [
      "hello world\n"
     ]
    }
   ],
   "source": [
    "print(\"hello\", \"world\")"
   ]
  },
  {
   "cell_type": "code",
   "execution_count": 2,
   "id": "01b630f6-dcb2-4d7f-beaa-8a3285825786",
   "metadata": {},
   "outputs": [
    {
     "name": "stdout",
     "output_type": "stream",
     "text": [
      "1 12 22.4 shehzan (4+6j)\n"
     ]
    }
   ],
   "source": [
    "print(1,12,22.4,\"shehzan\", 4+6j)"
   ]
  },
  {
   "cell_type": "code",
   "execution_count": 3,
   "id": "74a7d155-ad4c-4fee-a5be-a810883fa166",
   "metadata": {},
   "outputs": [
    {
     "name": "stdout",
     "output_type": "stream",
     "text": [
      "11222.4shehzan(4+6j)\n"
     ]
    }
   ],
   "source": [
    "print(1,12,22.4,\"shehzan\", 4+6j, sep = \"\")"
   ]
  },
  {
   "cell_type": "code",
   "execution_count": 4,
   "id": "d58bfac8-d0b7-47ee-af5b-1026852ffa31",
   "metadata": {},
   "outputs": [
    {
     "name": "stdout",
     "output_type": "stream",
     "text": [
      "1 12 22.4 shehzan (4+6j)\n"
     ]
    }
   ],
   "source": [
    "print(1,12,22.4,\"shehzan\", 4+6j , sep = \" \")"
   ]
  },
  {
   "cell_type": "code",
   "execution_count": 5,
   "id": "c893a4ec-67af-4953-b9cf-62b15615600b",
   "metadata": {},
   "outputs": [
    {
     "name": "stdout",
     "output_type": "stream",
     "text": [
      "1-12-22.4-shehzan-(4+6j)\n"
     ]
    }
   ],
   "source": [
    "print(1,12,22.4,\"shehzan\", 4+6j , sep = \"-\")"
   ]
  },
  {
   "cell_type": "code",
   "execution_count": 6,
   "id": "ec35c8c5-6210-4d76-8196-14b2345b91b3",
   "metadata": {},
   "outputs": [
    {
     "name": "stdout",
     "output_type": "stream",
     "text": [
      "1\t12\t22.4\tshehzan\t(4+6j)\n"
     ]
    }
   ],
   "source": [
    "print(1,12,22.4,\"shehzan\", 4+6j , sep = \"\\t\")"
   ]
  },
  {
   "cell_type": "code",
   "execution_count": 7,
   "id": "3ac5cb7c-3f8c-450c-b205-406f04ef81fa",
   "metadata": {},
   "outputs": [
    {
     "name": "stdout",
     "output_type": "stream",
     "text": [
      "1\n",
      "12\n",
      "22.4\n",
      "shehzan\n",
      "(4+6j)\n"
     ]
    }
   ],
   "source": [
    "print(1,12,22.4,\"shehzan\", 4+6j , sep = \"\\n\")"
   ]
  },
  {
   "cell_type": "code",
   "execution_count": null,
   "id": "0db39dd7-0687-49cf-ab73-adad303bfecf",
   "metadata": {},
   "outputs": [],
   "source": []
  },
  {
   "cell_type": "code",
   "execution_count": 8,
   "id": "07b2d552-d622-44c0-bc08-1096212a5c54",
   "metadata": {},
   "outputs": [
    {
     "name": "stdout",
     "output_type": "stream",
     "text": [
      "1\n",
      "2\n",
      "3\n"
     ]
    }
   ],
   "source": [
    "print(1)\n",
    "print(2)\n",
    "print(3)"
   ]
  },
  {
   "cell_type": "code",
   "execution_count": 10,
   "id": "c622fbc2-91e5-4ba6-944f-0d74c4f6eb04",
   "metadata": {},
   "outputs": [
    {
     "name": "stdout",
     "output_type": "stream",
     "text": [
      "123"
     ]
    }
   ],
   "source": [
    "print(1 , end = \"\")\n",
    "print(2 , end=\"\")\n",
    "print(3 , end = \"\")"
   ]
  },
  {
   "cell_type": "code",
   "execution_count": 11,
   "id": "0eeec121-4e0e-419b-97bc-fa02b7a43512",
   "metadata": {},
   "outputs": [
    {
     "name": "stdout",
     "output_type": "stream",
     "text": [
      "1 2 3 "
     ]
    }
   ],
   "source": [
    "print(1 , end = \" \")\n",
    "print(2 , end=\" \")\n",
    "print(3 , end = \" \")"
   ]
  },
  {
   "cell_type": "code",
   "execution_count": 12,
   "id": "4360562b-af07-4907-8171-be2a9bad14a1",
   "metadata": {},
   "outputs": [
    {
     "name": "stdout",
     "output_type": "stream",
     "text": [
      "1+2+3+"
     ]
    }
   ],
   "source": [
    "print(1 , end = \"+\")\n",
    "print(2 , end=\"+\")\n",
    "print(3 , end = \"+\")"
   ]
  },
  {
   "cell_type": "code",
   "execution_count": 13,
   "id": "13fe641a-0a59-45fa-92ef-ebfa0b96d48f",
   "metadata": {},
   "outputs": [
    {
     "name": "stdout",
     "output_type": "stream",
     "text": [
      "1\t2\t3\t"
     ]
    }
   ],
   "source": [
    "print(1 , end = \"\\t\")\n",
    "print(2 , end=\"\\t\")\n",
    "print(3 , end = \"\\t\")"
   ]
  },
  {
   "cell_type": "code",
   "execution_count": 15,
   "id": "bf39e0b0-0a3a-4d44-a353-aca13da887e1",
   "metadata": {},
   "outputs": [
    {
     "name": "stdout",
     "output_type": "stream",
     "text": [
      "shehzan-1-1.3-(8+5j)end"
     ]
    }
   ],
   "source": [
    "print(\"shehzan\" , 1 , 1.3 , 8+5j , sep = \"-\" , end = \"end\")"
   ]
  },
  {
   "cell_type": "code",
   "execution_count": 16,
   "id": "17d9c4ea-21cd-49ab-b09a-c5ca1bccf6d3",
   "metadata": {},
   "outputs": [
    {
     "name": "stdout",
     "output_type": "stream",
     "text": [
      "shehzan-1-1.3-(8+5j) done"
     ]
    }
   ],
   "source": [
    "print(\"shehzan\" , 1 , 1.3 , 8+5j , sep = \"-\" , end = \" done\")"
   ]
  },
  {
   "cell_type": "code",
   "execution_count": 17,
   "id": "f151d81d-5bee-4549-966b-ba84afb73604",
   "metadata": {},
   "outputs": [
    {
     "name": "stdout",
     "output_type": "stream",
     "text": [
      "shehzan\n",
      "1\n",
      "1.3\n",
      "(8+5j) done"
     ]
    }
   ],
   "source": [
    "print(\"shehzan\" , 1 , 1.3 , 8+5j , sep = \"\\n\" , end = \" done\")"
   ]
  },
  {
   "cell_type": "code",
   "execution_count": null,
   "id": "0dde542d-cfcd-4c1a-a4e8-2cfa91560850",
   "metadata": {},
   "outputs": [],
   "source": []
  },
  {
   "cell_type": "code",
   "execution_count": 19,
   "id": "fe4af2b3-05ea-415f-afec-9a0cefe5e725",
   "metadata": {},
   "outputs": [
    {
     "name": "stdout",
     "output_type": "stream",
     "text": [
      "my name is shehzan , roll no is 3 and my average is 99.990000\n"
     ]
    }
   ],
   "source": [
    "name = \"shehzan\"\n",
    "rno = 3\n",
    "avg = 99.99\n",
    "print(\"my name is %s , roll no is %d and my average is %f\" %(name , rno , avg))"
   ]
  },
  {
   "cell_type": "code",
   "execution_count": null,
   "id": "3f3939c1-7b08-422a-8a01-b8749668fe60",
   "metadata": {},
   "outputs": [],
   "source": []
  },
  {
   "cell_type": "code",
   "execution_count": 20,
   "id": "91512091-9406-4191-a90b-16501c5af0fd",
   "metadata": {},
   "outputs": [
    {
     "name": "stdout",
     "output_type": "stream",
     "text": [
      "division of 22 and 7 is 3.142857142857143\n"
     ]
    }
   ],
   "source": [
    "a , b = 22 , 7\n",
    "c = a/b\n",
    "print(\"division of {} and {} is {}\".format(a,b,c))"
   ]
  },
  {
   "cell_type": "code",
   "execution_count": 21,
   "id": "720ed2db-a52e-4396-971b-67a1af267704",
   "metadata": {},
   "outputs": [
    {
     "name": "stdout",
     "output_type": "stream",
     "text": [
      "division of 22 and 7 is 3.142857142857143\n"
     ]
    }
   ],
   "source": [
    "print(\"division of {0} and {1} is {2}\".format(a,b,c))"
   ]
  },
  {
   "cell_type": "code",
   "execution_count": 22,
   "id": "72b953a3-f4de-430a-af5f-1dd190a21650",
   "metadata": {},
   "outputs": [
    {
     "name": "stdout",
     "output_type": "stream",
     "text": [
      "division of 3.142857142857143 and 22 is 7\n"
     ]
    }
   ],
   "source": [
    "print(\"division of {2} and {0} is {1}\".format(a,b,c))"
   ]
  },
  {
   "cell_type": "code",
   "execution_count": null,
   "id": "f52d5787-5d53-4154-bfe7-c1247899e9c3",
   "metadata": {},
   "outputs": [],
   "source": []
  },
  {
   "cell_type": "code",
   "execution_count": 30,
   "id": "7081f656-dc5c-4f62-a0e9-0699f7185933",
   "metadata": {},
   "outputs": [
    {
     "name": "stdout",
     "output_type": "stream",
     "text": [
      "division of 22 and 7 is 3.143\n"
     ]
    }
   ],
   "source": [
    "print(f\"division of {a} and {b} is {c:.4}\")"
   ]
  },
  {
   "cell_type": "code",
   "execution_count": 32,
   "id": "cf13f26b-d85c-49ba-86ad-00716431772a",
   "metadata": {},
   "outputs": [
    {
     "name": "stdout",
     "output_type": "stream",
     "text": [
      "division of   22 and    7 is 3.143\n"
     ]
    }
   ],
   "source": [
    "print(f\"division of {a:4} and {b:4} is {c:.4}\")"
   ]
  },
  {
   "cell_type": "code",
   "execution_count": 35,
   "id": "02840805-e72c-492f-be2a-968d2422c743",
   "metadata": {},
   "outputs": [
    {
     "name": "stdout",
     "output_type": "stream",
     "text": [
      "division of  22  and 7 is 3.1429\n"
     ]
    }
   ],
   "source": [
    "print(f\"division of {a:^4} and {b} is {c:.4f}\")"
   ]
  },
  {
   "cell_type": "code",
   "execution_count": 37,
   "id": "73ed73b2-d482-488d-8192-c28783712f93",
   "metadata": {},
   "outputs": [
    {
     "name": "stdout",
     "output_type": "stream",
     "text": [
      "division of22   and 7 is 3.143\n"
     ]
    }
   ],
   "source": [
    "print(f\"division of{a:<4} and {b} is {c:.4}\")"
   ]
  },
  {
   "cell_type": "code",
   "execution_count": 40,
   "id": "c7b71bee-c6da-4592-b9b0-0faf39158fd0",
   "metadata": {},
   "outputs": [
    {
     "name": "stdout",
     "output_type": "stream",
     "text": [
      "division of  22and 7 is 3.143\n"
     ]
    }
   ],
   "source": [
    "print(f\"division of{a:>4}and {b} is {c:.4}\")"
   ]
  },
  {
   "cell_type": "code",
   "execution_count": 42,
   "id": "b59992d4-e0c3-4cc9-913e-8ad76ba96393",
   "metadata": {},
   "outputs": [
    {
     "name": "stdout",
     "output_type": "stream",
     "text": [
      "division of  +22 and 7 is 3.143\n"
     ]
    }
   ],
   "source": [
    "print(f\"division of {a:+4} and {b} is {c:.4}\")"
   ]
  },
  {
   "cell_type": "code",
   "execution_count": 45,
   "id": "822d9f67-369d-4f28-828f-cc4d3131061b",
   "metadata": {},
   "outputs": [
    {
     "name": "stdout",
     "output_type": "stream",
     "text": [
      "division of 22 and 7 is 3.142857142857143\n"
     ]
    }
   ],
   "source": [
    "print(f\"division of {a} and {b} is {c}\")"
   ]
  },
  {
   "cell_type": "code",
   "execution_count": null,
   "id": "76224cba-f77c-4f2a-aac4-05276c381b6c",
   "metadata": {},
   "outputs": [],
   "source": []
  }
 ],
 "metadata": {
  "kernelspec": {
   "display_name": "Python 3 (ipykernel)",
   "language": "python",
   "name": "python3"
  },
  "language_info": {
   "codemirror_mode": {
    "name": "ipython",
    "version": 3
   },
   "file_extension": ".py",
   "mimetype": "text/x-python",
   "name": "python",
   "nbconvert_exporter": "python",
   "pygments_lexer": "ipython3",
   "version": "3.12.3"
  }
 },
 "nbformat": 4,
 "nbformat_minor": 5
}
